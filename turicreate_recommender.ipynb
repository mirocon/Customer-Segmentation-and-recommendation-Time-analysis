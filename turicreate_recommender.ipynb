{
 "cells": [
  {
   "cell_type": "markdown",
   "metadata": {},
   "source": [
    "## Library Import\n",
    "For this task Turicreate package from Apple.Inc was used and this library only runs on MacOs or on a Linux Kernel"
   ]
  },
  {
   "cell_type": "code",
   "execution_count": 51,
   "metadata": {
    "id": "Jd1lgsYfwHZp"
   },
   "outputs": [],
   "source": [
    "import turicreate as tc \n",
    "import pandas as pd\n",
    "import numpy as np"
   ]
  },
  {
   "cell_type": "markdown",
   "metadata": {},
   "source": [
    "## Data Import\n",
    "\n",
    "the Id of the customer, the id of the product and the review score were used for this task"
   ]
  },
  {
   "cell_type": "code",
   "execution_count": 52,
   "metadata": {
    "id": "PICRN1fWws0L"
   },
   "outputs": [],
   "source": [
    "cols=[\"customer_unique_id\", \"product_id\", \"review_score\"]\n",
    "df= pd.read_csv(\"python_merged.csv\", usecols=cols) #use only columns in cols"
   ]
  },
  {
   "cell_type": "markdown",
   "metadata": {},
   "source": [
    "## Data cleaning \n",
    "Duplicates and Null values were eliminated"
   ]
  },
  {
   "cell_type": "code",
   "execution_count": 53,
   "metadata": {},
   "outputs": [],
   "source": [
    "df.dropna(inplace=True) \n",
    "df.drop_duplicates(inplace=True, keep=\"first\")"
   ]
  },
  {
   "cell_type": "markdown",
   "metadata": {},
   "source": [
    "# Data Manipulation\n",
    "The data are both normalized and standardized"
   ]
  },
  {
   "cell_type": "code",
   "execution_count": 54,
   "metadata": {
    "id": "FJCHH-SAzo7y"
   },
   "outputs": [
    {
     "data": {
      "text/html": [
       "<div>\n",
       "<style scoped>\n",
       "    .dataframe tbody tr th:only-of-type {\n",
       "        vertical-align: middle;\n",
       "    }\n",
       "\n",
       "    .dataframe tbody tr th {\n",
       "        vertical-align: top;\n",
       "    }\n",
       "\n",
       "    .dataframe thead th {\n",
       "        text-align: right;\n",
       "    }\n",
       "</style>\n",
       "<table border=\"1\" class=\"dataframe\">\n",
       "  <thead>\n",
       "    <tr style=\"text-align: right;\">\n",
       "      <th></th>\n",
       "      <th>product_id</th>\n",
       "      <th>review_score</th>\n",
       "      <th>customer_unique_id</th>\n",
       "    </tr>\n",
       "  </thead>\n",
       "  <tbody>\n",
       "    <tr>\n",
       "      <th>0</th>\n",
       "      <td>f3c2d01a84c947b078e32bbef0718962</td>\n",
       "      <td>-0.387068</td>\n",
       "      <td>4854e9b3feff728c13ee5fc7d1547e92</td>\n",
       "    </tr>\n",
       "    <tr>\n",
       "      <th>1</th>\n",
       "      <td>5a6b04657a4c5ee34285d1e4619a96b4</td>\n",
       "      <td>-0.015951</td>\n",
       "      <td>830d5b7aaa3b6f1e9ad63703bec97d23</td>\n",
       "    </tr>\n",
       "    <tr>\n",
       "      <th>4</th>\n",
       "      <td>e2a1d45a73dc7f5a7f9236b043431b89</td>\n",
       "      <td>0.169608</td>\n",
       "      <td>87776adb449c551e74c13fc34f036105</td>\n",
       "    </tr>\n",
       "    <tr>\n",
       "      <th>5</th>\n",
       "      <td>817e1c2d22418c36386406ccacfa53e8</td>\n",
       "      <td>0.169608</td>\n",
       "      <td>9f302d00dd3e18ed3745778184b4f0fe</td>\n",
       "    </tr>\n",
       "    <tr>\n",
       "      <th>6</th>\n",
       "      <td>9e93b2c4cb5eea05e75a481c129b104d</td>\n",
       "      <td>-0.572627</td>\n",
       "      <td>3f4f614c632af7fc7508462a7cb55ac2</td>\n",
       "    </tr>\n",
       "    <tr>\n",
       "      <th>...</th>\n",
       "      <td>...</td>\n",
       "      <td>...</td>\n",
       "      <td>...</td>\n",
       "    </tr>\n",
       "    <tr>\n",
       "      <th>118138</th>\n",
       "      <td>17e18b0c88a853dd6de3e48a7cfa9d9a</td>\n",
       "      <td>-0.572627</td>\n",
       "      <td>56b6eede1b10925212f054a7ba614796</td>\n",
       "    </tr>\n",
       "    <tr>\n",
       "      <th>118139</th>\n",
       "      <td>6aa063e063f2ab982b471e58afe06d72</td>\n",
       "      <td>-0.387068</td>\n",
       "      <td>101375bf617fd60c9eee42f98d9a73d6</td>\n",
       "    </tr>\n",
       "    <tr>\n",
       "      <th>118140</th>\n",
       "      <td>282b126b2354516c5f400154398f616d</td>\n",
       "      <td>0.169608</td>\n",
       "      <td>b030929cf3b8c3370ea8c611f9ccb32e</td>\n",
       "    </tr>\n",
       "    <tr>\n",
       "      <th>118141</th>\n",
       "      <td>96ea060e41bdecc64e2de00b97068975</td>\n",
       "      <td>0.169608</td>\n",
       "      <td>3977f83a14549e6265bcded84e92ee80</td>\n",
       "    </tr>\n",
       "    <tr>\n",
       "      <th>118142</th>\n",
       "      <td>87b92e06b320e803d334ac23966c80b1</td>\n",
       "      <td>-0.572627</td>\n",
       "      <td>44b6bbfea26596437062a38c8e6bcec1</td>\n",
       "    </tr>\n",
       "  </tbody>\n",
       "</table>\n",
       "<p>100638 rows × 3 columns</p>\n",
       "</div>"
      ],
      "text/plain": [
       "                              product_id  review_score  \\\n",
       "0       f3c2d01a84c947b078e32bbef0718962     -0.387068   \n",
       "1       5a6b04657a4c5ee34285d1e4619a96b4     -0.015951   \n",
       "4       e2a1d45a73dc7f5a7f9236b043431b89      0.169608   \n",
       "5       817e1c2d22418c36386406ccacfa53e8      0.169608   \n",
       "6       9e93b2c4cb5eea05e75a481c129b104d     -0.572627   \n",
       "...                                  ...           ...   \n",
       "118138  17e18b0c88a853dd6de3e48a7cfa9d9a     -0.572627   \n",
       "118139  6aa063e063f2ab982b471e58afe06d72     -0.387068   \n",
       "118140  282b126b2354516c5f400154398f616d      0.169608   \n",
       "118141  96ea060e41bdecc64e2de00b97068975      0.169608   \n",
       "118142  87b92e06b320e803d334ac23966c80b1     -0.572627   \n",
       "\n",
       "                      customer_unique_id  \n",
       "0       4854e9b3feff728c13ee5fc7d1547e92  \n",
       "1       830d5b7aaa3b6f1e9ad63703bec97d23  \n",
       "4       87776adb449c551e74c13fc34f036105  \n",
       "5       9f302d00dd3e18ed3745778184b4f0fe  \n",
       "6       3f4f614c632af7fc7508462a7cb55ac2  \n",
       "...                                  ...  \n",
       "118138  56b6eede1b10925212f054a7ba614796  \n",
       "118139  101375bf617fd60c9eee42f98d9a73d6  \n",
       "118140  b030929cf3b8c3370ea8c611f9ccb32e  \n",
       "118141  3977f83a14549e6265bcded84e92ee80  \n",
       "118142  44b6bbfea26596437062a38c8e6bcec1  \n",
       "\n",
       "[100638 rows x 3 columns]"
      ]
     },
     "metadata": {},
     "output_type": "display_data"
    }
   ],
   "source": [
    "df_norm= df.copy()\n",
    "  \n",
    "# apply normalization techniques by Column 1\n",
    "column = 'review_score'\n",
    "df_norm[column] = (df_norm[column] - df_norm[column].min()) / (df_norm[column].max() - df_norm[column].min())\n",
    "df_norm[column]=(df_norm[column]-df_norm[column].mean())/df[column].std()\n",
    "  \n",
    "# view normalized data\n",
    "display(df_norm)"
   ]
  },
  {
   "cell_type": "markdown",
   "metadata": {},
   "source": [
    "## Model Preparation\n",
    "\n",
    "The dataframe is first split into train and test with a 80/20 proportion, then they are transformed into an SFrame which is a specific formt of the package Turicreate, this has the advantage of not relying on RAM but on physical memory"
   ]
  },
  {
   "cell_type": "code",
   "execution_count": 55,
   "metadata": {},
   "outputs": [],
   "source": [
    "def split_data(data):\n",
    "    '''\n",
    "    Splits dataset into training and test set.\n",
    "    \n",
    "    Args:\n",
    "        data (pandas.DataFrame)\n",
    "        \n",
    "    Returns\n",
    "        train_data (tc.SFrame)\n",
    "        test_data (tc.SFrame)\n",
    "    '''\n",
    "    train, test = train_test_split(data, test_size = .2)\n",
    "    train_data = tc.SFrame(train)\n",
    "    test_data = tc.SFrame(test)\n",
    "    return train_data, test_data"
   ]
  },
  {
   "cell_type": "code",
   "execution_count": 56,
   "metadata": {},
   "outputs": [],
   "source": [
    "from sklearn.model_selection import train_test_split\n",
    "train_data, test_data = split_data(df) #the function is called\n",
    "train_data_norm, test_data_norm = split_data(df_norm)"
   ]
  },
  {
   "cell_type": "markdown",
   "metadata": {},
   "source": [
    "## Modelling\n",
    "\n",
    "First, the number of product to recommend is set to 5"
   ]
  },
  {
   "cell_type": "code",
   "execution_count": 57,
   "metadata": {},
   "outputs": [],
   "source": [
    "user_id = 'customer_unique_id'\n",
    "item_id = 'product_id'\n",
    "users_to_recommend = list(df[user_id])\n",
    "n_rec = 5 # number of items to recommend\n",
    "n_display = 30 # to display the first few rows in an output dataset"
   ]
  },
  {
   "cell_type": "markdown",
   "metadata": {},
   "source": [
    "Then a function is prepared to include the measures which are selected to perform the recommendation \n",
    "Three methods have been selected:\n",
    "**Popularity method**: which is based on user preferences\n",
    "**Cosine Similarity**: a collaborative filtering method\n",
    "**Pearson Correlation**: another collaborative filtering method"
   ]
  },
  {
   "cell_type": "code",
   "execution_count": 58,
   "metadata": {},
   "outputs": [],
   "source": [
    "def model(train_data, name, user_id, item_id, target, users_to_recommend, n_rec, n_display):\n",
    "    if name == 'popularity':\n",
    "        model = tc.popularity_recommender.create(train_data, \n",
    "                                                    user_id=user_id, \n",
    "                                                    item_id=item_id, \n",
    "                                                    target=target)\n",
    "    elif name == 'cosine':\n",
    "        model = tc.item_similarity_recommender.create(train_data, \n",
    "                                                    user_id=user_id, \n",
    "                                                    item_id=item_id, \n",
    "                                                    target=target, \n",
    "                                                    similarity_type='cosine')\n",
    "    elif name == 'pearson':\n",
    "        model = tc.item_similarity_recommender.create(train_data, \n",
    "                                                    user_id=user_id, \n",
    "                                                    item_id=item_id, \n",
    "                                                    target=target, \n",
    "                                                    similarity_type='pearson')\n",
    "        \n",
    "    recom = model.recommend(users=users_to_recommend, k=n_rec)\n",
    "    recom.print_rows(n_display)\n",
    "    return model"
   ]
  },
  {
   "cell_type": "markdown",
   "metadata": {},
   "source": [
    "## Run models on train data\n",
    "\n",
    "The output here shows what has been recommended to each customer, each customer has 5 products recommended to them ranked from the first to the fifth. \n",
    "Here 6 outputs are produced: three for the non normalized dataset and three for the transformed dataset"
   ]
  },
  {
   "cell_type": "code",
   "execution_count": 59,
   "metadata": {},
   "outputs": [
    {
     "data": {
      "text/html": [
       "<pre>Preparing data set.</pre>"
      ],
      "text/plain": [
       "Preparing data set."
      ]
     },
     "metadata": {},
     "output_type": "display_data"
    },
    {
     "data": {
      "text/html": [
       "<pre>    Data has 80510 observations with 76129 users and 28332 items.</pre>"
      ],
      "text/plain": [
       "    Data has 80510 observations with 76129 users and 28332 items."
      ]
     },
     "metadata": {},
     "output_type": "display_data"
    },
    {
     "data": {
      "text/html": [
       "<pre>    Data prepared in: 0.110956s</pre>"
      ],
      "text/plain": [
       "    Data prepared in: 0.110956s"
      ]
     },
     "metadata": {},
     "output_type": "display_data"
    },
    {
     "data": {
      "text/html": [
       "<pre>80510 observations to process; with 28332 unique items.</pre>"
      ],
      "text/plain": [
       "80510 observations to process; with 28332 unique items."
      ]
     },
     "metadata": {},
     "output_type": "display_data"
    },
    {
     "data": {
      "text/html": [
       "<pre>recommendations finished on 1000/100638 queries. users per second: 21262.6</pre>"
      ],
      "text/plain": [
       "recommendations finished on 1000/100638 queries. users per second: 21262.6"
      ]
     },
     "metadata": {},
     "output_type": "display_data"
    },
    {
     "data": {
      "text/html": [
       "<pre>recommendations finished on 2000/100638 queries. users per second: 21608.1</pre>"
      ],
      "text/plain": [
       "recommendations finished on 2000/100638 queries. users per second: 21608.1"
      ]
     },
     "metadata": {},
     "output_type": "display_data"
    },
    {
     "data": {
      "text/html": [
       "<pre>recommendations finished on 3000/100638 queries. users per second: 20655.5</pre>"
      ],
      "text/plain": [
       "recommendations finished on 3000/100638 queries. users per second: 20655.5"
      ]
     },
     "metadata": {},
     "output_type": "display_data"
    },
    {
     "data": {
      "text/html": [
       "<pre>recommendations finished on 4000/100638 queries. users per second: 20439.8</pre>"
      ],
      "text/plain": [
       "recommendations finished on 4000/100638 queries. users per second: 20439.8"
      ]
     },
     "metadata": {},
     "output_type": "display_data"
    },
    {
     "data": {
      "text/html": [
       "<pre>recommendations finished on 5000/100638 queries. users per second: 20549.1</pre>"
      ],
      "text/plain": [
       "recommendations finished on 5000/100638 queries. users per second: 20549.1"
      ]
     },
     "metadata": {},
     "output_type": "display_data"
    },
    {
     "data": {
      "text/html": [
       "<pre>recommendations finished on 6000/100638 queries. users per second: 20448.2</pre>"
      ],
      "text/plain": [
       "recommendations finished on 6000/100638 queries. users per second: 20448.2"
      ]
     },
     "metadata": {},
     "output_type": "display_data"
    },
    {
     "data": {
      "text/html": [
       "<pre>recommendations finished on 7000/100638 queries. users per second: 20273.9</pre>"
      ],
      "text/plain": [
       "recommendations finished on 7000/100638 queries. users per second: 20273.9"
      ]
     },
     "metadata": {},
     "output_type": "display_data"
    },
    {
     "data": {
      "text/html": [
       "<pre>recommendations finished on 8000/100638 queries. users per second: 20304.4</pre>"
      ],
      "text/plain": [
       "recommendations finished on 8000/100638 queries. users per second: 20304.4"
      ]
     },
     "metadata": {},
     "output_type": "display_data"
    },
    {
     "data": {
      "text/html": [
       "<pre>recommendations finished on 9000/100638 queries. users per second: 20357.8</pre>"
      ],
      "text/plain": [
       "recommendations finished on 9000/100638 queries. users per second: 20357.8"
      ]
     },
     "metadata": {},
     "output_type": "display_data"
    },
    {
     "data": {
      "text/html": [
       "<pre>recommendations finished on 10000/100638 queries. users per second: 20385.1</pre>"
      ],
      "text/plain": [
       "recommendations finished on 10000/100638 queries. users per second: 20385.1"
      ]
     },
     "metadata": {},
     "output_type": "display_data"
    },
    {
     "data": {
      "text/html": [
       "<pre>recommendations finished on 11000/100638 queries. users per second: 20435.8</pre>"
      ],
      "text/plain": [
       "recommendations finished on 11000/100638 queries. users per second: 20435.8"
      ]
     },
     "metadata": {},
     "output_type": "display_data"
    },
    {
     "data": {
      "text/html": [
       "<pre>recommendations finished on 12000/100638 queries. users per second: 20468.1</pre>"
      ],
      "text/plain": [
       "recommendations finished on 12000/100638 queries. users per second: 20468.1"
      ]
     },
     "metadata": {},
     "output_type": "display_data"
    },
    {
     "data": {
      "text/html": [
       "<pre>recommendations finished on 13000/100638 queries. users per second: 20535.9</pre>"
      ],
      "text/plain": [
       "recommendations finished on 13000/100638 queries. users per second: 20535.9"
      ]
     },
     "metadata": {},
     "output_type": "display_data"
    },
    {
     "data": {
      "text/html": [
       "<pre>recommendations finished on 14000/100638 queries. users per second: 20565.9</pre>"
      ],
      "text/plain": [
       "recommendations finished on 14000/100638 queries. users per second: 20565.9"
      ]
     },
     "metadata": {},
     "output_type": "display_data"
    },
    {
     "data": {
      "text/html": [
       "<pre>recommendations finished on 15000/100638 queries. users per second: 20551.2</pre>"
      ],
      "text/plain": [
       "recommendations finished on 15000/100638 queries. users per second: 20551.2"
      ]
     },
     "metadata": {},
     "output_type": "display_data"
    },
    {
     "data": {
      "text/html": [
       "<pre>recommendations finished on 16000/100638 queries. users per second: 20541.4</pre>"
      ],
      "text/plain": [
       "recommendations finished on 16000/100638 queries. users per second: 20541.4"
      ]
     },
     "metadata": {},
     "output_type": "display_data"
    },
    {
     "data": {
      "text/html": [
       "<pre>recommendations finished on 17000/100638 queries. users per second: 20538.9</pre>"
      ],
      "text/plain": [
       "recommendations finished on 17000/100638 queries. users per second: 20538.9"
      ]
     },
     "metadata": {},
     "output_type": "display_data"
    },
    {
     "data": {
      "text/html": [
       "<pre>recommendations finished on 18000/100638 queries. users per second: 20529.2</pre>"
      ],
      "text/plain": [
       "recommendations finished on 18000/100638 queries. users per second: 20529.2"
      ]
     },
     "metadata": {},
     "output_type": "display_data"
    },
    {
     "data": {
      "text/html": [
       "<pre>recommendations finished on 19000/100638 queries. users per second: 20408.5</pre>"
      ],
      "text/plain": [
       "recommendations finished on 19000/100638 queries. users per second: 20408.5"
      ]
     },
     "metadata": {},
     "output_type": "display_data"
    },
    {
     "data": {
      "text/html": [
       "<pre>recommendations finished on 20000/100638 queries. users per second: 20422.4</pre>"
      ],
      "text/plain": [
       "recommendations finished on 20000/100638 queries. users per second: 20422.4"
      ]
     },
     "metadata": {},
     "output_type": "display_data"
    },
    {
     "data": {
      "text/html": [
       "<pre>recommendations finished on 21000/100638 queries. users per second: 20427.3</pre>"
      ],
      "text/plain": [
       "recommendations finished on 21000/100638 queries. users per second: 20427.3"
      ]
     },
     "metadata": {},
     "output_type": "display_data"
    },
    {
     "data": {
      "text/html": [
       "<pre>recommendations finished on 22000/100638 queries. users per second: 20392</pre>"
      ],
      "text/plain": [
       "recommendations finished on 22000/100638 queries. users per second: 20392"
      ]
     },
     "metadata": {},
     "output_type": "display_data"
    },
    {
     "data": {
      "text/html": [
       "<pre>recommendations finished on 23000/100638 queries. users per second: 20405.8</pre>"
      ],
      "text/plain": [
       "recommendations finished on 23000/100638 queries. users per second: 20405.8"
      ]
     },
     "metadata": {},
     "output_type": "display_data"
    },
    {
     "data": {
      "text/html": [
       "<pre>recommendations finished on 24000/100638 queries. users per second: 20420.9</pre>"
      ],
      "text/plain": [
       "recommendations finished on 24000/100638 queries. users per second: 20420.9"
      ]
     },
     "metadata": {},
     "output_type": "display_data"
    },
    {
     "data": {
      "text/html": [
       "<pre>recommendations finished on 25000/100638 queries. users per second: 20439</pre>"
      ],
      "text/plain": [
       "recommendations finished on 25000/100638 queries. users per second: 20439"
      ]
     },
     "metadata": {},
     "output_type": "display_data"
    },
    {
     "data": {
      "text/html": [
       "<pre>recommendations finished on 26000/100638 queries. users per second: 20461.6</pre>"
      ],
      "text/plain": [
       "recommendations finished on 26000/100638 queries. users per second: 20461.6"
      ]
     },
     "metadata": {},
     "output_type": "display_data"
    },
    {
     "data": {
      "text/html": [
       "<pre>recommendations finished on 27000/100638 queries. users per second: 20495.8</pre>"
      ],
      "text/plain": [
       "recommendations finished on 27000/100638 queries. users per second: 20495.8"
      ]
     },
     "metadata": {},
     "output_type": "display_data"
    },
    {
     "data": {
      "text/html": [
       "<pre>recommendations finished on 28000/100638 queries. users per second: 20500.8</pre>"
      ],
      "text/plain": [
       "recommendations finished on 28000/100638 queries. users per second: 20500.8"
      ]
     },
     "metadata": {},
     "output_type": "display_data"
    },
    {
     "data": {
      "text/html": [
       "<pre>recommendations finished on 29000/100638 queries. users per second: 20508.2</pre>"
      ],
      "text/plain": [
       "recommendations finished on 29000/100638 queries. users per second: 20508.2"
      ]
     },
     "metadata": {},
     "output_type": "display_data"
    },
    {
     "data": {
      "text/html": [
       "<pre>recommendations finished on 30000/100638 queries. users per second: 20504.5</pre>"
      ],
      "text/plain": [
       "recommendations finished on 30000/100638 queries. users per second: 20504.5"
      ]
     },
     "metadata": {},
     "output_type": "display_data"
    },
    {
     "data": {
      "text/html": [
       "<pre>recommendations finished on 31000/100638 queries. users per second: 20481.6</pre>"
      ],
      "text/plain": [
       "recommendations finished on 31000/100638 queries. users per second: 20481.6"
      ]
     },
     "metadata": {},
     "output_type": "display_data"
    },
    {
     "data": {
      "text/html": [
       "<pre>recommendations finished on 32000/100638 queries. users per second: 20492.6</pre>"
      ],
      "text/plain": [
       "recommendations finished on 32000/100638 queries. users per second: 20492.6"
      ]
     },
     "metadata": {},
     "output_type": "display_data"
    },
    {
     "data": {
      "text/html": [
       "<pre>recommendations finished on 33000/100638 queries. users per second: 20506.7</pre>"
      ],
      "text/plain": [
       "recommendations finished on 33000/100638 queries. users per second: 20506.7"
      ]
     },
     "metadata": {},
     "output_type": "display_data"
    },
    {
     "data": {
      "text/html": [
       "<pre>recommendations finished on 34000/100638 queries. users per second: 20506.6</pre>"
      ],
      "text/plain": [
       "recommendations finished on 34000/100638 queries. users per second: 20506.6"
      ]
     },
     "metadata": {},
     "output_type": "display_data"
    },
    {
     "data": {
      "text/html": [
       "<pre>recommendations finished on 35000/100638 queries. users per second: 20501</pre>"
      ],
      "text/plain": [
       "recommendations finished on 35000/100638 queries. users per second: 20501"
      ]
     },
     "metadata": {},
     "output_type": "display_data"
    },
    {
     "data": {
      "text/html": [
       "<pre>recommendations finished on 36000/100638 queries. users per second: 20495.3</pre>"
      ],
      "text/plain": [
       "recommendations finished on 36000/100638 queries. users per second: 20495.3"
      ]
     },
     "metadata": {},
     "output_type": "display_data"
    },
    {
     "data": {
      "text/html": [
       "<pre>recommendations finished on 37000/100638 queries. users per second: 20492</pre>"
      ],
      "text/plain": [
       "recommendations finished on 37000/100638 queries. users per second: 20492"
      ]
     },
     "metadata": {},
     "output_type": "display_data"
    },
    {
     "data": {
      "text/html": [
       "<pre>recommendations finished on 38000/100638 queries. users per second: 20499.8</pre>"
      ],
      "text/plain": [
       "recommendations finished on 38000/100638 queries. users per second: 20499.8"
      ]
     },
     "metadata": {},
     "output_type": "display_data"
    },
    {
     "data": {
      "text/html": [
       "<pre>recommendations finished on 39000/100638 queries. users per second: 20486.1</pre>"
      ],
      "text/plain": [
       "recommendations finished on 39000/100638 queries. users per second: 20486.1"
      ]
     },
     "metadata": {},
     "output_type": "display_data"
    },
    {
     "data": {
      "text/html": [
       "<pre>recommendations finished on 40000/100638 queries. users per second: 20483.7</pre>"
      ],
      "text/plain": [
       "recommendations finished on 40000/100638 queries. users per second: 20483.7"
      ]
     },
     "metadata": {},
     "output_type": "display_data"
    },
    {
     "data": {
      "text/html": [
       "<pre>recommendations finished on 41000/100638 queries. users per second: 20474.3</pre>"
      ],
      "text/plain": [
       "recommendations finished on 41000/100638 queries. users per second: 20474.3"
      ]
     },
     "metadata": {},
     "output_type": "display_data"
    },
    {
     "data": {
      "text/html": [
       "<pre>recommendations finished on 42000/100638 queries. users per second: 20493.2</pre>"
      ],
      "text/plain": [
       "recommendations finished on 42000/100638 queries. users per second: 20493.2"
      ]
     },
     "metadata": {},
     "output_type": "display_data"
    },
    {
     "data": {
      "text/html": [
       "<pre>recommendations finished on 43000/100638 queries. users per second: 20420</pre>"
      ],
      "text/plain": [
       "recommendations finished on 43000/100638 queries. users per second: 20420"
      ]
     },
     "metadata": {},
     "output_type": "display_data"
    },
    {
     "data": {
      "text/html": [
       "<pre>recommendations finished on 44000/100638 queries. users per second: 20424.7</pre>"
      ],
      "text/plain": [
       "recommendations finished on 44000/100638 queries. users per second: 20424.7"
      ]
     },
     "metadata": {},
     "output_type": "display_data"
    },
    {
     "data": {
      "text/html": [
       "<pre>recommendations finished on 45000/100638 queries. users per second: 20423.4</pre>"
      ],
      "text/plain": [
       "recommendations finished on 45000/100638 queries. users per second: 20423.4"
      ]
     },
     "metadata": {},
     "output_type": "display_data"
    },
    {
     "data": {
      "text/html": [
       "<pre>recommendations finished on 46000/100638 queries. users per second: 20403.2</pre>"
      ],
      "text/plain": [
       "recommendations finished on 46000/100638 queries. users per second: 20403.2"
      ]
     },
     "metadata": {},
     "output_type": "display_data"
    },
    {
     "data": {
      "text/html": [
       "<pre>recommendations finished on 47000/100638 queries. users per second: 20401.1</pre>"
      ],
      "text/plain": [
       "recommendations finished on 47000/100638 queries. users per second: 20401.1"
      ]
     },
     "metadata": {},
     "output_type": "display_data"
    },
    {
     "data": {
      "text/html": [
       "<pre>recommendations finished on 48000/100638 queries. users per second: 20405.4</pre>"
      ],
      "text/plain": [
       "recommendations finished on 48000/100638 queries. users per second: 20405.4"
      ]
     },
     "metadata": {},
     "output_type": "display_data"
    },
    {
     "data": {
      "text/html": [
       "<pre>recommendations finished on 49000/100638 queries. users per second: 20417.8</pre>"
      ],
      "text/plain": [
       "recommendations finished on 49000/100638 queries. users per second: 20417.8"
      ]
     },
     "metadata": {},
     "output_type": "display_data"
    },
    {
     "data": {
      "text/html": [
       "<pre>recommendations finished on 50000/100638 queries. users per second: 20428.2</pre>"
      ],
      "text/plain": [
       "recommendations finished on 50000/100638 queries. users per second: 20428.2"
      ]
     },
     "metadata": {},
     "output_type": "display_data"
    },
    {
     "data": {
      "text/html": [
       "<pre>recommendations finished on 51000/100638 queries. users per second: 20438.7</pre>"
      ],
      "text/plain": [
       "recommendations finished on 51000/100638 queries. users per second: 20438.7"
      ]
     },
     "metadata": {},
     "output_type": "display_data"
    },
    {
     "data": {
      "text/html": [
       "<pre>recommendations finished on 52000/100638 queries. users per second: 20405.5</pre>"
      ],
      "text/plain": [
       "recommendations finished on 52000/100638 queries. users per second: 20405.5"
      ]
     },
     "metadata": {},
     "output_type": "display_data"
    },
    {
     "data": {
      "text/html": [
       "<pre>recommendations finished on 53000/100638 queries. users per second: 20432</pre>"
      ],
      "text/plain": [
       "recommendations finished on 53000/100638 queries. users per second: 20432"
      ]
     },
     "metadata": {},
     "output_type": "display_data"
    },
    {
     "data": {
      "text/html": [
       "<pre>recommendations finished on 54000/100638 queries. users per second: 20475.2</pre>"
      ],
      "text/plain": [
       "recommendations finished on 54000/100638 queries. users per second: 20475.2"
      ]
     },
     "metadata": {},
     "output_type": "display_data"
    },
    {
     "data": {
      "text/html": [
       "<pre>recommendations finished on 55000/100638 queries. users per second: 20481.5</pre>"
      ],
      "text/plain": [
       "recommendations finished on 55000/100638 queries. users per second: 20481.5"
      ]
     },
     "metadata": {},
     "output_type": "display_data"
    },
    {
     "data": {
      "text/html": [
       "<pre>recommendations finished on 56000/100638 queries. users per second: 20425</pre>"
      ],
      "text/plain": [
       "recommendations finished on 56000/100638 queries. users per second: 20425"
      ]
     },
     "metadata": {},
     "output_type": "display_data"
    },
    {
     "data": {
      "text/html": [
       "<pre>recommendations finished on 57000/100638 queries. users per second: 20427.8</pre>"
      ],
      "text/plain": [
       "recommendations finished on 57000/100638 queries. users per second: 20427.8"
      ]
     },
     "metadata": {},
     "output_type": "display_data"
    },
    {
     "data": {
      "text/html": [
       "<pre>recommendations finished on 58000/100638 queries. users per second: 20419.9</pre>"
      ],
      "text/plain": [
       "recommendations finished on 58000/100638 queries. users per second: 20419.9"
      ]
     },
     "metadata": {},
     "output_type": "display_data"
    },
    {
     "data": {
      "text/html": [
       "<pre>recommendations finished on 59000/100638 queries. users per second: 20449.8</pre>"
      ],
      "text/plain": [
       "recommendations finished on 59000/100638 queries. users per second: 20449.8"
      ]
     },
     "metadata": {},
     "output_type": "display_data"
    },
    {
     "data": {
      "text/html": [
       "<pre>recommendations finished on 60000/100638 queries. users per second: 20434.2</pre>"
      ],
      "text/plain": [
       "recommendations finished on 60000/100638 queries. users per second: 20434.2"
      ]
     },
     "metadata": {},
     "output_type": "display_data"
    },
    {
     "data": {
      "text/html": [
       "<pre>recommendations finished on 61000/100638 queries. users per second: 20444.6</pre>"
      ],
      "text/plain": [
       "recommendations finished on 61000/100638 queries. users per second: 20444.6"
      ]
     },
     "metadata": {},
     "output_type": "display_data"
    },
    {
     "data": {
      "text/html": [
       "<pre>recommendations finished on 62000/100638 queries. users per second: 20473.6</pre>"
      ],
      "text/plain": [
       "recommendations finished on 62000/100638 queries. users per second: 20473.6"
      ]
     },
     "metadata": {},
     "output_type": "display_data"
    },
    {
     "data": {
      "text/html": [
       "<pre>recommendations finished on 63000/100638 queries. users per second: 20458.2</pre>"
      ],
      "text/plain": [
       "recommendations finished on 63000/100638 queries. users per second: 20458.2"
      ]
     },
     "metadata": {},
     "output_type": "display_data"
    },
    {
     "data": {
      "text/html": [
       "<pre>recommendations finished on 64000/100638 queries. users per second: 20460.1</pre>"
      ],
      "text/plain": [
       "recommendations finished on 64000/100638 queries. users per second: 20460.1"
      ]
     },
     "metadata": {},
     "output_type": "display_data"
    },
    {
     "data": {
      "text/html": [
       "<pre>recommendations finished on 65000/100638 queries. users per second: 20452.6</pre>"
      ],
      "text/plain": [
       "recommendations finished on 65000/100638 queries. users per second: 20452.6"
      ]
     },
     "metadata": {},
     "output_type": "display_data"
    },
    {
     "data": {
      "text/html": [
       "<pre>recommendations finished on 66000/100638 queries. users per second: 20477.5</pre>"
      ],
      "text/plain": [
       "recommendations finished on 66000/100638 queries. users per second: 20477.5"
      ]
     },
     "metadata": {},
     "output_type": "display_data"
    },
    {
     "data": {
      "text/html": [
       "<pre>recommendations finished on 67000/100638 queries. users per second: 20459.8</pre>"
      ],
      "text/plain": [
       "recommendations finished on 67000/100638 queries. users per second: 20459.8"
      ]
     },
     "metadata": {},
     "output_type": "display_data"
    },
    {
     "data": {
      "text/html": [
       "<pre>recommendations finished on 68000/100638 queries. users per second: 20474.3</pre>"
      ],
      "text/plain": [
       "recommendations finished on 68000/100638 queries. users per second: 20474.3"
      ]
     },
     "metadata": {},
     "output_type": "display_data"
    },
    {
     "data": {
      "text/html": [
       "<pre>recommendations finished on 69000/100638 queries. users per second: 20451.7</pre>"
      ],
      "text/plain": [
       "recommendations finished on 69000/100638 queries. users per second: 20451.7"
      ]
     },
     "metadata": {},
     "output_type": "display_data"
    },
    {
     "data": {
      "text/html": [
       "<pre>recommendations finished on 70000/100638 queries. users per second: 20479.1</pre>"
      ],
      "text/plain": [
       "recommendations finished on 70000/100638 queries. users per second: 20479.1"
      ]
     },
     "metadata": {},
     "output_type": "display_data"
    },
    {
     "data": {
      "text/html": [
       "<pre>recommendations finished on 71000/100638 queries. users per second: 20498.7</pre>"
      ],
      "text/plain": [
       "recommendations finished on 71000/100638 queries. users per second: 20498.7"
      ]
     },
     "metadata": {},
     "output_type": "display_data"
    },
    {
     "data": {
      "text/html": [
       "<pre>recommendations finished on 72000/100638 queries. users per second: 20492.4</pre>"
      ],
      "text/plain": [
       "recommendations finished on 72000/100638 queries. users per second: 20492.4"
      ]
     },
     "metadata": {},
     "output_type": "display_data"
    },
    {
     "data": {
      "text/html": [
       "<pre>recommendations finished on 73000/100638 queries. users per second: 20516.8</pre>"
      ],
      "text/plain": [
       "recommendations finished on 73000/100638 queries. users per second: 20516.8"
      ]
     },
     "metadata": {},
     "output_type": "display_data"
    },
    {
     "data": {
      "text/html": [
       "<pre>recommendations finished on 74000/100638 queries. users per second: 20540.3</pre>"
      ],
      "text/plain": [
       "recommendations finished on 74000/100638 queries. users per second: 20540.3"
      ]
     },
     "metadata": {},
     "output_type": "display_data"
    },
    {
     "data": {
      "text/html": [
       "<pre>recommendations finished on 75000/100638 queries. users per second: 20568.6</pre>"
      ],
      "text/plain": [
       "recommendations finished on 75000/100638 queries. users per second: 20568.6"
      ]
     },
     "metadata": {},
     "output_type": "display_data"
    },
    {
     "data": {
      "text/html": [
       "<pre>recommendations finished on 76000/100638 queries. users per second: 20584.4</pre>"
      ],
      "text/plain": [
       "recommendations finished on 76000/100638 queries. users per second: 20584.4"
      ]
     },
     "metadata": {},
     "output_type": "display_data"
    },
    {
     "data": {
      "text/html": [
       "<pre>recommendations finished on 77000/100638 queries. users per second: 20546</pre>"
      ],
      "text/plain": [
       "recommendations finished on 77000/100638 queries. users per second: 20546"
      ]
     },
     "metadata": {},
     "output_type": "display_data"
    },
    {
     "data": {
      "text/html": [
       "<pre>recommendations finished on 78000/100638 queries. users per second: 20569.6</pre>"
      ],
      "text/plain": [
       "recommendations finished on 78000/100638 queries. users per second: 20569.6"
      ]
     },
     "metadata": {},
     "output_type": "display_data"
    },
    {
     "data": {
      "text/html": [
       "<pre>recommendations finished on 79000/100638 queries. users per second: 20552.6</pre>"
      ],
      "text/plain": [
       "recommendations finished on 79000/100638 queries. users per second: 20552.6"
      ]
     },
     "metadata": {},
     "output_type": "display_data"
    },
    {
     "data": {
      "text/html": [
       "<pre>recommendations finished on 80000/100638 queries. users per second: 20569.8</pre>"
      ],
      "text/plain": [
       "recommendations finished on 80000/100638 queries. users per second: 20569.8"
      ]
     },
     "metadata": {},
     "output_type": "display_data"
    },
    {
     "data": {
      "text/html": [
       "<pre>recommendations finished on 81000/100638 queries. users per second: 20590.8</pre>"
      ],
      "text/plain": [
       "recommendations finished on 81000/100638 queries. users per second: 20590.8"
      ]
     },
     "metadata": {},
     "output_type": "display_data"
    },
    {
     "data": {
      "text/html": [
       "<pre>recommendations finished on 82000/100638 queries. users per second: 20609.4</pre>"
      ],
      "text/plain": [
       "recommendations finished on 82000/100638 queries. users per second: 20609.4"
      ]
     },
     "metadata": {},
     "output_type": "display_data"
    },
    {
     "data": {
      "text/html": [
       "<pre>recommendations finished on 83000/100638 queries. users per second: 20627.2</pre>"
      ],
      "text/plain": [
       "recommendations finished on 83000/100638 queries. users per second: 20627.2"
      ]
     },
     "metadata": {},
     "output_type": "display_data"
    },
    {
     "data": {
      "text/html": [
       "<pre>recommendations finished on 84000/100638 queries. users per second: 20646.2</pre>"
      ],
      "text/plain": [
       "recommendations finished on 84000/100638 queries. users per second: 20646.2"
      ]
     },
     "metadata": {},
     "output_type": "display_data"
    },
    {
     "data": {
      "text/html": [
       "<pre>recommendations finished on 85000/100638 queries. users per second: 20658.9</pre>"
      ],
      "text/plain": [
       "recommendations finished on 85000/100638 queries. users per second: 20658.9"
      ]
     },
     "metadata": {},
     "output_type": "display_data"
    },
    {
     "data": {
      "text/html": [
       "<pre>recommendations finished on 86000/100638 queries. users per second: 20624.9</pre>"
      ],
      "text/plain": [
       "recommendations finished on 86000/100638 queries. users per second: 20624.9"
      ]
     },
     "metadata": {},
     "output_type": "display_data"
    },
    {
     "data": {
      "text/html": [
       "<pre>recommendations finished on 87000/100638 queries. users per second: 20634.2</pre>"
      ],
      "text/plain": [
       "recommendations finished on 87000/100638 queries. users per second: 20634.2"
      ]
     },
     "metadata": {},
     "output_type": "display_data"
    },
    {
     "data": {
      "text/html": [
       "<pre>recommendations finished on 88000/100638 queries. users per second: 20652.8</pre>"
      ],
      "text/plain": [
       "recommendations finished on 88000/100638 queries. users per second: 20652.8"
      ]
     },
     "metadata": {},
     "output_type": "display_data"
    },
    {
     "data": {
      "text/html": [
       "<pre>recommendations finished on 89000/100638 queries. users per second: 20670.7</pre>"
      ],
      "text/plain": [
       "recommendations finished on 89000/100638 queries. users per second: 20670.7"
      ]
     },
     "metadata": {},
     "output_type": "display_data"
    },
    {
     "data": {
      "text/html": [
       "<pre>recommendations finished on 90000/100638 queries. users per second: 20686.9</pre>"
      ],
      "text/plain": [
       "recommendations finished on 90000/100638 queries. users per second: 20686.9"
      ]
     },
     "metadata": {},
     "output_type": "display_data"
    },
    {
     "data": {
      "text/html": [
       "<pre>recommendations finished on 91000/100638 queries. users per second: 20702.3</pre>"
      ],
      "text/plain": [
       "recommendations finished on 91000/100638 queries. users per second: 20702.3"
      ]
     },
     "metadata": {},
     "output_type": "display_data"
    },
    {
     "data": {
      "text/html": [
       "<pre>recommendations finished on 92000/100638 queries. users per second: 20720</pre>"
      ],
      "text/plain": [
       "recommendations finished on 92000/100638 queries. users per second: 20720"
      ]
     },
     "metadata": {},
     "output_type": "display_data"
    },
    {
     "data": {
      "text/html": [
       "<pre>recommendations finished on 93000/100638 queries. users per second: 20733.8</pre>"
      ],
      "text/plain": [
       "recommendations finished on 93000/100638 queries. users per second: 20733.8"
      ]
     },
     "metadata": {},
     "output_type": "display_data"
    },
    {
     "data": {
      "text/html": [
       "<pre>recommendations finished on 94000/100638 queries. users per second: 20739.9</pre>"
      ],
      "text/plain": [
       "recommendations finished on 94000/100638 queries. users per second: 20739.9"
      ]
     },
     "metadata": {},
     "output_type": "display_data"
    },
    {
     "data": {
      "text/html": [
       "<pre>recommendations finished on 95000/100638 queries. users per second: 20746.7</pre>"
      ],
      "text/plain": [
       "recommendations finished on 95000/100638 queries. users per second: 20746.7"
      ]
     },
     "metadata": {},
     "output_type": "display_data"
    },
    {
     "data": {
      "text/html": [
       "<pre>recommendations finished on 96000/100638 queries. users per second: 20749.8</pre>"
      ],
      "text/plain": [
       "recommendations finished on 96000/100638 queries. users per second: 20749.8"
      ]
     },
     "metadata": {},
     "output_type": "display_data"
    },
    {
     "data": {
      "text/html": [
       "<pre>recommendations finished on 97000/100638 queries. users per second: 20750.4</pre>"
      ],
      "text/plain": [
       "recommendations finished on 97000/100638 queries. users per second: 20750.4"
      ]
     },
     "metadata": {},
     "output_type": "display_data"
    },
    {
     "data": {
      "text/html": [
       "<pre>recommendations finished on 98000/100638 queries. users per second: 20744.3</pre>"
      ],
      "text/plain": [
       "recommendations finished on 98000/100638 queries. users per second: 20744.3"
      ]
     },
     "metadata": {},
     "output_type": "display_data"
    },
    {
     "data": {
      "text/html": [
       "<pre>recommendations finished on 99000/100638 queries. users per second: 20694.4</pre>"
      ],
      "text/plain": [
       "recommendations finished on 99000/100638 queries. users per second: 20694.4"
      ]
     },
     "metadata": {},
     "output_type": "display_data"
    },
    {
     "data": {
      "text/html": [
       "<pre>recommendations finished on 100000/100638 queries. users per second: 20480.8</pre>"
      ],
      "text/plain": [
       "recommendations finished on 100000/100638 queries. users per second: 20480.8"
      ]
     },
     "metadata": {},
     "output_type": "display_data"
    },
    {
     "name": "stdout",
     "output_type": "stream",
     "text": [
      "+-------------------------------+-------------------------------+-------+------+\n",
      "|       customer_unique_id      |           product_id          | score | rank |\n",
      "+-------------------------------+-------------------------------+-------+------+\n",
      "| 4854e9b3feff728c13ee5fc7d1... | 6ed93af03d1f53308d3a9c6555... |  5.0  |  1   |\n",
      "| 4854e9b3feff728c13ee5fc7d1... | f4851ffef385d506603396041d... |  5.0  |  2   |\n",
      "| 4854e9b3feff728c13ee5fc7d1... | 18047039004204f52054f74b95... |  5.0  |  3   |\n",
      "| 4854e9b3feff728c13ee5fc7d1... | 97868e08c02c9f4f6b49ebe5a4... |  5.0  |  4   |\n",
      "| 4854e9b3feff728c13ee5fc7d1... | 73abf6f6dfa98d1d04760f4cc1... |  5.0  |  5   |\n",
      "| 830d5b7aaa3b6f1e9ad63703be... | 6ed93af03d1f53308d3a9c6555... |  5.0  |  1   |\n",
      "| 830d5b7aaa3b6f1e9ad63703be... | f4851ffef385d506603396041d... |  5.0  |  2   |\n",
      "| 830d5b7aaa3b6f1e9ad63703be... | 18047039004204f52054f74b95... |  5.0  |  3   |\n",
      "| 830d5b7aaa3b6f1e9ad63703be... | 97868e08c02c9f4f6b49ebe5a4... |  5.0  |  4   |\n",
      "| 830d5b7aaa3b6f1e9ad63703be... | 73abf6f6dfa98d1d04760f4cc1... |  5.0  |  5   |\n",
      "| 87776adb449c551e74c13fc34f... | 6ed93af03d1f53308d3a9c6555... |  5.0  |  1   |\n",
      "| 87776adb449c551e74c13fc34f... | f4851ffef385d506603396041d... |  5.0  |  2   |\n",
      "| 87776adb449c551e74c13fc34f... | 18047039004204f52054f74b95... |  5.0  |  3   |\n",
      "| 87776adb449c551e74c13fc34f... | 97868e08c02c9f4f6b49ebe5a4... |  5.0  |  4   |\n",
      "| 87776adb449c551e74c13fc34f... | 73abf6f6dfa98d1d04760f4cc1... |  5.0  |  5   |\n",
      "| 9f302d00dd3e18ed3745778184... | 6ed93af03d1f53308d3a9c6555... |  5.0  |  1   |\n",
      "| 9f302d00dd3e18ed3745778184... | f4851ffef385d506603396041d... |  5.0  |  2   |\n",
      "| 9f302d00dd3e18ed3745778184... | 18047039004204f52054f74b95... |  5.0  |  3   |\n",
      "| 9f302d00dd3e18ed3745778184... | 97868e08c02c9f4f6b49ebe5a4... |  5.0  |  4   |\n",
      "| 9f302d00dd3e18ed3745778184... | 73abf6f6dfa98d1d04760f4cc1... |  5.0  |  5   |\n",
      "| 3f4f614c632af7fc7508462a7c... | 6ed93af03d1f53308d3a9c6555... |  5.0  |  1   |\n",
      "| 3f4f614c632af7fc7508462a7c... | f4851ffef385d506603396041d... |  5.0  |  2   |\n",
      "| 3f4f614c632af7fc7508462a7c... | 18047039004204f52054f74b95... |  5.0  |  3   |\n",
      "| 3f4f614c632af7fc7508462a7c... | 97868e08c02c9f4f6b49ebe5a4... |  5.0  |  4   |\n",
      "| 3f4f614c632af7fc7508462a7c... | 73abf6f6dfa98d1d04760f4cc1... |  5.0  |  5   |\n",
      "| f176923a0a4ab546c7287791cc... | 6ed93af03d1f53308d3a9c6555... |  5.0  |  1   |\n",
      "| f176923a0a4ab546c7287791cc... | f4851ffef385d506603396041d... |  5.0  |  2   |\n",
      "| f176923a0a4ab546c7287791cc... | 18047039004204f52054f74b95... |  5.0  |  3   |\n",
      "| f176923a0a4ab546c7287791cc... | 97868e08c02c9f4f6b49ebe5a4... |  5.0  |  4   |\n",
      "| f176923a0a4ab546c7287791cc... | 73abf6f6dfa98d1d04760f4cc1... |  5.0  |  5   |\n",
      "+-------------------------------+-------------------------------+-------+------+\n",
      "[503190 rows x 4 columns]\n",
      "\n"
     ]
    }
   ],
   "source": [
    "name = 'popularity'\n",
    "target = 'review_score'\n",
    "popularity = model(train_data, name, user_id, item_id, target, users_to_recommend, n_rec, n_display)"
   ]
  },
  {
   "cell_type": "code",
   "execution_count": 60,
   "metadata": {},
   "outputs": [
    {
     "data": {
      "text/html": [
       "<pre>Preparing data set.</pre>"
      ],
      "text/plain": [
       "Preparing data set."
      ]
     },
     "metadata": {},
     "output_type": "display_data"
    },
    {
     "data": {
      "text/html": [
       "<pre>    Data has 80510 observations with 76144 users and 28388 items.</pre>"
      ],
      "text/plain": [
       "    Data has 80510 observations with 76144 users and 28388 items."
      ]
     },
     "metadata": {},
     "output_type": "display_data"
    },
    {
     "data": {
      "text/html": [
       "<pre>    Data prepared in: 0.129251s</pre>"
      ],
      "text/plain": [
       "    Data prepared in: 0.129251s"
      ]
     },
     "metadata": {},
     "output_type": "display_data"
    },
    {
     "data": {
      "text/html": [
       "<pre>80510 observations to process; with 28388 unique items.</pre>"
      ],
      "text/plain": [
       "80510 observations to process; with 28388 unique items."
      ]
     },
     "metadata": {},
     "output_type": "display_data"
    },
    {
     "data": {
      "text/html": [
       "<pre>recommendations finished on 1000/100638 queries. users per second: 19220.8</pre>"
      ],
      "text/plain": [
       "recommendations finished on 1000/100638 queries. users per second: 19220.8"
      ]
     },
     "metadata": {},
     "output_type": "display_data"
    },
    {
     "data": {
      "text/html": [
       "<pre>recommendations finished on 2000/100638 queries. users per second: 19892.2</pre>"
      ],
      "text/plain": [
       "recommendations finished on 2000/100638 queries. users per second: 19892.2"
      ]
     },
     "metadata": {},
     "output_type": "display_data"
    },
    {
     "data": {
      "text/html": [
       "<pre>recommendations finished on 3000/100638 queries. users per second: 20223.3</pre>"
      ],
      "text/plain": [
       "recommendations finished on 3000/100638 queries. users per second: 20223.3"
      ]
     },
     "metadata": {},
     "output_type": "display_data"
    },
    {
     "data": {
      "text/html": [
       "<pre>recommendations finished on 4000/100638 queries. users per second: 19935.8</pre>"
      ],
      "text/plain": [
       "recommendations finished on 4000/100638 queries. users per second: 19935.8"
      ]
     },
     "metadata": {},
     "output_type": "display_data"
    },
    {
     "data": {
      "text/html": [
       "<pre>recommendations finished on 5000/100638 queries. users per second: 20044.3</pre>"
      ],
      "text/plain": [
       "recommendations finished on 5000/100638 queries. users per second: 20044.3"
      ]
     },
     "metadata": {},
     "output_type": "display_data"
    },
    {
     "data": {
      "text/html": [
       "<pre>recommendations finished on 6000/100638 queries. users per second: 20048.7</pre>"
      ],
      "text/plain": [
       "recommendations finished on 6000/100638 queries. users per second: 20048.7"
      ]
     },
     "metadata": {},
     "output_type": "display_data"
    },
    {
     "data": {
      "text/html": [
       "<pre>recommendations finished on 7000/100638 queries. users per second: 20122.1</pre>"
      ],
      "text/plain": [
       "recommendations finished on 7000/100638 queries. users per second: 20122.1"
      ]
     },
     "metadata": {},
     "output_type": "display_data"
    },
    {
     "data": {
      "text/html": [
       "<pre>recommendations finished on 8000/100638 queries. users per second: 20217.1</pre>"
      ],
      "text/plain": [
       "recommendations finished on 8000/100638 queries. users per second: 20217.1"
      ]
     },
     "metadata": {},
     "output_type": "display_data"
    },
    {
     "data": {
      "text/html": [
       "<pre>recommendations finished on 9000/100638 queries. users per second: 20309.8</pre>"
      ],
      "text/plain": [
       "recommendations finished on 9000/100638 queries. users per second: 20309.8"
      ]
     },
     "metadata": {},
     "output_type": "display_data"
    },
    {
     "data": {
      "text/html": [
       "<pre>recommendations finished on 10000/100638 queries. users per second: 20472</pre>"
      ],
      "text/plain": [
       "recommendations finished on 10000/100638 queries. users per second: 20472"
      ]
     },
     "metadata": {},
     "output_type": "display_data"
    },
    {
     "data": {
      "text/html": [
       "<pre>recommendations finished on 11000/100638 queries. users per second: 20467.1</pre>"
      ],
      "text/plain": [
       "recommendations finished on 11000/100638 queries. users per second: 20467.1"
      ]
     },
     "metadata": {},
     "output_type": "display_data"
    },
    {
     "data": {
      "text/html": [
       "<pre>recommendations finished on 12000/100638 queries. users per second: 20399.1</pre>"
      ],
      "text/plain": [
       "recommendations finished on 12000/100638 queries. users per second: 20399.1"
      ]
     },
     "metadata": {},
     "output_type": "display_data"
    },
    {
     "data": {
      "text/html": [
       "<pre>recommendations finished on 13000/100638 queries. users per second: 20472.3</pre>"
      ],
      "text/plain": [
       "recommendations finished on 13000/100638 queries. users per second: 20472.3"
      ]
     },
     "metadata": {},
     "output_type": "display_data"
    },
    {
     "data": {
      "text/html": [
       "<pre>recommendations finished on 14000/100638 queries. users per second: 20464.5</pre>"
      ],
      "text/plain": [
       "recommendations finished on 14000/100638 queries. users per second: 20464.5"
      ]
     },
     "metadata": {},
     "output_type": "display_data"
    },
    {
     "data": {
      "text/html": [
       "<pre>recommendations finished on 15000/100638 queries. users per second: 20494.2</pre>"
      ],
      "text/plain": [
       "recommendations finished on 15000/100638 queries. users per second: 20494.2"
      ]
     },
     "metadata": {},
     "output_type": "display_data"
    },
    {
     "data": {
      "text/html": [
       "<pre>recommendations finished on 16000/100638 queries. users per second: 20484.1</pre>"
      ],
      "text/plain": [
       "recommendations finished on 16000/100638 queries. users per second: 20484.1"
      ]
     },
     "metadata": {},
     "output_type": "display_data"
    },
    {
     "data": {
      "text/html": [
       "<pre>recommendations finished on 17000/100638 queries. users per second: 20466.1</pre>"
      ],
      "text/plain": [
       "recommendations finished on 17000/100638 queries. users per second: 20466.1"
      ]
     },
     "metadata": {},
     "output_type": "display_data"
    },
    {
     "data": {
      "text/html": [
       "<pre>recommendations finished on 18000/100638 queries. users per second: 20451.2</pre>"
      ],
      "text/plain": [
       "recommendations finished on 18000/100638 queries. users per second: 20451.2"
      ]
     },
     "metadata": {},
     "output_type": "display_data"
    },
    {
     "data": {
      "text/html": [
       "<pre>recommendations finished on 19000/100638 queries. users per second: 20366.3</pre>"
      ],
      "text/plain": [
       "recommendations finished on 19000/100638 queries. users per second: 20366.3"
      ]
     },
     "metadata": {},
     "output_type": "display_data"
    },
    {
     "data": {
      "text/html": [
       "<pre>recommendations finished on 20000/100638 queries. users per second: 20355.1</pre>"
      ],
      "text/plain": [
       "recommendations finished on 20000/100638 queries. users per second: 20355.1"
      ]
     },
     "metadata": {},
     "output_type": "display_data"
    },
    {
     "data": {
      "text/html": [
       "<pre>recommendations finished on 21000/100638 queries. users per second: 20312.7</pre>"
      ],
      "text/plain": [
       "recommendations finished on 21000/100638 queries. users per second: 20312.7"
      ]
     },
     "metadata": {},
     "output_type": "display_data"
    },
    {
     "data": {
      "text/html": [
       "<pre>recommendations finished on 22000/100638 queries. users per second: 20221.8</pre>"
      ],
      "text/plain": [
       "recommendations finished on 22000/100638 queries. users per second: 20221.8"
      ]
     },
     "metadata": {},
     "output_type": "display_data"
    },
    {
     "data": {
      "text/html": [
       "<pre>recommendations finished on 23000/100638 queries. users per second: 20266.8</pre>"
      ],
      "text/plain": [
       "recommendations finished on 23000/100638 queries. users per second: 20266.8"
      ]
     },
     "metadata": {},
     "output_type": "display_data"
    },
    {
     "data": {
      "text/html": [
       "<pre>recommendations finished on 24000/100638 queries. users per second: 20219.3</pre>"
      ],
      "text/plain": [
       "recommendations finished on 24000/100638 queries. users per second: 20219.3"
      ]
     },
     "metadata": {},
     "output_type": "display_data"
    },
    {
     "data": {
      "text/html": [
       "<pre>recommendations finished on 25000/100638 queries. users per second: 20214.9</pre>"
      ],
      "text/plain": [
       "recommendations finished on 25000/100638 queries. users per second: 20214.9"
      ]
     },
     "metadata": {},
     "output_type": "display_data"
    },
    {
     "data": {
      "text/html": [
       "<pre>recommendations finished on 26000/100638 queries. users per second: 20259.4</pre>"
      ],
      "text/plain": [
       "recommendations finished on 26000/100638 queries. users per second: 20259.4"
      ]
     },
     "metadata": {},
     "output_type": "display_data"
    },
    {
     "data": {
      "text/html": [
       "<pre>recommendations finished on 27000/100638 queries. users per second: 20234.1</pre>"
      ],
      "text/plain": [
       "recommendations finished on 27000/100638 queries. users per second: 20234.1"
      ]
     },
     "metadata": {},
     "output_type": "display_data"
    },
    {
     "data": {
      "text/html": [
       "<pre>recommendations finished on 28000/100638 queries. users per second: 20228</pre>"
      ],
      "text/plain": [
       "recommendations finished on 28000/100638 queries. users per second: 20228"
      ]
     },
     "metadata": {},
     "output_type": "display_data"
    },
    {
     "data": {
      "text/html": [
       "<pre>recommendations finished on 29000/100638 queries. users per second: 20216.2</pre>"
      ],
      "text/plain": [
       "recommendations finished on 29000/100638 queries. users per second: 20216.2"
      ]
     },
     "metadata": {},
     "output_type": "display_data"
    },
    {
     "data": {
      "text/html": [
       "<pre>recommendations finished on 30000/100638 queries. users per second: 20213.8</pre>"
      ],
      "text/plain": [
       "recommendations finished on 30000/100638 queries. users per second: 20213.8"
      ]
     },
     "metadata": {},
     "output_type": "display_data"
    },
    {
     "data": {
      "text/html": [
       "<pre>recommendations finished on 31000/100638 queries. users per second: 20227.2</pre>"
      ],
      "text/plain": [
       "recommendations finished on 31000/100638 queries. users per second: 20227.2"
      ]
     },
     "metadata": {},
     "output_type": "display_data"
    },
    {
     "data": {
      "text/html": [
       "<pre>recommendations finished on 32000/100638 queries. users per second: 20232.6</pre>"
      ],
      "text/plain": [
       "recommendations finished on 32000/100638 queries. users per second: 20232.6"
      ]
     },
     "metadata": {},
     "output_type": "display_data"
    },
    {
     "data": {
      "text/html": [
       "<pre>recommendations finished on 33000/100638 queries. users per second: 20256.3</pre>"
      ],
      "text/plain": [
       "recommendations finished on 33000/100638 queries. users per second: 20256.3"
      ]
     },
     "metadata": {},
     "output_type": "display_data"
    },
    {
     "data": {
      "text/html": [
       "<pre>recommendations finished on 34000/100638 queries. users per second: 20249.5</pre>"
      ],
      "text/plain": [
       "recommendations finished on 34000/100638 queries. users per second: 20249.5"
      ]
     },
     "metadata": {},
     "output_type": "display_data"
    },
    {
     "data": {
      "text/html": [
       "<pre>recommendations finished on 35000/100638 queries. users per second: 20261.3</pre>"
      ],
      "text/plain": [
       "recommendations finished on 35000/100638 queries. users per second: 20261.3"
      ]
     },
     "metadata": {},
     "output_type": "display_data"
    },
    {
     "data": {
      "text/html": [
       "<pre>recommendations finished on 36000/100638 queries. users per second: 20308.5</pre>"
      ],
      "text/plain": [
       "recommendations finished on 36000/100638 queries. users per second: 20308.5"
      ]
     },
     "metadata": {},
     "output_type": "display_data"
    },
    {
     "data": {
      "text/html": [
       "<pre>recommendations finished on 37000/100638 queries. users per second: 20295.1</pre>"
      ],
      "text/plain": [
       "recommendations finished on 37000/100638 queries. users per second: 20295.1"
      ]
     },
     "metadata": {},
     "output_type": "display_data"
    },
    {
     "data": {
      "text/html": [
       "<pre>recommendations finished on 38000/100638 queries. users per second: 20305.5</pre>"
      ],
      "text/plain": [
       "recommendations finished on 38000/100638 queries. users per second: 20305.5"
      ]
     },
     "metadata": {},
     "output_type": "display_data"
    },
    {
     "data": {
      "text/html": [
       "<pre>recommendations finished on 39000/100638 queries. users per second: 20317.5</pre>"
      ],
      "text/plain": [
       "recommendations finished on 39000/100638 queries. users per second: 20317.5"
      ]
     },
     "metadata": {},
     "output_type": "display_data"
    },
    {
     "data": {
      "text/html": [
       "<pre>recommendations finished on 40000/100638 queries. users per second: 20351.6</pre>"
      ],
      "text/plain": [
       "recommendations finished on 40000/100638 queries. users per second: 20351.6"
      ]
     },
     "metadata": {},
     "output_type": "display_data"
    },
    {
     "data": {
      "text/html": [
       "<pre>recommendations finished on 41000/100638 queries. users per second: 20317.6</pre>"
      ],
      "text/plain": [
       "recommendations finished on 41000/100638 queries. users per second: 20317.6"
      ]
     },
     "metadata": {},
     "output_type": "display_data"
    },
    {
     "data": {
      "text/html": [
       "<pre>recommendations finished on 42000/100638 queries. users per second: 20323.3</pre>"
      ],
      "text/plain": [
       "recommendations finished on 42000/100638 queries. users per second: 20323.3"
      ]
     },
     "metadata": {},
     "output_type": "display_data"
    },
    {
     "data": {
      "text/html": [
       "<pre>recommendations finished on 43000/100638 queries. users per second: 20346.9</pre>"
      ],
      "text/plain": [
       "recommendations finished on 43000/100638 queries. users per second: 20346.9"
      ]
     },
     "metadata": {},
     "output_type": "display_data"
    },
    {
     "data": {
      "text/html": [
       "<pre>recommendations finished on 44000/100638 queries. users per second: 20342.5</pre>"
      ],
      "text/plain": [
       "recommendations finished on 44000/100638 queries. users per second: 20342.5"
      ]
     },
     "metadata": {},
     "output_type": "display_data"
    },
    {
     "data": {
      "text/html": [
       "<pre>recommendations finished on 45000/100638 queries. users per second: 20339.9</pre>"
      ],
      "text/plain": [
       "recommendations finished on 45000/100638 queries. users per second: 20339.9"
      ]
     },
     "metadata": {},
     "output_type": "display_data"
    },
    {
     "data": {
      "text/html": [
       "<pre>recommendations finished on 46000/100638 queries. users per second: 20336.1</pre>"
      ],
      "text/plain": [
       "recommendations finished on 46000/100638 queries. users per second: 20336.1"
      ]
     },
     "metadata": {},
     "output_type": "display_data"
    },
    {
     "data": {
      "text/html": [
       "<pre>recommendations finished on 47000/100638 queries. users per second: 20350.1</pre>"
      ],
      "text/plain": [
       "recommendations finished on 47000/100638 queries. users per second: 20350.1"
      ]
     },
     "metadata": {},
     "output_type": "display_data"
    },
    {
     "data": {
      "text/html": [
       "<pre>recommendations finished on 48000/100638 queries. users per second: 20353.2</pre>"
      ],
      "text/plain": [
       "recommendations finished on 48000/100638 queries. users per second: 20353.2"
      ]
     },
     "metadata": {},
     "output_type": "display_data"
    },
    {
     "data": {
      "text/html": [
       "<pre>recommendations finished on 49000/100638 queries. users per second: 20339.9</pre>"
      ],
      "text/plain": [
       "recommendations finished on 49000/100638 queries. users per second: 20339.9"
      ]
     },
     "metadata": {},
     "output_type": "display_data"
    },
    {
     "data": {
      "text/html": [
       "<pre>recommendations finished on 50000/100638 queries. users per second: 20257.9</pre>"
      ],
      "text/plain": [
       "recommendations finished on 50000/100638 queries. users per second: 20257.9"
      ]
     },
     "metadata": {},
     "output_type": "display_data"
    },
    {
     "data": {
      "text/html": [
       "<pre>recommendations finished on 51000/100638 queries. users per second: 20255.6</pre>"
      ],
      "text/plain": [
       "recommendations finished on 51000/100638 queries. users per second: 20255.6"
      ]
     },
     "metadata": {},
     "output_type": "display_data"
    },
    {
     "data": {
      "text/html": [
       "<pre>recommendations finished on 52000/100638 queries. users per second: 20217.3</pre>"
      ],
      "text/plain": [
       "recommendations finished on 52000/100638 queries. users per second: 20217.3"
      ]
     },
     "metadata": {},
     "output_type": "display_data"
    },
    {
     "data": {
      "text/html": [
       "<pre>recommendations finished on 53000/100638 queries. users per second: 20257.6</pre>"
      ],
      "text/plain": [
       "recommendations finished on 53000/100638 queries. users per second: 20257.6"
      ]
     },
     "metadata": {},
     "output_type": "display_data"
    },
    {
     "data": {
      "text/html": [
       "<pre>recommendations finished on 54000/100638 queries. users per second: 20215.1</pre>"
      ],
      "text/plain": [
       "recommendations finished on 54000/100638 queries. users per second: 20215.1"
      ]
     },
     "metadata": {},
     "output_type": "display_data"
    },
    {
     "data": {
      "text/html": [
       "<pre>recommendations finished on 55000/100638 queries. users per second: 20257</pre>"
      ],
      "text/plain": [
       "recommendations finished on 55000/100638 queries. users per second: 20257"
      ]
     },
     "metadata": {},
     "output_type": "display_data"
    },
    {
     "data": {
      "text/html": [
       "<pre>recommendations finished on 56000/100638 queries. users per second: 20226.2</pre>"
      ],
      "text/plain": [
       "recommendations finished on 56000/100638 queries. users per second: 20226.2"
      ]
     },
     "metadata": {},
     "output_type": "display_data"
    },
    {
     "data": {
      "text/html": [
       "<pre>recommendations finished on 57000/100638 queries. users per second: 20190.4</pre>"
      ],
      "text/plain": [
       "recommendations finished on 57000/100638 queries. users per second: 20190.4"
      ]
     },
     "metadata": {},
     "output_type": "display_data"
    },
    {
     "data": {
      "text/html": [
       "<pre>recommendations finished on 58000/100638 queries. users per second: 20200.9</pre>"
      ],
      "text/plain": [
       "recommendations finished on 58000/100638 queries. users per second: 20200.9"
      ]
     },
     "metadata": {},
     "output_type": "display_data"
    },
    {
     "data": {
      "text/html": [
       "<pre>recommendations finished on 59000/100638 queries. users per second: 20185.2</pre>"
      ],
      "text/plain": [
       "recommendations finished on 59000/100638 queries. users per second: 20185.2"
      ]
     },
     "metadata": {},
     "output_type": "display_data"
    },
    {
     "data": {
      "text/html": [
       "<pre>recommendations finished on 60000/100638 queries. users per second: 20160.3</pre>"
      ],
      "text/plain": [
       "recommendations finished on 60000/100638 queries. users per second: 20160.3"
      ]
     },
     "metadata": {},
     "output_type": "display_data"
    },
    {
     "data": {
      "text/html": [
       "<pre>recommendations finished on 61000/100638 queries. users per second: 20153.7</pre>"
      ],
      "text/plain": [
       "recommendations finished on 61000/100638 queries. users per second: 20153.7"
      ]
     },
     "metadata": {},
     "output_type": "display_data"
    },
    {
     "data": {
      "text/html": [
       "<pre>recommendations finished on 62000/100638 queries. users per second: 20179.5</pre>"
      ],
      "text/plain": [
       "recommendations finished on 62000/100638 queries. users per second: 20179.5"
      ]
     },
     "metadata": {},
     "output_type": "display_data"
    },
    {
     "data": {
      "text/html": [
       "<pre>recommendations finished on 63000/100638 queries. users per second: 20162</pre>"
      ],
      "text/plain": [
       "recommendations finished on 63000/100638 queries. users per second: 20162"
      ]
     },
     "metadata": {},
     "output_type": "display_data"
    },
    {
     "data": {
      "text/html": [
       "<pre>recommendations finished on 64000/100638 queries. users per second: 20192.6</pre>"
      ],
      "text/plain": [
       "recommendations finished on 64000/100638 queries. users per second: 20192.6"
      ]
     },
     "metadata": {},
     "output_type": "display_data"
    },
    {
     "data": {
      "text/html": [
       "<pre>recommendations finished on 65000/100638 queries. users per second: 20177.5</pre>"
      ],
      "text/plain": [
       "recommendations finished on 65000/100638 queries. users per second: 20177.5"
      ]
     },
     "metadata": {},
     "output_type": "display_data"
    },
    {
     "data": {
      "text/html": [
       "<pre>recommendations finished on 66000/100638 queries. users per second: 20206.5</pre>"
      ],
      "text/plain": [
       "recommendations finished on 66000/100638 queries. users per second: 20206.5"
      ]
     },
     "metadata": {},
     "output_type": "display_data"
    },
    {
     "data": {
      "text/html": [
       "<pre>recommendations finished on 67000/100638 queries. users per second: 20221.6</pre>"
      ],
      "text/plain": [
       "recommendations finished on 67000/100638 queries. users per second: 20221.6"
      ]
     },
     "metadata": {},
     "output_type": "display_data"
    },
    {
     "data": {
      "text/html": [
       "<pre>recommendations finished on 68000/100638 queries. users per second: 20221.8</pre>"
      ],
      "text/plain": [
       "recommendations finished on 68000/100638 queries. users per second: 20221.8"
      ]
     },
     "metadata": {},
     "output_type": "display_data"
    },
    {
     "data": {
      "text/html": [
       "<pre>recommendations finished on 69000/100638 queries. users per second: 20244.2</pre>"
      ],
      "text/plain": [
       "recommendations finished on 69000/100638 queries. users per second: 20244.2"
      ]
     },
     "metadata": {},
     "output_type": "display_data"
    },
    {
     "data": {
      "text/html": [
       "<pre>recommendations finished on 70000/100638 queries. users per second: 20222.4</pre>"
      ],
      "text/plain": [
       "recommendations finished on 70000/100638 queries. users per second: 20222.4"
      ]
     },
     "metadata": {},
     "output_type": "display_data"
    },
    {
     "data": {
      "text/html": [
       "<pre>recommendations finished on 71000/100638 queries. users per second: 20243.5</pre>"
      ],
      "text/plain": [
       "recommendations finished on 71000/100638 queries. users per second: 20243.5"
      ]
     },
     "metadata": {},
     "output_type": "display_data"
    },
    {
     "data": {
      "text/html": [
       "<pre>recommendations finished on 72000/100638 queries. users per second: 20225.9</pre>"
      ],
      "text/plain": [
       "recommendations finished on 72000/100638 queries. users per second: 20225.9"
      ]
     },
     "metadata": {},
     "output_type": "display_data"
    },
    {
     "data": {
      "text/html": [
       "<pre>recommendations finished on 73000/100638 queries. users per second: 20250.7</pre>"
      ],
      "text/plain": [
       "recommendations finished on 73000/100638 queries. users per second: 20250.7"
      ]
     },
     "metadata": {},
     "output_type": "display_data"
    },
    {
     "data": {
      "text/html": [
       "<pre>recommendations finished on 74000/100638 queries. users per second: 20223</pre>"
      ],
      "text/plain": [
       "recommendations finished on 74000/100638 queries. users per second: 20223"
      ]
     },
     "metadata": {},
     "output_type": "display_data"
    },
    {
     "data": {
      "text/html": [
       "<pre>recommendations finished on 75000/100638 queries. users per second: 20235.7</pre>"
      ],
      "text/plain": [
       "recommendations finished on 75000/100638 queries. users per second: 20235.7"
      ]
     },
     "metadata": {},
     "output_type": "display_data"
    },
    {
     "data": {
      "text/html": [
       "<pre>recommendations finished on 76000/100638 queries. users per second: 20256.4</pre>"
      ],
      "text/plain": [
       "recommendations finished on 76000/100638 queries. users per second: 20256.4"
      ]
     },
     "metadata": {},
     "output_type": "display_data"
    },
    {
     "data": {
      "text/html": [
       "<pre>recommendations finished on 77000/100638 queries. users per second: 20232.3</pre>"
      ],
      "text/plain": [
       "recommendations finished on 77000/100638 queries. users per second: 20232.3"
      ]
     },
     "metadata": {},
     "output_type": "display_data"
    },
    {
     "data": {
      "text/html": [
       "<pre>recommendations finished on 78000/100638 queries. users per second: 20256.6</pre>"
      ],
      "text/plain": [
       "recommendations finished on 78000/100638 queries. users per second: 20256.6"
      ]
     },
     "metadata": {},
     "output_type": "display_data"
    },
    {
     "data": {
      "text/html": [
       "<pre>recommendations finished on 79000/100638 queries. users per second: 20275.6</pre>"
      ],
      "text/plain": [
       "recommendations finished on 79000/100638 queries. users per second: 20275.6"
      ]
     },
     "metadata": {},
     "output_type": "display_data"
    },
    {
     "data": {
      "text/html": [
       "<pre>recommendations finished on 80000/100638 queries. users per second: 20293</pre>"
      ],
      "text/plain": [
       "recommendations finished on 80000/100638 queries. users per second: 20293"
      ]
     },
     "metadata": {},
     "output_type": "display_data"
    },
    {
     "data": {
      "text/html": [
       "<pre>recommendations finished on 81000/100638 queries. users per second: 20316.1</pre>"
      ],
      "text/plain": [
       "recommendations finished on 81000/100638 queries. users per second: 20316.1"
      ]
     },
     "metadata": {},
     "output_type": "display_data"
    },
    {
     "data": {
      "text/html": [
       "<pre>recommendations finished on 82000/100638 queries. users per second: 20334.8</pre>"
      ],
      "text/plain": [
       "recommendations finished on 82000/100638 queries. users per second: 20334.8"
      ]
     },
     "metadata": {},
     "output_type": "display_data"
    },
    {
     "data": {
      "text/html": [
       "<pre>recommendations finished on 83000/100638 queries. users per second: 20351.8</pre>"
      ],
      "text/plain": [
       "recommendations finished on 83000/100638 queries. users per second: 20351.8"
      ]
     },
     "metadata": {},
     "output_type": "display_data"
    },
    {
     "data": {
      "text/html": [
       "<pre>recommendations finished on 84000/100638 queries. users per second: 20373.7</pre>"
      ],
      "text/plain": [
       "recommendations finished on 84000/100638 queries. users per second: 20373.7"
      ]
     },
     "metadata": {},
     "output_type": "display_data"
    },
    {
     "data": {
      "text/html": [
       "<pre>recommendations finished on 85000/100638 queries. users per second: 20393.6</pre>"
      ],
      "text/plain": [
       "recommendations finished on 85000/100638 queries. users per second: 20393.6"
      ]
     },
     "metadata": {},
     "output_type": "display_data"
    },
    {
     "data": {
      "text/html": [
       "<pre>recommendations finished on 86000/100638 queries. users per second: 20416.5</pre>"
      ],
      "text/plain": [
       "recommendations finished on 86000/100638 queries. users per second: 20416.5"
      ]
     },
     "metadata": {},
     "output_type": "display_data"
    },
    {
     "data": {
      "text/html": [
       "<pre>recommendations finished on 87000/100638 queries. users per second: 20436.9</pre>"
      ],
      "text/plain": [
       "recommendations finished on 87000/100638 queries. users per second: 20436.9"
      ]
     },
     "metadata": {},
     "output_type": "display_data"
    },
    {
     "data": {
      "text/html": [
       "<pre>recommendations finished on 88000/100638 queries. users per second: 20456</pre>"
      ],
      "text/plain": [
       "recommendations finished on 88000/100638 queries. users per second: 20456"
      ]
     },
     "metadata": {},
     "output_type": "display_data"
    },
    {
     "data": {
      "text/html": [
       "<pre>recommendations finished on 89000/100638 queries. users per second: 20456</pre>"
      ],
      "text/plain": [
       "recommendations finished on 89000/100638 queries. users per second: 20456"
      ]
     },
     "metadata": {},
     "output_type": "display_data"
    },
    {
     "data": {
      "text/html": [
       "<pre>recommendations finished on 90000/100638 queries. users per second: 20469.6</pre>"
      ],
      "text/plain": [
       "recommendations finished on 90000/100638 queries. users per second: 20469.6"
      ]
     },
     "metadata": {},
     "output_type": "display_data"
    },
    {
     "data": {
      "text/html": [
       "<pre>recommendations finished on 91000/100638 queries. users per second: 20404.6</pre>"
      ],
      "text/plain": [
       "recommendations finished on 91000/100638 queries. users per second: 20404.6"
      ]
     },
     "metadata": {},
     "output_type": "display_data"
    },
    {
     "data": {
      "text/html": [
       "<pre>recommendations finished on 92000/100638 queries. users per second: 20412</pre>"
      ],
      "text/plain": [
       "recommendations finished on 92000/100638 queries. users per second: 20412"
      ]
     },
     "metadata": {},
     "output_type": "display_data"
    },
    {
     "data": {
      "text/html": [
       "<pre>recommendations finished on 93000/100638 queries. users per second: 20404.4</pre>"
      ],
      "text/plain": [
       "recommendations finished on 93000/100638 queries. users per second: 20404.4"
      ]
     },
     "metadata": {},
     "output_type": "display_data"
    },
    {
     "data": {
      "text/html": [
       "<pre>recommendations finished on 94000/100638 queries. users per second: 20421.2</pre>"
      ],
      "text/plain": [
       "recommendations finished on 94000/100638 queries. users per second: 20421.2"
      ]
     },
     "metadata": {},
     "output_type": "display_data"
    },
    {
     "data": {
      "text/html": [
       "<pre>recommendations finished on 95000/100638 queries. users per second: 20400.5</pre>"
      ],
      "text/plain": [
       "recommendations finished on 95000/100638 queries. users per second: 20400.5"
      ]
     },
     "metadata": {},
     "output_type": "display_data"
    },
    {
     "data": {
      "text/html": [
       "<pre>recommendations finished on 96000/100638 queries. users per second: 20410.9</pre>"
      ],
      "text/plain": [
       "recommendations finished on 96000/100638 queries. users per second: 20410.9"
      ]
     },
     "metadata": {},
     "output_type": "display_data"
    },
    {
     "data": {
      "text/html": [
       "<pre>recommendations finished on 97000/100638 queries. users per second: 20416.1</pre>"
      ],
      "text/plain": [
       "recommendations finished on 97000/100638 queries. users per second: 20416.1"
      ]
     },
     "metadata": {},
     "output_type": "display_data"
    },
    {
     "data": {
      "text/html": [
       "<pre>recommendations finished on 98000/100638 queries. users per second: 20399</pre>"
      ],
      "text/plain": [
       "recommendations finished on 98000/100638 queries. users per second: 20399"
      ]
     },
     "metadata": {},
     "output_type": "display_data"
    },
    {
     "data": {
      "text/html": [
       "<pre>recommendations finished on 99000/100638 queries. users per second: 20360.4</pre>"
      ],
      "text/plain": [
       "recommendations finished on 99000/100638 queries. users per second: 20360.4"
      ]
     },
     "metadata": {},
     "output_type": "display_data"
    },
    {
     "data": {
      "text/html": [
       "<pre>recommendations finished on 100000/100638 queries. users per second: 20253.2</pre>"
      ],
      "text/plain": [
       "recommendations finished on 100000/100638 queries. users per second: 20253.2"
      ]
     },
     "metadata": {},
     "output_type": "display_data"
    },
    {
     "name": "stdout",
     "output_type": "stream",
     "text": [
      "+-------------------------------+-------------------------------+\n",
      "|       customer_unique_id      |           product_id          |\n",
      "+-------------------------------+-------------------------------+\n",
      "| 4854e9b3feff728c13ee5fc7d1... | 6c50c87e36d8641d67fbcceed5... |\n",
      "| 4854e9b3feff728c13ee5fc7d1... | d0349534ab9b46b98d13a53051... |\n",
      "| 4854e9b3feff728c13ee5fc7d1... | f196248e8b5d060cca414a664e... |\n",
      "| 4854e9b3feff728c13ee5fc7d1... | c0350d6ac413eda4641bf92ab6... |\n",
      "| 4854e9b3feff728c13ee5fc7d1... | 3215010238fcd9cab6ba7d2b81... |\n",
      "| 830d5b7aaa3b6f1e9ad63703be... | 6c50c87e36d8641d67fbcceed5... |\n",
      "| 830d5b7aaa3b6f1e9ad63703be... | d0349534ab9b46b98d13a53051... |\n",
      "| 830d5b7aaa3b6f1e9ad63703be... | f196248e8b5d060cca414a664e... |\n",
      "| 830d5b7aaa3b6f1e9ad63703be... | c0350d6ac413eda4641bf92ab6... |\n",
      "| 830d5b7aaa3b6f1e9ad63703be... | 3215010238fcd9cab6ba7d2b81... |\n",
      "| 87776adb449c551e74c13fc34f... | 6c50c87e36d8641d67fbcceed5... |\n",
      "| 87776adb449c551e74c13fc34f... | d0349534ab9b46b98d13a53051... |\n",
      "| 87776adb449c551e74c13fc34f... | f196248e8b5d060cca414a664e... |\n",
      "| 87776adb449c551e74c13fc34f... | c0350d6ac413eda4641bf92ab6... |\n",
      "| 87776adb449c551e74c13fc34f... | 3215010238fcd9cab6ba7d2b81... |\n",
      "| 9f302d00dd3e18ed3745778184... | 6c50c87e36d8641d67fbcceed5... |\n",
      "| 9f302d00dd3e18ed3745778184... | d0349534ab9b46b98d13a53051... |\n",
      "| 9f302d00dd3e18ed3745778184... | f196248e8b5d060cca414a664e... |\n",
      "| 9f302d00dd3e18ed3745778184... | c0350d6ac413eda4641bf92ab6... |\n",
      "| 9f302d00dd3e18ed3745778184... | 3215010238fcd9cab6ba7d2b81... |\n",
      "| 3f4f614c632af7fc7508462a7c... | 6c50c87e36d8641d67fbcceed5... |\n",
      "| 3f4f614c632af7fc7508462a7c... | d0349534ab9b46b98d13a53051... |\n",
      "| 3f4f614c632af7fc7508462a7c... | f196248e8b5d060cca414a664e... |\n",
      "| 3f4f614c632af7fc7508462a7c... | c0350d6ac413eda4641bf92ab6... |\n",
      "| 3f4f614c632af7fc7508462a7c... | 3215010238fcd9cab6ba7d2b81... |\n",
      "| f176923a0a4ab546c7287791cc... | 6c50c87e36d8641d67fbcceed5... |\n",
      "| f176923a0a4ab546c7287791cc... | d0349534ab9b46b98d13a53051... |\n",
      "| f176923a0a4ab546c7287791cc... | f196248e8b5d060cca414a664e... |\n",
      "| f176923a0a4ab546c7287791cc... | c0350d6ac413eda4641bf92ab6... |\n",
      "| f176923a0a4ab546c7287791cc... | 3215010238fcd9cab6ba7d2b81... |\n",
      "+-------------------------------+-------------------------------+\n",
      "+---------------------+------+\n",
      "|        score        | rank |\n",
      "+---------------------+------+\n",
      "| 0.16960775868292538 |  1   |\n",
      "| 0.16960775868292538 |  2   |\n",
      "| 0.16960775868292538 |  3   |\n",
      "| 0.16960775868292538 |  4   |\n",
      "| 0.16960775868292538 |  5   |\n",
      "| 0.16960775868292538 |  1   |\n",
      "| 0.16960775868292538 |  2   |\n",
      "| 0.16960775868292538 |  3   |\n",
      "| 0.16960775868292538 |  4   |\n",
      "| 0.16960775868292538 |  5   |\n",
      "| 0.16960775868292538 |  1   |\n",
      "| 0.16960775868292538 |  2   |\n",
      "| 0.16960775868292538 |  3   |\n",
      "| 0.16960775868292538 |  4   |\n",
      "| 0.16960775868292538 |  5   |\n",
      "| 0.16960775868292538 |  1   |\n",
      "| 0.16960775868292538 |  2   |\n",
      "| 0.16960775868292538 |  3   |\n",
      "| 0.16960775868292538 |  4   |\n",
      "| 0.16960775868292538 |  5   |\n",
      "| 0.16960775868292538 |  1   |\n",
      "| 0.16960775868292538 |  2   |\n",
      "| 0.16960775868292538 |  3   |\n",
      "| 0.16960775868292538 |  4   |\n",
      "| 0.16960775868292538 |  5   |\n",
      "| 0.16960775868292538 |  1   |\n",
      "| 0.16960775868292538 |  2   |\n",
      "| 0.16960775868292538 |  3   |\n",
      "| 0.16960775868292538 |  4   |\n",
      "| 0.16960775868292538 |  5   |\n",
      "+---------------------+------+\n",
      "[503190 rows x 4 columns]\n",
      "\n"
     ]
    }
   ],
   "source": [
    "name = 'popularity'\n",
    "target = 'review_score'\n",
    "pop_norm = model(train_data_norm, name, user_id, item_id, target, users_to_recommend, n_rec, n_display)"
   ]
  },
  {
   "cell_type": "code",
   "execution_count": 61,
   "metadata": {},
   "outputs": [
    {
     "data": {
      "text/html": [
       "<pre>Preparing data set.</pre>"
      ],
      "text/plain": [
       "Preparing data set."
      ]
     },
     "metadata": {},
     "output_type": "display_data"
    },
    {
     "data": {
      "text/html": [
       "<pre>    Data has 80510 observations with 76129 users and 28332 items.</pre>"
      ],
      "text/plain": [
       "    Data has 80510 observations with 76129 users and 28332 items."
      ]
     },
     "metadata": {},
     "output_type": "display_data"
    },
    {
     "data": {
      "text/html": [
       "<pre>    Data prepared in: 0.128567s</pre>"
      ],
      "text/plain": [
       "    Data prepared in: 0.128567s"
      ]
     },
     "metadata": {},
     "output_type": "display_data"
    },
    {
     "data": {
      "text/html": [
       "<pre>Training model from provided data.</pre>"
      ],
      "text/plain": [
       "Training model from provided data."
      ]
     },
     "metadata": {},
     "output_type": "display_data"
    },
    {
     "data": {
      "text/html": [
       "<pre>Gathering per-item and per-user statistics.</pre>"
      ],
      "text/plain": [
       "Gathering per-item and per-user statistics."
      ]
     },
     "metadata": {},
     "output_type": "display_data"
    },
    {
     "data": {
      "text/html": [
       "<pre>+--------------------------------+------------+</pre>"
      ],
      "text/plain": [
       "+--------------------------------+------------+"
      ]
     },
     "metadata": {},
     "output_type": "display_data"
    },
    {
     "data": {
      "text/html": [
       "<pre>| Elapsed Time (Item Statistics) | % Complete |</pre>"
      ],
      "text/plain": [
       "| Elapsed Time (Item Statistics) | % Complete |"
      ]
     },
     "metadata": {},
     "output_type": "display_data"
    },
    {
     "data": {
      "text/html": [
       "<pre>+--------------------------------+------------+</pre>"
      ],
      "text/plain": [
       "+--------------------------------+------------+"
      ]
     },
     "metadata": {},
     "output_type": "display_data"
    },
    {
     "data": {
      "text/html": [
       "<pre>| 1.592ms                        | 1.25       |</pre>"
      ],
      "text/plain": [
       "| 1.592ms                        | 1.25       |"
      ]
     },
     "metadata": {},
     "output_type": "display_data"
    },
    {
     "data": {
      "text/html": [
       "<pre>| 25.359ms                       | 100        |</pre>"
      ],
      "text/plain": [
       "| 25.359ms                       | 100        |"
      ]
     },
     "metadata": {},
     "output_type": "display_data"
    },
    {
     "data": {
      "text/html": [
       "<pre>+--------------------------------+------------+</pre>"
      ],
      "text/plain": [
       "+--------------------------------+------------+"
      ]
     },
     "metadata": {},
     "output_type": "display_data"
    },
    {
     "data": {
      "text/html": [
       "<pre>Setting up lookup tables.</pre>"
      ],
      "text/plain": [
       "Setting up lookup tables."
      ]
     },
     "metadata": {},
     "output_type": "display_data"
    },
    {
     "data": {
      "text/html": [
       "<pre>Processing data in one pass using dense lookup tables.</pre>"
      ],
      "text/plain": [
       "Processing data in one pass using dense lookup tables."
      ]
     },
     "metadata": {},
     "output_type": "display_data"
    },
    {
     "data": {
      "text/html": [
       "<pre>+-------------------------------------+------------------+-----------------+</pre>"
      ],
      "text/plain": [
       "+-------------------------------------+------------------+-----------------+"
      ]
     },
     "metadata": {},
     "output_type": "display_data"
    },
    {
     "data": {
      "text/html": [
       "<pre>| Elapsed Time (Constructing Lookups) | Total % Complete | Items Processed |</pre>"
      ],
      "text/plain": [
       "| Elapsed Time (Constructing Lookups) | Total % Complete | Items Processed |"
      ]
     },
     "metadata": {},
     "output_type": "display_data"
    },
    {
     "data": {
      "text/html": [
       "<pre>+-------------------------------------+------------------+-----------------+</pre>"
      ],
      "text/plain": [
       "+-------------------------------------+------------------+-----------------+"
      ]
     },
     "metadata": {},
     "output_type": "display_data"
    },
    {
     "data": {
      "text/html": [
       "<pre>| 1.52s                               | 0                | 0               |</pre>"
      ],
      "text/plain": [
       "| 1.52s                               | 0                | 0               |"
      ]
     },
     "metadata": {},
     "output_type": "display_data"
    },
    {
     "data": {
      "text/html": [
       "<pre>| 3.78s                               | 100              | 28332           |</pre>"
      ],
      "text/plain": [
       "| 3.78s                               | 100              | 28332           |"
      ]
     },
     "metadata": {},
     "output_type": "display_data"
    },
    {
     "data": {
      "text/html": [
       "<pre>+-------------------------------------+------------------+-----------------+</pre>"
      ],
      "text/plain": [
       "+-------------------------------------+------------------+-----------------+"
      ]
     },
     "metadata": {},
     "output_type": "display_data"
    },
    {
     "data": {
      "text/html": [
       "<pre>Finalizing lookup tables.</pre>"
      ],
      "text/plain": [
       "Finalizing lookup tables."
      ]
     },
     "metadata": {},
     "output_type": "display_data"
    },
    {
     "data": {
      "text/html": [
       "<pre>Generating candidate set for working with new users.</pre>"
      ],
      "text/plain": [
       "Generating candidate set for working with new users."
      ]
     },
     "metadata": {},
     "output_type": "display_data"
    },
    {
     "data": {
      "text/html": [
       "<pre>Finished training in 3.80741s</pre>"
      ],
      "text/plain": [
       "Finished training in 3.80741s"
      ]
     },
     "metadata": {},
     "output_type": "display_data"
    },
    {
     "data": {
      "text/html": [
       "<pre>recommendations finished on 1000/100638 queries. users per second: 14857.7</pre>"
      ],
      "text/plain": [
       "recommendations finished on 1000/100638 queries. users per second: 14857.7"
      ]
     },
     "metadata": {},
     "output_type": "display_data"
    },
    {
     "data": {
      "text/html": [
       "<pre>recommendations finished on 2000/100638 queries. users per second: 14017.4</pre>"
      ],
      "text/plain": [
       "recommendations finished on 2000/100638 queries. users per second: 14017.4"
      ]
     },
     "metadata": {},
     "output_type": "display_data"
    },
    {
     "data": {
      "text/html": [
       "<pre>recommendations finished on 3000/100638 queries. users per second: 13878.4</pre>"
      ],
      "text/plain": [
       "recommendations finished on 3000/100638 queries. users per second: 13878.4"
      ]
     },
     "metadata": {},
     "output_type": "display_data"
    },
    {
     "data": {
      "text/html": [
       "<pre>recommendations finished on 4000/100638 queries. users per second: 13963.7</pre>"
      ],
      "text/plain": [
       "recommendations finished on 4000/100638 queries. users per second: 13963.7"
      ]
     },
     "metadata": {},
     "output_type": "display_data"
    },
    {
     "data": {
      "text/html": [
       "<pre>recommendations finished on 5000/100638 queries. users per second: 13963.6</pre>"
      ],
      "text/plain": [
       "recommendations finished on 5000/100638 queries. users per second: 13963.6"
      ]
     },
     "metadata": {},
     "output_type": "display_data"
    },
    {
     "data": {
      "text/html": [
       "<pre>recommendations finished on 6000/100638 queries. users per second: 13814.5</pre>"
      ],
      "text/plain": [
       "recommendations finished on 6000/100638 queries. users per second: 13814.5"
      ]
     },
     "metadata": {},
     "output_type": "display_data"
    },
    {
     "data": {
      "text/html": [
       "<pre>recommendations finished on 7000/100638 queries. users per second: 13551.1</pre>"
      ],
      "text/plain": [
       "recommendations finished on 7000/100638 queries. users per second: 13551.1"
      ]
     },
     "metadata": {},
     "output_type": "display_data"
    },
    {
     "data": {
      "text/html": [
       "<pre>recommendations finished on 8000/100638 queries. users per second: 13540.3</pre>"
      ],
      "text/plain": [
       "recommendations finished on 8000/100638 queries. users per second: 13540.3"
      ]
     },
     "metadata": {},
     "output_type": "display_data"
    },
    {
     "data": {
      "text/html": [
       "<pre>recommendations finished on 9000/100638 queries. users per second: 13579.9</pre>"
      ],
      "text/plain": [
       "recommendations finished on 9000/100638 queries. users per second: 13579.9"
      ]
     },
     "metadata": {},
     "output_type": "display_data"
    },
    {
     "data": {
      "text/html": [
       "<pre>recommendations finished on 10000/100638 queries. users per second: 13639.5</pre>"
      ],
      "text/plain": [
       "recommendations finished on 10000/100638 queries. users per second: 13639.5"
      ]
     },
     "metadata": {},
     "output_type": "display_data"
    },
    {
     "data": {
      "text/html": [
       "<pre>recommendations finished on 11000/100638 queries. users per second: 13506.7</pre>"
      ],
      "text/plain": [
       "recommendations finished on 11000/100638 queries. users per second: 13506.7"
      ]
     },
     "metadata": {},
     "output_type": "display_data"
    },
    {
     "data": {
      "text/html": [
       "<pre>recommendations finished on 12000/100638 queries. users per second: 13491.8</pre>"
      ],
      "text/plain": [
       "recommendations finished on 12000/100638 queries. users per second: 13491.8"
      ]
     },
     "metadata": {},
     "output_type": "display_data"
    },
    {
     "data": {
      "text/html": [
       "<pre>recommendations finished on 13000/100638 queries. users per second: 13481.4</pre>"
      ],
      "text/plain": [
       "recommendations finished on 13000/100638 queries. users per second: 13481.4"
      ]
     },
     "metadata": {},
     "output_type": "display_data"
    },
    {
     "data": {
      "text/html": [
       "<pre>recommendations finished on 14000/100638 queries. users per second: 13379.6</pre>"
      ],
      "text/plain": [
       "recommendations finished on 14000/100638 queries. users per second: 13379.6"
      ]
     },
     "metadata": {},
     "output_type": "display_data"
    },
    {
     "data": {
      "text/html": [
       "<pre>recommendations finished on 15000/100638 queries. users per second: 13300.1</pre>"
      ],
      "text/plain": [
       "recommendations finished on 15000/100638 queries. users per second: 13300.1"
      ]
     },
     "metadata": {},
     "output_type": "display_data"
    },
    {
     "data": {
      "text/html": [
       "<pre>recommendations finished on 16000/100638 queries. users per second: 13209.2</pre>"
      ],
      "text/plain": [
       "recommendations finished on 16000/100638 queries. users per second: 13209.2"
      ]
     },
     "metadata": {},
     "output_type": "display_data"
    },
    {
     "data": {
      "text/html": [
       "<pre>recommendations finished on 17000/100638 queries. users per second: 13148.2</pre>"
      ],
      "text/plain": [
       "recommendations finished on 17000/100638 queries. users per second: 13148.2"
      ]
     },
     "metadata": {},
     "output_type": "display_data"
    },
    {
     "data": {
      "text/html": [
       "<pre>recommendations finished on 18000/100638 queries. users per second: 13141.9</pre>"
      ],
      "text/plain": [
       "recommendations finished on 18000/100638 queries. users per second: 13141.9"
      ]
     },
     "metadata": {},
     "output_type": "display_data"
    },
    {
     "data": {
      "text/html": [
       "<pre>recommendations finished on 19000/100638 queries. users per second: 13150.8</pre>"
      ],
      "text/plain": [
       "recommendations finished on 19000/100638 queries. users per second: 13150.8"
      ]
     },
     "metadata": {},
     "output_type": "display_data"
    },
    {
     "data": {
      "text/html": [
       "<pre>recommendations finished on 20000/100638 queries. users per second: 13157.5</pre>"
      ],
      "text/plain": [
       "recommendations finished on 20000/100638 queries. users per second: 13157.5"
      ]
     },
     "metadata": {},
     "output_type": "display_data"
    },
    {
     "data": {
      "text/html": [
       "<pre>recommendations finished on 21000/100638 queries. users per second: 13137.7</pre>"
      ],
      "text/plain": [
       "recommendations finished on 21000/100638 queries. users per second: 13137.7"
      ]
     },
     "metadata": {},
     "output_type": "display_data"
    },
    {
     "data": {
      "text/html": [
       "<pre>recommendations finished on 22000/100638 queries. users per second: 13097.3</pre>"
      ],
      "text/plain": [
       "recommendations finished on 22000/100638 queries. users per second: 13097.3"
      ]
     },
     "metadata": {},
     "output_type": "display_data"
    },
    {
     "data": {
      "text/html": [
       "<pre>recommendations finished on 23000/100638 queries. users per second: 13133.3</pre>"
      ],
      "text/plain": [
       "recommendations finished on 23000/100638 queries. users per second: 13133.3"
      ]
     },
     "metadata": {},
     "output_type": "display_data"
    },
    {
     "data": {
      "text/html": [
       "<pre>recommendations finished on 24000/100638 queries. users per second: 13128.3</pre>"
      ],
      "text/plain": [
       "recommendations finished on 24000/100638 queries. users per second: 13128.3"
      ]
     },
     "metadata": {},
     "output_type": "display_data"
    },
    {
     "data": {
      "text/html": [
       "<pre>recommendations finished on 25000/100638 queries. users per second: 13108.1</pre>"
      ],
      "text/plain": [
       "recommendations finished on 25000/100638 queries. users per second: 13108.1"
      ]
     },
     "metadata": {},
     "output_type": "display_data"
    },
    {
     "data": {
      "text/html": [
       "<pre>recommendations finished on 26000/100638 queries. users per second: 13153.6</pre>"
      ],
      "text/plain": [
       "recommendations finished on 26000/100638 queries. users per second: 13153.6"
      ]
     },
     "metadata": {},
     "output_type": "display_data"
    },
    {
     "data": {
      "text/html": [
       "<pre>recommendations finished on 27000/100638 queries. users per second: 13179</pre>"
      ],
      "text/plain": [
       "recommendations finished on 27000/100638 queries. users per second: 13179"
      ]
     },
     "metadata": {},
     "output_type": "display_data"
    },
    {
     "data": {
      "text/html": [
       "<pre>recommendations finished on 28000/100638 queries. users per second: 13205.7</pre>"
      ],
      "text/plain": [
       "recommendations finished on 28000/100638 queries. users per second: 13205.7"
      ]
     },
     "metadata": {},
     "output_type": "display_data"
    },
    {
     "data": {
      "text/html": [
       "<pre>recommendations finished on 29000/100638 queries. users per second: 13238.7</pre>"
      ],
      "text/plain": [
       "recommendations finished on 29000/100638 queries. users per second: 13238.7"
      ]
     },
     "metadata": {},
     "output_type": "display_data"
    },
    {
     "data": {
      "text/html": [
       "<pre>recommendations finished on 30000/100638 queries. users per second: 13240</pre>"
      ],
      "text/plain": [
       "recommendations finished on 30000/100638 queries. users per second: 13240"
      ]
     },
     "metadata": {},
     "output_type": "display_data"
    },
    {
     "data": {
      "text/html": [
       "<pre>recommendations finished on 31000/100638 queries. users per second: 13236.2</pre>"
      ],
      "text/plain": [
       "recommendations finished on 31000/100638 queries. users per second: 13236.2"
      ]
     },
     "metadata": {},
     "output_type": "display_data"
    },
    {
     "data": {
      "text/html": [
       "<pre>recommendations finished on 32000/100638 queries. users per second: 13232.3</pre>"
      ],
      "text/plain": [
       "recommendations finished on 32000/100638 queries. users per second: 13232.3"
      ]
     },
     "metadata": {},
     "output_type": "display_data"
    },
    {
     "data": {
      "text/html": [
       "<pre>recommendations finished on 33000/100638 queries. users per second: 13205</pre>"
      ],
      "text/plain": [
       "recommendations finished on 33000/100638 queries. users per second: 13205"
      ]
     },
     "metadata": {},
     "output_type": "display_data"
    },
    {
     "data": {
      "text/html": [
       "<pre>recommendations finished on 34000/100638 queries. users per second: 13183.2</pre>"
      ],
      "text/plain": [
       "recommendations finished on 34000/100638 queries. users per second: 13183.2"
      ]
     },
     "metadata": {},
     "output_type": "display_data"
    },
    {
     "data": {
      "text/html": [
       "<pre>recommendations finished on 35000/100638 queries. users per second: 13229.4</pre>"
      ],
      "text/plain": [
       "recommendations finished on 35000/100638 queries. users per second: 13229.4"
      ]
     },
     "metadata": {},
     "output_type": "display_data"
    },
    {
     "data": {
      "text/html": [
       "<pre>recommendations finished on 36000/100638 queries. users per second: 13248.9</pre>"
      ],
      "text/plain": [
       "recommendations finished on 36000/100638 queries. users per second: 13248.9"
      ]
     },
     "metadata": {},
     "output_type": "display_data"
    },
    {
     "data": {
      "text/html": [
       "<pre>recommendations finished on 37000/100638 queries. users per second: 13226.9</pre>"
      ],
      "text/plain": [
       "recommendations finished on 37000/100638 queries. users per second: 13226.9"
      ]
     },
     "metadata": {},
     "output_type": "display_data"
    },
    {
     "data": {
      "text/html": [
       "<pre>recommendations finished on 38000/100638 queries. users per second: 13217.9</pre>"
      ],
      "text/plain": [
       "recommendations finished on 38000/100638 queries. users per second: 13217.9"
      ]
     },
     "metadata": {},
     "output_type": "display_data"
    },
    {
     "data": {
      "text/html": [
       "<pre>recommendations finished on 39000/100638 queries. users per second: 13207.2</pre>"
      ],
      "text/plain": [
       "recommendations finished on 39000/100638 queries. users per second: 13207.2"
      ]
     },
     "metadata": {},
     "output_type": "display_data"
    },
    {
     "data": {
      "text/html": [
       "<pre>recommendations finished on 40000/100638 queries. users per second: 13235</pre>"
      ],
      "text/plain": [
       "recommendations finished on 40000/100638 queries. users per second: 13235"
      ]
     },
     "metadata": {},
     "output_type": "display_data"
    },
    {
     "data": {
      "text/html": [
       "<pre>recommendations finished on 41000/100638 queries. users per second: 13227.9</pre>"
      ],
      "text/plain": [
       "recommendations finished on 41000/100638 queries. users per second: 13227.9"
      ]
     },
     "metadata": {},
     "output_type": "display_data"
    },
    {
     "data": {
      "text/html": [
       "<pre>recommendations finished on 42000/100638 queries. users per second: 13235.6</pre>"
      ],
      "text/plain": [
       "recommendations finished on 42000/100638 queries. users per second: 13235.6"
      ]
     },
     "metadata": {},
     "output_type": "display_data"
    },
    {
     "data": {
      "text/html": [
       "<pre>recommendations finished on 43000/100638 queries. users per second: 13260.4</pre>"
      ],
      "text/plain": [
       "recommendations finished on 43000/100638 queries. users per second: 13260.4"
      ]
     },
     "metadata": {},
     "output_type": "display_data"
    },
    {
     "data": {
      "text/html": [
       "<pre>recommendations finished on 44000/100638 queries. users per second: 13244.2</pre>"
      ],
      "text/plain": [
       "recommendations finished on 44000/100638 queries. users per second: 13244.2"
      ]
     },
     "metadata": {},
     "output_type": "display_data"
    },
    {
     "data": {
      "text/html": [
       "<pre>recommendations finished on 45000/100638 queries. users per second: 13236.1</pre>"
      ],
      "text/plain": [
       "recommendations finished on 45000/100638 queries. users per second: 13236.1"
      ]
     },
     "metadata": {},
     "output_type": "display_data"
    },
    {
     "data": {
      "text/html": [
       "<pre>recommendations finished on 46000/100638 queries. users per second: 13243</pre>"
      ],
      "text/plain": [
       "recommendations finished on 46000/100638 queries. users per second: 13243"
      ]
     },
     "metadata": {},
     "output_type": "display_data"
    },
    {
     "data": {
      "text/html": [
       "<pre>recommendations finished on 47000/100638 queries. users per second: 13233.1</pre>"
      ],
      "text/plain": [
       "recommendations finished on 47000/100638 queries. users per second: 13233.1"
      ]
     },
     "metadata": {},
     "output_type": "display_data"
    },
    {
     "data": {
      "text/html": [
       "<pre>recommendations finished on 48000/100638 queries. users per second: 13242.1</pre>"
      ],
      "text/plain": [
       "recommendations finished on 48000/100638 queries. users per second: 13242.1"
      ]
     },
     "metadata": {},
     "output_type": "display_data"
    },
    {
     "data": {
      "text/html": [
       "<pre>recommendations finished on 49000/100638 queries. users per second: 13261.6</pre>"
      ],
      "text/plain": [
       "recommendations finished on 49000/100638 queries. users per second: 13261.6"
      ]
     },
     "metadata": {},
     "output_type": "display_data"
    },
    {
     "data": {
      "text/html": [
       "<pre>recommendations finished on 50000/100638 queries. users per second: 13258.9</pre>"
      ],
      "text/plain": [
       "recommendations finished on 50000/100638 queries. users per second: 13258.9"
      ]
     },
     "metadata": {},
     "output_type": "display_data"
    },
    {
     "data": {
      "text/html": [
       "<pre>recommendations finished on 51000/100638 queries. users per second: 13271.4</pre>"
      ],
      "text/plain": [
       "recommendations finished on 51000/100638 queries. users per second: 13271.4"
      ]
     },
     "metadata": {},
     "output_type": "display_data"
    },
    {
     "data": {
      "text/html": [
       "<pre>recommendations finished on 52000/100638 queries. users per second: 13288.3</pre>"
      ],
      "text/plain": [
       "recommendations finished on 52000/100638 queries. users per second: 13288.3"
      ]
     },
     "metadata": {},
     "output_type": "display_data"
    },
    {
     "data": {
      "text/html": [
       "<pre>recommendations finished on 53000/100638 queries. users per second: 13304.2</pre>"
      ],
      "text/plain": [
       "recommendations finished on 53000/100638 queries. users per second: 13304.2"
      ]
     },
     "metadata": {},
     "output_type": "display_data"
    },
    {
     "data": {
      "text/html": [
       "<pre>recommendations finished on 54000/100638 queries. users per second: 13306.3</pre>"
      ],
      "text/plain": [
       "recommendations finished on 54000/100638 queries. users per second: 13306.3"
      ]
     },
     "metadata": {},
     "output_type": "display_data"
    },
    {
     "data": {
      "text/html": [
       "<pre>recommendations finished on 55000/100638 queries. users per second: 13315.9</pre>"
      ],
      "text/plain": [
       "recommendations finished on 55000/100638 queries. users per second: 13315.9"
      ]
     },
     "metadata": {},
     "output_type": "display_data"
    },
    {
     "data": {
      "text/html": [
       "<pre>recommendations finished on 56000/100638 queries. users per second: 13321.8</pre>"
      ],
      "text/plain": [
       "recommendations finished on 56000/100638 queries. users per second: 13321.8"
      ]
     },
     "metadata": {},
     "output_type": "display_data"
    },
    {
     "data": {
      "text/html": [
       "<pre>recommendations finished on 57000/100638 queries. users per second: 13348.8</pre>"
      ],
      "text/plain": [
       "recommendations finished on 57000/100638 queries. users per second: 13348.8"
      ]
     },
     "metadata": {},
     "output_type": "display_data"
    },
    {
     "data": {
      "text/html": [
       "<pre>recommendations finished on 58000/100638 queries. users per second: 13363.4</pre>"
      ],
      "text/plain": [
       "recommendations finished on 58000/100638 queries. users per second: 13363.4"
      ]
     },
     "metadata": {},
     "output_type": "display_data"
    },
    {
     "data": {
      "text/html": [
       "<pre>recommendations finished on 59000/100638 queries. users per second: 13376.3</pre>"
      ],
      "text/plain": [
       "recommendations finished on 59000/100638 queries. users per second: 13376.3"
      ]
     },
     "metadata": {},
     "output_type": "display_data"
    },
    {
     "data": {
      "text/html": [
       "<pre>recommendations finished on 60000/100638 queries. users per second: 13380</pre>"
      ],
      "text/plain": [
       "recommendations finished on 60000/100638 queries. users per second: 13380"
      ]
     },
     "metadata": {},
     "output_type": "display_data"
    },
    {
     "data": {
      "text/html": [
       "<pre>recommendations finished on 61000/100638 queries. users per second: 13392.3</pre>"
      ],
      "text/plain": [
       "recommendations finished on 61000/100638 queries. users per second: 13392.3"
      ]
     },
     "metadata": {},
     "output_type": "display_data"
    },
    {
     "data": {
      "text/html": [
       "<pre>recommendations finished on 62000/100638 queries. users per second: 13404.9</pre>"
      ],
      "text/plain": [
       "recommendations finished on 62000/100638 queries. users per second: 13404.9"
      ]
     },
     "metadata": {},
     "output_type": "display_data"
    },
    {
     "data": {
      "text/html": [
       "<pre>recommendations finished on 63000/100638 queries. users per second: 13420.5</pre>"
      ],
      "text/plain": [
       "recommendations finished on 63000/100638 queries. users per second: 13420.5"
      ]
     },
     "metadata": {},
     "output_type": "display_data"
    },
    {
     "data": {
      "text/html": [
       "<pre>recommendations finished on 64000/100638 queries. users per second: 13436.5</pre>"
      ],
      "text/plain": [
       "recommendations finished on 64000/100638 queries. users per second: 13436.5"
      ]
     },
     "metadata": {},
     "output_type": "display_data"
    },
    {
     "data": {
      "text/html": [
       "<pre>recommendations finished on 65000/100638 queries. users per second: 13452.4</pre>"
      ],
      "text/plain": [
       "recommendations finished on 65000/100638 queries. users per second: 13452.4"
      ]
     },
     "metadata": {},
     "output_type": "display_data"
    },
    {
     "data": {
      "text/html": [
       "<pre>recommendations finished on 66000/100638 queries. users per second: 13467.9</pre>"
      ],
      "text/plain": [
       "recommendations finished on 66000/100638 queries. users per second: 13467.9"
      ]
     },
     "metadata": {},
     "output_type": "display_data"
    },
    {
     "data": {
      "text/html": [
       "<pre>recommendations finished on 67000/100638 queries. users per second: 13482.6</pre>"
      ],
      "text/plain": [
       "recommendations finished on 67000/100638 queries. users per second: 13482.6"
      ]
     },
     "metadata": {},
     "output_type": "display_data"
    },
    {
     "data": {
      "text/html": [
       "<pre>recommendations finished on 68000/100638 queries. users per second: 13494.9</pre>"
      ],
      "text/plain": [
       "recommendations finished on 68000/100638 queries. users per second: 13494.9"
      ]
     },
     "metadata": {},
     "output_type": "display_data"
    },
    {
     "data": {
      "text/html": [
       "<pre>recommendations finished on 69000/100638 queries. users per second: 13505.1</pre>"
      ],
      "text/plain": [
       "recommendations finished on 69000/100638 queries. users per second: 13505.1"
      ]
     },
     "metadata": {},
     "output_type": "display_data"
    },
    {
     "data": {
      "text/html": [
       "<pre>recommendations finished on 70000/100638 queries. users per second: 13518.6</pre>"
      ],
      "text/plain": [
       "recommendations finished on 70000/100638 queries. users per second: 13518.6"
      ]
     },
     "metadata": {},
     "output_type": "display_data"
    },
    {
     "data": {
      "text/html": [
       "<pre>recommendations finished on 71000/100638 queries. users per second: 13527.4</pre>"
      ],
      "text/plain": [
       "recommendations finished on 71000/100638 queries. users per second: 13527.4"
      ]
     },
     "metadata": {},
     "output_type": "display_data"
    },
    {
     "data": {
      "text/html": [
       "<pre>recommendations finished on 72000/100638 queries. users per second: 13540.7</pre>"
      ],
      "text/plain": [
       "recommendations finished on 72000/100638 queries. users per second: 13540.7"
      ]
     },
     "metadata": {},
     "output_type": "display_data"
    },
    {
     "data": {
      "text/html": [
       "<pre>recommendations finished on 73000/100638 queries. users per second: 13552.7</pre>"
      ],
      "text/plain": [
       "recommendations finished on 73000/100638 queries. users per second: 13552.7"
      ]
     },
     "metadata": {},
     "output_type": "display_data"
    },
    {
     "data": {
      "text/html": [
       "<pre>recommendations finished on 74000/100638 queries. users per second: 13559.9</pre>"
      ],
      "text/plain": [
       "recommendations finished on 74000/100638 queries. users per second: 13559.9"
      ]
     },
     "metadata": {},
     "output_type": "display_data"
    },
    {
     "data": {
      "text/html": [
       "<pre>recommendations finished on 75000/100638 queries. users per second: 13570.4</pre>"
      ],
      "text/plain": [
       "recommendations finished on 75000/100638 queries. users per second: 13570.4"
      ]
     },
     "metadata": {},
     "output_type": "display_data"
    },
    {
     "data": {
      "text/html": [
       "<pre>recommendations finished on 76000/100638 queries. users per second: 13578.1</pre>"
      ],
      "text/plain": [
       "recommendations finished on 76000/100638 queries. users per second: 13578.1"
      ]
     },
     "metadata": {},
     "output_type": "display_data"
    },
    {
     "data": {
      "text/html": [
       "<pre>recommendations finished on 77000/100638 queries. users per second: 13582.1</pre>"
      ],
      "text/plain": [
       "recommendations finished on 77000/100638 queries. users per second: 13582.1"
      ]
     },
     "metadata": {},
     "output_type": "display_data"
    },
    {
     "data": {
      "text/html": [
       "<pre>recommendations finished on 78000/100638 queries. users per second: 13588.8</pre>"
      ],
      "text/plain": [
       "recommendations finished on 78000/100638 queries. users per second: 13588.8"
      ]
     },
     "metadata": {},
     "output_type": "display_data"
    },
    {
     "data": {
      "text/html": [
       "<pre>recommendations finished on 79000/100638 queries. users per second: 13599.5</pre>"
      ],
      "text/plain": [
       "recommendations finished on 79000/100638 queries. users per second: 13599.5"
      ]
     },
     "metadata": {},
     "output_type": "display_data"
    },
    {
     "data": {
      "text/html": [
       "<pre>recommendations finished on 80000/100638 queries. users per second: 13608.9</pre>"
      ],
      "text/plain": [
       "recommendations finished on 80000/100638 queries. users per second: 13608.9"
      ]
     },
     "metadata": {},
     "output_type": "display_data"
    },
    {
     "data": {
      "text/html": [
       "<pre>recommendations finished on 81000/100638 queries. users per second: 13621.1</pre>"
      ],
      "text/plain": [
       "recommendations finished on 81000/100638 queries. users per second: 13621.1"
      ]
     },
     "metadata": {},
     "output_type": "display_data"
    },
    {
     "data": {
      "text/html": [
       "<pre>recommendations finished on 82000/100638 queries. users per second: 13631.2</pre>"
      ],
      "text/plain": [
       "recommendations finished on 82000/100638 queries. users per second: 13631.2"
      ]
     },
     "metadata": {},
     "output_type": "display_data"
    },
    {
     "data": {
      "text/html": [
       "<pre>recommendations finished on 83000/100638 queries. users per second: 13638.1</pre>"
      ],
      "text/plain": [
       "recommendations finished on 83000/100638 queries. users per second: 13638.1"
      ]
     },
     "metadata": {},
     "output_type": "display_data"
    },
    {
     "data": {
      "text/html": [
       "<pre>recommendations finished on 84000/100638 queries. users per second: 13644</pre>"
      ],
      "text/plain": [
       "recommendations finished on 84000/100638 queries. users per second: 13644"
      ]
     },
     "metadata": {},
     "output_type": "display_data"
    },
    {
     "data": {
      "text/html": [
       "<pre>recommendations finished on 85000/100638 queries. users per second: 13652.9</pre>"
      ],
      "text/plain": [
       "recommendations finished on 85000/100638 queries. users per second: 13652.9"
      ]
     },
     "metadata": {},
     "output_type": "display_data"
    },
    {
     "data": {
      "text/html": [
       "<pre>recommendations finished on 86000/100638 queries. users per second: 13656.5</pre>"
      ],
      "text/plain": [
       "recommendations finished on 86000/100638 queries. users per second: 13656.5"
      ]
     },
     "metadata": {},
     "output_type": "display_data"
    },
    {
     "data": {
      "text/html": [
       "<pre>recommendations finished on 87000/100638 queries. users per second: 13664.5</pre>"
      ],
      "text/plain": [
       "recommendations finished on 87000/100638 queries. users per second: 13664.5"
      ]
     },
     "metadata": {},
     "output_type": "display_data"
    },
    {
     "data": {
      "text/html": [
       "<pre>recommendations finished on 88000/100638 queries. users per second: 13672.4</pre>"
      ],
      "text/plain": [
       "recommendations finished on 88000/100638 queries. users per second: 13672.4"
      ]
     },
     "metadata": {},
     "output_type": "display_data"
    },
    {
     "data": {
      "text/html": [
       "<pre>recommendations finished on 89000/100638 queries. users per second: 13680.5</pre>"
      ],
      "text/plain": [
       "recommendations finished on 89000/100638 queries. users per second: 13680.5"
      ]
     },
     "metadata": {},
     "output_type": "display_data"
    },
    {
     "data": {
      "text/html": [
       "<pre>recommendations finished on 90000/100638 queries. users per second: 13676.7</pre>"
      ],
      "text/plain": [
       "recommendations finished on 90000/100638 queries. users per second: 13676.7"
      ]
     },
     "metadata": {},
     "output_type": "display_data"
    },
    {
     "data": {
      "text/html": [
       "<pre>recommendations finished on 91000/100638 queries. users per second: 13680.2</pre>"
      ],
      "text/plain": [
       "recommendations finished on 91000/100638 queries. users per second: 13680.2"
      ]
     },
     "metadata": {},
     "output_type": "display_data"
    },
    {
     "data": {
      "text/html": [
       "<pre>recommendations finished on 92000/100638 queries. users per second: 13685.8</pre>"
      ],
      "text/plain": [
       "recommendations finished on 92000/100638 queries. users per second: 13685.8"
      ]
     },
     "metadata": {},
     "output_type": "display_data"
    },
    {
     "data": {
      "text/html": [
       "<pre>recommendations finished on 93000/100638 queries. users per second: 13686</pre>"
      ],
      "text/plain": [
       "recommendations finished on 93000/100638 queries. users per second: 13686"
      ]
     },
     "metadata": {},
     "output_type": "display_data"
    },
    {
     "data": {
      "text/html": [
       "<pre>recommendations finished on 94000/100638 queries. users per second: 13692.4</pre>"
      ],
      "text/plain": [
       "recommendations finished on 94000/100638 queries. users per second: 13692.4"
      ]
     },
     "metadata": {},
     "output_type": "display_data"
    },
    {
     "data": {
      "text/html": [
       "<pre>recommendations finished on 95000/100638 queries. users per second: 13696</pre>"
      ],
      "text/plain": [
       "recommendations finished on 95000/100638 queries. users per second: 13696"
      ]
     },
     "metadata": {},
     "output_type": "display_data"
    },
    {
     "data": {
      "text/html": [
       "<pre>recommendations finished on 96000/100638 queries. users per second: 13703.4</pre>"
      ],
      "text/plain": [
       "recommendations finished on 96000/100638 queries. users per second: 13703.4"
      ]
     },
     "metadata": {},
     "output_type": "display_data"
    },
    {
     "data": {
      "text/html": [
       "<pre>recommendations finished on 97000/100638 queries. users per second: 13696.4</pre>"
      ],
      "text/plain": [
       "recommendations finished on 97000/100638 queries. users per second: 13696.4"
      ]
     },
     "metadata": {},
     "output_type": "display_data"
    },
    {
     "data": {
      "text/html": [
       "<pre>recommendations finished on 98000/100638 queries. users per second: 13681.6</pre>"
      ],
      "text/plain": [
       "recommendations finished on 98000/100638 queries. users per second: 13681.6"
      ]
     },
     "metadata": {},
     "output_type": "display_data"
    },
    {
     "data": {
      "text/html": [
       "<pre>recommendations finished on 99000/100638 queries. users per second: 13669.7</pre>"
      ],
      "text/plain": [
       "recommendations finished on 99000/100638 queries. users per second: 13669.7"
      ]
     },
     "metadata": {},
     "output_type": "display_data"
    },
    {
     "data": {
      "text/html": [
       "<pre>recommendations finished on 100000/100638 queries. users per second: 13628.6</pre>"
      ],
      "text/plain": [
       "recommendations finished on 100000/100638 queries. users per second: 13628.6"
      ]
     },
     "metadata": {},
     "output_type": "display_data"
    },
    {
     "name": "stdout",
     "output_type": "stream",
     "text": [
      "+-------------------------------+-------------------------------+\n",
      "|       customer_unique_id      |           product_id          |\n",
      "+-------------------------------+-------------------------------+\n",
      "| 4854e9b3feff728c13ee5fc7d1... | 36f60d45225e60c7da4558b070... |\n",
      "| 4854e9b3feff728c13ee5fc7d1... | ca349c4d87c594b4995fcc4fa9... |\n",
      "| 4854e9b3feff728c13ee5fc7d1... | c9058c144a2fef1c5b35f31945... |\n",
      "| 4854e9b3feff728c13ee5fc7d1... | 0bcc3eeca39e1064258aa1e932... |\n",
      "| 4854e9b3feff728c13ee5fc7d1... | 705b4a0072a3ecf575b497f895... |\n",
      "| 830d5b7aaa3b6f1e9ad63703be... | 36f60d45225e60c7da4558b070... |\n",
      "| 830d5b7aaa3b6f1e9ad63703be... | ca349c4d87c594b4995fcc4fa9... |\n",
      "| 830d5b7aaa3b6f1e9ad63703be... | c9058c144a2fef1c5b35f31945... |\n",
      "| 830d5b7aaa3b6f1e9ad63703be... | 0bcc3eeca39e1064258aa1e932... |\n",
      "| 830d5b7aaa3b6f1e9ad63703be... | 705b4a0072a3ecf575b497f895... |\n",
      "| 87776adb449c551e74c13fc34f... | 36f60d45225e60c7da4558b070... |\n",
      "| 87776adb449c551e74c13fc34f... | ca349c4d87c594b4995fcc4fa9... |\n",
      "| 87776adb449c551e74c13fc34f... | c9058c144a2fef1c5b35f31945... |\n",
      "| 87776adb449c551e74c13fc34f... | 0bcc3eeca39e1064258aa1e932... |\n",
      "| 87776adb449c551e74c13fc34f... | 705b4a0072a3ecf575b497f895... |\n",
      "| 9f302d00dd3e18ed3745778184... | be4247cbfa1bf907db555eed70... |\n",
      "| 9f302d00dd3e18ed3745778184... | b748ca0c5ca9a1def2099de76c... |\n",
      "| 9f302d00dd3e18ed3745778184... | 441293f432282ea2ab9c82fe5f... |\n",
      "| 9f302d00dd3e18ed3745778184... | 9163c7e81fd68452472912c4cd... |\n",
      "| 9f302d00dd3e18ed3745778184... | 8562e2c780a345b609e1b802d7... |\n",
      "| 3f4f614c632af7fc7508462a7c... | 36f60d45225e60c7da4558b070... |\n",
      "| 3f4f614c632af7fc7508462a7c... | ca349c4d87c594b4995fcc4fa9... |\n",
      "| 3f4f614c632af7fc7508462a7c... | c9058c144a2fef1c5b35f31945... |\n",
      "| 3f4f614c632af7fc7508462a7c... | 0bcc3eeca39e1064258aa1e932... |\n",
      "| 3f4f614c632af7fc7508462a7c... | 705b4a0072a3ecf575b497f895... |\n",
      "| f176923a0a4ab546c7287791cc... | 36f60d45225e60c7da4558b070... |\n",
      "| f176923a0a4ab546c7287791cc... | ca349c4d87c594b4995fcc4fa9... |\n",
      "| f176923a0a4ab546c7287791cc... | c9058c144a2fef1c5b35f31945... |\n",
      "| f176923a0a4ab546c7287791cc... | 0bcc3eeca39e1064258aa1e932... |\n",
      "| f176923a0a4ab546c7287791cc... | 705b4a0072a3ecf575b497f895... |\n",
      "+-------------------------------+-------------------------------+\n",
      "+-----------------------+------+\n",
      "|         score         | rank |\n",
      "+-----------------------+------+\n",
      "|  0.003671443462371826 |  1   |\n",
      "|  0.002489755153656006 |  2   |\n",
      "|  0.002448066473007202 |  3   |\n",
      "|  0.002143913507461548 |  4   |\n",
      "| 0.0020036697387695312 |  5   |\n",
      "|  0.003671443462371826 |  1   |\n",
      "|  0.002489755153656006 |  2   |\n",
      "|  0.002448066473007202 |  3   |\n",
      "|  0.002143913507461548 |  4   |\n",
      "| 0.0020036697387695312 |  5   |\n",
      "|  0.003671443462371826 |  1   |\n",
      "|  0.002489755153656006 |  2   |\n",
      "|  0.002448066473007202 |  3   |\n",
      "|  0.002143913507461548 |  4   |\n",
      "| 0.0020036697387695312 |  5   |\n",
      "|   1.253136694431305   |  1   |\n",
      "|   1.253136694431305   |  2   |\n",
      "|   0.6639280915260315  |  3   |\n",
      "|   0.4545605182647705  |  4   |\n",
      "|  0.25410711765289307  |  5   |\n",
      "|  0.003671443462371826 |  1   |\n",
      "|  0.002489755153656006 |  2   |\n",
      "|  0.002448066473007202 |  3   |\n",
      "|  0.002143913507461548 |  4   |\n",
      "| 0.0020036697387695312 |  5   |\n",
      "|  0.003671443462371826 |  1   |\n",
      "|  0.002489755153656006 |  2   |\n",
      "|  0.002448066473007202 |  3   |\n",
      "|  0.002143913507461548 |  4   |\n",
      "| 0.0020036697387695312 |  5   |\n",
      "+-----------------------+------+\n",
      "[503190 rows x 4 columns]\n",
      "\n"
     ]
    }
   ],
   "source": [
    "name=\"cosine\"\n",
    "target=\"review_score\"\n",
    "cosine= model(train_data, name, user_id, item_id, target, users_to_recommend, n_rec, n_display)"
   ]
  },
  {
   "cell_type": "code",
   "execution_count": 63,
   "metadata": {},
   "outputs": [
    {
     "data": {
      "text/html": [
       "<pre>Preparing data set.</pre>"
      ],
      "text/plain": [
       "Preparing data set."
      ]
     },
     "metadata": {},
     "output_type": "display_data"
    },
    {
     "data": {
      "text/html": [
       "<pre>    Data has 80510 observations with 76144 users and 28388 items.</pre>"
      ],
      "text/plain": [
       "    Data has 80510 observations with 76144 users and 28388 items."
      ]
     },
     "metadata": {},
     "output_type": "display_data"
    },
    {
     "data": {
      "text/html": [
       "<pre>    Data prepared in: 0.121678s</pre>"
      ],
      "text/plain": [
       "    Data prepared in: 0.121678s"
      ]
     },
     "metadata": {},
     "output_type": "display_data"
    },
    {
     "data": {
      "text/html": [
       "<pre>Training model from provided data.</pre>"
      ],
      "text/plain": [
       "Training model from provided data."
      ]
     },
     "metadata": {},
     "output_type": "display_data"
    },
    {
     "data": {
      "text/html": [
       "<pre>Gathering per-item and per-user statistics.</pre>"
      ],
      "text/plain": [
       "Gathering per-item and per-user statistics."
      ]
     },
     "metadata": {},
     "output_type": "display_data"
    },
    {
     "data": {
      "text/html": [
       "<pre>+--------------------------------+------------+</pre>"
      ],
      "text/plain": [
       "+--------------------------------+------------+"
      ]
     },
     "metadata": {},
     "output_type": "display_data"
    },
    {
     "data": {
      "text/html": [
       "<pre>| Elapsed Time (Item Statistics) | % Complete |</pre>"
      ],
      "text/plain": [
       "| Elapsed Time (Item Statistics) | % Complete |"
      ]
     },
     "metadata": {},
     "output_type": "display_data"
    },
    {
     "data": {
      "text/html": [
       "<pre>+--------------------------------+------------+</pre>"
      ],
      "text/plain": [
       "+--------------------------------+------------+"
      ]
     },
     "metadata": {},
     "output_type": "display_data"
    },
    {
     "data": {
      "text/html": [
       "<pre>| 758us                          | 1.25       |</pre>"
      ],
      "text/plain": [
       "| 758us                          | 1.25       |"
      ]
     },
     "metadata": {},
     "output_type": "display_data"
    },
    {
     "data": {
      "text/html": [
       "<pre>| 9.278ms                        | 100        |</pre>"
      ],
      "text/plain": [
       "| 9.278ms                        | 100        |"
      ]
     },
     "metadata": {},
     "output_type": "display_data"
    },
    {
     "data": {
      "text/html": [
       "<pre>+--------------------------------+------------+</pre>"
      ],
      "text/plain": [
       "+--------------------------------+------------+"
      ]
     },
     "metadata": {},
     "output_type": "display_data"
    },
    {
     "data": {
      "text/html": [
       "<pre>Setting up lookup tables.</pre>"
      ],
      "text/plain": [
       "Setting up lookup tables."
      ]
     },
     "metadata": {},
     "output_type": "display_data"
    },
    {
     "data": {
      "text/html": [
       "<pre>Processing data in one pass using dense lookup tables.</pre>"
      ],
      "text/plain": [
       "Processing data in one pass using dense lookup tables."
      ]
     },
     "metadata": {},
     "output_type": "display_data"
    },
    {
     "data": {
      "text/html": [
       "<pre>+-------------------------------------+------------------+-----------------+</pre>"
      ],
      "text/plain": [
       "+-------------------------------------+------------------+-----------------+"
      ]
     },
     "metadata": {},
     "output_type": "display_data"
    },
    {
     "data": {
      "text/html": [
       "<pre>| Elapsed Time (Constructing Lookups) | Total % Complete | Items Processed |</pre>"
      ],
      "text/plain": [
       "| Elapsed Time (Constructing Lookups) | Total % Complete | Items Processed |"
      ]
     },
     "metadata": {},
     "output_type": "display_data"
    },
    {
     "data": {
      "text/html": [
       "<pre>+-------------------------------------+------------------+-----------------+</pre>"
      ],
      "text/plain": [
       "+-------------------------------------+------------------+-----------------+"
      ]
     },
     "metadata": {},
     "output_type": "display_data"
    },
    {
     "data": {
      "text/html": [
       "<pre>| 1.51s                               | 0                | 0               |</pre>"
      ],
      "text/plain": [
       "| 1.51s                               | 0                | 0               |"
      ]
     },
     "metadata": {},
     "output_type": "display_data"
    },
    {
     "data": {
      "text/html": [
       "<pre>| 3.65s                               | 100              | 28388           |</pre>"
      ],
      "text/plain": [
       "| 3.65s                               | 100              | 28388           |"
      ]
     },
     "metadata": {},
     "output_type": "display_data"
    },
    {
     "data": {
      "text/html": [
       "<pre>+-------------------------------------+------------------+-----------------+</pre>"
      ],
      "text/plain": [
       "+-------------------------------------+------------------+-----------------+"
      ]
     },
     "metadata": {},
     "output_type": "display_data"
    },
    {
     "data": {
      "text/html": [
       "<pre>Finalizing lookup tables.</pre>"
      ],
      "text/plain": [
       "Finalizing lookup tables."
      ]
     },
     "metadata": {},
     "output_type": "display_data"
    },
    {
     "data": {
      "text/html": [
       "<pre>Generating candidate set for working with new users.</pre>"
      ],
      "text/plain": [
       "Generating candidate set for working with new users."
      ]
     },
     "metadata": {},
     "output_type": "display_data"
    },
    {
     "data": {
      "text/html": [
       "<pre>Finished training in 3.6755s</pre>"
      ],
      "text/plain": [
       "Finished training in 3.6755s"
      ]
     },
     "metadata": {},
     "output_type": "display_data"
    },
    {
     "data": {
      "text/html": [
       "<pre>recommendations finished on 1000/100638 queries. users per second: 13705.2</pre>"
      ],
      "text/plain": [
       "recommendations finished on 1000/100638 queries. users per second: 13705.2"
      ]
     },
     "metadata": {},
     "output_type": "display_data"
    },
    {
     "data": {
      "text/html": [
       "<pre>recommendations finished on 2000/100638 queries. users per second: 13680.8</pre>"
      ],
      "text/plain": [
       "recommendations finished on 2000/100638 queries. users per second: 13680.8"
      ]
     },
     "metadata": {},
     "output_type": "display_data"
    },
    {
     "data": {
      "text/html": [
       "<pre>recommendations finished on 3000/100638 queries. users per second: 13758.9</pre>"
      ],
      "text/plain": [
       "recommendations finished on 3000/100638 queries. users per second: 13758.9"
      ]
     },
     "metadata": {},
     "output_type": "display_data"
    },
    {
     "data": {
      "text/html": [
       "<pre>recommendations finished on 4000/100638 queries. users per second: 13763.1</pre>"
      ],
      "text/plain": [
       "recommendations finished on 4000/100638 queries. users per second: 13763.1"
      ]
     },
     "metadata": {},
     "output_type": "display_data"
    },
    {
     "data": {
      "text/html": [
       "<pre>recommendations finished on 5000/100638 queries. users per second: 13814.1</pre>"
      ],
      "text/plain": [
       "recommendations finished on 5000/100638 queries. users per second: 13814.1"
      ]
     },
     "metadata": {},
     "output_type": "display_data"
    },
    {
     "data": {
      "text/html": [
       "<pre>recommendations finished on 6000/100638 queries. users per second: 13774.2</pre>"
      ],
      "text/plain": [
       "recommendations finished on 6000/100638 queries. users per second: 13774.2"
      ]
     },
     "metadata": {},
     "output_type": "display_data"
    },
    {
     "data": {
      "text/html": [
       "<pre>recommendations finished on 7000/100638 queries. users per second: 13797</pre>"
      ],
      "text/plain": [
       "recommendations finished on 7000/100638 queries. users per second: 13797"
      ]
     },
     "metadata": {},
     "output_type": "display_data"
    },
    {
     "data": {
      "text/html": [
       "<pre>recommendations finished on 8000/100638 queries. users per second: 13833.7</pre>"
      ],
      "text/plain": [
       "recommendations finished on 8000/100638 queries. users per second: 13833.7"
      ]
     },
     "metadata": {},
     "output_type": "display_data"
    },
    {
     "data": {
      "text/html": [
       "<pre>recommendations finished on 9000/100638 queries. users per second: 13870.8</pre>"
      ],
      "text/plain": [
       "recommendations finished on 9000/100638 queries. users per second: 13870.8"
      ]
     },
     "metadata": {},
     "output_type": "display_data"
    },
    {
     "data": {
      "text/html": [
       "<pre>recommendations finished on 10000/100638 queries. users per second: 13776.1</pre>"
      ],
      "text/plain": [
       "recommendations finished on 10000/100638 queries. users per second: 13776.1"
      ]
     },
     "metadata": {},
     "output_type": "display_data"
    },
    {
     "data": {
      "text/html": [
       "<pre>recommendations finished on 11000/100638 queries. users per second: 13762.1</pre>"
      ],
      "text/plain": [
       "recommendations finished on 11000/100638 queries. users per second: 13762.1"
      ]
     },
     "metadata": {},
     "output_type": "display_data"
    },
    {
     "data": {
      "text/html": [
       "<pre>recommendations finished on 12000/100638 queries. users per second: 13690.3</pre>"
      ],
      "text/plain": [
       "recommendations finished on 12000/100638 queries. users per second: 13690.3"
      ]
     },
     "metadata": {},
     "output_type": "display_data"
    },
    {
     "data": {
      "text/html": [
       "<pre>recommendations finished on 13000/100638 queries. users per second: 13578.4</pre>"
      ],
      "text/plain": [
       "recommendations finished on 13000/100638 queries. users per second: 13578.4"
      ]
     },
     "metadata": {},
     "output_type": "display_data"
    },
    {
     "data": {
      "text/html": [
       "<pre>recommendations finished on 14000/100638 queries. users per second: 13589.8</pre>"
      ],
      "text/plain": [
       "recommendations finished on 14000/100638 queries. users per second: 13589.8"
      ]
     },
     "metadata": {},
     "output_type": "display_data"
    },
    {
     "data": {
      "text/html": [
       "<pre>recommendations finished on 15000/100638 queries. users per second: 13492.2</pre>"
      ],
      "text/plain": [
       "recommendations finished on 15000/100638 queries. users per second: 13492.2"
      ]
     },
     "metadata": {},
     "output_type": "display_data"
    },
    {
     "data": {
      "text/html": [
       "<pre>recommendations finished on 16000/100638 queries. users per second: 13448.2</pre>"
      ],
      "text/plain": [
       "recommendations finished on 16000/100638 queries. users per second: 13448.2"
      ]
     },
     "metadata": {},
     "output_type": "display_data"
    },
    {
     "data": {
      "text/html": [
       "<pre>recommendations finished on 17000/100638 queries. users per second: 13455.9</pre>"
      ],
      "text/plain": [
       "recommendations finished on 17000/100638 queries. users per second: 13455.9"
      ]
     },
     "metadata": {},
     "output_type": "display_data"
    },
    {
     "data": {
      "text/html": [
       "<pre>recommendations finished on 18000/100638 queries. users per second: 13393.5</pre>"
      ],
      "text/plain": [
       "recommendations finished on 18000/100638 queries. users per second: 13393.5"
      ]
     },
     "metadata": {},
     "output_type": "display_data"
    },
    {
     "data": {
      "text/html": [
       "<pre>recommendations finished on 19000/100638 queries. users per second: 13286</pre>"
      ],
      "text/plain": [
       "recommendations finished on 19000/100638 queries. users per second: 13286"
      ]
     },
     "metadata": {},
     "output_type": "display_data"
    },
    {
     "data": {
      "text/html": [
       "<pre>recommendations finished on 20000/100638 queries. users per second: 13217.3</pre>"
      ],
      "text/plain": [
       "recommendations finished on 20000/100638 queries. users per second: 13217.3"
      ]
     },
     "metadata": {},
     "output_type": "display_data"
    },
    {
     "data": {
      "text/html": [
       "<pre>recommendations finished on 21000/100638 queries. users per second: 13225.1</pre>"
      ],
      "text/plain": [
       "recommendations finished on 21000/100638 queries. users per second: 13225.1"
      ]
     },
     "metadata": {},
     "output_type": "display_data"
    },
    {
     "data": {
      "text/html": [
       "<pre>recommendations finished on 22000/100638 queries. users per second: 13188.1</pre>"
      ],
      "text/plain": [
       "recommendations finished on 22000/100638 queries. users per second: 13188.1"
      ]
     },
     "metadata": {},
     "output_type": "display_data"
    },
    {
     "data": {
      "text/html": [
       "<pre>recommendations finished on 23000/100638 queries. users per second: 13201.2</pre>"
      ],
      "text/plain": [
       "recommendations finished on 23000/100638 queries. users per second: 13201.2"
      ]
     },
     "metadata": {},
     "output_type": "display_data"
    },
    {
     "data": {
      "text/html": [
       "<pre>recommendations finished on 24000/100638 queries. users per second: 13197.3</pre>"
      ],
      "text/plain": [
       "recommendations finished on 24000/100638 queries. users per second: 13197.3"
      ]
     },
     "metadata": {},
     "output_type": "display_data"
    },
    {
     "data": {
      "text/html": [
       "<pre>recommendations finished on 25000/100638 queries. users per second: 13152</pre>"
      ],
      "text/plain": [
       "recommendations finished on 25000/100638 queries. users per second: 13152"
      ]
     },
     "metadata": {},
     "output_type": "display_data"
    },
    {
     "data": {
      "text/html": [
       "<pre>recommendations finished on 26000/100638 queries. users per second: 13110.1</pre>"
      ],
      "text/plain": [
       "recommendations finished on 26000/100638 queries. users per second: 13110.1"
      ]
     },
     "metadata": {},
     "output_type": "display_data"
    },
    {
     "data": {
      "text/html": [
       "<pre>recommendations finished on 27000/100638 queries. users per second: 13071.9</pre>"
      ],
      "text/plain": [
       "recommendations finished on 27000/100638 queries. users per second: 13071.9"
      ]
     },
     "metadata": {},
     "output_type": "display_data"
    },
    {
     "data": {
      "text/html": [
       "<pre>recommendations finished on 28000/100638 queries. users per second: 13038.3</pre>"
      ],
      "text/plain": [
       "recommendations finished on 28000/100638 queries. users per second: 13038.3"
      ]
     },
     "metadata": {},
     "output_type": "display_data"
    },
    {
     "data": {
      "text/html": [
       "<pre>recommendations finished on 29000/100638 queries. users per second: 13036.7</pre>"
      ],
      "text/plain": [
       "recommendations finished on 29000/100638 queries. users per second: 13036.7"
      ]
     },
     "metadata": {},
     "output_type": "display_data"
    },
    {
     "data": {
      "text/html": [
       "<pre>recommendations finished on 30000/100638 queries. users per second: 13012</pre>"
      ],
      "text/plain": [
       "recommendations finished on 30000/100638 queries. users per second: 13012"
      ]
     },
     "metadata": {},
     "output_type": "display_data"
    },
    {
     "data": {
      "text/html": [
       "<pre>recommendations finished on 31000/100638 queries. users per second: 12990.6</pre>"
      ],
      "text/plain": [
       "recommendations finished on 31000/100638 queries. users per second: 12990.6"
      ]
     },
     "metadata": {},
     "output_type": "display_data"
    },
    {
     "data": {
      "text/html": [
       "<pre>recommendations finished on 32000/100638 queries. users per second: 12979.9</pre>"
      ],
      "text/plain": [
       "recommendations finished on 32000/100638 queries. users per second: 12979.9"
      ]
     },
     "metadata": {},
     "output_type": "display_data"
    },
    {
     "data": {
      "text/html": [
       "<pre>recommendations finished on 33000/100638 queries. users per second: 12985.4</pre>"
      ],
      "text/plain": [
       "recommendations finished on 33000/100638 queries. users per second: 12985.4"
      ]
     },
     "metadata": {},
     "output_type": "display_data"
    },
    {
     "data": {
      "text/html": [
       "<pre>recommendations finished on 34000/100638 queries. users per second: 12963.8</pre>"
      ],
      "text/plain": [
       "recommendations finished on 34000/100638 queries. users per second: 12963.8"
      ]
     },
     "metadata": {},
     "output_type": "display_data"
    },
    {
     "data": {
      "text/html": [
       "<pre>recommendations finished on 35000/100638 queries. users per second: 12979.6</pre>"
      ],
      "text/plain": [
       "recommendations finished on 35000/100638 queries. users per second: 12979.6"
      ]
     },
     "metadata": {},
     "output_type": "display_data"
    },
    {
     "data": {
      "text/html": [
       "<pre>recommendations finished on 36000/100638 queries. users per second: 12943.3</pre>"
      ],
      "text/plain": [
       "recommendations finished on 36000/100638 queries. users per second: 12943.3"
      ]
     },
     "metadata": {},
     "output_type": "display_data"
    },
    {
     "data": {
      "text/html": [
       "<pre>recommendations finished on 37000/100638 queries. users per second: 12922.8</pre>"
      ],
      "text/plain": [
       "recommendations finished on 37000/100638 queries. users per second: 12922.8"
      ]
     },
     "metadata": {},
     "output_type": "display_data"
    },
    {
     "data": {
      "text/html": [
       "<pre>recommendations finished on 38000/100638 queries. users per second: 12880.5</pre>"
      ],
      "text/plain": [
       "recommendations finished on 38000/100638 queries. users per second: 12880.5"
      ]
     },
     "metadata": {},
     "output_type": "display_data"
    },
    {
     "data": {
      "text/html": [
       "<pre>recommendations finished on 39000/100638 queries. users per second: 12890.9</pre>"
      ],
      "text/plain": [
       "recommendations finished on 39000/100638 queries. users per second: 12890.9"
      ]
     },
     "metadata": {},
     "output_type": "display_data"
    },
    {
     "data": {
      "text/html": [
       "<pre>recommendations finished on 40000/100638 queries. users per second: 12899.6</pre>"
      ],
      "text/plain": [
       "recommendations finished on 40000/100638 queries. users per second: 12899.6"
      ]
     },
     "metadata": {},
     "output_type": "display_data"
    },
    {
     "data": {
      "text/html": [
       "<pre>recommendations finished on 41000/100638 queries. users per second: 12904.2</pre>"
      ],
      "text/plain": [
       "recommendations finished on 41000/100638 queries. users per second: 12904.2"
      ]
     },
     "metadata": {},
     "output_type": "display_data"
    },
    {
     "data": {
      "text/html": [
       "<pre>recommendations finished on 42000/100638 queries. users per second: 12929.3</pre>"
      ],
      "text/plain": [
       "recommendations finished on 42000/100638 queries. users per second: 12929.3"
      ]
     },
     "metadata": {},
     "output_type": "display_data"
    },
    {
     "data": {
      "text/html": [
       "<pre>recommendations finished on 43000/100638 queries. users per second: 12949.4</pre>"
      ],
      "text/plain": [
       "recommendations finished on 43000/100638 queries. users per second: 12949.4"
      ]
     },
     "metadata": {},
     "output_type": "display_data"
    },
    {
     "data": {
      "text/html": [
       "<pre>recommendations finished on 44000/100638 queries. users per second: 12972.5</pre>"
      ],
      "text/plain": [
       "recommendations finished on 44000/100638 queries. users per second: 12972.5"
      ]
     },
     "metadata": {},
     "output_type": "display_data"
    },
    {
     "data": {
      "text/html": [
       "<pre>recommendations finished on 45000/100638 queries. users per second: 12993.9</pre>"
      ],
      "text/plain": [
       "recommendations finished on 45000/100638 queries. users per second: 12993.9"
      ]
     },
     "metadata": {},
     "output_type": "display_data"
    },
    {
     "data": {
      "text/html": [
       "<pre>recommendations finished on 46000/100638 queries. users per second: 13017.7</pre>"
      ],
      "text/plain": [
       "recommendations finished on 46000/100638 queries. users per second: 13017.7"
      ]
     },
     "metadata": {},
     "output_type": "display_data"
    },
    {
     "data": {
      "text/html": [
       "<pre>recommendations finished on 47000/100638 queries. users per second: 13038.4</pre>"
      ],
      "text/plain": [
       "recommendations finished on 47000/100638 queries. users per second: 13038.4"
      ]
     },
     "metadata": {},
     "output_type": "display_data"
    },
    {
     "data": {
      "text/html": [
       "<pre>recommendations finished on 48000/100638 queries. users per second: 13045.3</pre>"
      ],
      "text/plain": [
       "recommendations finished on 48000/100638 queries. users per second: 13045.3"
      ]
     },
     "metadata": {},
     "output_type": "display_data"
    },
    {
     "data": {
      "text/html": [
       "<pre>recommendations finished on 49000/100638 queries. users per second: 13042</pre>"
      ],
      "text/plain": [
       "recommendations finished on 49000/100638 queries. users per second: 13042"
      ]
     },
     "metadata": {},
     "output_type": "display_data"
    },
    {
     "data": {
      "text/html": [
       "<pre>recommendations finished on 50000/100638 queries. users per second: 13061.9</pre>"
      ],
      "text/plain": [
       "recommendations finished on 50000/100638 queries. users per second: 13061.9"
      ]
     },
     "metadata": {},
     "output_type": "display_data"
    },
    {
     "data": {
      "text/html": [
       "<pre>recommendations finished on 51000/100638 queries. users per second: 13083</pre>"
      ],
      "text/plain": [
       "recommendations finished on 51000/100638 queries. users per second: 13083"
      ]
     },
     "metadata": {},
     "output_type": "display_data"
    },
    {
     "data": {
      "text/html": [
       "<pre>recommendations finished on 52000/100638 queries. users per second: 13102</pre>"
      ],
      "text/plain": [
       "recommendations finished on 52000/100638 queries. users per second: 13102"
      ]
     },
     "metadata": {},
     "output_type": "display_data"
    },
    {
     "data": {
      "text/html": [
       "<pre>recommendations finished on 53000/100638 queries. users per second: 13123.7</pre>"
      ],
      "text/plain": [
       "recommendations finished on 53000/100638 queries. users per second: 13123.7"
      ]
     },
     "metadata": {},
     "output_type": "display_data"
    },
    {
     "data": {
      "text/html": [
       "<pre>recommendations finished on 54000/100638 queries. users per second: 13134</pre>"
      ],
      "text/plain": [
       "recommendations finished on 54000/100638 queries. users per second: 13134"
      ]
     },
     "metadata": {},
     "output_type": "display_data"
    },
    {
     "data": {
      "text/html": [
       "<pre>recommendations finished on 55000/100638 queries. users per second: 13144.1</pre>"
      ],
      "text/plain": [
       "recommendations finished on 55000/100638 queries. users per second: 13144.1"
      ]
     },
     "metadata": {},
     "output_type": "display_data"
    },
    {
     "data": {
      "text/html": [
       "<pre>recommendations finished on 56000/100638 queries. users per second: 13156.1</pre>"
      ],
      "text/plain": [
       "recommendations finished on 56000/100638 queries. users per second: 13156.1"
      ]
     },
     "metadata": {},
     "output_type": "display_data"
    },
    {
     "data": {
      "text/html": [
       "<pre>recommendations finished on 57000/100638 queries. users per second: 13167.1</pre>"
      ],
      "text/plain": [
       "recommendations finished on 57000/100638 queries. users per second: 13167.1"
      ]
     },
     "metadata": {},
     "output_type": "display_data"
    },
    {
     "data": {
      "text/html": [
       "<pre>recommendations finished on 58000/100638 queries. users per second: 13170.8</pre>"
      ],
      "text/plain": [
       "recommendations finished on 58000/100638 queries. users per second: 13170.8"
      ]
     },
     "metadata": {},
     "output_type": "display_data"
    },
    {
     "data": {
      "text/html": [
       "<pre>recommendations finished on 59000/100638 queries. users per second: 13195</pre>"
      ],
      "text/plain": [
       "recommendations finished on 59000/100638 queries. users per second: 13195"
      ]
     },
     "metadata": {},
     "output_type": "display_data"
    },
    {
     "data": {
      "text/html": [
       "<pre>recommendations finished on 60000/100638 queries. users per second: 13204.4</pre>"
      ],
      "text/plain": [
       "recommendations finished on 60000/100638 queries. users per second: 13204.4"
      ]
     },
     "metadata": {},
     "output_type": "display_data"
    },
    {
     "data": {
      "text/html": [
       "<pre>recommendations finished on 61000/100638 queries. users per second: 13216</pre>"
      ],
      "text/plain": [
       "recommendations finished on 61000/100638 queries. users per second: 13216"
      ]
     },
     "metadata": {},
     "output_type": "display_data"
    },
    {
     "data": {
      "text/html": [
       "<pre>recommendations finished on 62000/100638 queries. users per second: 13228.9</pre>"
      ],
      "text/plain": [
       "recommendations finished on 62000/100638 queries. users per second: 13228.9"
      ]
     },
     "metadata": {},
     "output_type": "display_data"
    },
    {
     "data": {
      "text/html": [
       "<pre>recommendations finished on 63000/100638 queries. users per second: 13243.2</pre>"
      ],
      "text/plain": [
       "recommendations finished on 63000/100638 queries. users per second: 13243.2"
      ]
     },
     "metadata": {},
     "output_type": "display_data"
    },
    {
     "data": {
      "text/html": [
       "<pre>recommendations finished on 64000/100638 queries. users per second: 13257.3</pre>"
      ],
      "text/plain": [
       "recommendations finished on 64000/100638 queries. users per second: 13257.3"
      ]
     },
     "metadata": {},
     "output_type": "display_data"
    },
    {
     "data": {
      "text/html": [
       "<pre>recommendations finished on 65000/100638 queries. users per second: 13271</pre>"
      ],
      "text/plain": [
       "recommendations finished on 65000/100638 queries. users per second: 13271"
      ]
     },
     "metadata": {},
     "output_type": "display_data"
    },
    {
     "data": {
      "text/html": [
       "<pre>recommendations finished on 66000/100638 queries. users per second: 13283.8</pre>"
      ],
      "text/plain": [
       "recommendations finished on 66000/100638 queries. users per second: 13283.8"
      ]
     },
     "metadata": {},
     "output_type": "display_data"
    },
    {
     "data": {
      "text/html": [
       "<pre>recommendations finished on 67000/100638 queries. users per second: 13297</pre>"
      ],
      "text/plain": [
       "recommendations finished on 67000/100638 queries. users per second: 13297"
      ]
     },
     "metadata": {},
     "output_type": "display_data"
    },
    {
     "data": {
      "text/html": [
       "<pre>recommendations finished on 68000/100638 queries. users per second: 13307.2</pre>"
      ],
      "text/plain": [
       "recommendations finished on 68000/100638 queries. users per second: 13307.2"
      ]
     },
     "metadata": {},
     "output_type": "display_data"
    },
    {
     "data": {
      "text/html": [
       "<pre>recommendations finished on 69000/100638 queries. users per second: 13318.2</pre>"
      ],
      "text/plain": [
       "recommendations finished on 69000/100638 queries. users per second: 13318.2"
      ]
     },
     "metadata": {},
     "output_type": "display_data"
    },
    {
     "data": {
      "text/html": [
       "<pre>recommendations finished on 70000/100638 queries. users per second: 13328</pre>"
      ],
      "text/plain": [
       "recommendations finished on 70000/100638 queries. users per second: 13328"
      ]
     },
     "metadata": {},
     "output_type": "display_data"
    },
    {
     "data": {
      "text/html": [
       "<pre>recommendations finished on 71000/100638 queries. users per second: 13316.3</pre>"
      ],
      "text/plain": [
       "recommendations finished on 71000/100638 queries. users per second: 13316.3"
      ]
     },
     "metadata": {},
     "output_type": "display_data"
    },
    {
     "data": {
      "text/html": [
       "<pre>recommendations finished on 72000/100638 queries. users per second: 13326.6</pre>"
      ],
      "text/plain": [
       "recommendations finished on 72000/100638 queries. users per second: 13326.6"
      ]
     },
     "metadata": {},
     "output_type": "display_data"
    },
    {
     "data": {
      "text/html": [
       "<pre>recommendations finished on 73000/100638 queries. users per second: 13335.1</pre>"
      ],
      "text/plain": [
       "recommendations finished on 73000/100638 queries. users per second: 13335.1"
      ]
     },
     "metadata": {},
     "output_type": "display_data"
    },
    {
     "data": {
      "text/html": [
       "<pre>recommendations finished on 74000/100638 queries. users per second: 13345.4</pre>"
      ],
      "text/plain": [
       "recommendations finished on 74000/100638 queries. users per second: 13345.4"
      ]
     },
     "metadata": {},
     "output_type": "display_data"
    },
    {
     "data": {
      "text/html": [
       "<pre>recommendations finished on 75000/100638 queries. users per second: 13355.8</pre>"
      ],
      "text/plain": [
       "recommendations finished on 75000/100638 queries. users per second: 13355.8"
      ]
     },
     "metadata": {},
     "output_type": "display_data"
    },
    {
     "data": {
      "text/html": [
       "<pre>recommendations finished on 76000/100638 queries. users per second: 13363.9</pre>"
      ],
      "text/plain": [
       "recommendations finished on 76000/100638 queries. users per second: 13363.9"
      ]
     },
     "metadata": {},
     "output_type": "display_data"
    },
    {
     "data": {
      "text/html": [
       "<pre>recommendations finished on 77000/100638 queries. users per second: 13371.6</pre>"
      ],
      "text/plain": [
       "recommendations finished on 77000/100638 queries. users per second: 13371.6"
      ]
     },
     "metadata": {},
     "output_type": "display_data"
    },
    {
     "data": {
      "text/html": [
       "<pre>recommendations finished on 78000/100638 queries. users per second: 13373.6</pre>"
      ],
      "text/plain": [
       "recommendations finished on 78000/100638 queries. users per second: 13373.6"
      ]
     },
     "metadata": {},
     "output_type": "display_data"
    },
    {
     "data": {
      "text/html": [
       "<pre>recommendations finished on 79000/100638 queries. users per second: 13382.5</pre>"
      ],
      "text/plain": [
       "recommendations finished on 79000/100638 queries. users per second: 13382.5"
      ]
     },
     "metadata": {},
     "output_type": "display_data"
    },
    {
     "data": {
      "text/html": [
       "<pre>recommendations finished on 80000/100638 queries. users per second: 13390.3</pre>"
      ],
      "text/plain": [
       "recommendations finished on 80000/100638 queries. users per second: 13390.3"
      ]
     },
     "metadata": {},
     "output_type": "display_data"
    },
    {
     "data": {
      "text/html": [
       "<pre>recommendations finished on 81000/100638 queries. users per second: 13399</pre>"
      ],
      "text/plain": [
       "recommendations finished on 81000/100638 queries. users per second: 13399"
      ]
     },
     "metadata": {},
     "output_type": "display_data"
    },
    {
     "data": {
      "text/html": [
       "<pre>recommendations finished on 82000/100638 queries. users per second: 13408.5</pre>"
      ],
      "text/plain": [
       "recommendations finished on 82000/100638 queries. users per second: 13408.5"
      ]
     },
     "metadata": {},
     "output_type": "display_data"
    },
    {
     "data": {
      "text/html": [
       "<pre>recommendations finished on 83000/100638 queries. users per second: 13412.5</pre>"
      ],
      "text/plain": [
       "recommendations finished on 83000/100638 queries. users per second: 13412.5"
      ]
     },
     "metadata": {},
     "output_type": "display_data"
    },
    {
     "data": {
      "text/html": [
       "<pre>recommendations finished on 84000/100638 queries. users per second: 13421.1</pre>"
      ],
      "text/plain": [
       "recommendations finished on 84000/100638 queries. users per second: 13421.1"
      ]
     },
     "metadata": {},
     "output_type": "display_data"
    },
    {
     "data": {
      "text/html": [
       "<pre>recommendations finished on 85000/100638 queries. users per second: 13429.6</pre>"
      ],
      "text/plain": [
       "recommendations finished on 85000/100638 queries. users per second: 13429.6"
      ]
     },
     "metadata": {},
     "output_type": "display_data"
    },
    {
     "data": {
      "text/html": [
       "<pre>recommendations finished on 86000/100638 queries. users per second: 13438.6</pre>"
      ],
      "text/plain": [
       "recommendations finished on 86000/100638 queries. users per second: 13438.6"
      ]
     },
     "metadata": {},
     "output_type": "display_data"
    },
    {
     "data": {
      "text/html": [
       "<pre>recommendations finished on 87000/100638 queries. users per second: 13447.1</pre>"
      ],
      "text/plain": [
       "recommendations finished on 87000/100638 queries. users per second: 13447.1"
      ]
     },
     "metadata": {},
     "output_type": "display_data"
    },
    {
     "data": {
      "text/html": [
       "<pre>recommendations finished on 88000/100638 queries. users per second: 13456</pre>"
      ],
      "text/plain": [
       "recommendations finished on 88000/100638 queries. users per second: 13456"
      ]
     },
     "metadata": {},
     "output_type": "display_data"
    },
    {
     "data": {
      "text/html": [
       "<pre>recommendations finished on 89000/100638 queries. users per second: 13463.3</pre>"
      ],
      "text/plain": [
       "recommendations finished on 89000/100638 queries. users per second: 13463.3"
      ]
     },
     "metadata": {},
     "output_type": "display_data"
    },
    {
     "data": {
      "text/html": [
       "<pre>recommendations finished on 90000/100638 queries. users per second: 13471.8</pre>"
      ],
      "text/plain": [
       "recommendations finished on 90000/100638 queries. users per second: 13471.8"
      ]
     },
     "metadata": {},
     "output_type": "display_data"
    },
    {
     "data": {
      "text/html": [
       "<pre>recommendations finished on 91000/100638 queries. users per second: 13477.2</pre>"
      ],
      "text/plain": [
       "recommendations finished on 91000/100638 queries. users per second: 13477.2"
      ]
     },
     "metadata": {},
     "output_type": "display_data"
    },
    {
     "data": {
      "text/html": [
       "<pre>recommendations finished on 92000/100638 queries. users per second: 13475.7</pre>"
      ],
      "text/plain": [
       "recommendations finished on 92000/100638 queries. users per second: 13475.7"
      ]
     },
     "metadata": {},
     "output_type": "display_data"
    },
    {
     "data": {
      "text/html": [
       "<pre>recommendations finished on 93000/100638 queries. users per second: 13481.7</pre>"
      ],
      "text/plain": [
       "recommendations finished on 93000/100638 queries. users per second: 13481.7"
      ]
     },
     "metadata": {},
     "output_type": "display_data"
    },
    {
     "data": {
      "text/html": [
       "<pre>recommendations finished on 94000/100638 queries. users per second: 13486.7</pre>"
      ],
      "text/plain": [
       "recommendations finished on 94000/100638 queries. users per second: 13486.7"
      ]
     },
     "metadata": {},
     "output_type": "display_data"
    },
    {
     "data": {
      "text/html": [
       "<pre>recommendations finished on 95000/100638 queries. users per second: 13491.6</pre>"
      ],
      "text/plain": [
       "recommendations finished on 95000/100638 queries. users per second: 13491.6"
      ]
     },
     "metadata": {},
     "output_type": "display_data"
    },
    {
     "data": {
      "text/html": [
       "<pre>recommendations finished on 96000/100638 queries. users per second: 13493.1</pre>"
      ],
      "text/plain": [
       "recommendations finished on 96000/100638 queries. users per second: 13493.1"
      ]
     },
     "metadata": {},
     "output_type": "display_data"
    },
    {
     "data": {
      "text/html": [
       "<pre>recommendations finished on 97000/100638 queries. users per second: 13496.6</pre>"
      ],
      "text/plain": [
       "recommendations finished on 97000/100638 queries. users per second: 13496.6"
      ]
     },
     "metadata": {},
     "output_type": "display_data"
    },
    {
     "data": {
      "text/html": [
       "<pre>recommendations finished on 98000/100638 queries. users per second: 13496.6</pre>"
      ],
      "text/plain": [
       "recommendations finished on 98000/100638 queries. users per second: 13496.6"
      ]
     },
     "metadata": {},
     "output_type": "display_data"
    },
    {
     "data": {
      "text/html": [
       "<pre>recommendations finished on 99000/100638 queries. users per second: 13498.2</pre>"
      ],
      "text/plain": [
       "recommendations finished on 99000/100638 queries. users per second: 13498.2"
      ]
     },
     "metadata": {},
     "output_type": "display_data"
    },
    {
     "data": {
      "text/html": [
       "<pre>recommendations finished on 100000/100638 queries. users per second: 13468.8</pre>"
      ],
      "text/plain": [
       "recommendations finished on 100000/100638 queries. users per second: 13468.8"
      ]
     },
     "metadata": {},
     "output_type": "display_data"
    },
    {
     "name": "stdout",
     "output_type": "stream",
     "text": [
      "+-------------------------------+-------------------------------+\n",
      "|       customer_unique_id      |           product_id          |\n",
      "+-------------------------------+-------------------------------+\n",
      "| 4854e9b3feff728c13ee5fc7d1... | 0b33e28a934b68a0475650499b... |\n",
      "| 4854e9b3feff728c13ee5fc7d1... | efe572a7ee9cf0317bbcd4ec8b... |\n",
      "| 4854e9b3feff728c13ee5fc7d1... | e4b0f340d2552f744b4c2d48df... |\n",
      "| 4854e9b3feff728c13ee5fc7d1... | 4fbee589d3377144a90a338e4a... |\n",
      "| 4854e9b3feff728c13ee5fc7d1... | 57c806e92eec9168ff2065cc65... |\n",
      "| 830d5b7aaa3b6f1e9ad63703be... | 0b33e28a934b68a0475650499b... |\n",
      "| 830d5b7aaa3b6f1e9ad63703be... | efe572a7ee9cf0317bbcd4ec8b... |\n",
      "| 830d5b7aaa3b6f1e9ad63703be... | e4b0f340d2552f744b4c2d48df... |\n",
      "| 830d5b7aaa3b6f1e9ad63703be... | 4fbee589d3377144a90a338e4a... |\n",
      "| 830d5b7aaa3b6f1e9ad63703be... | 57c806e92eec9168ff2065cc65... |\n",
      "| 87776adb449c551e74c13fc34f... | 0b33e28a934b68a0475650499b... |\n",
      "| 87776adb449c551e74c13fc34f... | efe572a7ee9cf0317bbcd4ec8b... |\n",
      "| 87776adb449c551e74c13fc34f... | e4b0f340d2552f744b4c2d48df... |\n",
      "| 87776adb449c551e74c13fc34f... | 4fbee589d3377144a90a338e4a... |\n",
      "| 87776adb449c551e74c13fc34f... | 57c806e92eec9168ff2065cc65... |\n",
      "| 9f302d00dd3e18ed3745778184... | be4247cbfa1bf907db555eed70... |\n",
      "| 9f302d00dd3e18ed3745778184... | b748ca0c5ca9a1def2099de76c... |\n",
      "| 9f302d00dd3e18ed3745778184... | cfe6e9c01d0bbb5df9a75f0e32... |\n",
      "| 9f302d00dd3e18ed3745778184... | aa3cf7c656b2a190d0baa54c3b... |\n",
      "| 9f302d00dd3e18ed3745778184... | 961d02e19e9ade3ba8aa028c87... |\n",
      "| 3f4f614c632af7fc7508462a7c... | 0b33e28a934b68a0475650499b... |\n",
      "| 3f4f614c632af7fc7508462a7c... | efe572a7ee9cf0317bbcd4ec8b... |\n",
      "| 3f4f614c632af7fc7508462a7c... | e4b0f340d2552f744b4c2d48df... |\n",
      "| 3f4f614c632af7fc7508462a7c... | 4fbee589d3377144a90a338e4a... |\n",
      "| 3f4f614c632af7fc7508462a7c... | 57c806e92eec9168ff2065cc65... |\n",
      "| f176923a0a4ab546c7287791cc... | 0b33e28a934b68a0475650499b... |\n",
      "| f176923a0a4ab546c7287791cc... | efe572a7ee9cf0317bbcd4ec8b... |\n",
      "| f176923a0a4ab546c7287791cc... | e4b0f340d2552f744b4c2d48df... |\n",
      "| f176923a0a4ab546c7287791cc... | 4fbee589d3377144a90a338e4a... |\n",
      "| f176923a0a4ab546c7287791cc... | 57c806e92eec9168ff2065cc65... |\n",
      "+-------------------------------+-------------------------------+\n",
      "+-----------------------+------+\n",
      "|         score         | rank |\n",
      "+-----------------------+------+\n",
      "| 0.0027348685264587404 |  1   |\n",
      "|  0.002594189643859863 |  2   |\n",
      "|  0.002539780139923096 |  3   |\n",
      "| 0.0025225067138671875 |  4   |\n",
      "| 0.0018569016456604004 |  5   |\n",
      "| 0.0027348685264587404 |  1   |\n",
      "|  0.002594189643859863 |  2   |\n",
      "|  0.002539780139923096 |  3   |\n",
      "| 0.0025225067138671875 |  4   |\n",
      "| 0.0018569016456604004 |  5   |\n",
      "| 0.0027348685264587404 |  1   |\n",
      "|  0.002594189643859863 |  2   |\n",
      "|  0.002539780139923096 |  3   |\n",
      "| 0.0025225067138671875 |  4   |\n",
      "| 0.0018569016456604004 |  5   |\n",
      "|  0.021086513996124268 |  1   |\n",
      "|  0.021086513996124268 |  2   |\n",
      "|          0.0          |  3   |\n",
      "|          0.0          |  4   |\n",
      "|          0.0          |  5   |\n",
      "| 0.0027348685264587404 |  1   |\n",
      "|  0.002594189643859863 |  2   |\n",
      "|  0.002539780139923096 |  3   |\n",
      "| 0.0025225067138671875 |  4   |\n",
      "| 0.0018569016456604004 |  5   |\n",
      "| 0.0027348685264587404 |  1   |\n",
      "|  0.002594189643859863 |  2   |\n",
      "|  0.002539780139923096 |  3   |\n",
      "| 0.0025225067138671875 |  4   |\n",
      "| 0.0018569016456604004 |  5   |\n",
      "+-----------------------+------+\n",
      "[503190 rows x 4 columns]\n",
      "\n"
     ]
    }
   ],
   "source": [
    "name=\"cosine\"\n",
    "target=\"review_score\"\n",
    "cosine_norm= model(train_data_norm, name, user_id, item_id, target, users_to_recommend, n_rec, n_display)"
   ]
  },
  {
   "cell_type": "code",
   "execution_count": 62,
   "metadata": {},
   "outputs": [
    {
     "data": {
      "text/html": [
       "<pre>Preparing data set.</pre>"
      ],
      "text/plain": [
       "Preparing data set."
      ]
     },
     "metadata": {},
     "output_type": "display_data"
    },
    {
     "data": {
      "text/html": [
       "<pre>    Data has 80510 observations with 76129 users and 28332 items.</pre>"
      ],
      "text/plain": [
       "    Data has 80510 observations with 76129 users and 28332 items."
      ]
     },
     "metadata": {},
     "output_type": "display_data"
    },
    {
     "data": {
      "text/html": [
       "<pre>    Data prepared in: 0.138333s</pre>"
      ],
      "text/plain": [
       "    Data prepared in: 0.138333s"
      ]
     },
     "metadata": {},
     "output_type": "display_data"
    },
    {
     "data": {
      "text/html": [
       "<pre>Training model from provided data.</pre>"
      ],
      "text/plain": [
       "Training model from provided data."
      ]
     },
     "metadata": {},
     "output_type": "display_data"
    },
    {
     "data": {
      "text/html": [
       "<pre>Gathering per-item and per-user statistics.</pre>"
      ],
      "text/plain": [
       "Gathering per-item and per-user statistics."
      ]
     },
     "metadata": {},
     "output_type": "display_data"
    },
    {
     "data": {
      "text/html": [
       "<pre>+--------------------------------+------------+</pre>"
      ],
      "text/plain": [
       "+--------------------------------+------------+"
      ]
     },
     "metadata": {},
     "output_type": "display_data"
    },
    {
     "data": {
      "text/html": [
       "<pre>| Elapsed Time (Item Statistics) | % Complete |</pre>"
      ],
      "text/plain": [
       "| Elapsed Time (Item Statistics) | % Complete |"
      ]
     },
     "metadata": {},
     "output_type": "display_data"
    },
    {
     "data": {
      "text/html": [
       "<pre>+--------------------------------+------------+</pre>"
      ],
      "text/plain": [
       "+--------------------------------+------------+"
      ]
     },
     "metadata": {},
     "output_type": "display_data"
    },
    {
     "data": {
      "text/html": [
       "<pre>| 11.683ms                       | 1.25       |</pre>"
      ],
      "text/plain": [
       "| 11.683ms                       | 1.25       |"
      ]
     },
     "metadata": {},
     "output_type": "display_data"
    },
    {
     "data": {
      "text/html": [
       "<pre>| 20.838ms                       | 100        |</pre>"
      ],
      "text/plain": [
       "| 20.838ms                       | 100        |"
      ]
     },
     "metadata": {},
     "output_type": "display_data"
    },
    {
     "data": {
      "text/html": [
       "<pre>+--------------------------------+------------+</pre>"
      ],
      "text/plain": [
       "+--------------------------------+------------+"
      ]
     },
     "metadata": {},
     "output_type": "display_data"
    },
    {
     "data": {
      "text/html": [
       "<pre>Setting up lookup tables.</pre>"
      ],
      "text/plain": [
       "Setting up lookup tables."
      ]
     },
     "metadata": {},
     "output_type": "display_data"
    },
    {
     "data": {
      "text/html": [
       "<pre>Processing data in one pass using dense lookup tables.</pre>"
      ],
      "text/plain": [
       "Processing data in one pass using dense lookup tables."
      ]
     },
     "metadata": {},
     "output_type": "display_data"
    },
    {
     "data": {
      "text/html": [
       "<pre>+-------------------------------------+------------------+-----------------+</pre>"
      ],
      "text/plain": [
       "+-------------------------------------+------------------+-----------------+"
      ]
     },
     "metadata": {},
     "output_type": "display_data"
    },
    {
     "data": {
      "text/html": [
       "<pre>| Elapsed Time (Constructing Lookups) | Total % Complete | Items Processed |</pre>"
      ],
      "text/plain": [
       "| Elapsed Time (Constructing Lookups) | Total % Complete | Items Processed |"
      ]
     },
     "metadata": {},
     "output_type": "display_data"
    },
    {
     "data": {
      "text/html": [
       "<pre>+-------------------------------------+------------------+-----------------+</pre>"
      ],
      "text/plain": [
       "+-------------------------------------+------------------+-----------------+"
      ]
     },
     "metadata": {},
     "output_type": "display_data"
    },
    {
     "data": {
      "text/html": [
       "<pre>| 1.51s                               | 0                | 0               |</pre>"
      ],
      "text/plain": [
       "| 1.51s                               | 0                | 0               |"
      ]
     },
     "metadata": {},
     "output_type": "display_data"
    },
    {
     "data": {
      "text/html": [
       "<pre>| 3.51s                               | 100              | 28332           |</pre>"
      ],
      "text/plain": [
       "| 3.51s                               | 100              | 28332           |"
      ]
     },
     "metadata": {},
     "output_type": "display_data"
    },
    {
     "data": {
      "text/html": [
       "<pre>+-------------------------------------+------------------+-----------------+</pre>"
      ],
      "text/plain": [
       "+-------------------------------------+------------------+-----------------+"
      ]
     },
     "metadata": {},
     "output_type": "display_data"
    },
    {
     "data": {
      "text/html": [
       "<pre>Finalizing lookup tables.</pre>"
      ],
      "text/plain": [
       "Finalizing lookup tables."
      ]
     },
     "metadata": {},
     "output_type": "display_data"
    },
    {
     "data": {
      "text/html": [
       "<pre>Generating candidate set for working with new users.</pre>"
      ],
      "text/plain": [
       "Generating candidate set for working with new users."
      ]
     },
     "metadata": {},
     "output_type": "display_data"
    },
    {
     "data": {
      "text/html": [
       "<pre>Finished training in 3.54646s</pre>"
      ],
      "text/plain": [
       "Finished training in 3.54646s"
      ]
     },
     "metadata": {},
     "output_type": "display_data"
    },
    {
     "data": {
      "text/html": [
       "<pre>recommendations finished on 1000/100638 queries. users per second: 13882.5</pre>"
      ],
      "text/plain": [
       "recommendations finished on 1000/100638 queries. users per second: 13882.5"
      ]
     },
     "metadata": {},
     "output_type": "display_data"
    },
    {
     "data": {
      "text/html": [
       "<pre>recommendations finished on 2000/100638 queries. users per second: 13538.8</pre>"
      ],
      "text/plain": [
       "recommendations finished on 2000/100638 queries. users per second: 13538.8"
      ]
     },
     "metadata": {},
     "output_type": "display_data"
    },
    {
     "data": {
      "text/html": [
       "<pre>recommendations finished on 3000/100638 queries. users per second: 13427.1</pre>"
      ],
      "text/plain": [
       "recommendations finished on 3000/100638 queries. users per second: 13427.1"
      ]
     },
     "metadata": {},
     "output_type": "display_data"
    },
    {
     "data": {
      "text/html": [
       "<pre>recommendations finished on 4000/100638 queries. users per second: 13389.5</pre>"
      ],
      "text/plain": [
       "recommendations finished on 4000/100638 queries. users per second: 13389.5"
      ]
     },
     "metadata": {},
     "output_type": "display_data"
    },
    {
     "data": {
      "text/html": [
       "<pre>recommendations finished on 5000/100638 queries. users per second: 13360.2</pre>"
      ],
      "text/plain": [
       "recommendations finished on 5000/100638 queries. users per second: 13360.2"
      ]
     },
     "metadata": {},
     "output_type": "display_data"
    },
    {
     "data": {
      "text/html": [
       "<pre>recommendations finished on 6000/100638 queries. users per second: 13330.6</pre>"
      ],
      "text/plain": [
       "recommendations finished on 6000/100638 queries. users per second: 13330.6"
      ]
     },
     "metadata": {},
     "output_type": "display_data"
    },
    {
     "data": {
      "text/html": [
       "<pre>recommendations finished on 7000/100638 queries. users per second: 13327.2</pre>"
      ],
      "text/plain": [
       "recommendations finished on 7000/100638 queries. users per second: 13327.2"
      ]
     },
     "metadata": {},
     "output_type": "display_data"
    },
    {
     "data": {
      "text/html": [
       "<pre>recommendations finished on 8000/100638 queries. users per second: 13295.8</pre>"
      ],
      "text/plain": [
       "recommendations finished on 8000/100638 queries. users per second: 13295.8"
      ]
     },
     "metadata": {},
     "output_type": "display_data"
    },
    {
     "data": {
      "text/html": [
       "<pre>recommendations finished on 9000/100638 queries. users per second: 13297.4</pre>"
      ],
      "text/plain": [
       "recommendations finished on 9000/100638 queries. users per second: 13297.4"
      ]
     },
     "metadata": {},
     "output_type": "display_data"
    },
    {
     "data": {
      "text/html": [
       "<pre>recommendations finished on 10000/100638 queries. users per second: 13289.5</pre>"
      ],
      "text/plain": [
       "recommendations finished on 10000/100638 queries. users per second: 13289.5"
      ]
     },
     "metadata": {},
     "output_type": "display_data"
    },
    {
     "data": {
      "text/html": [
       "<pre>recommendations finished on 11000/100638 queries. users per second: 13265.5</pre>"
      ],
      "text/plain": [
       "recommendations finished on 11000/100638 queries. users per second: 13265.5"
      ]
     },
     "metadata": {},
     "output_type": "display_data"
    },
    {
     "data": {
      "text/html": [
       "<pre>recommendations finished on 12000/100638 queries. users per second: 13267.5</pre>"
      ],
      "text/plain": [
       "recommendations finished on 12000/100638 queries. users per second: 13267.5"
      ]
     },
     "metadata": {},
     "output_type": "display_data"
    },
    {
     "data": {
      "text/html": [
       "<pre>recommendations finished on 13000/100638 queries. users per second: 13257.1</pre>"
      ],
      "text/plain": [
       "recommendations finished on 13000/100638 queries. users per second: 13257.1"
      ]
     },
     "metadata": {},
     "output_type": "display_data"
    },
    {
     "data": {
      "text/html": [
       "<pre>recommendations finished on 14000/100638 queries. users per second: 13257.1</pre>"
      ],
      "text/plain": [
       "recommendations finished on 14000/100638 queries. users per second: 13257.1"
      ]
     },
     "metadata": {},
     "output_type": "display_data"
    },
    {
     "data": {
      "text/html": [
       "<pre>recommendations finished on 15000/100638 queries. users per second: 13254.4</pre>"
      ],
      "text/plain": [
       "recommendations finished on 15000/100638 queries. users per second: 13254.4"
      ]
     },
     "metadata": {},
     "output_type": "display_data"
    },
    {
     "data": {
      "text/html": [
       "<pre>recommendations finished on 16000/100638 queries. users per second: 13242.6</pre>"
      ],
      "text/plain": [
       "recommendations finished on 16000/100638 queries. users per second: 13242.6"
      ]
     },
     "metadata": {},
     "output_type": "display_data"
    },
    {
     "data": {
      "text/html": [
       "<pre>recommendations finished on 17000/100638 queries. users per second: 13238</pre>"
      ],
      "text/plain": [
       "recommendations finished on 17000/100638 queries. users per second: 13238"
      ]
     },
     "metadata": {},
     "output_type": "display_data"
    },
    {
     "data": {
      "text/html": [
       "<pre>recommendations finished on 18000/100638 queries. users per second: 13224.7</pre>"
      ],
      "text/plain": [
       "recommendations finished on 18000/100638 queries. users per second: 13224.7"
      ]
     },
     "metadata": {},
     "output_type": "display_data"
    },
    {
     "data": {
      "text/html": [
       "<pre>recommendations finished on 19000/100638 queries. users per second: 13188.5</pre>"
      ],
      "text/plain": [
       "recommendations finished on 19000/100638 queries. users per second: 13188.5"
      ]
     },
     "metadata": {},
     "output_type": "display_data"
    },
    {
     "data": {
      "text/html": [
       "<pre>recommendations finished on 20000/100638 queries. users per second: 13141.3</pre>"
      ],
      "text/plain": [
       "recommendations finished on 20000/100638 queries. users per second: 13141.3"
      ]
     },
     "metadata": {},
     "output_type": "display_data"
    },
    {
     "data": {
      "text/html": [
       "<pre>recommendations finished on 21000/100638 queries. users per second: 13117.5</pre>"
      ],
      "text/plain": [
       "recommendations finished on 21000/100638 queries. users per second: 13117.5"
      ]
     },
     "metadata": {},
     "output_type": "display_data"
    },
    {
     "data": {
      "text/html": [
       "<pre>recommendations finished on 22000/100638 queries. users per second: 13110.8</pre>"
      ],
      "text/plain": [
       "recommendations finished on 22000/100638 queries. users per second: 13110.8"
      ]
     },
     "metadata": {},
     "output_type": "display_data"
    },
    {
     "data": {
      "text/html": [
       "<pre>recommendations finished on 23000/100638 queries. users per second: 13113.4</pre>"
      ],
      "text/plain": [
       "recommendations finished on 23000/100638 queries. users per second: 13113.4"
      ]
     },
     "metadata": {},
     "output_type": "display_data"
    },
    {
     "data": {
      "text/html": [
       "<pre>recommendations finished on 24000/100638 queries. users per second: 13103</pre>"
      ],
      "text/plain": [
       "recommendations finished on 24000/100638 queries. users per second: 13103"
      ]
     },
     "metadata": {},
     "output_type": "display_data"
    },
    {
     "data": {
      "text/html": [
       "<pre>recommendations finished on 25000/100638 queries. users per second: 13092.2</pre>"
      ],
      "text/plain": [
       "recommendations finished on 25000/100638 queries. users per second: 13092.2"
      ]
     },
     "metadata": {},
     "output_type": "display_data"
    },
    {
     "data": {
      "text/html": [
       "<pre>recommendations finished on 26000/100638 queries. users per second: 13081.3</pre>"
      ],
      "text/plain": [
       "recommendations finished on 26000/100638 queries. users per second: 13081.3"
      ]
     },
     "metadata": {},
     "output_type": "display_data"
    },
    {
     "data": {
      "text/html": [
       "<pre>recommendations finished on 27000/100638 queries. users per second: 13074.1</pre>"
      ],
      "text/plain": [
       "recommendations finished on 27000/100638 queries. users per second: 13074.1"
      ]
     },
     "metadata": {},
     "output_type": "display_data"
    },
    {
     "data": {
      "text/html": [
       "<pre>recommendations finished on 28000/100638 queries. users per second: 13073.6</pre>"
      ],
      "text/plain": [
       "recommendations finished on 28000/100638 queries. users per second: 13073.6"
      ]
     },
     "metadata": {},
     "output_type": "display_data"
    },
    {
     "data": {
      "text/html": [
       "<pre>recommendations finished on 29000/100638 queries. users per second: 13074.6</pre>"
      ],
      "text/plain": [
       "recommendations finished on 29000/100638 queries. users per second: 13074.6"
      ]
     },
     "metadata": {},
     "output_type": "display_data"
    },
    {
     "data": {
      "text/html": [
       "<pre>recommendations finished on 30000/100638 queries. users per second: 13068.6</pre>"
      ],
      "text/plain": [
       "recommendations finished on 30000/100638 queries. users per second: 13068.6"
      ]
     },
     "metadata": {},
     "output_type": "display_data"
    },
    {
     "data": {
      "text/html": [
       "<pre>recommendations finished on 31000/100638 queries. users per second: 13070.1</pre>"
      ],
      "text/plain": [
       "recommendations finished on 31000/100638 queries. users per second: 13070.1"
      ]
     },
     "metadata": {},
     "output_type": "display_data"
    },
    {
     "data": {
      "text/html": [
       "<pre>recommendations finished on 32000/100638 queries. users per second: 13074.4</pre>"
      ],
      "text/plain": [
       "recommendations finished on 32000/100638 queries. users per second: 13074.4"
      ]
     },
     "metadata": {},
     "output_type": "display_data"
    },
    {
     "data": {
      "text/html": [
       "<pre>recommendations finished on 33000/100638 queries. users per second: 13074.5</pre>"
      ],
      "text/plain": [
       "recommendations finished on 33000/100638 queries. users per second: 13074.5"
      ]
     },
     "metadata": {},
     "output_type": "display_data"
    },
    {
     "data": {
      "text/html": [
       "<pre>recommendations finished on 34000/100638 queries. users per second: 13063</pre>"
      ],
      "text/plain": [
       "recommendations finished on 34000/100638 queries. users per second: 13063"
      ]
     },
     "metadata": {},
     "output_type": "display_data"
    },
    {
     "data": {
      "text/html": [
       "<pre>recommendations finished on 35000/100638 queries. users per second: 13079.5</pre>"
      ],
      "text/plain": [
       "recommendations finished on 35000/100638 queries. users per second: 13079.5"
      ]
     },
     "metadata": {},
     "output_type": "display_data"
    },
    {
     "data": {
      "text/html": [
       "<pre>recommendations finished on 36000/100638 queries. users per second: 13099.9</pre>"
      ],
      "text/plain": [
       "recommendations finished on 36000/100638 queries. users per second: 13099.9"
      ]
     },
     "metadata": {},
     "output_type": "display_data"
    },
    {
     "data": {
      "text/html": [
       "<pre>recommendations finished on 37000/100638 queries. users per second: 13072.1</pre>"
      ],
      "text/plain": [
       "recommendations finished on 37000/100638 queries. users per second: 13072.1"
      ]
     },
     "metadata": {},
     "output_type": "display_data"
    },
    {
     "data": {
      "text/html": [
       "<pre>recommendations finished on 38000/100638 queries. users per second: 13082.5</pre>"
      ],
      "text/plain": [
       "recommendations finished on 38000/100638 queries. users per second: 13082.5"
      ]
     },
     "metadata": {},
     "output_type": "display_data"
    },
    {
     "data": {
      "text/html": [
       "<pre>recommendations finished on 39000/100638 queries. users per second: 13065.7</pre>"
      ],
      "text/plain": [
       "recommendations finished on 39000/100638 queries. users per second: 13065.7"
      ]
     },
     "metadata": {},
     "output_type": "display_data"
    },
    {
     "data": {
      "text/html": [
       "<pre>recommendations finished on 40000/100638 queries. users per second: 13077.1</pre>"
      ],
      "text/plain": [
       "recommendations finished on 40000/100638 queries. users per second: 13077.1"
      ]
     },
     "metadata": {},
     "output_type": "display_data"
    },
    {
     "data": {
      "text/html": [
       "<pre>recommendations finished on 41000/100638 queries. users per second: 13084.8</pre>"
      ],
      "text/plain": [
       "recommendations finished on 41000/100638 queries. users per second: 13084.8"
      ]
     },
     "metadata": {},
     "output_type": "display_data"
    },
    {
     "data": {
      "text/html": [
       "<pre>recommendations finished on 42000/100638 queries. users per second: 13095.7</pre>"
      ],
      "text/plain": [
       "recommendations finished on 42000/100638 queries. users per second: 13095.7"
      ]
     },
     "metadata": {},
     "output_type": "display_data"
    },
    {
     "data": {
      "text/html": [
       "<pre>recommendations finished on 43000/100638 queries. users per second: 13104.6</pre>"
      ],
      "text/plain": [
       "recommendations finished on 43000/100638 queries. users per second: 13104.6"
      ]
     },
     "metadata": {},
     "output_type": "display_data"
    },
    {
     "data": {
      "text/html": [
       "<pre>recommendations finished on 44000/100638 queries. users per second: 13110.4</pre>"
      ],
      "text/plain": [
       "recommendations finished on 44000/100638 queries. users per second: 13110.4"
      ]
     },
     "metadata": {},
     "output_type": "display_data"
    },
    {
     "data": {
      "text/html": [
       "<pre>recommendations finished on 45000/100638 queries. users per second: 13118</pre>"
      ],
      "text/plain": [
       "recommendations finished on 45000/100638 queries. users per second: 13118"
      ]
     },
     "metadata": {},
     "output_type": "display_data"
    },
    {
     "data": {
      "text/html": [
       "<pre>recommendations finished on 46000/100638 queries. users per second: 13124.4</pre>"
      ],
      "text/plain": [
       "recommendations finished on 46000/100638 queries. users per second: 13124.4"
      ]
     },
     "metadata": {},
     "output_type": "display_data"
    },
    {
     "data": {
      "text/html": [
       "<pre>recommendations finished on 47000/100638 queries. users per second: 13130</pre>"
      ],
      "text/plain": [
       "recommendations finished on 47000/100638 queries. users per second: 13130"
      ]
     },
     "metadata": {},
     "output_type": "display_data"
    },
    {
     "data": {
      "text/html": [
       "<pre>recommendations finished on 48000/100638 queries. users per second: 13137.8</pre>"
      ],
      "text/plain": [
       "recommendations finished on 48000/100638 queries. users per second: 13137.8"
      ]
     },
     "metadata": {},
     "output_type": "display_data"
    },
    {
     "data": {
      "text/html": [
       "<pre>recommendations finished on 49000/100638 queries. users per second: 13141.7</pre>"
      ],
      "text/plain": [
       "recommendations finished on 49000/100638 queries. users per second: 13141.7"
      ]
     },
     "metadata": {},
     "output_type": "display_data"
    },
    {
     "data": {
      "text/html": [
       "<pre>recommendations finished on 50000/100638 queries. users per second: 13144.9</pre>"
      ],
      "text/plain": [
       "recommendations finished on 50000/100638 queries. users per second: 13144.9"
      ]
     },
     "metadata": {},
     "output_type": "display_data"
    },
    {
     "data": {
      "text/html": [
       "<pre>recommendations finished on 51000/100638 queries. users per second: 13144.9</pre>"
      ],
      "text/plain": [
       "recommendations finished on 51000/100638 queries. users per second: 13144.9"
      ]
     },
     "metadata": {},
     "output_type": "display_data"
    },
    {
     "data": {
      "text/html": [
       "<pre>recommendations finished on 52000/100638 queries. users per second: 13148</pre>"
      ],
      "text/plain": [
       "recommendations finished on 52000/100638 queries. users per second: 13148"
      ]
     },
     "metadata": {},
     "output_type": "display_data"
    },
    {
     "data": {
      "text/html": [
       "<pre>recommendations finished on 53000/100638 queries. users per second: 13152.5</pre>"
      ],
      "text/plain": [
       "recommendations finished on 53000/100638 queries. users per second: 13152.5"
      ]
     },
     "metadata": {},
     "output_type": "display_data"
    },
    {
     "data": {
      "text/html": [
       "<pre>recommendations finished on 54000/100638 queries. users per second: 13159.3</pre>"
      ],
      "text/plain": [
       "recommendations finished on 54000/100638 queries. users per second: 13159.3"
      ]
     },
     "metadata": {},
     "output_type": "display_data"
    },
    {
     "data": {
      "text/html": [
       "<pre>recommendations finished on 55000/100638 queries. users per second: 13164.6</pre>"
      ],
      "text/plain": [
       "recommendations finished on 55000/100638 queries. users per second: 13164.6"
      ]
     },
     "metadata": {},
     "output_type": "display_data"
    },
    {
     "data": {
      "text/html": [
       "<pre>recommendations finished on 56000/100638 queries. users per second: 13168.5</pre>"
      ],
      "text/plain": [
       "recommendations finished on 56000/100638 queries. users per second: 13168.5"
      ]
     },
     "metadata": {},
     "output_type": "display_data"
    },
    {
     "data": {
      "text/html": [
       "<pre>recommendations finished on 57000/100638 queries. users per second: 13174.3</pre>"
      ],
      "text/plain": [
       "recommendations finished on 57000/100638 queries. users per second: 13174.3"
      ]
     },
     "metadata": {},
     "output_type": "display_data"
    },
    {
     "data": {
      "text/html": [
       "<pre>recommendations finished on 58000/100638 queries. users per second: 13178.7</pre>"
      ],
      "text/plain": [
       "recommendations finished on 58000/100638 queries. users per second: 13178.7"
      ]
     },
     "metadata": {},
     "output_type": "display_data"
    },
    {
     "data": {
      "text/html": [
       "<pre>recommendations finished on 59000/100638 queries. users per second: 13183.1</pre>"
      ],
      "text/plain": [
       "recommendations finished on 59000/100638 queries. users per second: 13183.1"
      ]
     },
     "metadata": {},
     "output_type": "display_data"
    },
    {
     "data": {
      "text/html": [
       "<pre>recommendations finished on 60000/100638 queries. users per second: 13185.6</pre>"
      ],
      "text/plain": [
       "recommendations finished on 60000/100638 queries. users per second: 13185.6"
      ]
     },
     "metadata": {},
     "output_type": "display_data"
    },
    {
     "data": {
      "text/html": [
       "<pre>recommendations finished on 61000/100638 queries. users per second: 13186.6</pre>"
      ],
      "text/plain": [
       "recommendations finished on 61000/100638 queries. users per second: 13186.6"
      ]
     },
     "metadata": {},
     "output_type": "display_data"
    },
    {
     "data": {
      "text/html": [
       "<pre>recommendations finished on 62000/100638 queries. users per second: 13191.8</pre>"
      ],
      "text/plain": [
       "recommendations finished on 62000/100638 queries. users per second: 13191.8"
      ]
     },
     "metadata": {},
     "output_type": "display_data"
    },
    {
     "data": {
      "text/html": [
       "<pre>recommendations finished on 63000/100638 queries. users per second: 13193.6</pre>"
      ],
      "text/plain": [
       "recommendations finished on 63000/100638 queries. users per second: 13193.6"
      ]
     },
     "metadata": {},
     "output_type": "display_data"
    },
    {
     "data": {
      "text/html": [
       "<pre>recommendations finished on 64000/100638 queries. users per second: 13191.7</pre>"
      ],
      "text/plain": [
       "recommendations finished on 64000/100638 queries. users per second: 13191.7"
      ]
     },
     "metadata": {},
     "output_type": "display_data"
    },
    {
     "data": {
      "text/html": [
       "<pre>recommendations finished on 65000/100638 queries. users per second: 13190.9</pre>"
      ],
      "text/plain": [
       "recommendations finished on 65000/100638 queries. users per second: 13190.9"
      ]
     },
     "metadata": {},
     "output_type": "display_data"
    },
    {
     "data": {
      "text/html": [
       "<pre>recommendations finished on 66000/100638 queries. users per second: 13190.3</pre>"
      ],
      "text/plain": [
       "recommendations finished on 66000/100638 queries. users per second: 13190.3"
      ]
     },
     "metadata": {},
     "output_type": "display_data"
    },
    {
     "data": {
      "text/html": [
       "<pre>recommendations finished on 67000/100638 queries. users per second: 13195.1</pre>"
      ],
      "text/plain": [
       "recommendations finished on 67000/100638 queries. users per second: 13195.1"
      ]
     },
     "metadata": {},
     "output_type": "display_data"
    },
    {
     "data": {
      "text/html": [
       "<pre>recommendations finished on 68000/100638 queries. users per second: 13199.7</pre>"
      ],
      "text/plain": [
       "recommendations finished on 68000/100638 queries. users per second: 13199.7"
      ]
     },
     "metadata": {},
     "output_type": "display_data"
    },
    {
     "data": {
      "text/html": [
       "<pre>recommendations finished on 69000/100638 queries. users per second: 13204.4</pre>"
      ],
      "text/plain": [
       "recommendations finished on 69000/100638 queries. users per second: 13204.4"
      ]
     },
     "metadata": {},
     "output_type": "display_data"
    },
    {
     "data": {
      "text/html": [
       "<pre>recommendations finished on 70000/100638 queries. users per second: 13208.4</pre>"
      ],
      "text/plain": [
       "recommendations finished on 70000/100638 queries. users per second: 13208.4"
      ]
     },
     "metadata": {},
     "output_type": "display_data"
    },
    {
     "data": {
      "text/html": [
       "<pre>recommendations finished on 71000/100638 queries. users per second: 13212</pre>"
      ],
      "text/plain": [
       "recommendations finished on 71000/100638 queries. users per second: 13212"
      ]
     },
     "metadata": {},
     "output_type": "display_data"
    },
    {
     "data": {
      "text/html": [
       "<pre>recommendations finished on 72000/100638 queries. users per second: 13216.7</pre>"
      ],
      "text/plain": [
       "recommendations finished on 72000/100638 queries. users per second: 13216.7"
      ]
     },
     "metadata": {},
     "output_type": "display_data"
    },
    {
     "data": {
      "text/html": [
       "<pre>recommendations finished on 73000/100638 queries. users per second: 13220.7</pre>"
      ],
      "text/plain": [
       "recommendations finished on 73000/100638 queries. users per second: 13220.7"
      ]
     },
     "metadata": {},
     "output_type": "display_data"
    },
    {
     "data": {
      "text/html": [
       "<pre>recommendations finished on 74000/100638 queries. users per second: 13224.6</pre>"
      ],
      "text/plain": [
       "recommendations finished on 74000/100638 queries. users per second: 13224.6"
      ]
     },
     "metadata": {},
     "output_type": "display_data"
    },
    {
     "data": {
      "text/html": [
       "<pre>recommendations finished on 75000/100638 queries. users per second: 13226.3</pre>"
      ],
      "text/plain": [
       "recommendations finished on 75000/100638 queries. users per second: 13226.3"
      ]
     },
     "metadata": {},
     "output_type": "display_data"
    },
    {
     "data": {
      "text/html": [
       "<pre>recommendations finished on 76000/100638 queries. users per second: 13230.1</pre>"
      ],
      "text/plain": [
       "recommendations finished on 76000/100638 queries. users per second: 13230.1"
      ]
     },
     "metadata": {},
     "output_type": "display_data"
    },
    {
     "data": {
      "text/html": [
       "<pre>recommendations finished on 77000/100638 queries. users per second: 13229</pre>"
      ],
      "text/plain": [
       "recommendations finished on 77000/100638 queries. users per second: 13229"
      ]
     },
     "metadata": {},
     "output_type": "display_data"
    },
    {
     "data": {
      "text/html": [
       "<pre>recommendations finished on 78000/100638 queries. users per second: 13233.7</pre>"
      ],
      "text/plain": [
       "recommendations finished on 78000/100638 queries. users per second: 13233.7"
      ]
     },
     "metadata": {},
     "output_type": "display_data"
    },
    {
     "data": {
      "text/html": [
       "<pre>recommendations finished on 79000/100638 queries. users per second: 13238.1</pre>"
      ],
      "text/plain": [
       "recommendations finished on 79000/100638 queries. users per second: 13238.1"
      ]
     },
     "metadata": {},
     "output_type": "display_data"
    },
    {
     "data": {
      "text/html": [
       "<pre>recommendations finished on 80000/100638 queries. users per second: 13241.3</pre>"
      ],
      "text/plain": [
       "recommendations finished on 80000/100638 queries. users per second: 13241.3"
      ]
     },
     "metadata": {},
     "output_type": "display_data"
    },
    {
     "data": {
      "text/html": [
       "<pre>recommendations finished on 81000/100638 queries. users per second: 13244.7</pre>"
      ],
      "text/plain": [
       "recommendations finished on 81000/100638 queries. users per second: 13244.7"
      ]
     },
     "metadata": {},
     "output_type": "display_data"
    },
    {
     "data": {
      "text/html": [
       "<pre>recommendations finished on 82000/100638 queries. users per second: 13247.1</pre>"
      ],
      "text/plain": [
       "recommendations finished on 82000/100638 queries. users per second: 13247.1"
      ]
     },
     "metadata": {},
     "output_type": "display_data"
    },
    {
     "data": {
      "text/html": [
       "<pre>recommendations finished on 83000/100638 queries. users per second: 13248.5</pre>"
      ],
      "text/plain": [
       "recommendations finished on 83000/100638 queries. users per second: 13248.5"
      ]
     },
     "metadata": {},
     "output_type": "display_data"
    },
    {
     "data": {
      "text/html": [
       "<pre>recommendations finished on 84000/100638 queries. users per second: 13241.3</pre>"
      ],
      "text/plain": [
       "recommendations finished on 84000/100638 queries. users per second: 13241.3"
      ]
     },
     "metadata": {},
     "output_type": "display_data"
    },
    {
     "data": {
      "text/html": [
       "<pre>recommendations finished on 85000/100638 queries. users per second: 13244.1</pre>"
      ],
      "text/plain": [
       "recommendations finished on 85000/100638 queries. users per second: 13244.1"
      ]
     },
     "metadata": {},
     "output_type": "display_data"
    },
    {
     "data": {
      "text/html": [
       "<pre>recommendations finished on 86000/100638 queries. users per second: 13247</pre>"
      ],
      "text/plain": [
       "recommendations finished on 86000/100638 queries. users per second: 13247"
      ]
     },
     "metadata": {},
     "output_type": "display_data"
    },
    {
     "data": {
      "text/html": [
       "<pre>recommendations finished on 87000/100638 queries. users per second: 13251.1</pre>"
      ],
      "text/plain": [
       "recommendations finished on 87000/100638 queries. users per second: 13251.1"
      ]
     },
     "metadata": {},
     "output_type": "display_data"
    },
    {
     "data": {
      "text/html": [
       "<pre>recommendations finished on 88000/100638 queries. users per second: 13253.2</pre>"
      ],
      "text/plain": [
       "recommendations finished on 88000/100638 queries. users per second: 13253.2"
      ]
     },
     "metadata": {},
     "output_type": "display_data"
    },
    {
     "data": {
      "text/html": [
       "<pre>recommendations finished on 89000/100638 queries. users per second: 13258.4</pre>"
      ],
      "text/plain": [
       "recommendations finished on 89000/100638 queries. users per second: 13258.4"
      ]
     },
     "metadata": {},
     "output_type": "display_data"
    },
    {
     "data": {
      "text/html": [
       "<pre>recommendations finished on 90000/100638 queries. users per second: 13261.2</pre>"
      ],
      "text/plain": [
       "recommendations finished on 90000/100638 queries. users per second: 13261.2"
      ]
     },
     "metadata": {},
     "output_type": "display_data"
    },
    {
     "data": {
      "text/html": [
       "<pre>recommendations finished on 91000/100638 queries. users per second: 13262.6</pre>"
      ],
      "text/plain": [
       "recommendations finished on 91000/100638 queries. users per second: 13262.6"
      ]
     },
     "metadata": {},
     "output_type": "display_data"
    },
    {
     "data": {
      "text/html": [
       "<pre>recommendations finished on 92000/100638 queries. users per second: 13263.4</pre>"
      ],
      "text/plain": [
       "recommendations finished on 92000/100638 queries. users per second: 13263.4"
      ]
     },
     "metadata": {},
     "output_type": "display_data"
    },
    {
     "data": {
      "text/html": [
       "<pre>recommendations finished on 93000/100638 queries. users per second: 13265.5</pre>"
      ],
      "text/plain": [
       "recommendations finished on 93000/100638 queries. users per second: 13265.5"
      ]
     },
     "metadata": {},
     "output_type": "display_data"
    },
    {
     "data": {
      "text/html": [
       "<pre>recommendations finished on 94000/100638 queries. users per second: 13268.4</pre>"
      ],
      "text/plain": [
       "recommendations finished on 94000/100638 queries. users per second: 13268.4"
      ]
     },
     "metadata": {},
     "output_type": "display_data"
    },
    {
     "data": {
      "text/html": [
       "<pre>recommendations finished on 95000/100638 queries. users per second: 13268.2</pre>"
      ],
      "text/plain": [
       "recommendations finished on 95000/100638 queries. users per second: 13268.2"
      ]
     },
     "metadata": {},
     "output_type": "display_data"
    },
    {
     "data": {
      "text/html": [
       "<pre>recommendations finished on 96000/100638 queries. users per second: 13269.4</pre>"
      ],
      "text/plain": [
       "recommendations finished on 96000/100638 queries. users per second: 13269.4"
      ]
     },
     "metadata": {},
     "output_type": "display_data"
    },
    {
     "data": {
      "text/html": [
       "<pre>recommendations finished on 97000/100638 queries. users per second: 13268.1</pre>"
      ],
      "text/plain": [
       "recommendations finished on 97000/100638 queries. users per second: 13268.1"
      ]
     },
     "metadata": {},
     "output_type": "display_data"
    },
    {
     "data": {
      "text/html": [
       "<pre>recommendations finished on 98000/100638 queries. users per second: 13260.9</pre>"
      ],
      "text/plain": [
       "recommendations finished on 98000/100638 queries. users per second: 13260.9"
      ]
     },
     "metadata": {},
     "output_type": "display_data"
    },
    {
     "data": {
      "text/html": [
       "<pre>recommendations finished on 99000/100638 queries. users per second: 13190</pre>"
      ],
      "text/plain": [
       "recommendations finished on 99000/100638 queries. users per second: 13190"
      ]
     },
     "metadata": {},
     "output_type": "display_data"
    },
    {
     "data": {
      "text/html": [
       "<pre>recommendations finished on 100000/100638 queries. users per second: 13048.9</pre>"
      ],
      "text/plain": [
       "recommendations finished on 100000/100638 queries. users per second: 13048.9"
      ]
     },
     "metadata": {},
     "output_type": "display_data"
    },
    {
     "name": "stdout",
     "output_type": "stream",
     "text": [
      "+-------------------------------+-------------------------------+-------+------+\n",
      "|       customer_unique_id      |           product_id          | score | rank |\n",
      "+-------------------------------+-------------------------------+-------+------+\n",
      "| 4854e9b3feff728c13ee5fc7d1... | 6ed93af03d1f53308d3a9c6555... |  5.0  |  1   |\n",
      "| 4854e9b3feff728c13ee5fc7d1... | f4851ffef385d506603396041d... |  5.0  |  2   |\n",
      "| 4854e9b3feff728c13ee5fc7d1... | 18047039004204f52054f74b95... |  5.0  |  3   |\n",
      "| 4854e9b3feff728c13ee5fc7d1... | 97868e08c02c9f4f6b49ebe5a4... |  5.0  |  4   |\n",
      "| 4854e9b3feff728c13ee5fc7d1... | 73abf6f6dfa98d1d04760f4cc1... |  5.0  |  5   |\n",
      "| 830d5b7aaa3b6f1e9ad63703be... | 6ed93af03d1f53308d3a9c6555... |  5.0  |  1   |\n",
      "| 830d5b7aaa3b6f1e9ad63703be... | f4851ffef385d506603396041d... |  5.0  |  2   |\n",
      "| 830d5b7aaa3b6f1e9ad63703be... | 18047039004204f52054f74b95... |  5.0  |  3   |\n",
      "| 830d5b7aaa3b6f1e9ad63703be... | 97868e08c02c9f4f6b49ebe5a4... |  5.0  |  4   |\n",
      "| 830d5b7aaa3b6f1e9ad63703be... | 73abf6f6dfa98d1d04760f4cc1... |  5.0  |  5   |\n",
      "| 87776adb449c551e74c13fc34f... | 6ed93af03d1f53308d3a9c6555... |  5.0  |  1   |\n",
      "| 87776adb449c551e74c13fc34f... | f4851ffef385d506603396041d... |  5.0  |  2   |\n",
      "| 87776adb449c551e74c13fc34f... | 18047039004204f52054f74b95... |  5.0  |  3   |\n",
      "| 87776adb449c551e74c13fc34f... | 97868e08c02c9f4f6b49ebe5a4... |  5.0  |  4   |\n",
      "| 87776adb449c551e74c13fc34f... | 73abf6f6dfa98d1d04760f4cc1... |  5.0  |  5   |\n",
      "| 9f302d00dd3e18ed3745778184... | 6ed93af03d1f53308d3a9c6555... |  5.0  |  1   |\n",
      "| 9f302d00dd3e18ed3745778184... | f4851ffef385d506603396041d... |  5.0  |  2   |\n",
      "| 9f302d00dd3e18ed3745778184... | 18047039004204f52054f74b95... |  5.0  |  3   |\n",
      "| 9f302d00dd3e18ed3745778184... | 97868e08c02c9f4f6b49ebe5a4... |  5.0  |  4   |\n",
      "| 9f302d00dd3e18ed3745778184... | 73abf6f6dfa98d1d04760f4cc1... |  5.0  |  5   |\n",
      "| 3f4f614c632af7fc7508462a7c... | 6ed93af03d1f53308d3a9c6555... |  5.0  |  1   |\n",
      "| 3f4f614c632af7fc7508462a7c... | f4851ffef385d506603396041d... |  5.0  |  2   |\n",
      "| 3f4f614c632af7fc7508462a7c... | 18047039004204f52054f74b95... |  5.0  |  3   |\n",
      "| 3f4f614c632af7fc7508462a7c... | 97868e08c02c9f4f6b49ebe5a4... |  5.0  |  4   |\n",
      "| 3f4f614c632af7fc7508462a7c... | 73abf6f6dfa98d1d04760f4cc1... |  5.0  |  5   |\n",
      "| f176923a0a4ab546c7287791cc... | 6ed93af03d1f53308d3a9c6555... |  5.0  |  1   |\n",
      "| f176923a0a4ab546c7287791cc... | f4851ffef385d506603396041d... |  5.0  |  2   |\n",
      "| f176923a0a4ab546c7287791cc... | 18047039004204f52054f74b95... |  5.0  |  3   |\n",
      "| f176923a0a4ab546c7287791cc... | 97868e08c02c9f4f6b49ebe5a4... |  5.0  |  4   |\n",
      "| f176923a0a4ab546c7287791cc... | 73abf6f6dfa98d1d04760f4cc1... |  5.0  |  5   |\n",
      "+-------------------------------+-------------------------------+-------+------+\n",
      "[503190 rows x 4 columns]\n",
      "\n"
     ]
    }
   ],
   "source": [
    "name=\"pearson\"\n",
    "target=\"review_score\"\n",
    "pearson= model(train_data, name, user_id, item_id, target, users_to_recommend, n_rec, n_display)"
   ]
  },
  {
   "cell_type": "code",
   "execution_count": 64,
   "metadata": {},
   "outputs": [
    {
     "data": {
      "text/html": [
       "<pre>Preparing data set.</pre>"
      ],
      "text/plain": [
       "Preparing data set."
      ]
     },
     "metadata": {},
     "output_type": "display_data"
    },
    {
     "data": {
      "text/html": [
       "<pre>    Data has 80510 observations with 76144 users and 28388 items.</pre>"
      ],
      "text/plain": [
       "    Data has 80510 observations with 76144 users and 28388 items."
      ]
     },
     "metadata": {},
     "output_type": "display_data"
    },
    {
     "data": {
      "text/html": [
       "<pre>    Data prepared in: 0.124896s</pre>"
      ],
      "text/plain": [
       "    Data prepared in: 0.124896s"
      ]
     },
     "metadata": {},
     "output_type": "display_data"
    },
    {
     "data": {
      "text/html": [
       "<pre>Training model from provided data.</pre>"
      ],
      "text/plain": [
       "Training model from provided data."
      ]
     },
     "metadata": {},
     "output_type": "display_data"
    },
    {
     "data": {
      "text/html": [
       "<pre>Gathering per-item and per-user statistics.</pre>"
      ],
      "text/plain": [
       "Gathering per-item and per-user statistics."
      ]
     },
     "metadata": {},
     "output_type": "display_data"
    },
    {
     "data": {
      "text/html": [
       "<pre>+--------------------------------+------------+</pre>"
      ],
      "text/plain": [
       "+--------------------------------+------------+"
      ]
     },
     "metadata": {},
     "output_type": "display_data"
    },
    {
     "data": {
      "text/html": [
       "<pre>| Elapsed Time (Item Statistics) | % Complete |</pre>"
      ],
      "text/plain": [
       "| Elapsed Time (Item Statistics) | % Complete |"
      ]
     },
     "metadata": {},
     "output_type": "display_data"
    },
    {
     "data": {
      "text/html": [
       "<pre>+--------------------------------+------------+</pre>"
      ],
      "text/plain": [
       "+--------------------------------+------------+"
      ]
     },
     "metadata": {},
     "output_type": "display_data"
    },
    {
     "data": {
      "text/html": [
       "<pre>| 1.261ms                        | 1.25       |</pre>"
      ],
      "text/plain": [
       "| 1.261ms                        | 1.25       |"
      ]
     },
     "metadata": {},
     "output_type": "display_data"
    },
    {
     "data": {
      "text/html": [
       "<pre>| 12.458ms                       | 100        |</pre>"
      ],
      "text/plain": [
       "| 12.458ms                       | 100        |"
      ]
     },
     "metadata": {},
     "output_type": "display_data"
    },
    {
     "data": {
      "text/html": [
       "<pre>+--------------------------------+------------+</pre>"
      ],
      "text/plain": [
       "+--------------------------------+------------+"
      ]
     },
     "metadata": {},
     "output_type": "display_data"
    },
    {
     "data": {
      "text/html": [
       "<pre>Setting up lookup tables.</pre>"
      ],
      "text/plain": [
       "Setting up lookup tables."
      ]
     },
     "metadata": {},
     "output_type": "display_data"
    },
    {
     "data": {
      "text/html": [
       "<pre>Processing data in one pass using dense lookup tables.</pre>"
      ],
      "text/plain": [
       "Processing data in one pass using dense lookup tables."
      ]
     },
     "metadata": {},
     "output_type": "display_data"
    },
    {
     "data": {
      "text/html": [
       "<pre>+-------------------------------------+------------------+-----------------+</pre>"
      ],
      "text/plain": [
       "+-------------------------------------+------------------+-----------------+"
      ]
     },
     "metadata": {},
     "output_type": "display_data"
    },
    {
     "data": {
      "text/html": [
       "<pre>| Elapsed Time (Constructing Lookups) | Total % Complete | Items Processed |</pre>"
      ],
      "text/plain": [
       "| Elapsed Time (Constructing Lookups) | Total % Complete | Items Processed |"
      ]
     },
     "metadata": {},
     "output_type": "display_data"
    },
    {
     "data": {
      "text/html": [
       "<pre>+-------------------------------------+------------------+-----------------+</pre>"
      ],
      "text/plain": [
       "+-------------------------------------+------------------+-----------------+"
      ]
     },
     "metadata": {},
     "output_type": "display_data"
    },
    {
     "data": {
      "text/html": [
       "<pre>| 1.49s                               | 0                | 0               |</pre>"
      ],
      "text/plain": [
       "| 1.49s                               | 0                | 0               |"
      ]
     },
     "metadata": {},
     "output_type": "display_data"
    },
    {
     "data": {
      "text/html": [
       "<pre>| 3.38s                               | 100              | 28388           |</pre>"
      ],
      "text/plain": [
       "| 3.38s                               | 100              | 28388           |"
      ]
     },
     "metadata": {},
     "output_type": "display_data"
    },
    {
     "data": {
      "text/html": [
       "<pre>+-------------------------------------+------------------+-----------------+</pre>"
      ],
      "text/plain": [
       "+-------------------------------------+------------------+-----------------+"
      ]
     },
     "metadata": {},
     "output_type": "display_data"
    },
    {
     "data": {
      "text/html": [
       "<pre>Finalizing lookup tables.</pre>"
      ],
      "text/plain": [
       "Finalizing lookup tables."
      ]
     },
     "metadata": {},
     "output_type": "display_data"
    },
    {
     "data": {
      "text/html": [
       "<pre>Generating candidate set for working with new users.</pre>"
      ],
      "text/plain": [
       "Generating candidate set for working with new users."
      ]
     },
     "metadata": {},
     "output_type": "display_data"
    },
    {
     "data": {
      "text/html": [
       "<pre>Finished training in 3.40028s</pre>"
      ],
      "text/plain": [
       "Finished training in 3.40028s"
      ]
     },
     "metadata": {},
     "output_type": "display_data"
    },
    {
     "data": {
      "text/html": [
       "<pre>recommendations finished on 1000/100638 queries. users per second: 12710.4</pre>"
      ],
      "text/plain": [
       "recommendations finished on 1000/100638 queries. users per second: 12710.4"
      ]
     },
     "metadata": {},
     "output_type": "display_data"
    },
    {
     "data": {
      "text/html": [
       "<pre>recommendations finished on 2000/100638 queries. users per second: 12905.8</pre>"
      ],
      "text/plain": [
       "recommendations finished on 2000/100638 queries. users per second: 12905.8"
      ]
     },
     "metadata": {},
     "output_type": "display_data"
    },
    {
     "data": {
      "text/html": [
       "<pre>recommendations finished on 3000/100638 queries. users per second: 12967.4</pre>"
      ],
      "text/plain": [
       "recommendations finished on 3000/100638 queries. users per second: 12967.4"
      ]
     },
     "metadata": {},
     "output_type": "display_data"
    },
    {
     "data": {
      "text/html": [
       "<pre>recommendations finished on 4000/100638 queries. users per second: 13010.7</pre>"
      ],
      "text/plain": [
       "recommendations finished on 4000/100638 queries. users per second: 13010.7"
      ]
     },
     "metadata": {},
     "output_type": "display_data"
    },
    {
     "data": {
      "text/html": [
       "<pre>recommendations finished on 5000/100638 queries. users per second: 13037.7</pre>"
      ],
      "text/plain": [
       "recommendations finished on 5000/100638 queries. users per second: 13037.7"
      ]
     },
     "metadata": {},
     "output_type": "display_data"
    },
    {
     "data": {
      "text/html": [
       "<pre>recommendations finished on 6000/100638 queries. users per second: 13077</pre>"
      ],
      "text/plain": [
       "recommendations finished on 6000/100638 queries. users per second: 13077"
      ]
     },
     "metadata": {},
     "output_type": "display_data"
    },
    {
     "data": {
      "text/html": [
       "<pre>recommendations finished on 7000/100638 queries. users per second: 13102.5</pre>"
      ],
      "text/plain": [
       "recommendations finished on 7000/100638 queries. users per second: 13102.5"
      ]
     },
     "metadata": {},
     "output_type": "display_data"
    },
    {
     "data": {
      "text/html": [
       "<pre>recommendations finished on 8000/100638 queries. users per second: 13111.9</pre>"
      ],
      "text/plain": [
       "recommendations finished on 8000/100638 queries. users per second: 13111.9"
      ]
     },
     "metadata": {},
     "output_type": "display_data"
    },
    {
     "data": {
      "text/html": [
       "<pre>recommendations finished on 9000/100638 queries. users per second: 13153.3</pre>"
      ],
      "text/plain": [
       "recommendations finished on 9000/100638 queries. users per second: 13153.3"
      ]
     },
     "metadata": {},
     "output_type": "display_data"
    },
    {
     "data": {
      "text/html": [
       "<pre>recommendations finished on 10000/100638 queries. users per second: 13185.5</pre>"
      ],
      "text/plain": [
       "recommendations finished on 10000/100638 queries. users per second: 13185.5"
      ]
     },
     "metadata": {},
     "output_type": "display_data"
    },
    {
     "data": {
      "text/html": [
       "<pre>recommendations finished on 11000/100638 queries. users per second: 13184.1</pre>"
      ],
      "text/plain": [
       "recommendations finished on 11000/100638 queries. users per second: 13184.1"
      ]
     },
     "metadata": {},
     "output_type": "display_data"
    },
    {
     "data": {
      "text/html": [
       "<pre>recommendations finished on 12000/100638 queries. users per second: 13208.7</pre>"
      ],
      "text/plain": [
       "recommendations finished on 12000/100638 queries. users per second: 13208.7"
      ]
     },
     "metadata": {},
     "output_type": "display_data"
    },
    {
     "data": {
      "text/html": [
       "<pre>recommendations finished on 13000/100638 queries. users per second: 13212.9</pre>"
      ],
      "text/plain": [
       "recommendations finished on 13000/100638 queries. users per second: 13212.9"
      ]
     },
     "metadata": {},
     "output_type": "display_data"
    },
    {
     "data": {
      "text/html": [
       "<pre>recommendations finished on 14000/100638 queries. users per second: 13230.3</pre>"
      ],
      "text/plain": [
       "recommendations finished on 14000/100638 queries. users per second: 13230.3"
      ]
     },
     "metadata": {},
     "output_type": "display_data"
    },
    {
     "data": {
      "text/html": [
       "<pre>recommendations finished on 15000/100638 queries. users per second: 13216.7</pre>"
      ],
      "text/plain": [
       "recommendations finished on 15000/100638 queries. users per second: 13216.7"
      ]
     },
     "metadata": {},
     "output_type": "display_data"
    },
    {
     "data": {
      "text/html": [
       "<pre>recommendations finished on 16000/100638 queries. users per second: 13181.3</pre>"
      ],
      "text/plain": [
       "recommendations finished on 16000/100638 queries. users per second: 13181.3"
      ]
     },
     "metadata": {},
     "output_type": "display_data"
    },
    {
     "data": {
      "text/html": [
       "<pre>recommendations finished on 17000/100638 queries. users per second: 13172.5</pre>"
      ],
      "text/plain": [
       "recommendations finished on 17000/100638 queries. users per second: 13172.5"
      ]
     },
     "metadata": {},
     "output_type": "display_data"
    },
    {
     "data": {
      "text/html": [
       "<pre>recommendations finished on 18000/100638 queries. users per second: 13166.2</pre>"
      ],
      "text/plain": [
       "recommendations finished on 18000/100638 queries. users per second: 13166.2"
      ]
     },
     "metadata": {},
     "output_type": "display_data"
    },
    {
     "data": {
      "text/html": [
       "<pre>recommendations finished on 19000/100638 queries. users per second: 13146.7</pre>"
      ],
      "text/plain": [
       "recommendations finished on 19000/100638 queries. users per second: 13146.7"
      ]
     },
     "metadata": {},
     "output_type": "display_data"
    },
    {
     "data": {
      "text/html": [
       "<pre>recommendations finished on 20000/100638 queries. users per second: 13134.6</pre>"
      ],
      "text/plain": [
       "recommendations finished on 20000/100638 queries. users per second: 13134.6"
      ]
     },
     "metadata": {},
     "output_type": "display_data"
    },
    {
     "data": {
      "text/html": [
       "<pre>recommendations finished on 21000/100638 queries. users per second: 13132.5</pre>"
      ],
      "text/plain": [
       "recommendations finished on 21000/100638 queries. users per second: 13132.5"
      ]
     },
     "metadata": {},
     "output_type": "display_data"
    },
    {
     "data": {
      "text/html": [
       "<pre>recommendations finished on 22000/100638 queries. users per second: 13126</pre>"
      ],
      "text/plain": [
       "recommendations finished on 22000/100638 queries. users per second: 13126"
      ]
     },
     "metadata": {},
     "output_type": "display_data"
    },
    {
     "data": {
      "text/html": [
       "<pre>recommendations finished on 23000/100638 queries. users per second: 13124.2</pre>"
      ],
      "text/plain": [
       "recommendations finished on 23000/100638 queries. users per second: 13124.2"
      ]
     },
     "metadata": {},
     "output_type": "display_data"
    },
    {
     "data": {
      "text/html": [
       "<pre>recommendations finished on 24000/100638 queries. users per second: 13130</pre>"
      ],
      "text/plain": [
       "recommendations finished on 24000/100638 queries. users per second: 13130"
      ]
     },
     "metadata": {},
     "output_type": "display_data"
    },
    {
     "data": {
      "text/html": [
       "<pre>recommendations finished on 25000/100638 queries. users per second: 13114.5</pre>"
      ],
      "text/plain": [
       "recommendations finished on 25000/100638 queries. users per second: 13114.5"
      ]
     },
     "metadata": {},
     "output_type": "display_data"
    },
    {
     "data": {
      "text/html": [
       "<pre>recommendations finished on 26000/100638 queries. users per second: 13108.5</pre>"
      ],
      "text/plain": [
       "recommendations finished on 26000/100638 queries. users per second: 13108.5"
      ]
     },
     "metadata": {},
     "output_type": "display_data"
    },
    {
     "data": {
      "text/html": [
       "<pre>recommendations finished on 27000/100638 queries. users per second: 13107.9</pre>"
      ],
      "text/plain": [
       "recommendations finished on 27000/100638 queries. users per second: 13107.9"
      ]
     },
     "metadata": {},
     "output_type": "display_data"
    },
    {
     "data": {
      "text/html": [
       "<pre>recommendations finished on 28000/100638 queries. users per second: 13106.2</pre>"
      ],
      "text/plain": [
       "recommendations finished on 28000/100638 queries. users per second: 13106.2"
      ]
     },
     "metadata": {},
     "output_type": "display_data"
    },
    {
     "data": {
      "text/html": [
       "<pre>recommendations finished on 29000/100638 queries. users per second: 13114</pre>"
      ],
      "text/plain": [
       "recommendations finished on 29000/100638 queries. users per second: 13114"
      ]
     },
     "metadata": {},
     "output_type": "display_data"
    },
    {
     "data": {
      "text/html": [
       "<pre>recommendations finished on 30000/100638 queries. users per second: 13114</pre>"
      ],
      "text/plain": [
       "recommendations finished on 30000/100638 queries. users per second: 13114"
      ]
     },
     "metadata": {},
     "output_type": "display_data"
    },
    {
     "data": {
      "text/html": [
       "<pre>recommendations finished on 31000/100638 queries. users per second: 13116.5</pre>"
      ],
      "text/plain": [
       "recommendations finished on 31000/100638 queries. users per second: 13116.5"
      ]
     },
     "metadata": {},
     "output_type": "display_data"
    },
    {
     "data": {
      "text/html": [
       "<pre>recommendations finished on 32000/100638 queries. users per second: 13108.7</pre>"
      ],
      "text/plain": [
       "recommendations finished on 32000/100638 queries. users per second: 13108.7"
      ]
     },
     "metadata": {},
     "output_type": "display_data"
    },
    {
     "data": {
      "text/html": [
       "<pre>recommendations finished on 33000/100638 queries. users per second: 13112.6</pre>"
      ],
      "text/plain": [
       "recommendations finished on 33000/100638 queries. users per second: 13112.6"
      ]
     },
     "metadata": {},
     "output_type": "display_data"
    },
    {
     "data": {
      "text/html": [
       "<pre>recommendations finished on 34000/100638 queries. users per second: 13096.5</pre>"
      ],
      "text/plain": [
       "recommendations finished on 34000/100638 queries. users per second: 13096.5"
      ]
     },
     "metadata": {},
     "output_type": "display_data"
    },
    {
     "data": {
      "text/html": [
       "<pre>recommendations finished on 35000/100638 queries. users per second: 13114.6</pre>"
      ],
      "text/plain": [
       "recommendations finished on 35000/100638 queries. users per second: 13114.6"
      ]
     },
     "metadata": {},
     "output_type": "display_data"
    },
    {
     "data": {
      "text/html": [
       "<pre>recommendations finished on 36000/100638 queries. users per second: 13126</pre>"
      ],
      "text/plain": [
       "recommendations finished on 36000/100638 queries. users per second: 13126"
      ]
     },
     "metadata": {},
     "output_type": "display_data"
    },
    {
     "data": {
      "text/html": [
       "<pre>recommendations finished on 37000/100638 queries. users per second: 13116.1</pre>"
      ],
      "text/plain": [
       "recommendations finished on 37000/100638 queries. users per second: 13116.1"
      ]
     },
     "metadata": {},
     "output_type": "display_data"
    },
    {
     "data": {
      "text/html": [
       "<pre>recommendations finished on 38000/100638 queries. users per second: 13137.1</pre>"
      ],
      "text/plain": [
       "recommendations finished on 38000/100638 queries. users per second: 13137.1"
      ]
     },
     "metadata": {},
     "output_type": "display_data"
    },
    {
     "data": {
      "text/html": [
       "<pre>recommendations finished on 39000/100638 queries. users per second: 13152.5</pre>"
      ],
      "text/plain": [
       "recommendations finished on 39000/100638 queries. users per second: 13152.5"
      ]
     },
     "metadata": {},
     "output_type": "display_data"
    },
    {
     "data": {
      "text/html": [
       "<pre>recommendations finished on 40000/100638 queries. users per second: 13175.8</pre>"
      ],
      "text/plain": [
       "recommendations finished on 40000/100638 queries. users per second: 13175.8"
      ]
     },
     "metadata": {},
     "output_type": "display_data"
    },
    {
     "data": {
      "text/html": [
       "<pre>recommendations finished on 41000/100638 queries. users per second: 13195.9</pre>"
      ],
      "text/plain": [
       "recommendations finished on 41000/100638 queries. users per second: 13195.9"
      ]
     },
     "metadata": {},
     "output_type": "display_data"
    },
    {
     "data": {
      "text/html": [
       "<pre>recommendations finished on 42000/100638 queries. users per second: 13216.7</pre>"
      ],
      "text/plain": [
       "recommendations finished on 42000/100638 queries. users per second: 13216.7"
      ]
     },
     "metadata": {},
     "output_type": "display_data"
    },
    {
     "data": {
      "text/html": [
       "<pre>recommendations finished on 43000/100638 queries. users per second: 13232.5</pre>"
      ],
      "text/plain": [
       "recommendations finished on 43000/100638 queries. users per second: 13232.5"
      ]
     },
     "metadata": {},
     "output_type": "display_data"
    },
    {
     "data": {
      "text/html": [
       "<pre>recommendations finished on 44000/100638 queries. users per second: 13250</pre>"
      ],
      "text/plain": [
       "recommendations finished on 44000/100638 queries. users per second: 13250"
      ]
     },
     "metadata": {},
     "output_type": "display_data"
    },
    {
     "data": {
      "text/html": [
       "<pre>recommendations finished on 45000/100638 queries. users per second: 13266.5</pre>"
      ],
      "text/plain": [
       "recommendations finished on 45000/100638 queries. users per second: 13266.5"
      ]
     },
     "metadata": {},
     "output_type": "display_data"
    },
    {
     "data": {
      "text/html": [
       "<pre>recommendations finished on 46000/100638 queries. users per second: 13280.3</pre>"
      ],
      "text/plain": [
       "recommendations finished on 46000/100638 queries. users per second: 13280.3"
      ]
     },
     "metadata": {},
     "output_type": "display_data"
    },
    {
     "data": {
      "text/html": [
       "<pre>recommendations finished on 47000/100638 queries. users per second: 13291.4</pre>"
      ],
      "text/plain": [
       "recommendations finished on 47000/100638 queries. users per second: 13291.4"
      ]
     },
     "metadata": {},
     "output_type": "display_data"
    },
    {
     "data": {
      "text/html": [
       "<pre>recommendations finished on 48000/100638 queries. users per second: 13308.2</pre>"
      ],
      "text/plain": [
       "recommendations finished on 48000/100638 queries. users per second: 13308.2"
      ]
     },
     "metadata": {},
     "output_type": "display_data"
    },
    {
     "data": {
      "text/html": [
       "<pre>recommendations finished on 49000/100638 queries. users per second: 13324.1</pre>"
      ],
      "text/plain": [
       "recommendations finished on 49000/100638 queries. users per second: 13324.1"
      ]
     },
     "metadata": {},
     "output_type": "display_data"
    },
    {
     "data": {
      "text/html": [
       "<pre>recommendations finished on 50000/100638 queries. users per second: 13336.3</pre>"
      ],
      "text/plain": [
       "recommendations finished on 50000/100638 queries. users per second: 13336.3"
      ]
     },
     "metadata": {},
     "output_type": "display_data"
    },
    {
     "data": {
      "text/html": [
       "<pre>recommendations finished on 51000/100638 queries. users per second: 13346.6</pre>"
      ],
      "text/plain": [
       "recommendations finished on 51000/100638 queries. users per second: 13346.6"
      ]
     },
     "metadata": {},
     "output_type": "display_data"
    },
    {
     "data": {
      "text/html": [
       "<pre>recommendations finished on 52000/100638 queries. users per second: 13355.7</pre>"
      ],
      "text/plain": [
       "recommendations finished on 52000/100638 queries. users per second: 13355.7"
      ]
     },
     "metadata": {},
     "output_type": "display_data"
    },
    {
     "data": {
      "text/html": [
       "<pre>recommendations finished on 53000/100638 queries. users per second: 13361.8</pre>"
      ],
      "text/plain": [
       "recommendations finished on 53000/100638 queries. users per second: 13361.8"
      ]
     },
     "metadata": {},
     "output_type": "display_data"
    },
    {
     "data": {
      "text/html": [
       "<pre>recommendations finished on 54000/100638 queries. users per second: 13373.4</pre>"
      ],
      "text/plain": [
       "recommendations finished on 54000/100638 queries. users per second: 13373.4"
      ]
     },
     "metadata": {},
     "output_type": "display_data"
    },
    {
     "data": {
      "text/html": [
       "<pre>recommendations finished on 55000/100638 queries. users per second: 13381.1</pre>"
      ],
      "text/plain": [
       "recommendations finished on 55000/100638 queries. users per second: 13381.1"
      ]
     },
     "metadata": {},
     "output_type": "display_data"
    },
    {
     "data": {
      "text/html": [
       "<pre>recommendations finished on 56000/100638 queries. users per second: 13391</pre>"
      ],
      "text/plain": [
       "recommendations finished on 56000/100638 queries. users per second: 13391"
      ]
     },
     "metadata": {},
     "output_type": "display_data"
    },
    {
     "data": {
      "text/html": [
       "<pre>recommendations finished on 57000/100638 queries. users per second: 13401</pre>"
      ],
      "text/plain": [
       "recommendations finished on 57000/100638 queries. users per second: 13401"
      ]
     },
     "metadata": {},
     "output_type": "display_data"
    },
    {
     "data": {
      "text/html": [
       "<pre>recommendations finished on 58000/100638 queries. users per second: 13412.2</pre>"
      ],
      "text/plain": [
       "recommendations finished on 58000/100638 queries. users per second: 13412.2"
      ]
     },
     "metadata": {},
     "output_type": "display_data"
    },
    {
     "data": {
      "text/html": [
       "<pre>recommendations finished on 59000/100638 queries. users per second: 13420</pre>"
      ],
      "text/plain": [
       "recommendations finished on 59000/100638 queries. users per second: 13420"
      ]
     },
     "metadata": {},
     "output_type": "display_data"
    },
    {
     "data": {
      "text/html": [
       "<pre>recommendations finished on 60000/100638 queries. users per second: 13429.3</pre>"
      ],
      "text/plain": [
       "recommendations finished on 60000/100638 queries. users per second: 13429.3"
      ]
     },
     "metadata": {},
     "output_type": "display_data"
    },
    {
     "data": {
      "text/html": [
       "<pre>recommendations finished on 61000/100638 queries. users per second: 13438</pre>"
      ],
      "text/plain": [
       "recommendations finished on 61000/100638 queries. users per second: 13438"
      ]
     },
     "metadata": {},
     "output_type": "display_data"
    },
    {
     "data": {
      "text/html": [
       "<pre>recommendations finished on 62000/100638 queries. users per second: 13444</pre>"
      ],
      "text/plain": [
       "recommendations finished on 62000/100638 queries. users per second: 13444"
      ]
     },
     "metadata": {},
     "output_type": "display_data"
    },
    {
     "data": {
      "text/html": [
       "<pre>recommendations finished on 63000/100638 queries. users per second: 13452.7</pre>"
      ],
      "text/plain": [
       "recommendations finished on 63000/100638 queries. users per second: 13452.7"
      ]
     },
     "metadata": {},
     "output_type": "display_data"
    },
    {
     "data": {
      "text/html": [
       "<pre>recommendations finished on 64000/100638 queries. users per second: 13460.5</pre>"
      ],
      "text/plain": [
       "recommendations finished on 64000/100638 queries. users per second: 13460.5"
      ]
     },
     "metadata": {},
     "output_type": "display_data"
    },
    {
     "data": {
      "text/html": [
       "<pre>recommendations finished on 65000/100638 queries. users per second: 13468.7</pre>"
      ],
      "text/plain": [
       "recommendations finished on 65000/100638 queries. users per second: 13468.7"
      ]
     },
     "metadata": {},
     "output_type": "display_data"
    },
    {
     "data": {
      "text/html": [
       "<pre>recommendations finished on 66000/100638 queries. users per second: 13478.8</pre>"
      ],
      "text/plain": [
       "recommendations finished on 66000/100638 queries. users per second: 13478.8"
      ]
     },
     "metadata": {},
     "output_type": "display_data"
    },
    {
     "data": {
      "text/html": [
       "<pre>recommendations finished on 67000/100638 queries. users per second: 13485.4</pre>"
      ],
      "text/plain": [
       "recommendations finished on 67000/100638 queries. users per second: 13485.4"
      ]
     },
     "metadata": {},
     "output_type": "display_data"
    },
    {
     "data": {
      "text/html": [
       "<pre>recommendations finished on 68000/100638 queries. users per second: 13491.8</pre>"
      ],
      "text/plain": [
       "recommendations finished on 68000/100638 queries. users per second: 13491.8"
      ]
     },
     "metadata": {},
     "output_type": "display_data"
    },
    {
     "data": {
      "text/html": [
       "<pre>recommendations finished on 69000/100638 queries. users per second: 13494.7</pre>"
      ],
      "text/plain": [
       "recommendations finished on 69000/100638 queries. users per second: 13494.7"
      ]
     },
     "metadata": {},
     "output_type": "display_data"
    },
    {
     "data": {
      "text/html": [
       "<pre>recommendations finished on 70000/100638 queries. users per second: 13502.7</pre>"
      ],
      "text/plain": [
       "recommendations finished on 70000/100638 queries. users per second: 13502.7"
      ]
     },
     "metadata": {},
     "output_type": "display_data"
    },
    {
     "data": {
      "text/html": [
       "<pre>recommendations finished on 71000/100638 queries. users per second: 13508.8</pre>"
      ],
      "text/plain": [
       "recommendations finished on 71000/100638 queries. users per second: 13508.8"
      ]
     },
     "metadata": {},
     "output_type": "display_data"
    },
    {
     "data": {
      "text/html": [
       "<pre>recommendations finished on 72000/100638 queries. users per second: 13510.8</pre>"
      ],
      "text/plain": [
       "recommendations finished on 72000/100638 queries. users per second: 13510.8"
      ]
     },
     "metadata": {},
     "output_type": "display_data"
    },
    {
     "data": {
      "text/html": [
       "<pre>recommendations finished on 73000/100638 queries. users per second: 13508.2</pre>"
      ],
      "text/plain": [
       "recommendations finished on 73000/100638 queries. users per second: 13508.2"
      ]
     },
     "metadata": {},
     "output_type": "display_data"
    },
    {
     "data": {
      "text/html": [
       "<pre>recommendations finished on 74000/100638 queries. users per second: 13514.8</pre>"
      ],
      "text/plain": [
       "recommendations finished on 74000/100638 queries. users per second: 13514.8"
      ]
     },
     "metadata": {},
     "output_type": "display_data"
    },
    {
     "data": {
      "text/html": [
       "<pre>recommendations finished on 75000/100638 queries. users per second: 13516.2</pre>"
      ],
      "text/plain": [
       "recommendations finished on 75000/100638 queries. users per second: 13516.2"
      ]
     },
     "metadata": {},
     "output_type": "display_data"
    },
    {
     "data": {
      "text/html": [
       "<pre>recommendations finished on 76000/100638 queries. users per second: 13520.5</pre>"
      ],
      "text/plain": [
       "recommendations finished on 76000/100638 queries. users per second: 13520.5"
      ]
     },
     "metadata": {},
     "output_type": "display_data"
    },
    {
     "data": {
      "text/html": [
       "<pre>recommendations finished on 77000/100638 queries. users per second: 13527.5</pre>"
      ],
      "text/plain": [
       "recommendations finished on 77000/100638 queries. users per second: 13527.5"
      ]
     },
     "metadata": {},
     "output_type": "display_data"
    },
    {
     "data": {
      "text/html": [
       "<pre>recommendations finished on 78000/100638 queries. users per second: 13531.6</pre>"
      ],
      "text/plain": [
       "recommendations finished on 78000/100638 queries. users per second: 13531.6"
      ]
     },
     "metadata": {},
     "output_type": "display_data"
    },
    {
     "data": {
      "text/html": [
       "<pre>recommendations finished on 79000/100638 queries. users per second: 13538.4</pre>"
      ],
      "text/plain": [
       "recommendations finished on 79000/100638 queries. users per second: 13538.4"
      ]
     },
     "metadata": {},
     "output_type": "display_data"
    },
    {
     "data": {
      "text/html": [
       "<pre>recommendations finished on 80000/100638 queries. users per second: 13545</pre>"
      ],
      "text/plain": [
       "recommendations finished on 80000/100638 queries. users per second: 13545"
      ]
     },
     "metadata": {},
     "output_type": "display_data"
    },
    {
     "data": {
      "text/html": [
       "<pre>recommendations finished on 81000/100638 queries. users per second: 13547.4</pre>"
      ],
      "text/plain": [
       "recommendations finished on 81000/100638 queries. users per second: 13547.4"
      ]
     },
     "metadata": {},
     "output_type": "display_data"
    },
    {
     "data": {
      "text/html": [
       "<pre>recommendations finished on 82000/100638 queries. users per second: 13551.2</pre>"
      ],
      "text/plain": [
       "recommendations finished on 82000/100638 queries. users per second: 13551.2"
      ]
     },
     "metadata": {},
     "output_type": "display_data"
    },
    {
     "data": {
      "text/html": [
       "<pre>recommendations finished on 83000/100638 queries. users per second: 13557.7</pre>"
      ],
      "text/plain": [
       "recommendations finished on 83000/100638 queries. users per second: 13557.7"
      ]
     },
     "metadata": {},
     "output_type": "display_data"
    },
    {
     "data": {
      "text/html": [
       "<pre>recommendations finished on 84000/100638 queries. users per second: 13561.6</pre>"
      ],
      "text/plain": [
       "recommendations finished on 84000/100638 queries. users per second: 13561.6"
      ]
     },
     "metadata": {},
     "output_type": "display_data"
    },
    {
     "data": {
      "text/html": [
       "<pre>recommendations finished on 85000/100638 queries. users per second: 13568.4</pre>"
      ],
      "text/plain": [
       "recommendations finished on 85000/100638 queries. users per second: 13568.4"
      ]
     },
     "metadata": {},
     "output_type": "display_data"
    },
    {
     "data": {
      "text/html": [
       "<pre>recommendations finished on 86000/100638 queries. users per second: 13575.6</pre>"
      ],
      "text/plain": [
       "recommendations finished on 86000/100638 queries. users per second: 13575.6"
      ]
     },
     "metadata": {},
     "output_type": "display_data"
    },
    {
     "data": {
      "text/html": [
       "<pre>recommendations finished on 87000/100638 queries. users per second: 13581.1</pre>"
      ],
      "text/plain": [
       "recommendations finished on 87000/100638 queries. users per second: 13581.1"
      ]
     },
     "metadata": {},
     "output_type": "display_data"
    },
    {
     "data": {
      "text/html": [
       "<pre>recommendations finished on 88000/100638 queries. users per second: 13583.9</pre>"
      ],
      "text/plain": [
       "recommendations finished on 88000/100638 queries. users per second: 13583.9"
      ]
     },
     "metadata": {},
     "output_type": "display_data"
    },
    {
     "data": {
      "text/html": [
       "<pre>recommendations finished on 89000/100638 queries. users per second: 13577</pre>"
      ],
      "text/plain": [
       "recommendations finished on 89000/100638 queries. users per second: 13577"
      ]
     },
     "metadata": {},
     "output_type": "display_data"
    },
    {
     "data": {
      "text/html": [
       "<pre>recommendations finished on 90000/100638 queries. users per second: 13578.7</pre>"
      ],
      "text/plain": [
       "recommendations finished on 90000/100638 queries. users per second: 13578.7"
      ]
     },
     "metadata": {},
     "output_type": "display_data"
    },
    {
     "data": {
      "text/html": [
       "<pre>recommendations finished on 91000/100638 queries. users per second: 13582.9</pre>"
      ],
      "text/plain": [
       "recommendations finished on 91000/100638 queries. users per second: 13582.9"
      ]
     },
     "metadata": {},
     "output_type": "display_data"
    },
    {
     "data": {
      "text/html": [
       "<pre>recommendations finished on 92000/100638 queries. users per second: 13587.3</pre>"
      ],
      "text/plain": [
       "recommendations finished on 92000/100638 queries. users per second: 13587.3"
      ]
     },
     "metadata": {},
     "output_type": "display_data"
    },
    {
     "data": {
      "text/html": [
       "<pre>recommendations finished on 93000/100638 queries. users per second: 13592</pre>"
      ],
      "text/plain": [
       "recommendations finished on 93000/100638 queries. users per second: 13592"
      ]
     },
     "metadata": {},
     "output_type": "display_data"
    },
    {
     "data": {
      "text/html": [
       "<pre>recommendations finished on 94000/100638 queries. users per second: 13595</pre>"
      ],
      "text/plain": [
       "recommendations finished on 94000/100638 queries. users per second: 13595"
      ]
     },
     "metadata": {},
     "output_type": "display_data"
    },
    {
     "data": {
      "text/html": [
       "<pre>recommendations finished on 95000/100638 queries. users per second: 13598.6</pre>"
      ],
      "text/plain": [
       "recommendations finished on 95000/100638 queries. users per second: 13598.6"
      ]
     },
     "metadata": {},
     "output_type": "display_data"
    },
    {
     "data": {
      "text/html": [
       "<pre>recommendations finished on 96000/100638 queries. users per second: 13596.5</pre>"
      ],
      "text/plain": [
       "recommendations finished on 96000/100638 queries. users per second: 13596.5"
      ]
     },
     "metadata": {},
     "output_type": "display_data"
    },
    {
     "data": {
      "text/html": [
       "<pre>recommendations finished on 97000/100638 queries. users per second: 13601.2</pre>"
      ],
      "text/plain": [
       "recommendations finished on 97000/100638 queries. users per second: 13601.2"
      ]
     },
     "metadata": {},
     "output_type": "display_data"
    },
    {
     "data": {
      "text/html": [
       "<pre>recommendations finished on 98000/100638 queries. users per second: 13606.1</pre>"
      ],
      "text/plain": [
       "recommendations finished on 98000/100638 queries. users per second: 13606.1"
      ]
     },
     "metadata": {},
     "output_type": "display_data"
    },
    {
     "data": {
      "text/html": [
       "<pre>recommendations finished on 99000/100638 queries. users per second: 13607.1</pre>"
      ],
      "text/plain": [
       "recommendations finished on 99000/100638 queries. users per second: 13607.1"
      ]
     },
     "metadata": {},
     "output_type": "display_data"
    },
    {
     "data": {
      "text/html": [
       "<pre>recommendations finished on 100000/100638 queries. users per second: 13597</pre>"
      ],
      "text/plain": [
       "recommendations finished on 100000/100638 queries. users per second: 13597"
      ]
     },
     "metadata": {},
     "output_type": "display_data"
    },
    {
     "name": "stdout",
     "output_type": "stream",
     "text": [
      "+-------------------------------+-------------------------------+\n",
      "|       customer_unique_id      |           product_id          |\n",
      "+-------------------------------+-------------------------------+\n",
      "| 4854e9b3feff728c13ee5fc7d1... | 5ca6a40fbc611451486b6525c6... |\n",
      "| 4854e9b3feff728c13ee5fc7d1... | 50571d0f0f8ffbeec1c64cefee... |\n",
      "| 4854e9b3feff728c13ee5fc7d1... | 1e1172a8b6ae12312c22ccf336... |\n",
      "| 4854e9b3feff728c13ee5fc7d1... | cc711d05cc2a7eaabf0629dbda... |\n",
      "| 4854e9b3feff728c13ee5fc7d1... | 1ba7948f3aa31cdaf78a4885f3... |\n",
      "| 830d5b7aaa3b6f1e9ad63703be... | 5ca6a40fbc611451486b6525c6... |\n",
      "| 830d5b7aaa3b6f1e9ad63703be... | 50571d0f0f8ffbeec1c64cefee... |\n",
      "| 830d5b7aaa3b6f1e9ad63703be... | 1e1172a8b6ae12312c22ccf336... |\n",
      "| 830d5b7aaa3b6f1e9ad63703be... | cc711d05cc2a7eaabf0629dbda... |\n",
      "| 830d5b7aaa3b6f1e9ad63703be... | 1ba7948f3aa31cdaf78a4885f3... |\n",
      "| 87776adb449c551e74c13fc34f... | 5ca6a40fbc611451486b6525c6... |\n",
      "| 87776adb449c551e74c13fc34f... | 50571d0f0f8ffbeec1c64cefee... |\n",
      "| 87776adb449c551e74c13fc34f... | 1e1172a8b6ae12312c22ccf336... |\n",
      "| 87776adb449c551e74c13fc34f... | cc711d05cc2a7eaabf0629dbda... |\n",
      "| 87776adb449c551e74c13fc34f... | 1ba7948f3aa31cdaf78a4885f3... |\n",
      "| 9f302d00dd3e18ed3745778184... | 5ca6a40fbc611451486b6525c6... |\n",
      "| 9f302d00dd3e18ed3745778184... | 50571d0f0f8ffbeec1c64cefee... |\n",
      "| 9f302d00dd3e18ed3745778184... | 1e1172a8b6ae12312c22ccf336... |\n",
      "| 9f302d00dd3e18ed3745778184... | cc711d05cc2a7eaabf0629dbda... |\n",
      "| 9f302d00dd3e18ed3745778184... | 1ba7948f3aa31cdaf78a4885f3... |\n",
      "| 3f4f614c632af7fc7508462a7c... | 5ca6a40fbc611451486b6525c6... |\n",
      "| 3f4f614c632af7fc7508462a7c... | 50571d0f0f8ffbeec1c64cefee... |\n",
      "| 3f4f614c632af7fc7508462a7c... | 1e1172a8b6ae12312c22ccf336... |\n",
      "| 3f4f614c632af7fc7508462a7c... | cc711d05cc2a7eaabf0629dbda... |\n",
      "| 3f4f614c632af7fc7508462a7c... | 1ba7948f3aa31cdaf78a4885f3... |\n",
      "| f176923a0a4ab546c7287791cc... | 5ca6a40fbc611451486b6525c6... |\n",
      "| f176923a0a4ab546c7287791cc... | 50571d0f0f8ffbeec1c64cefee... |\n",
      "| f176923a0a4ab546c7287791cc... | 1e1172a8b6ae12312c22ccf336... |\n",
      "| f176923a0a4ab546c7287791cc... | cc711d05cc2a7eaabf0629dbda... |\n",
      "| f176923a0a4ab546c7287791cc... | 1ba7948f3aa31cdaf78a4885f3... |\n",
      "+-------------------------------+-------------------------------+\n",
      "+---------------------+------+\n",
      "|        score        | rank |\n",
      "+---------------------+------+\n",
      "| 0.16960775868292535 |  1   |\n",
      "| 0.16960775868292535 |  2   |\n",
      "| 0.16960775868292535 |  3   |\n",
      "| 0.16960775868292535 |  4   |\n",
      "| 0.16960775868292535 |  5   |\n",
      "| 0.16960775868292535 |  1   |\n",
      "| 0.16960775868292535 |  2   |\n",
      "| 0.16960775868292535 |  3   |\n",
      "| 0.16960775868292535 |  4   |\n",
      "| 0.16960775868292535 |  5   |\n",
      "| 0.16960775868292535 |  1   |\n",
      "| 0.16960775868292535 |  2   |\n",
      "| 0.16960775868292535 |  3   |\n",
      "| 0.16960775868292535 |  4   |\n",
      "| 0.16960775868292535 |  5   |\n",
      "| 0.16960775868292535 |  1   |\n",
      "| 0.16960775868292535 |  2   |\n",
      "| 0.16960775868292535 |  3   |\n",
      "| 0.16960775868292535 |  4   |\n",
      "| 0.16960775868292535 |  5   |\n",
      "| 0.16960775868292535 |  1   |\n",
      "| 0.16960775868292535 |  2   |\n",
      "| 0.16960775868292535 |  3   |\n",
      "| 0.16960775868292535 |  4   |\n",
      "| 0.16960775868292535 |  5   |\n",
      "| 0.16960775868292535 |  1   |\n",
      "| 0.16960775868292535 |  2   |\n",
      "| 0.16960775868292535 |  3   |\n",
      "| 0.16960775868292535 |  4   |\n",
      "| 0.16960775868292535 |  5   |\n",
      "+---------------------+------+\n",
      "[503190 rows x 4 columns]\n",
      "\n"
     ]
    }
   ],
   "source": [
    "name=\"pearson\"\n",
    "target=\"review_score\"\n",
    "pearson_norm= model(train_data_norm, name, user_id, item_id, target, users_to_recommend, n_rec, n_display)"
   ]
  },
  {
   "cell_type": "markdown",
   "metadata": {},
   "source": [
    "## Evaluation on the test set\n"
   ]
  },
  {
   "cell_type": "code",
   "execution_count": 65,
   "metadata": {},
   "outputs": [],
   "source": [
    "models_w_counts = [popularity, cosine, pearson]\n",
    "models_w_norm = [pop_norm, cosine_norm, pearson_norm]\n",
    "names_w_counts = ['Popularity Model on Review_score', 'Cosine Similarity on Review Score', 'Pearson Similarity on Review Score']\n",
    "names_w_norm = ['Popularity Model on Scaled Reviews', 'Cosine Similarity on Scaled Review', 'Pearson Similarity on Scaled Review']"
   ]
  },
  {
   "cell_type": "code",
   "execution_count": 66,
   "metadata": {},
   "outputs": [
    {
     "name": "stdout",
     "output_type": "stream",
     "text": [
      "PROGRESS: Evaluate model Popularity Model on Review_score\n"
     ]
    },
    {
     "data": {
      "text/html": [
       "<pre>recommendations finished on 1000/19807 queries. users per second: 12689.2</pre>"
      ],
      "text/plain": [
       "recommendations finished on 1000/19807 queries. users per second: 12689.2"
      ]
     },
     "metadata": {},
     "output_type": "display_data"
    },
    {
     "data": {
      "text/html": [
       "<pre>recommendations finished on 2000/19807 queries. users per second: 11710.6</pre>"
      ],
      "text/plain": [
       "recommendations finished on 2000/19807 queries. users per second: 11710.6"
      ]
     },
     "metadata": {},
     "output_type": "display_data"
    },
    {
     "data": {
      "text/html": [
       "<pre>recommendations finished on 3000/19807 queries. users per second: 11620.3</pre>"
      ],
      "text/plain": [
       "recommendations finished on 3000/19807 queries. users per second: 11620.3"
      ]
     },
     "metadata": {},
     "output_type": "display_data"
    },
    {
     "data": {
      "text/html": [
       "<pre>recommendations finished on 4000/19807 queries. users per second: 11695.4</pre>"
      ],
      "text/plain": [
       "recommendations finished on 4000/19807 queries. users per second: 11695.4"
      ]
     },
     "metadata": {},
     "output_type": "display_data"
    },
    {
     "data": {
      "text/html": [
       "<pre>recommendations finished on 5000/19807 queries. users per second: 11743.5</pre>"
      ],
      "text/plain": [
       "recommendations finished on 5000/19807 queries. users per second: 11743.5"
      ]
     },
     "metadata": {},
     "output_type": "display_data"
    },
    {
     "data": {
      "text/html": [
       "<pre>recommendations finished on 6000/19807 queries. users per second: 11835.9</pre>"
      ],
      "text/plain": [
       "recommendations finished on 6000/19807 queries. users per second: 11835.9"
      ]
     },
     "metadata": {},
     "output_type": "display_data"
    },
    {
     "data": {
      "text/html": [
       "<pre>recommendations finished on 7000/19807 queries. users per second: 11880.1</pre>"
      ],
      "text/plain": [
       "recommendations finished on 7000/19807 queries. users per second: 11880.1"
      ]
     },
     "metadata": {},
     "output_type": "display_data"
    },
    {
     "data": {
      "text/html": [
       "<pre>recommendations finished on 8000/19807 queries. users per second: 11940.4</pre>"
      ],
      "text/plain": [
       "recommendations finished on 8000/19807 queries. users per second: 11940.4"
      ]
     },
     "metadata": {},
     "output_type": "display_data"
    },
    {
     "data": {
      "text/html": [
       "<pre>recommendations finished on 9000/19807 queries. users per second: 11992.3</pre>"
      ],
      "text/plain": [
       "recommendations finished on 9000/19807 queries. users per second: 11992.3"
      ]
     },
     "metadata": {},
     "output_type": "display_data"
    },
    {
     "data": {
      "text/html": [
       "<pre>recommendations finished on 10000/19807 queries. users per second: 11914.1</pre>"
      ],
      "text/plain": [
       "recommendations finished on 10000/19807 queries. users per second: 11914.1"
      ]
     },
     "metadata": {},
     "output_type": "display_data"
    },
    {
     "data": {
      "text/html": [
       "<pre>recommendations finished on 11000/19807 queries. users per second: 11934.3</pre>"
      ],
      "text/plain": [
       "recommendations finished on 11000/19807 queries. users per second: 11934.3"
      ]
     },
     "metadata": {},
     "output_type": "display_data"
    },
    {
     "data": {
      "text/html": [
       "<pre>recommendations finished on 12000/19807 queries. users per second: 11926.7</pre>"
      ],
      "text/plain": [
       "recommendations finished on 12000/19807 queries. users per second: 11926.7"
      ]
     },
     "metadata": {},
     "output_type": "display_data"
    },
    {
     "data": {
      "text/html": [
       "<pre>recommendations finished on 13000/19807 queries. users per second: 11920.4</pre>"
      ],
      "text/plain": [
       "recommendations finished on 13000/19807 queries. users per second: 11920.4"
      ]
     },
     "metadata": {},
     "output_type": "display_data"
    },
    {
     "data": {
      "text/html": [
       "<pre>recommendations finished on 14000/19807 queries. users per second: 11854.9</pre>"
      ],
      "text/plain": [
       "recommendations finished on 14000/19807 queries. users per second: 11854.9"
      ]
     },
     "metadata": {},
     "output_type": "display_data"
    },
    {
     "data": {
      "text/html": [
       "<pre>recommendations finished on 15000/19807 queries. users per second: 11872.2</pre>"
      ],
      "text/plain": [
       "recommendations finished on 15000/19807 queries. users per second: 11872.2"
      ]
     },
     "metadata": {},
     "output_type": "display_data"
    },
    {
     "data": {
      "text/html": [
       "<pre>recommendations finished on 16000/19807 queries. users per second: 11893.7</pre>"
      ],
      "text/plain": [
       "recommendations finished on 16000/19807 queries. users per second: 11893.7"
      ]
     },
     "metadata": {},
     "output_type": "display_data"
    },
    {
     "data": {
      "text/html": [
       "<pre>recommendations finished on 17000/19807 queries. users per second: 11896.5</pre>"
      ],
      "text/plain": [
       "recommendations finished on 17000/19807 queries. users per second: 11896.5"
      ]
     },
     "metadata": {},
     "output_type": "display_data"
    },
    {
     "data": {
      "text/html": [
       "<pre>recommendations finished on 18000/19807 queries. users per second: 11890.7</pre>"
      ],
      "text/plain": [
       "recommendations finished on 18000/19807 queries. users per second: 11890.7"
      ]
     },
     "metadata": {},
     "output_type": "display_data"
    },
    {
     "data": {
      "text/html": [
       "<pre>recommendations finished on 19000/19807 queries. users per second: 11826.4</pre>"
      ],
      "text/plain": [
       "recommendations finished on 19000/19807 queries. users per second: 11826.4"
      ]
     },
     "metadata": {},
     "output_type": "display_data"
    },
    {
     "name": "stdout",
     "output_type": "stream",
     "text": [
      "\n",
      "Precision and recall summary statistics by cutoff\n",
      "+--------+------------------------+-----------------------+\n",
      "| cutoff |     mean_precision     |      mean_recall      |\n",
      "+--------+------------------------+-----------------------+\n",
      "|   1    |          0.0           |          0.0          |\n",
      "|   2    |          0.0           |          0.0          |\n",
      "|   3    | 1.6829067164807066e-05 | 5.048720149442118e-05 |\n",
      "|   4    | 1.2621800373605294e-05 | 5.048720149442118e-05 |\n",
      "|   5    | 1.0097440298884248e-05 | 5.048720149442118e-05 |\n",
      "|   6    | 8.414533582403511e-06  | 5.048720149442118e-05 |\n",
      "|   7    | 7.212457356345875e-06  | 5.048720149442118e-05 |\n",
      "|   8    | 6.310900186802647e-06  | 5.048720149442118e-05 |\n",
      "|   9    | 5.6096890549356836e-06 | 5.048720149442118e-05 |\n",
      "|   10   | 5.048720149442139e-06  | 5.048720149442118e-05 |\n",
      "+--------+------------------------+-----------------------+\n",
      "[10 rows x 3 columns]\n",
      "\n",
      "\n",
      "Overall RMSE: 1.4900980518250058\n",
      "\n",
      "Per User RMSE (best)\n",
      "+-------------------------------+------+-------+\n",
      "|       customer_unique_id      | rmse | count |\n",
      "+-------------------------------+------+-------+\n",
      "| d2da929fa57473521f1f3b9146... | 0.0  |   1   |\n",
      "+-------------------------------+------+-------+\n",
      "[1 rows x 3 columns]\n",
      "\n",
      "\n",
      "Per User RMSE (worst)\n",
      "+-------------------------------+------+-------+\n",
      "|       customer_unique_id      | rmse | count |\n",
      "+-------------------------------+------+-------+\n",
      "| 9a65dbebd1fc503bcff809884e... | 4.0  |   1   |\n",
      "+-------------------------------+------+-------+\n",
      "[1 rows x 3 columns]\n",
      "\n",
      "\n",
      "Per Item RMSE (best)\n",
      "+-------------------------------+------+-------+\n",
      "|           product_id          | rmse | count |\n",
      "+-------------------------------+------+-------+\n",
      "| 426c58d69aa402e5397c4b6471... | 0.0  |   1   |\n",
      "+-------------------------------+------+-------+\n",
      "[1 rows x 3 columns]\n",
      "\n",
      "\n",
      "Per Item RMSE (worst)\n",
      "+-------------------------------+------+-------+\n",
      "|           product_id          | rmse | count |\n",
      "+-------------------------------+------+-------+\n",
      "| bf477d995ee4444807afc574cf... | 4.0  |   1   |\n",
      "+-------------------------------+------+-------+\n",
      "[1 rows x 3 columns]\n",
      "\n",
      "PROGRESS: Evaluate model Cosine Similarity on Review Score\n"
     ]
    },
    {
     "data": {
      "text/html": [
       "<pre>recommendations finished on 1000/19807 queries. users per second: 13437.1</pre>"
      ],
      "text/plain": [
       "recommendations finished on 1000/19807 queries. users per second: 13437.1"
      ]
     },
     "metadata": {},
     "output_type": "display_data"
    },
    {
     "data": {
      "text/html": [
       "<pre>recommendations finished on 2000/19807 queries. users per second: 12659.8</pre>"
      ],
      "text/plain": [
       "recommendations finished on 2000/19807 queries. users per second: 12659.8"
      ]
     },
     "metadata": {},
     "output_type": "display_data"
    },
    {
     "data": {
      "text/html": [
       "<pre>recommendations finished on 3000/19807 queries. users per second: 12699.5</pre>"
      ],
      "text/plain": [
       "recommendations finished on 3000/19807 queries. users per second: 12699.5"
      ]
     },
     "metadata": {},
     "output_type": "display_data"
    },
    {
     "data": {
      "text/html": [
       "<pre>recommendations finished on 4000/19807 queries. users per second: 12800.4</pre>"
      ],
      "text/plain": [
       "recommendations finished on 4000/19807 queries. users per second: 12800.4"
      ]
     },
     "metadata": {},
     "output_type": "display_data"
    },
    {
     "data": {
      "text/html": [
       "<pre>recommendations finished on 5000/19807 queries. users per second: 12823.4</pre>"
      ],
      "text/plain": [
       "recommendations finished on 5000/19807 queries. users per second: 12823.4"
      ]
     },
     "metadata": {},
     "output_type": "display_data"
    },
    {
     "data": {
      "text/html": [
       "<pre>recommendations finished on 6000/19807 queries. users per second: 12786.1</pre>"
      ],
      "text/plain": [
       "recommendations finished on 6000/19807 queries. users per second: 12786.1"
      ]
     },
     "metadata": {},
     "output_type": "display_data"
    },
    {
     "data": {
      "text/html": [
       "<pre>recommendations finished on 7000/19807 queries. users per second: 12754.9</pre>"
      ],
      "text/plain": [
       "recommendations finished on 7000/19807 queries. users per second: 12754.9"
      ]
     },
     "metadata": {},
     "output_type": "display_data"
    },
    {
     "data": {
      "text/html": [
       "<pre>recommendations finished on 8000/19807 queries. users per second: 12778.5</pre>"
      ],
      "text/plain": [
       "recommendations finished on 8000/19807 queries. users per second: 12778.5"
      ]
     },
     "metadata": {},
     "output_type": "display_data"
    },
    {
     "data": {
      "text/html": [
       "<pre>recommendations finished on 9000/19807 queries. users per second: 12866.7</pre>"
      ],
      "text/plain": [
       "recommendations finished on 9000/19807 queries. users per second: 12866.7"
      ]
     },
     "metadata": {},
     "output_type": "display_data"
    },
    {
     "data": {
      "text/html": [
       "<pre>recommendations finished on 10000/19807 queries. users per second: 12965.9</pre>"
      ],
      "text/plain": [
       "recommendations finished on 10000/19807 queries. users per second: 12965.9"
      ]
     },
     "metadata": {},
     "output_type": "display_data"
    },
    {
     "data": {
      "text/html": [
       "<pre>recommendations finished on 11000/19807 queries. users per second: 13016.5</pre>"
      ],
      "text/plain": [
       "recommendations finished on 11000/19807 queries. users per second: 13016.5"
      ]
     },
     "metadata": {},
     "output_type": "display_data"
    },
    {
     "data": {
      "text/html": [
       "<pre>recommendations finished on 12000/19807 queries. users per second: 13031.8</pre>"
      ],
      "text/plain": [
       "recommendations finished on 12000/19807 queries. users per second: 13031.8"
      ]
     },
     "metadata": {},
     "output_type": "display_data"
    },
    {
     "data": {
      "text/html": [
       "<pre>recommendations finished on 13000/19807 queries. users per second: 13062</pre>"
      ],
      "text/plain": [
       "recommendations finished on 13000/19807 queries. users per second: 13062"
      ]
     },
     "metadata": {},
     "output_type": "display_data"
    },
    {
     "data": {
      "text/html": [
       "<pre>recommendations finished on 14000/19807 queries. users per second: 13078.8</pre>"
      ],
      "text/plain": [
       "recommendations finished on 14000/19807 queries. users per second: 13078.8"
      ]
     },
     "metadata": {},
     "output_type": "display_data"
    },
    {
     "data": {
      "text/html": [
       "<pre>recommendations finished on 15000/19807 queries. users per second: 13125.1</pre>"
      ],
      "text/plain": [
       "recommendations finished on 15000/19807 queries. users per second: 13125.1"
      ]
     },
     "metadata": {},
     "output_type": "display_data"
    },
    {
     "data": {
      "text/html": [
       "<pre>recommendations finished on 16000/19807 queries. users per second: 13165.2</pre>"
      ],
      "text/plain": [
       "recommendations finished on 16000/19807 queries. users per second: 13165.2"
      ]
     },
     "metadata": {},
     "output_type": "display_data"
    },
    {
     "data": {
      "text/html": [
       "<pre>recommendations finished on 17000/19807 queries. users per second: 13183</pre>"
      ],
      "text/plain": [
       "recommendations finished on 17000/19807 queries. users per second: 13183"
      ]
     },
     "metadata": {},
     "output_type": "display_data"
    },
    {
     "data": {
      "text/html": [
       "<pre>recommendations finished on 18000/19807 queries. users per second: 13206.8</pre>"
      ],
      "text/plain": [
       "recommendations finished on 18000/19807 queries. users per second: 13206.8"
      ]
     },
     "metadata": {},
     "output_type": "display_data"
    },
    {
     "data": {
      "text/html": [
       "<pre>recommendations finished on 19000/19807 queries. users per second: 13223.1</pre>"
      ],
      "text/plain": [
       "recommendations finished on 19000/19807 queries. users per second: 13223.1"
      ]
     },
     "metadata": {},
     "output_type": "display_data"
    },
    {
     "name": "stdout",
     "output_type": "stream",
     "text": [
      "\n",
      "Precision and recall summary statistics by cutoff\n",
      "+--------+-----------------------+----------------------+\n",
      "| cutoff |     mean_precision    |     mean_recall      |\n",
      "+--------+-----------------------+----------------------+\n",
      "|   1    |  0.005452617761397492 | 0.005217010821090185 |\n",
      "|   2    |  0.003660322108345536 | 0.007009306474142136 |\n",
      "|   3    |  0.002675821679204326 | 0.007690883694316823 |\n",
      "|   4    | 0.0023981420709850076 | 0.00923074333989666  |\n",
      "|   5    | 0.0020295855000757295 | 0.009735615354840894 |\n",
      "|   6    | 0.0017670520523047407 | 0.010164756567543455 |\n",
      "|   7    |  0.00153625341690167  | 0.01031621817202673  |\n",
      "|   8    | 0.0013757762407229797 | 0.010568654179498836 |\n",
      "|   9    |  0.001234131592085849 | 0.010669628582487677 |\n",
      "|   10   | 0.0011258645933255955 | 0.010821090186970932 |\n",
      "+--------+-----------------------+----------------------+\n",
      "[10 rows x 3 columns]\n",
      "\n",
      "\n",
      "Overall RMSE: 4.282568995080432\n",
      "\n",
      "Per User RMSE (best)\n",
      "+-------------------------------+----------------------+-------+\n",
      "|       customer_unique_id      |         rmse         | count |\n",
      "+-------------------------------+----------------------+-------+\n",
      "| 4279e2fb7de9c27f439fdb82e4... | 0.028597116470336914 |   1   |\n",
      "+-------------------------------+----------------------+-------+\n",
      "[1 rows x 3 columns]\n",
      "\n",
      "\n",
      "Per User RMSE (worst)\n",
      "+-------------------------------+------+-------+\n",
      "|       customer_unique_id      | rmse | count |\n",
      "+-------------------------------+------+-------+\n",
      "| c77df39c630a70dfde36a38ee4... | 5.0  |   1   |\n",
      "+-------------------------------+------+-------+\n",
      "[1 rows x 3 columns]\n",
      "\n",
      "\n",
      "Per Item RMSE (best)\n",
      "+-------------------------------+---------------------+-------+\n",
      "|           product_id          |         rmse        | count |\n",
      "+-------------------------------+---------------------+-------+\n",
      "| 23ab7bb9eac81e85ec43ed7106... | 0.22150105237960815 |   1   |\n",
      "+-------------------------------+---------------------+-------+\n",
      "[1 rows x 3 columns]\n",
      "\n",
      "\n",
      "Per Item RMSE (worst)\n",
      "+-------------------------------+------+-------+\n",
      "|           product_id          | rmse | count |\n",
      "+-------------------------------+------+-------+\n",
      "| 635eab616d6a1f8033986a5906... | 5.0  |   1   |\n",
      "+-------------------------------+------+-------+\n",
      "[1 rows x 3 columns]\n",
      "\n",
      "PROGRESS: Evaluate model Pearson Similarity on Review Score\n"
     ]
    },
    {
     "data": {
      "text/html": [
       "<pre>recommendations finished on 1000/19807 queries. users per second: 11174.7</pre>"
      ],
      "text/plain": [
       "recommendations finished on 1000/19807 queries. users per second: 11174.7"
      ]
     },
     "metadata": {},
     "output_type": "display_data"
    },
    {
     "data": {
      "text/html": [
       "<pre>recommendations finished on 2000/19807 queries. users per second: 11010.4</pre>"
      ],
      "text/plain": [
       "recommendations finished on 2000/19807 queries. users per second: 11010.4"
      ]
     },
     "metadata": {},
     "output_type": "display_data"
    },
    {
     "data": {
      "text/html": [
       "<pre>recommendations finished on 3000/19807 queries. users per second: 11071.1</pre>"
      ],
      "text/plain": [
       "recommendations finished on 3000/19807 queries. users per second: 11071.1"
      ]
     },
     "metadata": {},
     "output_type": "display_data"
    },
    {
     "data": {
      "text/html": [
       "<pre>recommendations finished on 4000/19807 queries. users per second: 11147.1</pre>"
      ],
      "text/plain": [
       "recommendations finished on 4000/19807 queries. users per second: 11147.1"
      ]
     },
     "metadata": {},
     "output_type": "display_data"
    },
    {
     "data": {
      "text/html": [
       "<pre>recommendations finished on 5000/19807 queries. users per second: 11163.8</pre>"
      ],
      "text/plain": [
       "recommendations finished on 5000/19807 queries. users per second: 11163.8"
      ]
     },
     "metadata": {},
     "output_type": "display_data"
    },
    {
     "data": {
      "text/html": [
       "<pre>recommendations finished on 6000/19807 queries. users per second: 11165.5</pre>"
      ],
      "text/plain": [
       "recommendations finished on 6000/19807 queries. users per second: 11165.5"
      ]
     },
     "metadata": {},
     "output_type": "display_data"
    },
    {
     "data": {
      "text/html": [
       "<pre>recommendations finished on 7000/19807 queries. users per second: 11183.5</pre>"
      ],
      "text/plain": [
       "recommendations finished on 7000/19807 queries. users per second: 11183.5"
      ]
     },
     "metadata": {},
     "output_type": "display_data"
    },
    {
     "data": {
      "text/html": [
       "<pre>recommendations finished on 8000/19807 queries. users per second: 11190.2</pre>"
      ],
      "text/plain": [
       "recommendations finished on 8000/19807 queries. users per second: 11190.2"
      ]
     },
     "metadata": {},
     "output_type": "display_data"
    },
    {
     "data": {
      "text/html": [
       "<pre>recommendations finished on 9000/19807 queries. users per second: 11211.1</pre>"
      ],
      "text/plain": [
       "recommendations finished on 9000/19807 queries. users per second: 11211.1"
      ]
     },
     "metadata": {},
     "output_type": "display_data"
    },
    {
     "data": {
      "text/html": [
       "<pre>recommendations finished on 10000/19807 queries. users per second: 11207.1</pre>"
      ],
      "text/plain": [
       "recommendations finished on 10000/19807 queries. users per second: 11207.1"
      ]
     },
     "metadata": {},
     "output_type": "display_data"
    },
    {
     "data": {
      "text/html": [
       "<pre>recommendations finished on 11000/19807 queries. users per second: 11214.3</pre>"
      ],
      "text/plain": [
       "recommendations finished on 11000/19807 queries. users per second: 11214.3"
      ]
     },
     "metadata": {},
     "output_type": "display_data"
    },
    {
     "data": {
      "text/html": [
       "<pre>recommendations finished on 12000/19807 queries. users per second: 11205.5</pre>"
      ],
      "text/plain": [
       "recommendations finished on 12000/19807 queries. users per second: 11205.5"
      ]
     },
     "metadata": {},
     "output_type": "display_data"
    },
    {
     "data": {
      "text/html": [
       "<pre>recommendations finished on 13000/19807 queries. users per second: 11129.3</pre>"
      ],
      "text/plain": [
       "recommendations finished on 13000/19807 queries. users per second: 11129.3"
      ]
     },
     "metadata": {},
     "output_type": "display_data"
    },
    {
     "data": {
      "text/html": [
       "<pre>recommendations finished on 14000/19807 queries. users per second: 11107.2</pre>"
      ],
      "text/plain": [
       "recommendations finished on 14000/19807 queries. users per second: 11107.2"
      ]
     },
     "metadata": {},
     "output_type": "display_data"
    },
    {
     "data": {
      "text/html": [
       "<pre>recommendations finished on 15000/19807 queries. users per second: 11063.9</pre>"
      ],
      "text/plain": [
       "recommendations finished on 15000/19807 queries. users per second: 11063.9"
      ]
     },
     "metadata": {},
     "output_type": "display_data"
    },
    {
     "data": {
      "text/html": [
       "<pre>recommendations finished on 16000/19807 queries. users per second: 11072.8</pre>"
      ],
      "text/plain": [
       "recommendations finished on 16000/19807 queries. users per second: 11072.8"
      ]
     },
     "metadata": {},
     "output_type": "display_data"
    },
    {
     "data": {
      "text/html": [
       "<pre>recommendations finished on 17000/19807 queries. users per second: 11082.2</pre>"
      ],
      "text/plain": [
       "recommendations finished on 17000/19807 queries. users per second: 11082.2"
      ]
     },
     "metadata": {},
     "output_type": "display_data"
    },
    {
     "data": {
      "text/html": [
       "<pre>recommendations finished on 18000/19807 queries. users per second: 11098.3</pre>"
      ],
      "text/plain": [
       "recommendations finished on 18000/19807 queries. users per second: 11098.3"
      ]
     },
     "metadata": {},
     "output_type": "display_data"
    },
    {
     "data": {
      "text/html": [
       "<pre>recommendations finished on 19000/19807 queries. users per second: 11083</pre>"
      ],
      "text/plain": [
       "recommendations finished on 19000/19807 queries. users per second: 11083"
      ]
     },
     "metadata": {},
     "output_type": "display_data"
    },
    {
     "name": "stdout",
     "output_type": "stream",
     "text": [
      "\n",
      "Precision and recall summary statistics by cutoff\n",
      "+--------+------------------------+-----------------------+\n",
      "| cutoff |     mean_precision     |      mean_recall      |\n",
      "+--------+------------------------+-----------------------+\n",
      "|   1    |          0.0           |          0.0          |\n",
      "|   2    |          0.0           |          0.0          |\n",
      "|   3    |          0.0           |          0.0          |\n",
      "|   4    |          0.0           |          0.0          |\n",
      "|   5    |          0.0           |          0.0          |\n",
      "|   6    |          0.0           |          0.0          |\n",
      "|   7    |          0.0           |          0.0          |\n",
      "|   8    | 6.310900186802631e-06  | 5.048720149442105e-05 |\n",
      "|   9    | 5.6096890549356785e-06 | 5.048720149442116e-05 |\n",
      "|   10   | 5.048720149442119e-06  | 5.048720149442108e-05 |\n",
      "+--------+------------------------+-----------------------+\n",
      "[10 rows x 3 columns]\n",
      "\n",
      "\n",
      "Overall RMSE: 2.428166957507819\n",
      "\n",
      "Per User RMSE (best)\n",
      "+-------------------------------+------+-------+\n",
      "|       customer_unique_id      | rmse | count |\n",
      "+-------------------------------+------+-------+\n",
      "| d2da929fa57473521f1f3b9146... | 0.0  |   1   |\n",
      "+-------------------------------+------+-------+\n",
      "[1 rows x 3 columns]\n",
      "\n",
      "\n",
      "Per User RMSE (worst)\n",
      "+-------------------------------+------+-------+\n",
      "|       customer_unique_id      | rmse | count |\n",
      "+-------------------------------+------+-------+\n",
      "| edd5f04fdd44b267bc93f4dcc0... | 5.0  |   1   |\n",
      "+-------------------------------+------+-------+\n",
      "[1 rows x 3 columns]\n",
      "\n",
      "\n",
      "Per Item RMSE (best)\n",
      "+-------------------------------+------+-------+\n",
      "|           product_id          | rmse | count |\n",
      "+-------------------------------+------+-------+\n",
      "| 426c58d69aa402e5397c4b6471... | 0.0  |   1   |\n",
      "+-------------------------------+------+-------+\n",
      "[1 rows x 3 columns]\n",
      "\n",
      "\n",
      "Per Item RMSE (worst)\n",
      "+-------------------------------+------+-------+\n",
      "|           product_id          | rmse | count |\n",
      "+-------------------------------+------+-------+\n",
      "| 635eab616d6a1f8033986a5906... | 5.0  |   1   |\n",
      "+-------------------------------+------+-------+\n",
      "[1 rows x 3 columns]\n",
      "\n",
      "PROGRESS: Evaluate model Popularity Model on Scaled Reviews\n"
     ]
    },
    {
     "data": {
      "text/html": [
       "<pre>recommendations finished on 1000/19838 queries. users per second: 13631</pre>"
      ],
      "text/plain": [
       "recommendations finished on 1000/19838 queries. users per second: 13631"
      ]
     },
     "metadata": {},
     "output_type": "display_data"
    },
    {
     "data": {
      "text/html": [
       "<pre>recommendations finished on 2000/19838 queries. users per second: 13514.8</pre>"
      ],
      "text/plain": [
       "recommendations finished on 2000/19838 queries. users per second: 13514.8"
      ]
     },
     "metadata": {},
     "output_type": "display_data"
    },
    {
     "data": {
      "text/html": [
       "<pre>recommendations finished on 3000/19838 queries. users per second: 13495.5</pre>"
      ],
      "text/plain": [
       "recommendations finished on 3000/19838 queries. users per second: 13495.5"
      ]
     },
     "metadata": {},
     "output_type": "display_data"
    },
    {
     "data": {
      "text/html": [
       "<pre>recommendations finished on 4000/19838 queries. users per second: 13613.7</pre>"
      ],
      "text/plain": [
       "recommendations finished on 4000/19838 queries. users per second: 13613.7"
      ]
     },
     "metadata": {},
     "output_type": "display_data"
    },
    {
     "data": {
      "text/html": [
       "<pre>recommendations finished on 5000/19838 queries. users per second: 13558.8</pre>"
      ],
      "text/plain": [
       "recommendations finished on 5000/19838 queries. users per second: 13558.8"
      ]
     },
     "metadata": {},
     "output_type": "display_data"
    },
    {
     "data": {
      "text/html": [
       "<pre>recommendations finished on 6000/19838 queries. users per second: 13617</pre>"
      ],
      "text/plain": [
       "recommendations finished on 6000/19838 queries. users per second: 13617"
      ]
     },
     "metadata": {},
     "output_type": "display_data"
    },
    {
     "data": {
      "text/html": [
       "<pre>recommendations finished on 7000/19838 queries. users per second: 13573.7</pre>"
      ],
      "text/plain": [
       "recommendations finished on 7000/19838 queries. users per second: 13573.7"
      ]
     },
     "metadata": {},
     "output_type": "display_data"
    },
    {
     "data": {
      "text/html": [
       "<pre>recommendations finished on 8000/19838 queries. users per second: 13616.4</pre>"
      ],
      "text/plain": [
       "recommendations finished on 8000/19838 queries. users per second: 13616.4"
      ]
     },
     "metadata": {},
     "output_type": "display_data"
    },
    {
     "data": {
      "text/html": [
       "<pre>recommendations finished on 9000/19838 queries. users per second: 13593.8</pre>"
      ],
      "text/plain": [
       "recommendations finished on 9000/19838 queries. users per second: 13593.8"
      ]
     },
     "metadata": {},
     "output_type": "display_data"
    },
    {
     "data": {
      "text/html": [
       "<pre>recommendations finished on 10000/19838 queries. users per second: 13635.6</pre>"
      ],
      "text/plain": [
       "recommendations finished on 10000/19838 queries. users per second: 13635.6"
      ]
     },
     "metadata": {},
     "output_type": "display_data"
    },
    {
     "data": {
      "text/html": [
       "<pre>recommendations finished on 11000/19838 queries. users per second: 13599.2</pre>"
      ],
      "text/plain": [
       "recommendations finished on 11000/19838 queries. users per second: 13599.2"
      ]
     },
     "metadata": {},
     "output_type": "display_data"
    },
    {
     "data": {
      "text/html": [
       "<pre>recommendations finished on 12000/19838 queries. users per second: 13586.8</pre>"
      ],
      "text/plain": [
       "recommendations finished on 12000/19838 queries. users per second: 13586.8"
      ]
     },
     "metadata": {},
     "output_type": "display_data"
    },
    {
     "data": {
      "text/html": [
       "<pre>recommendations finished on 13000/19838 queries. users per second: 13493.1</pre>"
      ],
      "text/plain": [
       "recommendations finished on 13000/19838 queries. users per second: 13493.1"
      ]
     },
     "metadata": {},
     "output_type": "display_data"
    },
    {
     "data": {
      "text/html": [
       "<pre>recommendations finished on 14000/19838 queries. users per second: 13482</pre>"
      ],
      "text/plain": [
       "recommendations finished on 14000/19838 queries. users per second: 13482"
      ]
     },
     "metadata": {},
     "output_type": "display_data"
    },
    {
     "data": {
      "text/html": [
       "<pre>recommendations finished on 15000/19838 queries. users per second: 13468.6</pre>"
      ],
      "text/plain": [
       "recommendations finished on 15000/19838 queries. users per second: 13468.6"
      ]
     },
     "metadata": {},
     "output_type": "display_data"
    },
    {
     "data": {
      "text/html": [
       "<pre>recommendations finished on 16000/19838 queries. users per second: 13486</pre>"
      ],
      "text/plain": [
       "recommendations finished on 16000/19838 queries. users per second: 13486"
      ]
     },
     "metadata": {},
     "output_type": "display_data"
    },
    {
     "data": {
      "text/html": [
       "<pre>recommendations finished on 17000/19838 queries. users per second: 13470.8</pre>"
      ],
      "text/plain": [
       "recommendations finished on 17000/19838 queries. users per second: 13470.8"
      ]
     },
     "metadata": {},
     "output_type": "display_data"
    },
    {
     "data": {
      "text/html": [
       "<pre>recommendations finished on 18000/19838 queries. users per second: 13464.2</pre>"
      ],
      "text/plain": [
       "recommendations finished on 18000/19838 queries. users per second: 13464.2"
      ]
     },
     "metadata": {},
     "output_type": "display_data"
    },
    {
     "data": {
      "text/html": [
       "<pre>recommendations finished on 19000/19838 queries. users per second: 13435.8</pre>"
      ],
      "text/plain": [
       "recommendations finished on 19000/19838 queries. users per second: 13435.8"
      ]
     },
     "metadata": {},
     "output_type": "display_data"
    },
    {
     "name": "stdout",
     "output_type": "stream",
     "text": [
      "\n",
      "Precision and recall summary statistics by cutoff\n",
      "+--------+------------------------+-----------------------+\n",
      "| cutoff |     mean_precision     |      mean_recall      |\n",
      "+--------+------------------------+-----------------------+\n",
      "|   1    | 0.0001008166145780825  | 0.0001008166145780825 |\n",
      "|   2    | 0.0001008166145780825  |  0.000201633229156165 |\n",
      "|   3    | 0.0001344221527707764  |  0.00040326645831233  |\n",
      "|   4    | 0.00011341869140034283 | 0.0004536747656013713 |\n",
      "|   5    | 0.00011089827603589066 | 0.0005544913801794518 |\n",
      "|   6    | 0.00010081661457808254 | 0.0006048996874684941 |\n",
      "|   7    | 0.00012242017484481434 | 0.0008569412239137011 |\n",
      "|   8    | 0.00013232180663373327 | 0.0010585744530698662 |\n",
      "|   9    | 0.00011761938367442962 | 0.0010585744530698655 |\n",
      "|   10   | 0.00011593910676479494 | 0.0011593910676479494 |\n",
      "+--------+------------------------+-----------------------+\n",
      "[10 rows x 3 columns]\n",
      "\n",
      "\n",
      "Overall RMSE: 0.27494936913444645\n",
      "\n",
      "Per User RMSE (best)\n",
      "+-------------------------------+------+-------+\n",
      "|       customer_unique_id      | rmse | count |\n",
      "+-------------------------------+------+-------+\n",
      "| d2da929fa57473521f1f3b9146... | 0.0  |   1   |\n",
      "+-------------------------------+------+-------+\n",
      "[1 rows x 3 columns]\n",
      "\n",
      "\n",
      "Per User RMSE (worst)\n",
      "+-------------------------------+--------------------+-------+\n",
      "|       customer_unique_id      |        rmse        | count |\n",
      "+-------------------------------+--------------------+-------+\n",
      "| 78e33e5734c2ff3703426bc781... | 0.7422346904815784 |   1   |\n",
      "+-------------------------------+--------------------+-------+\n",
      "[1 rows x 3 columns]\n",
      "\n",
      "\n",
      "Per Item RMSE (best)\n",
      "+-------------------------------+------+-------+\n",
      "|           product_id          | rmse | count |\n",
      "+-------------------------------+------+-------+\n",
      "| 426c58d69aa402e5397c4b6471... | 0.0  |   1   |\n",
      "+-------------------------------+------+-------+\n",
      "[1 rows x 3 columns]\n",
      "\n",
      "\n",
      "Per Item RMSE (worst)\n",
      "+-------------------------------+--------------------+-------+\n",
      "|           product_id          |        rmse        | count |\n",
      "+-------------------------------+--------------------+-------+\n",
      "| aa280150a33dde34c7f568bbc2... | 0.7422346904815784 |   1   |\n",
      "+-------------------------------+--------------------+-------+\n",
      "[1 rows x 3 columns]\n",
      "\n",
      "PROGRESS: Evaluate model Cosine Similarity on Scaled Review\n"
     ]
    },
    {
     "data": {
      "text/html": [
       "<pre>recommendations finished on 1000/19838 queries. users per second: 13455.9</pre>"
      ],
      "text/plain": [
       "recommendations finished on 1000/19838 queries. users per second: 13455.9"
      ]
     },
     "metadata": {},
     "output_type": "display_data"
    },
    {
     "data": {
      "text/html": [
       "<pre>recommendations finished on 2000/19838 queries. users per second: 13059.1</pre>"
      ],
      "text/plain": [
       "recommendations finished on 2000/19838 queries. users per second: 13059.1"
      ]
     },
     "metadata": {},
     "output_type": "display_data"
    },
    {
     "data": {
      "text/html": [
       "<pre>recommendations finished on 3000/19838 queries. users per second: 13158.3</pre>"
      ],
      "text/plain": [
       "recommendations finished on 3000/19838 queries. users per second: 13158.3"
      ]
     },
     "metadata": {},
     "output_type": "display_data"
    },
    {
     "data": {
      "text/html": [
       "<pre>recommendations finished on 4000/19838 queries. users per second: 13312.7</pre>"
      ],
      "text/plain": [
       "recommendations finished on 4000/19838 queries. users per second: 13312.7"
      ]
     },
     "metadata": {},
     "output_type": "display_data"
    },
    {
     "data": {
      "text/html": [
       "<pre>recommendations finished on 5000/19838 queries. users per second: 13264.4</pre>"
      ],
      "text/plain": [
       "recommendations finished on 5000/19838 queries. users per second: 13264.4"
      ]
     },
     "metadata": {},
     "output_type": "display_data"
    },
    {
     "data": {
      "text/html": [
       "<pre>recommendations finished on 6000/19838 queries. users per second: 13257.3</pre>"
      ],
      "text/plain": [
       "recommendations finished on 6000/19838 queries. users per second: 13257.3"
      ]
     },
     "metadata": {},
     "output_type": "display_data"
    },
    {
     "data": {
      "text/html": [
       "<pre>recommendations finished on 7000/19838 queries. users per second: 13272.8</pre>"
      ],
      "text/plain": [
       "recommendations finished on 7000/19838 queries. users per second: 13272.8"
      ]
     },
     "metadata": {},
     "output_type": "display_data"
    },
    {
     "data": {
      "text/html": [
       "<pre>recommendations finished on 8000/19838 queries. users per second: 13351</pre>"
      ],
      "text/plain": [
       "recommendations finished on 8000/19838 queries. users per second: 13351"
      ]
     },
     "metadata": {},
     "output_type": "display_data"
    },
    {
     "data": {
      "text/html": [
       "<pre>recommendations finished on 9000/19838 queries. users per second: 13359.4</pre>"
      ],
      "text/plain": [
       "recommendations finished on 9000/19838 queries. users per second: 13359.4"
      ]
     },
     "metadata": {},
     "output_type": "display_data"
    },
    {
     "data": {
      "text/html": [
       "<pre>recommendations finished on 10000/19838 queries. users per second: 13357.3</pre>"
      ],
      "text/plain": [
       "recommendations finished on 10000/19838 queries. users per second: 13357.3"
      ]
     },
     "metadata": {},
     "output_type": "display_data"
    },
    {
     "data": {
      "text/html": [
       "<pre>recommendations finished on 11000/19838 queries. users per second: 13384.8</pre>"
      ],
      "text/plain": [
       "recommendations finished on 11000/19838 queries. users per second: 13384.8"
      ]
     },
     "metadata": {},
     "output_type": "display_data"
    },
    {
     "data": {
      "text/html": [
       "<pre>recommendations finished on 12000/19838 queries. users per second: 13367.6</pre>"
      ],
      "text/plain": [
       "recommendations finished on 12000/19838 queries. users per second: 13367.6"
      ]
     },
     "metadata": {},
     "output_type": "display_data"
    },
    {
     "data": {
      "text/html": [
       "<pre>recommendations finished on 13000/19838 queries. users per second: 13277.1</pre>"
      ],
      "text/plain": [
       "recommendations finished on 13000/19838 queries. users per second: 13277.1"
      ]
     },
     "metadata": {},
     "output_type": "display_data"
    },
    {
     "data": {
      "text/html": [
       "<pre>recommendations finished on 14000/19838 queries. users per second: 13220.7</pre>"
      ],
      "text/plain": [
       "recommendations finished on 14000/19838 queries. users per second: 13220.7"
      ]
     },
     "metadata": {},
     "output_type": "display_data"
    },
    {
     "data": {
      "text/html": [
       "<pre>recommendations finished on 15000/19838 queries. users per second: 13234.5</pre>"
      ],
      "text/plain": [
       "recommendations finished on 15000/19838 queries. users per second: 13234.5"
      ]
     },
     "metadata": {},
     "output_type": "display_data"
    },
    {
     "data": {
      "text/html": [
       "<pre>recommendations finished on 16000/19838 queries. users per second: 13248.2</pre>"
      ],
      "text/plain": [
       "recommendations finished on 16000/19838 queries. users per second: 13248.2"
      ]
     },
     "metadata": {},
     "output_type": "display_data"
    },
    {
     "data": {
      "text/html": [
       "<pre>recommendations finished on 17000/19838 queries. users per second: 13226.3</pre>"
      ],
      "text/plain": [
       "recommendations finished on 17000/19838 queries. users per second: 13226.3"
      ]
     },
     "metadata": {},
     "output_type": "display_data"
    },
    {
     "data": {
      "text/html": [
       "<pre>recommendations finished on 18000/19838 queries. users per second: 13223.6</pre>"
      ],
      "text/plain": [
       "recommendations finished on 18000/19838 queries. users per second: 13223.6"
      ]
     },
     "metadata": {},
     "output_type": "display_data"
    },
    {
     "data": {
      "text/html": [
       "<pre>recommendations finished on 19000/19838 queries. users per second: 13216.1</pre>"
      ],
      "text/plain": [
       "recommendations finished on 19000/19838 queries. users per second: 13216.1"
      ]
     },
     "metadata": {},
     "output_type": "display_data"
    },
    {
     "name": "stdout",
     "output_type": "stream",
     "text": [
      "\n",
      "Precision and recall summary statistics by cutoff\n",
      "+--------+------------------------+-----------------------+\n",
      "| cutoff |     mean_precision     |      mean_recall      |\n",
      "+--------+------------------------+-----------------------+\n",
      "|   1    | 0.0012602076822260339  |  0.001209799374936991 |\n",
      "|   2    | 0.0010081661457808269  | 0.0019407198306280917 |\n",
      "|   3    | 0.0008569412239137013  |  0.002470007057163023 |\n",
      "|   4    | 0.0006931142252243168  |  0.002671640286319185 |\n",
      "|   5    | 0.0005847363645528776  |  0.002822865208186312 |\n",
      "|   6    | 0.0004956816883422395  | 0.0028732735154753533 |\n",
      "|   7    | 0.0004320712053346394  | 0.0029236818227643914 |\n",
      "|   8    | 0.0003780623046678098  |  0.002923681822764396 |\n",
      "|   9    | 0.0003528581510232886  |  0.003074906744631518 |\n",
      "|   10   | 0.00033269482810767165 |  0.003226131666498644 |\n",
      "+--------+------------------------+-----------------------+\n",
      "[10 rows x 3 columns]\n",
      "\n",
      "\n",
      "Overall RMSE: 0.2484541891668454\n",
      "\n",
      "Per User RMSE (best)\n",
      "+-------------------------------+---------------------+-------+\n",
      "|       customer_unique_id      |         rmse        | count |\n",
      "+-------------------------------+---------------------+-------+\n",
      "| e1015df046a6e086818dc851b6... | 0.00650566390313698 |   1   |\n",
      "+-------------------------------+---------------------+-------+\n",
      "[1 rows x 3 columns]\n",
      "\n",
      "\n",
      "Per User RMSE (worst)\n",
      "+-------------------------------+--------------------+-------+\n",
      "|       customer_unique_id      |        rmse        | count |\n",
      "+-------------------------------+--------------------+-------+\n",
      "| 12c380ee1d82a3c375a07a8cd7... | 0.6374150945069356 |   1   |\n",
      "+-------------------------------+--------------------+-------+\n",
      "[1 rows x 3 columns]\n",
      "\n",
      "\n",
      "Per Item RMSE (best)\n",
      "+-------------------------------+----------------------+-------+\n",
      "|           product_id          |         rmse         | count |\n",
      "+-------------------------------+----------------------+-------+\n",
      "| 30b426aecc4e322e14030c1f38... | 0.015950913937469256 |   2   |\n",
      "+-------------------------------+----------------------+-------+\n",
      "[1 rows x 3 columns]\n",
      "\n",
      "\n",
      "Per Item RMSE (worst)\n",
      "+-------------------------------+--------------------+-------+\n",
      "|           product_id          |        rmse        | count |\n",
      "+-------------------------------+--------------------+-------+\n",
      "| 197f7d1d3a8b0bf0c8f0394ff7... | 0.6374150945069356 |   1   |\n",
      "+-------------------------------+--------------------+-------+\n",
      "[1 rows x 3 columns]\n",
      "\n",
      "PROGRESS: Evaluate model Pearson Similarity on Scaled Review\n"
     ]
    },
    {
     "data": {
      "text/html": [
       "<pre>recommendations finished on 1000/19838 queries. users per second: 12638.6</pre>"
      ],
      "text/plain": [
       "recommendations finished on 1000/19838 queries. users per second: 12638.6"
      ]
     },
     "metadata": {},
     "output_type": "display_data"
    },
    {
     "data": {
      "text/html": [
       "<pre>recommendations finished on 2000/19838 queries. users per second: 12146.4</pre>"
      ],
      "text/plain": [
       "recommendations finished on 2000/19838 queries. users per second: 12146.4"
      ]
     },
     "metadata": {},
     "output_type": "display_data"
    },
    {
     "data": {
      "text/html": [
       "<pre>recommendations finished on 3000/19838 queries. users per second: 12187.2</pre>"
      ],
      "text/plain": [
       "recommendations finished on 3000/19838 queries. users per second: 12187.2"
      ]
     },
     "metadata": {},
     "output_type": "display_data"
    },
    {
     "data": {
      "text/html": [
       "<pre>recommendations finished on 4000/19838 queries. users per second: 12291.4</pre>"
      ],
      "text/plain": [
       "recommendations finished on 4000/19838 queries. users per second: 12291.4"
      ]
     },
     "metadata": {},
     "output_type": "display_data"
    },
    {
     "data": {
      "text/html": [
       "<pre>recommendations finished on 5000/19838 queries. users per second: 12254</pre>"
      ],
      "text/plain": [
       "recommendations finished on 5000/19838 queries. users per second: 12254"
      ]
     },
     "metadata": {},
     "output_type": "display_data"
    },
    {
     "data": {
      "text/html": [
       "<pre>recommendations finished on 6000/19838 queries. users per second: 12237.9</pre>"
      ],
      "text/plain": [
       "recommendations finished on 6000/19838 queries. users per second: 12237.9"
      ]
     },
     "metadata": {},
     "output_type": "display_data"
    },
    {
     "data": {
      "text/html": [
       "<pre>recommendations finished on 7000/19838 queries. users per second: 12230.6</pre>"
      ],
      "text/plain": [
       "recommendations finished on 7000/19838 queries. users per second: 12230.6"
      ]
     },
     "metadata": {},
     "output_type": "display_data"
    },
    {
     "data": {
      "text/html": [
       "<pre>recommendations finished on 8000/19838 queries. users per second: 12226.8</pre>"
      ],
      "text/plain": [
       "recommendations finished on 8000/19838 queries. users per second: 12226.8"
      ]
     },
     "metadata": {},
     "output_type": "display_data"
    },
    {
     "data": {
      "text/html": [
       "<pre>recommendations finished on 9000/19838 queries. users per second: 12281.8</pre>"
      ],
      "text/plain": [
       "recommendations finished on 9000/19838 queries. users per second: 12281.8"
      ]
     },
     "metadata": {},
     "output_type": "display_data"
    },
    {
     "data": {
      "text/html": [
       "<pre>recommendations finished on 10000/19838 queries. users per second: 12265.2</pre>"
      ],
      "text/plain": [
       "recommendations finished on 10000/19838 queries. users per second: 12265.2"
      ]
     },
     "metadata": {},
     "output_type": "display_data"
    },
    {
     "data": {
      "text/html": [
       "<pre>recommendations finished on 11000/19838 queries. users per second: 12236.7</pre>"
      ],
      "text/plain": [
       "recommendations finished on 11000/19838 queries. users per second: 12236.7"
      ]
     },
     "metadata": {},
     "output_type": "display_data"
    },
    {
     "data": {
      "text/html": [
       "<pre>recommendations finished on 12000/19838 queries. users per second: 12200.5</pre>"
      ],
      "text/plain": [
       "recommendations finished on 12000/19838 queries. users per second: 12200.5"
      ]
     },
     "metadata": {},
     "output_type": "display_data"
    },
    {
     "data": {
      "text/html": [
       "<pre>recommendations finished on 13000/19838 queries. users per second: 12175.5</pre>"
      ],
      "text/plain": [
       "recommendations finished on 13000/19838 queries. users per second: 12175.5"
      ]
     },
     "metadata": {},
     "output_type": "display_data"
    },
    {
     "data": {
      "text/html": [
       "<pre>recommendations finished on 14000/19838 queries. users per second: 12147.8</pre>"
      ],
      "text/plain": [
       "recommendations finished on 14000/19838 queries. users per second: 12147.8"
      ]
     },
     "metadata": {},
     "output_type": "display_data"
    },
    {
     "data": {
      "text/html": [
       "<pre>recommendations finished on 15000/19838 queries. users per second: 12160.4</pre>"
      ],
      "text/plain": [
       "recommendations finished on 15000/19838 queries. users per second: 12160.4"
      ]
     },
     "metadata": {},
     "output_type": "display_data"
    },
    {
     "data": {
      "text/html": [
       "<pre>recommendations finished on 16000/19838 queries. users per second: 12162.1</pre>"
      ],
      "text/plain": [
       "recommendations finished on 16000/19838 queries. users per second: 12162.1"
      ]
     },
     "metadata": {},
     "output_type": "display_data"
    },
    {
     "data": {
      "text/html": [
       "<pre>recommendations finished on 17000/19838 queries. users per second: 12097.1</pre>"
      ],
      "text/plain": [
       "recommendations finished on 17000/19838 queries. users per second: 12097.1"
      ]
     },
     "metadata": {},
     "output_type": "display_data"
    },
    {
     "data": {
      "text/html": [
       "<pre>recommendations finished on 18000/19838 queries. users per second: 12091.1</pre>"
      ],
      "text/plain": [
       "recommendations finished on 18000/19838 queries. users per second: 12091.1"
      ]
     },
     "metadata": {},
     "output_type": "display_data"
    },
    {
     "data": {
      "text/html": [
       "<pre>recommendations finished on 19000/19838 queries. users per second: 12075.2</pre>"
      ],
      "text/plain": [
       "recommendations finished on 19000/19838 queries. users per second: 12075.2"
      ]
     },
     "metadata": {},
     "output_type": "display_data"
    },
    {
     "name": "stdout",
     "output_type": "stream",
     "text": [
      "\n",
      "Precision and recall summary statistics by cutoff\n",
      "+--------+------------------------+-----------------------+\n",
      "| cutoff |     mean_precision     |      mean_recall      |\n",
      "+--------+------------------------+-----------------------+\n",
      "|   1    |          0.0           |          0.0          |\n",
      "|   2    |          0.0           |          0.0          |\n",
      "|   3    |          0.0           |          0.0          |\n",
      "|   4    | 1.2602076822260312e-05 | 5.040830728904125e-05 |\n",
      "|   5    | 1.0081661457808212e-05 | 5.040830728904125e-05 |\n",
      "|   6    |  8.40138454817354e-06  | 5.040830728904125e-05 |\n",
      "|   7    | 7.201186755577316e-06  | 5.040830728904125e-05 |\n",
      "|   8    | 6.301038411130156e-06  | 5.040830728904125e-05 |\n",
      "|   9    |  5.60092303211569e-06  | 5.040830728904125e-05 |\n",
      "|   10   | 5.0408307289041125e-06 | 5.040830728904125e-05 |\n",
      "+--------+------------------------+-----------------------+\n",
      "[10 rows x 3 columns]\n",
      "\n",
      "\n",
      "Overall RMSE: 0.2749796642774072\n",
      "\n",
      "Per User RMSE (best)\n",
      "+-------------------------------+------+-------+\n",
      "|       customer_unique_id      | rmse | count |\n",
      "+-------------------------------+------+-------+\n",
      "| d2da929fa57473521f1f3b9146... | 0.0  |   1   |\n",
      "+-------------------------------+------+-------+\n",
      "[1 rows x 3 columns]\n",
      "\n",
      "\n",
      "Per User RMSE (worst)\n",
      "+-------------------------------+--------------------+-------+\n",
      "|       customer_unique_id      |        rmse        | count |\n",
      "+-------------------------------+--------------------+-------+\n",
      "| 78e33e5734c2ff3703426bc781... | 0.7422346904815784 |   1   |\n",
      "+-------------------------------+--------------------+-------+\n",
      "[1 rows x 3 columns]\n",
      "\n",
      "\n",
      "Per Item RMSE (best)\n",
      "+-------------------------------+------+-------+\n",
      "|           product_id          | rmse | count |\n",
      "+-------------------------------+------+-------+\n",
      "| 426c58d69aa402e5397c4b6471... | 0.0  |   1   |\n",
      "+-------------------------------+------+-------+\n",
      "[1 rows x 3 columns]\n",
      "\n",
      "\n",
      "Per Item RMSE (worst)\n",
      "+-------------------------------+--------------------+-------+\n",
      "|           product_id          |        rmse        | count |\n",
      "+-------------------------------+--------------------+-------+\n",
      "| aa280150a33dde34c7f568bbc2... | 0.7422346904815784 |   1   |\n",
      "+-------------------------------+--------------------+-------+\n",
      "[1 rows x 3 columns]\n",
      "\n"
     ]
    }
   ],
   "source": [
    "eval_counts = tc.recommender.util.compare_models(test_data, models_w_counts, model_names=names_w_counts)\n",
    "\n",
    "eval_norm = tc.recommender.util.compare_models(test_data_norm, models_w_norm, model_names=names_w_norm)"
   ]
  },
  {
   "cell_type": "markdown",
   "metadata": {},
   "source": [
    "**Original Dataset**:\n",
    "\n",
    "\n",
    "**Popularity Model** *RMSE*: 1.4900\n",
    "**Cosine Similarity** *RMSE*: 4.2825\n",
    "**Pearson Correlation** *RMSE*:  2.4281\n",
    "\n",
    "**Normalized Dataset**:\n",
    "\n",
    "\n",
    "**Popularity Model** *RMSE*: 0.2749\n",
    "**Cosine Similarity** *RMSE*: 0.24\n",
    "**Pearson Correlation** *RMSE*: 0.27\n",
    "\n",
    "The best model is the Collaborative filtering model with Cosine Similarity and normalized and standardized data\n"
   ]
  },
  {
   "cell_type": "markdown",
   "metadata": {},
   "source": [
    "The final recommendation is printed based on the lower RMSE"
   ]
  },
  {
   "cell_type": "code",
   "execution_count": 67,
   "metadata": {},
   "outputs": [
    {
     "data": {
      "text/html": [
       "<pre>Preparing data set.</pre>"
      ],
      "text/plain": [
       "Preparing data set."
      ]
     },
     "metadata": {},
     "output_type": "display_data"
    },
    {
     "data": {
      "text/html": [
       "<pre>    Data has 100638 observations with 94007 users and 32541 items.</pre>"
      ],
      "text/plain": [
       "    Data has 100638 observations with 94007 users and 32541 items."
      ]
     },
     "metadata": {},
     "output_type": "display_data"
    },
    {
     "data": {
      "text/html": [
       "<pre>    Data prepared in: 0.166214s</pre>"
      ],
      "text/plain": [
       "    Data prepared in: 0.166214s"
      ]
     },
     "metadata": {},
     "output_type": "display_data"
    },
    {
     "data": {
      "text/html": [
       "<pre>Training model from provided data.</pre>"
      ],
      "text/plain": [
       "Training model from provided data."
      ]
     },
     "metadata": {},
     "output_type": "display_data"
    },
    {
     "data": {
      "text/html": [
       "<pre>Gathering per-item and per-user statistics.</pre>"
      ],
      "text/plain": [
       "Gathering per-item and per-user statistics."
      ]
     },
     "metadata": {},
     "output_type": "display_data"
    },
    {
     "data": {
      "text/html": [
       "<pre>+--------------------------------+------------+</pre>"
      ],
      "text/plain": [
       "+--------------------------------+------------+"
      ]
     },
     "metadata": {},
     "output_type": "display_data"
    },
    {
     "data": {
      "text/html": [
       "<pre>| Elapsed Time (Item Statistics) | % Complete |</pre>"
      ],
      "text/plain": [
       "| Elapsed Time (Item Statistics) | % Complete |"
      ]
     },
     "metadata": {},
     "output_type": "display_data"
    },
    {
     "data": {
      "text/html": [
       "<pre>+--------------------------------+------------+</pre>"
      ],
      "text/plain": [
       "+--------------------------------+------------+"
      ]
     },
     "metadata": {},
     "output_type": "display_data"
    },
    {
     "data": {
      "text/html": [
       "<pre>| 882us                          | 1          |</pre>"
      ],
      "text/plain": [
       "| 882us                          | 1          |"
      ]
     },
     "metadata": {},
     "output_type": "display_data"
    },
    {
     "data": {
      "text/html": [
       "<pre>| 12.234ms                       | 100        |</pre>"
      ],
      "text/plain": [
       "| 12.234ms                       | 100        |"
      ]
     },
     "metadata": {},
     "output_type": "display_data"
    },
    {
     "data": {
      "text/html": [
       "<pre>+--------------------------------+------------+</pre>"
      ],
      "text/plain": [
       "+--------------------------------+------------+"
      ]
     },
     "metadata": {},
     "output_type": "display_data"
    },
    {
     "data": {
      "text/html": [
       "<pre>Setting up lookup tables.</pre>"
      ],
      "text/plain": [
       "Setting up lookup tables."
      ]
     },
     "metadata": {},
     "output_type": "display_data"
    },
    {
     "data": {
      "text/html": [
       "<pre>Processing data in one pass using dense lookup tables.</pre>"
      ],
      "text/plain": [
       "Processing data in one pass using dense lookup tables."
      ]
     },
     "metadata": {},
     "output_type": "display_data"
    },
    {
     "data": {
      "text/html": [
       "<pre>+-------------------------------------+------------------+-----------------+</pre>"
      ],
      "text/plain": [
       "+-------------------------------------+------------------+-----------------+"
      ]
     },
     "metadata": {},
     "output_type": "display_data"
    },
    {
     "data": {
      "text/html": [
       "<pre>| Elapsed Time (Constructing Lookups) | Total % Complete | Items Processed |</pre>"
      ],
      "text/plain": [
       "| Elapsed Time (Constructing Lookups) | Total % Complete | Items Processed |"
      ]
     },
     "metadata": {},
     "output_type": "display_data"
    },
    {
     "data": {
      "text/html": [
       "<pre>+-------------------------------------+------------------+-----------------+</pre>"
      ],
      "text/plain": [
       "+-------------------------------------+------------------+-----------------+"
      ]
     },
     "metadata": {},
     "output_type": "display_data"
    },
    {
     "data": {
      "text/html": [
       "<pre>| 1.94s                               | 0                | 0               |</pre>"
      ],
      "text/plain": [
       "| 1.94s                               | 0                | 0               |"
      ]
     },
     "metadata": {},
     "output_type": "display_data"
    },
    {
     "data": {
      "text/html": [
       "<pre>| 5.05s                               | 100              | 32541           |</pre>"
      ],
      "text/plain": [
       "| 5.05s                               | 100              | 32541           |"
      ]
     },
     "metadata": {},
     "output_type": "display_data"
    },
    {
     "data": {
      "text/html": [
       "<pre>+-------------------------------------+------------------+-----------------+</pre>"
      ],
      "text/plain": [
       "+-------------------------------------+------------------+-----------------+"
      ]
     },
     "metadata": {},
     "output_type": "display_data"
    },
    {
     "data": {
      "text/html": [
       "<pre>Finalizing lookup tables.</pre>"
      ],
      "text/plain": [
       "Finalizing lookup tables."
      ]
     },
     "metadata": {},
     "output_type": "display_data"
    },
    {
     "data": {
      "text/html": [
       "<pre>Generating candidate set for working with new users.</pre>"
      ],
      "text/plain": [
       "Generating candidate set for working with new users."
      ]
     },
     "metadata": {},
     "output_type": "display_data"
    },
    {
     "data": {
      "text/html": [
       "<pre>Finished training in 5.06808s</pre>"
      ],
      "text/plain": [
       "Finished training in 5.06808s"
      ]
     },
     "metadata": {},
     "output_type": "display_data"
    },
    {
     "data": {
      "text/html": [
       "<pre>recommendations finished on 1000/100638 queries. users per second: 12621.3</pre>"
      ],
      "text/plain": [
       "recommendations finished on 1000/100638 queries. users per second: 12621.3"
      ]
     },
     "metadata": {},
     "output_type": "display_data"
    },
    {
     "data": {
      "text/html": [
       "<pre>recommendations finished on 2000/100638 queries. users per second: 12385.9</pre>"
      ],
      "text/plain": [
       "recommendations finished on 2000/100638 queries. users per second: 12385.9"
      ]
     },
     "metadata": {},
     "output_type": "display_data"
    },
    {
     "data": {
      "text/html": [
       "<pre>recommendations finished on 3000/100638 queries. users per second: 12307.1</pre>"
      ],
      "text/plain": [
       "recommendations finished on 3000/100638 queries. users per second: 12307.1"
      ]
     },
     "metadata": {},
     "output_type": "display_data"
    },
    {
     "data": {
      "text/html": [
       "<pre>recommendations finished on 4000/100638 queries. users per second: 12257.2</pre>"
      ],
      "text/plain": [
       "recommendations finished on 4000/100638 queries. users per second: 12257.2"
      ]
     },
     "metadata": {},
     "output_type": "display_data"
    },
    {
     "data": {
      "text/html": [
       "<pre>recommendations finished on 5000/100638 queries. users per second: 12216.8</pre>"
      ],
      "text/plain": [
       "recommendations finished on 5000/100638 queries. users per second: 12216.8"
      ]
     },
     "metadata": {},
     "output_type": "display_data"
    },
    {
     "data": {
      "text/html": [
       "<pre>recommendations finished on 6000/100638 queries. users per second: 12202.9</pre>"
      ],
      "text/plain": [
       "recommendations finished on 6000/100638 queries. users per second: 12202.9"
      ]
     },
     "metadata": {},
     "output_type": "display_data"
    },
    {
     "data": {
      "text/html": [
       "<pre>recommendations finished on 7000/100638 queries. users per second: 12182.7</pre>"
      ],
      "text/plain": [
       "recommendations finished on 7000/100638 queries. users per second: 12182.7"
      ]
     },
     "metadata": {},
     "output_type": "display_data"
    },
    {
     "data": {
      "text/html": [
       "<pre>recommendations finished on 8000/100638 queries. users per second: 12173.7</pre>"
      ],
      "text/plain": [
       "recommendations finished on 8000/100638 queries. users per second: 12173.7"
      ]
     },
     "metadata": {},
     "output_type": "display_data"
    },
    {
     "data": {
      "text/html": [
       "<pre>recommendations finished on 9000/100638 queries. users per second: 12174.5</pre>"
      ],
      "text/plain": [
       "recommendations finished on 9000/100638 queries. users per second: 12174.5"
      ]
     },
     "metadata": {},
     "output_type": "display_data"
    },
    {
     "data": {
      "text/html": [
       "<pre>recommendations finished on 10000/100638 queries. users per second: 12169.3</pre>"
      ],
      "text/plain": [
       "recommendations finished on 10000/100638 queries. users per second: 12169.3"
      ]
     },
     "metadata": {},
     "output_type": "display_data"
    },
    {
     "data": {
      "text/html": [
       "<pre>recommendations finished on 11000/100638 queries. users per second: 12179.9</pre>"
      ],
      "text/plain": [
       "recommendations finished on 11000/100638 queries. users per second: 12179.9"
      ]
     },
     "metadata": {},
     "output_type": "display_data"
    },
    {
     "data": {
      "text/html": [
       "<pre>recommendations finished on 12000/100638 queries. users per second: 12185.5</pre>"
      ],
      "text/plain": [
       "recommendations finished on 12000/100638 queries. users per second: 12185.5"
      ]
     },
     "metadata": {},
     "output_type": "display_data"
    },
    {
     "data": {
      "text/html": [
       "<pre>recommendations finished on 13000/100638 queries. users per second: 12180.2</pre>"
      ],
      "text/plain": [
       "recommendations finished on 13000/100638 queries. users per second: 12180.2"
      ]
     },
     "metadata": {},
     "output_type": "display_data"
    },
    {
     "data": {
      "text/html": [
       "<pre>recommendations finished on 14000/100638 queries. users per second: 12168.4</pre>"
      ],
      "text/plain": [
       "recommendations finished on 14000/100638 queries. users per second: 12168.4"
      ]
     },
     "metadata": {},
     "output_type": "display_data"
    },
    {
     "data": {
      "text/html": [
       "<pre>recommendations finished on 15000/100638 queries. users per second: 12011.9</pre>"
      ],
      "text/plain": [
       "recommendations finished on 15000/100638 queries. users per second: 12011.9"
      ]
     },
     "metadata": {},
     "output_type": "display_data"
    },
    {
     "data": {
      "text/html": [
       "<pre>recommendations finished on 16000/100638 queries. users per second: 11736.9</pre>"
      ],
      "text/plain": [
       "recommendations finished on 16000/100638 queries. users per second: 11736.9"
      ]
     },
     "metadata": {},
     "output_type": "display_data"
    },
    {
     "data": {
      "text/html": [
       "<pre>recommendations finished on 17000/100638 queries. users per second: 11512.7</pre>"
      ],
      "text/plain": [
       "recommendations finished on 17000/100638 queries. users per second: 11512.7"
      ]
     },
     "metadata": {},
     "output_type": "display_data"
    },
    {
     "data": {
      "text/html": [
       "<pre>recommendations finished on 18000/100638 queries. users per second: 11409.9</pre>"
      ],
      "text/plain": [
       "recommendations finished on 18000/100638 queries. users per second: 11409.9"
      ]
     },
     "metadata": {},
     "output_type": "display_data"
    },
    {
     "data": {
      "text/html": [
       "<pre>recommendations finished on 19000/100638 queries. users per second: 11259.2</pre>"
      ],
      "text/plain": [
       "recommendations finished on 19000/100638 queries. users per second: 11259.2"
      ]
     },
     "metadata": {},
     "output_type": "display_data"
    },
    {
     "data": {
      "text/html": [
       "<pre>recommendations finished on 20000/100638 queries. users per second: 11161.7</pre>"
      ],
      "text/plain": [
       "recommendations finished on 20000/100638 queries. users per second: 11161.7"
      ]
     },
     "metadata": {},
     "output_type": "display_data"
    },
    {
     "data": {
      "text/html": [
       "<pre>recommendations finished on 21000/100638 queries. users per second: 11031.8</pre>"
      ],
      "text/plain": [
       "recommendations finished on 21000/100638 queries. users per second: 11031.8"
      ]
     },
     "metadata": {},
     "output_type": "display_data"
    },
    {
     "data": {
      "text/html": [
       "<pre>recommendations finished on 22000/100638 queries. users per second: 10944.9</pre>"
      ],
      "text/plain": [
       "recommendations finished on 22000/100638 queries. users per second: 10944.9"
      ]
     },
     "metadata": {},
     "output_type": "display_data"
    },
    {
     "data": {
      "text/html": [
       "<pre>recommendations finished on 23000/100638 queries. users per second: 10850.1</pre>"
      ],
      "text/plain": [
       "recommendations finished on 23000/100638 queries. users per second: 10850.1"
      ]
     },
     "metadata": {},
     "output_type": "display_data"
    },
    {
     "data": {
      "text/html": [
       "<pre>recommendations finished on 24000/100638 queries. users per second: 10793.7</pre>"
      ],
      "text/plain": [
       "recommendations finished on 24000/100638 queries. users per second: 10793.7"
      ]
     },
     "metadata": {},
     "output_type": "display_data"
    },
    {
     "data": {
      "text/html": [
       "<pre>recommendations finished on 25000/100638 queries. users per second: 10729.6</pre>"
      ],
      "text/plain": [
       "recommendations finished on 25000/100638 queries. users per second: 10729.6"
      ]
     },
     "metadata": {},
     "output_type": "display_data"
    },
    {
     "data": {
      "text/html": [
       "<pre>recommendations finished on 26000/100638 queries. users per second: 10649</pre>"
      ],
      "text/plain": [
       "recommendations finished on 26000/100638 queries. users per second: 10649"
      ]
     },
     "metadata": {},
     "output_type": "display_data"
    },
    {
     "data": {
      "text/html": [
       "<pre>recommendations finished on 27000/100638 queries. users per second: 10612.1</pre>"
      ],
      "text/plain": [
       "recommendations finished on 27000/100638 queries. users per second: 10612.1"
      ]
     },
     "metadata": {},
     "output_type": "display_data"
    },
    {
     "data": {
      "text/html": [
       "<pre>recommendations finished on 28000/100638 queries. users per second: 10607.2</pre>"
      ],
      "text/plain": [
       "recommendations finished on 28000/100638 queries. users per second: 10607.2"
      ]
     },
     "metadata": {},
     "output_type": "display_data"
    },
    {
     "data": {
      "text/html": [
       "<pre>recommendations finished on 29000/100638 queries. users per second: 10644.7</pre>"
      ],
      "text/plain": [
       "recommendations finished on 29000/100638 queries. users per second: 10644.7"
      ]
     },
     "metadata": {},
     "output_type": "display_data"
    },
    {
     "data": {
      "text/html": [
       "<pre>recommendations finished on 30000/100638 queries. users per second: 10677</pre>"
      ],
      "text/plain": [
       "recommendations finished on 30000/100638 queries. users per second: 10677"
      ]
     },
     "metadata": {},
     "output_type": "display_data"
    },
    {
     "data": {
      "text/html": [
       "<pre>recommendations finished on 31000/100638 queries. users per second: 10707.9</pre>"
      ],
      "text/plain": [
       "recommendations finished on 31000/100638 queries. users per second: 10707.9"
      ]
     },
     "metadata": {},
     "output_type": "display_data"
    },
    {
     "data": {
      "text/html": [
       "<pre>recommendations finished on 32000/100638 queries. users per second: 10738.1</pre>"
      ],
      "text/plain": [
       "recommendations finished on 32000/100638 queries. users per second: 10738.1"
      ]
     },
     "metadata": {},
     "output_type": "display_data"
    },
    {
     "data": {
      "text/html": [
       "<pre>recommendations finished on 33000/100638 queries. users per second: 10767</pre>"
      ],
      "text/plain": [
       "recommendations finished on 33000/100638 queries. users per second: 10767"
      ]
     },
     "metadata": {},
     "output_type": "display_data"
    },
    {
     "data": {
      "text/html": [
       "<pre>recommendations finished on 34000/100638 queries. users per second: 10785.7</pre>"
      ],
      "text/plain": [
       "recommendations finished on 34000/100638 queries. users per second: 10785.7"
      ]
     },
     "metadata": {},
     "output_type": "display_data"
    },
    {
     "data": {
      "text/html": [
       "<pre>recommendations finished on 35000/100638 queries. users per second: 10815.5</pre>"
      ],
      "text/plain": [
       "recommendations finished on 35000/100638 queries. users per second: 10815.5"
      ]
     },
     "metadata": {},
     "output_type": "display_data"
    },
    {
     "data": {
      "text/html": [
       "<pre>recommendations finished on 36000/100638 queries. users per second: 10818.3</pre>"
      ],
      "text/plain": [
       "recommendations finished on 36000/100638 queries. users per second: 10818.3"
      ]
     },
     "metadata": {},
     "output_type": "display_data"
    },
    {
     "data": {
      "text/html": [
       "<pre>recommendations finished on 37000/100638 queries. users per second: 10854.4</pre>"
      ],
      "text/plain": [
       "recommendations finished on 37000/100638 queries. users per second: 10854.4"
      ]
     },
     "metadata": {},
     "output_type": "display_data"
    },
    {
     "data": {
      "text/html": [
       "<pre>recommendations finished on 38000/100638 queries. users per second: 10890.4</pre>"
      ],
      "text/plain": [
       "recommendations finished on 38000/100638 queries. users per second: 10890.4"
      ]
     },
     "metadata": {},
     "output_type": "display_data"
    },
    {
     "data": {
      "text/html": [
       "<pre>recommendations finished on 39000/100638 queries. users per second: 10911.9</pre>"
      ],
      "text/plain": [
       "recommendations finished on 39000/100638 queries. users per second: 10911.9"
      ]
     },
     "metadata": {},
     "output_type": "display_data"
    },
    {
     "data": {
      "text/html": [
       "<pre>recommendations finished on 40000/100638 queries. users per second: 10944.5</pre>"
      ],
      "text/plain": [
       "recommendations finished on 40000/100638 queries. users per second: 10944.5"
      ]
     },
     "metadata": {},
     "output_type": "display_data"
    },
    {
     "data": {
      "text/html": [
       "<pre>recommendations finished on 41000/100638 queries. users per second: 10977.3</pre>"
      ],
      "text/plain": [
       "recommendations finished on 41000/100638 queries. users per second: 10977.3"
      ]
     },
     "metadata": {},
     "output_type": "display_data"
    },
    {
     "data": {
      "text/html": [
       "<pre>recommendations finished on 42000/100638 queries. users per second: 11007.4</pre>"
      ],
      "text/plain": [
       "recommendations finished on 42000/100638 queries. users per second: 11007.4"
      ]
     },
     "metadata": {},
     "output_type": "display_data"
    },
    {
     "data": {
      "text/html": [
       "<pre>recommendations finished on 43000/100638 queries. users per second: 11033.5</pre>"
      ],
      "text/plain": [
       "recommendations finished on 43000/100638 queries. users per second: 11033.5"
      ]
     },
     "metadata": {},
     "output_type": "display_data"
    },
    {
     "data": {
      "text/html": [
       "<pre>recommendations finished on 44000/100638 queries. users per second: 11025.9</pre>"
      ],
      "text/plain": [
       "recommendations finished on 44000/100638 queries. users per second: 11025.9"
      ]
     },
     "metadata": {},
     "output_type": "display_data"
    },
    {
     "data": {
      "text/html": [
       "<pre>recommendations finished on 45000/100638 queries. users per second: 11003.4</pre>"
      ],
      "text/plain": [
       "recommendations finished on 45000/100638 queries. users per second: 11003.4"
      ]
     },
     "metadata": {},
     "output_type": "display_data"
    },
    {
     "data": {
      "text/html": [
       "<pre>recommendations finished on 46000/100638 queries. users per second: 10981.5</pre>"
      ],
      "text/plain": [
       "recommendations finished on 46000/100638 queries. users per second: 10981.5"
      ]
     },
     "metadata": {},
     "output_type": "display_data"
    },
    {
     "data": {
      "text/html": [
       "<pre>recommendations finished on 47000/100638 queries. users per second: 10948.5</pre>"
      ],
      "text/plain": [
       "recommendations finished on 47000/100638 queries. users per second: 10948.5"
      ]
     },
     "metadata": {},
     "output_type": "display_data"
    },
    {
     "data": {
      "text/html": [
       "<pre>recommendations finished on 48000/100638 queries. users per second: 10908.2</pre>"
      ],
      "text/plain": [
       "recommendations finished on 48000/100638 queries. users per second: 10908.2"
      ]
     },
     "metadata": {},
     "output_type": "display_data"
    },
    {
     "data": {
      "text/html": [
       "<pre>recommendations finished on 49000/100638 queries. users per second: 10922.3</pre>"
      ],
      "text/plain": [
       "recommendations finished on 49000/100638 queries. users per second: 10922.3"
      ]
     },
     "metadata": {},
     "output_type": "display_data"
    },
    {
     "data": {
      "text/html": [
       "<pre>recommendations finished on 50000/100638 queries. users per second: 10950.1</pre>"
      ],
      "text/plain": [
       "recommendations finished on 50000/100638 queries. users per second: 10950.1"
      ]
     },
     "metadata": {},
     "output_type": "display_data"
    },
    {
     "data": {
      "text/html": [
       "<pre>recommendations finished on 51000/100638 queries. users per second: 10976.3</pre>"
      ],
      "text/plain": [
       "recommendations finished on 51000/100638 queries. users per second: 10976.3"
      ]
     },
     "metadata": {},
     "output_type": "display_data"
    },
    {
     "data": {
      "text/html": [
       "<pre>recommendations finished on 52000/100638 queries. users per second: 11003.6</pre>"
      ],
      "text/plain": [
       "recommendations finished on 52000/100638 queries. users per second: 11003.6"
      ]
     },
     "metadata": {},
     "output_type": "display_data"
    },
    {
     "data": {
      "text/html": [
       "<pre>recommendations finished on 53000/100638 queries. users per second: 11029.6</pre>"
      ],
      "text/plain": [
       "recommendations finished on 53000/100638 queries. users per second: 11029.6"
      ]
     },
     "metadata": {},
     "output_type": "display_data"
    },
    {
     "data": {
      "text/html": [
       "<pre>recommendations finished on 54000/100638 queries. users per second: 11054.9</pre>"
      ],
      "text/plain": [
       "recommendations finished on 54000/100638 queries. users per second: 11054.9"
      ]
     },
     "metadata": {},
     "output_type": "display_data"
    },
    {
     "data": {
      "text/html": [
       "<pre>recommendations finished on 55000/100638 queries. users per second: 11077.8</pre>"
      ],
      "text/plain": [
       "recommendations finished on 55000/100638 queries. users per second: 11077.8"
      ]
     },
     "metadata": {},
     "output_type": "display_data"
    },
    {
     "data": {
      "text/html": [
       "<pre>recommendations finished on 56000/100638 queries. users per second: 11098.8</pre>"
      ],
      "text/plain": [
       "recommendations finished on 56000/100638 queries. users per second: 11098.8"
      ]
     },
     "metadata": {},
     "output_type": "display_data"
    },
    {
     "data": {
      "text/html": [
       "<pre>recommendations finished on 57000/100638 queries. users per second: 11119.2</pre>"
      ],
      "text/plain": [
       "recommendations finished on 57000/100638 queries. users per second: 11119.2"
      ]
     },
     "metadata": {},
     "output_type": "display_data"
    },
    {
     "data": {
      "text/html": [
       "<pre>recommendations finished on 58000/100638 queries. users per second: 11135.4</pre>"
      ],
      "text/plain": [
       "recommendations finished on 58000/100638 queries. users per second: 11135.4"
      ]
     },
     "metadata": {},
     "output_type": "display_data"
    },
    {
     "data": {
      "text/html": [
       "<pre>recommendations finished on 59000/100638 queries. users per second: 11101.3</pre>"
      ],
      "text/plain": [
       "recommendations finished on 59000/100638 queries. users per second: 11101.3"
      ]
     },
     "metadata": {},
     "output_type": "display_data"
    },
    {
     "data": {
      "text/html": [
       "<pre>recommendations finished on 60000/100638 queries. users per second: 11069</pre>"
      ],
      "text/plain": [
       "recommendations finished on 60000/100638 queries. users per second: 11069"
      ]
     },
     "metadata": {},
     "output_type": "display_data"
    },
    {
     "data": {
      "text/html": [
       "<pre>recommendations finished on 61000/100638 queries. users per second: 11048.3</pre>"
      ],
      "text/plain": [
       "recommendations finished on 61000/100638 queries. users per second: 11048.3"
      ]
     },
     "metadata": {},
     "output_type": "display_data"
    },
    {
     "data": {
      "text/html": [
       "<pre>recommendations finished on 62000/100638 queries. users per second: 11035.7</pre>"
      ],
      "text/plain": [
       "recommendations finished on 62000/100638 queries. users per second: 11035.7"
      ]
     },
     "metadata": {},
     "output_type": "display_data"
    },
    {
     "data": {
      "text/html": [
       "<pre>recommendations finished on 63000/100638 queries. users per second: 11028.2</pre>"
      ],
      "text/plain": [
       "recommendations finished on 63000/100638 queries. users per second: 11028.2"
      ]
     },
     "metadata": {},
     "output_type": "display_data"
    },
    {
     "data": {
      "text/html": [
       "<pre>recommendations finished on 64000/100638 queries. users per second: 11011</pre>"
      ],
      "text/plain": [
       "recommendations finished on 64000/100638 queries. users per second: 11011"
      ]
     },
     "metadata": {},
     "output_type": "display_data"
    },
    {
     "data": {
      "text/html": [
       "<pre>recommendations finished on 65000/100638 queries. users per second: 10997.5</pre>"
      ],
      "text/plain": [
       "recommendations finished on 65000/100638 queries. users per second: 10997.5"
      ]
     },
     "metadata": {},
     "output_type": "display_data"
    },
    {
     "data": {
      "text/html": [
       "<pre>recommendations finished on 66000/100638 queries. users per second: 10988.3</pre>"
      ],
      "text/plain": [
       "recommendations finished on 66000/100638 queries. users per second: 10988.3"
      ]
     },
     "metadata": {},
     "output_type": "display_data"
    },
    {
     "data": {
      "text/html": [
       "<pre>recommendations finished on 67000/100638 queries. users per second: 10967.9</pre>"
      ],
      "text/plain": [
       "recommendations finished on 67000/100638 queries. users per second: 10967.9"
      ]
     },
     "metadata": {},
     "output_type": "display_data"
    },
    {
     "data": {
      "text/html": [
       "<pre>recommendations finished on 68000/100638 queries. users per second: 10952.9</pre>"
      ],
      "text/plain": [
       "recommendations finished on 68000/100638 queries. users per second: 10952.9"
      ]
     },
     "metadata": {},
     "output_type": "display_data"
    },
    {
     "data": {
      "text/html": [
       "<pre>recommendations finished on 69000/100638 queries. users per second: 10946.5</pre>"
      ],
      "text/plain": [
       "recommendations finished on 69000/100638 queries. users per second: 10946.5"
      ]
     },
     "metadata": {},
     "output_type": "display_data"
    },
    {
     "data": {
      "text/html": [
       "<pre>recommendations finished on 70000/100638 queries. users per second: 10930.2</pre>"
      ],
      "text/plain": [
       "recommendations finished on 70000/100638 queries. users per second: 10930.2"
      ]
     },
     "metadata": {},
     "output_type": "display_data"
    },
    {
     "data": {
      "text/html": [
       "<pre>recommendations finished on 71000/100638 queries. users per second: 10916.4</pre>"
      ],
      "text/plain": [
       "recommendations finished on 71000/100638 queries. users per second: 10916.4"
      ]
     },
     "metadata": {},
     "output_type": "display_data"
    },
    {
     "data": {
      "text/html": [
       "<pre>recommendations finished on 72000/100638 queries. users per second: 10936.2</pre>"
      ],
      "text/plain": [
       "recommendations finished on 72000/100638 queries. users per second: 10936.2"
      ]
     },
     "metadata": {},
     "output_type": "display_data"
    },
    {
     "data": {
      "text/html": [
       "<pre>recommendations finished on 73000/100638 queries. users per second: 10951.7</pre>"
      ],
      "text/plain": [
       "recommendations finished on 73000/100638 queries. users per second: 10951.7"
      ]
     },
     "metadata": {},
     "output_type": "display_data"
    },
    {
     "data": {
      "text/html": [
       "<pre>recommendations finished on 74000/100638 queries. users per second: 10967.3</pre>"
      ],
      "text/plain": [
       "recommendations finished on 74000/100638 queries. users per second: 10967.3"
      ]
     },
     "metadata": {},
     "output_type": "display_data"
    },
    {
     "data": {
      "text/html": [
       "<pre>recommendations finished on 75000/100638 queries. users per second: 10976.7</pre>"
      ],
      "text/plain": [
       "recommendations finished on 75000/100638 queries. users per second: 10976.7"
      ]
     },
     "metadata": {},
     "output_type": "display_data"
    },
    {
     "data": {
      "text/html": [
       "<pre>recommendations finished on 76000/100638 queries. users per second: 10948.9</pre>"
      ],
      "text/plain": [
       "recommendations finished on 76000/100638 queries. users per second: 10948.9"
      ]
     },
     "metadata": {},
     "output_type": "display_data"
    },
    {
     "data": {
      "text/html": [
       "<pre>recommendations finished on 77000/100638 queries. users per second: 10940.4</pre>"
      ],
      "text/plain": [
       "recommendations finished on 77000/100638 queries. users per second: 10940.4"
      ]
     },
     "metadata": {},
     "output_type": "display_data"
    },
    {
     "data": {
      "text/html": [
       "<pre>recommendations finished on 78000/100638 queries. users per second: 10924.6</pre>"
      ],
      "text/plain": [
       "recommendations finished on 78000/100638 queries. users per second: 10924.6"
      ]
     },
     "metadata": {},
     "output_type": "display_data"
    },
    {
     "data": {
      "text/html": [
       "<pre>recommendations finished on 79000/100638 queries. users per second: 10923.9</pre>"
      ],
      "text/plain": [
       "recommendations finished on 79000/100638 queries. users per second: 10923.9"
      ]
     },
     "metadata": {},
     "output_type": "display_data"
    },
    {
     "data": {
      "text/html": [
       "<pre>recommendations finished on 80000/100638 queries. users per second: 10927.8</pre>"
      ],
      "text/plain": [
       "recommendations finished on 80000/100638 queries. users per second: 10927.8"
      ]
     },
     "metadata": {},
     "output_type": "display_data"
    },
    {
     "data": {
      "text/html": [
       "<pre>recommendations finished on 81000/100638 queries. users per second: 10942.1</pre>"
      ],
      "text/plain": [
       "recommendations finished on 81000/100638 queries. users per second: 10942.1"
      ]
     },
     "metadata": {},
     "output_type": "display_data"
    },
    {
     "data": {
      "text/html": [
       "<pre>recommendations finished on 82000/100638 queries. users per second: 10958.1</pre>"
      ],
      "text/plain": [
       "recommendations finished on 82000/100638 queries. users per second: 10958.1"
      ]
     },
     "metadata": {},
     "output_type": "display_data"
    },
    {
     "data": {
      "text/html": [
       "<pre>recommendations finished on 83000/100638 queries. users per second: 10974.2</pre>"
      ],
      "text/plain": [
       "recommendations finished on 83000/100638 queries. users per second: 10974.2"
      ]
     },
     "metadata": {},
     "output_type": "display_data"
    },
    {
     "data": {
      "text/html": [
       "<pre>recommendations finished on 84000/100638 queries. users per second: 10987.1</pre>"
      ],
      "text/plain": [
       "recommendations finished on 84000/100638 queries. users per second: 10987.1"
      ]
     },
     "metadata": {},
     "output_type": "display_data"
    },
    {
     "data": {
      "text/html": [
       "<pre>recommendations finished on 85000/100638 queries. users per second: 10967.1</pre>"
      ],
      "text/plain": [
       "recommendations finished on 85000/100638 queries. users per second: 10967.1"
      ]
     },
     "metadata": {},
     "output_type": "display_data"
    },
    {
     "data": {
      "text/html": [
       "<pre>recommendations finished on 86000/100638 queries. users per second: 10944</pre>"
      ],
      "text/plain": [
       "recommendations finished on 86000/100638 queries. users per second: 10944"
      ]
     },
     "metadata": {},
     "output_type": "display_data"
    },
    {
     "data": {
      "text/html": [
       "<pre>recommendations finished on 87000/100638 queries. users per second: 10942.3</pre>"
      ],
      "text/plain": [
       "recommendations finished on 87000/100638 queries. users per second: 10942.3"
      ]
     },
     "metadata": {},
     "output_type": "display_data"
    },
    {
     "data": {
      "text/html": [
       "<pre>recommendations finished on 88000/100638 queries. users per second: 10955.6</pre>"
      ],
      "text/plain": [
       "recommendations finished on 88000/100638 queries. users per second: 10955.6"
      ]
     },
     "metadata": {},
     "output_type": "display_data"
    },
    {
     "data": {
      "text/html": [
       "<pre>recommendations finished on 89000/100638 queries. users per second: 10969.4</pre>"
      ],
      "text/plain": [
       "recommendations finished on 89000/100638 queries. users per second: 10969.4"
      ]
     },
     "metadata": {},
     "output_type": "display_data"
    },
    {
     "data": {
      "text/html": [
       "<pre>recommendations finished on 90000/100638 queries. users per second: 10981.2</pre>"
      ],
      "text/plain": [
       "recommendations finished on 90000/100638 queries. users per second: 10981.2"
      ]
     },
     "metadata": {},
     "output_type": "display_data"
    },
    {
     "data": {
      "text/html": [
       "<pre>recommendations finished on 91000/100638 queries. users per second: 10973.3</pre>"
      ],
      "text/plain": [
       "recommendations finished on 91000/100638 queries. users per second: 10973.3"
      ]
     },
     "metadata": {},
     "output_type": "display_data"
    },
    {
     "data": {
      "text/html": [
       "<pre>recommendations finished on 92000/100638 queries. users per second: 10957.7</pre>"
      ],
      "text/plain": [
       "recommendations finished on 92000/100638 queries. users per second: 10957.7"
      ]
     },
     "metadata": {},
     "output_type": "display_data"
    },
    {
     "data": {
      "text/html": [
       "<pre>recommendations finished on 93000/100638 queries. users per second: 10952.9</pre>"
      ],
      "text/plain": [
       "recommendations finished on 93000/100638 queries. users per second: 10952.9"
      ]
     },
     "metadata": {},
     "output_type": "display_data"
    },
    {
     "data": {
      "text/html": [
       "<pre>recommendations finished on 94000/100638 queries. users per second: 10961.9</pre>"
      ],
      "text/plain": [
       "recommendations finished on 94000/100638 queries. users per second: 10961.9"
      ]
     },
     "metadata": {},
     "output_type": "display_data"
    },
    {
     "data": {
      "text/html": [
       "<pre>recommendations finished on 95000/100638 queries. users per second: 10975</pre>"
      ],
      "text/plain": [
       "recommendations finished on 95000/100638 queries. users per second: 10975"
      ]
     },
     "metadata": {},
     "output_type": "display_data"
    },
    {
     "data": {
      "text/html": [
       "<pre>recommendations finished on 96000/100638 queries. users per second: 10985</pre>"
      ],
      "text/plain": [
       "recommendations finished on 96000/100638 queries. users per second: 10985"
      ]
     },
     "metadata": {},
     "output_type": "display_data"
    },
    {
     "data": {
      "text/html": [
       "<pre>recommendations finished on 97000/100638 queries. users per second: 10965.2</pre>"
      ],
      "text/plain": [
       "recommendations finished on 97000/100638 queries. users per second: 10965.2"
      ]
     },
     "metadata": {},
     "output_type": "display_data"
    },
    {
     "data": {
      "text/html": [
       "<pre>recommendations finished on 98000/100638 queries. users per second: 10946.4</pre>"
      ],
      "text/plain": [
       "recommendations finished on 98000/100638 queries. users per second: 10946.4"
      ]
     },
     "metadata": {},
     "output_type": "display_data"
    },
    {
     "data": {
      "text/html": [
       "<pre>recommendations finished on 99000/100638 queries. users per second: 10933.1</pre>"
      ],
      "text/plain": [
       "recommendations finished on 99000/100638 queries. users per second: 10933.1"
      ]
     },
     "metadata": {},
     "output_type": "display_data"
    },
    {
     "data": {
      "text/html": [
       "<pre>recommendations finished on 100000/100638 queries. users per second: 10875</pre>"
      ],
      "text/plain": [
       "recommendations finished on 100000/100638 queries. users per second: 10875"
      ]
     },
     "metadata": {},
     "output_type": "display_data"
    },
    {
     "name": "stdout",
     "output_type": "stream",
     "text": [
      "+-------------------------------+-------------------------------+\n",
      "|       customer_unique_id      |           product_id          |\n",
      "+-------------------------------+-------------------------------+\n",
      "| 4854e9b3feff728c13ee5fc7d1... | ce49d8be84e535ca2a5eb0e76c... |\n",
      "| 4854e9b3feff728c13ee5fc7d1... | e4b0f340d2552f744b4c2d48df... |\n",
      "| 4854e9b3feff728c13ee5fc7d1... | efe572a7ee9cf0317bbcd4ec8b... |\n",
      "| 4854e9b3feff728c13ee5fc7d1... | 0b33e28a934b68a0475650499b... |\n",
      "| 4854e9b3feff728c13ee5fc7d1... | 370c500401de58da2a25c8cab2... |\n",
      "| 830d5b7aaa3b6f1e9ad63703be... | ce49d8be84e535ca2a5eb0e76c... |\n",
      "| 830d5b7aaa3b6f1e9ad63703be... | e4b0f340d2552f744b4c2d48df... |\n",
      "| 830d5b7aaa3b6f1e9ad63703be... | efe572a7ee9cf0317bbcd4ec8b... |\n",
      "| 830d5b7aaa3b6f1e9ad63703be... | 0b33e28a934b68a0475650499b... |\n",
      "| 830d5b7aaa3b6f1e9ad63703be... | 370c500401de58da2a25c8cab2... |\n",
      "| 87776adb449c551e74c13fc34f... | ce49d8be84e535ca2a5eb0e76c... |\n",
      "| 87776adb449c551e74c13fc34f... | e4b0f340d2552f744b4c2d48df... |\n",
      "| 87776adb449c551e74c13fc34f... | efe572a7ee9cf0317bbcd4ec8b... |\n",
      "| 87776adb449c551e74c13fc34f... | 0b33e28a934b68a0475650499b... |\n",
      "| 87776adb449c551e74c13fc34f... | 370c500401de58da2a25c8cab2... |\n",
      "| 9f302d00dd3e18ed3745778184... | b748ca0c5ca9a1def2099de76c... |\n",
      "| 9f302d00dd3e18ed3745778184... | be4247cbfa1bf907db555eed70... |\n",
      "| 9f302d00dd3e18ed3745778184... | 9163c7e81fd68452472912c4cd... |\n",
      "| 9f302d00dd3e18ed3745778184... | 8562e2c780a345b609e1b802d7... |\n",
      "| 9f302d00dd3e18ed3745778184... | 43bb8825dd6838251606e5e413... |\n",
      "| 3f4f614c632af7fc7508462a7c... | ce49d8be84e535ca2a5eb0e76c... |\n",
      "| 3f4f614c632af7fc7508462a7c... | e4b0f340d2552f744b4c2d48df... |\n",
      "| 3f4f614c632af7fc7508462a7c... | efe572a7ee9cf0317bbcd4ec8b... |\n",
      "| 3f4f614c632af7fc7508462a7c... | 0b33e28a934b68a0475650499b... |\n",
      "| 3f4f614c632af7fc7508462a7c... | 370c500401de58da2a25c8cab2... |\n",
      "| f176923a0a4ab546c7287791cc... | ce49d8be84e535ca2a5eb0e76c... |\n",
      "| f176923a0a4ab546c7287791cc... | e4b0f340d2552f744b4c2d48df... |\n",
      "| f176923a0a4ab546c7287791cc... | efe572a7ee9cf0317bbcd4ec8b... |\n",
      "| f176923a0a4ab546c7287791cc... | 0b33e28a934b68a0475650499b... |\n",
      "| f176923a0a4ab546c7287791cc... | 370c500401de58da2a25c8cab2... |\n",
      "+-------------------------------+-------------------------------+\n",
      "+-----------------------+------+\n",
      "|         score         | rank |\n",
      "+-----------------------+------+\n",
      "| 0.0029639077186584474 |  1   |\n",
      "|  0.002444136142730713 |  2   |\n",
      "|  0.002421609163284302 |  3   |\n",
      "| 0.0022302734851837158 |  4   |\n",
      "| 0.0020965301990509035 |  5   |\n",
      "| 0.0029639077186584474 |  1   |\n",
      "|  0.002444136142730713 |  2   |\n",
      "|  0.002421609163284302 |  3   |\n",
      "| 0.0022302734851837158 |  4   |\n",
      "| 0.0020965301990509035 |  5   |\n",
      "| 0.0029639077186584474 |  1   |\n",
      "|  0.002444136142730713 |  2   |\n",
      "|  0.002421609163284302 |  3   |\n",
      "| 0.0022302734851837158 |  4   |\n",
      "| 0.0020965301990509035 |  5   |\n",
      "|  0.016885578632354736 |  1   |\n",
      "|  0.016885578632354736 |  2   |\n",
      "| 0.0040430426597595215 |  3   |\n",
      "| 0.0017273426055908203 |  4   |\n",
      "|          0.0          |  5   |\n",
      "| 0.0029639077186584474 |  1   |\n",
      "|  0.002444136142730713 |  2   |\n",
      "|  0.002421609163284302 |  3   |\n",
      "| 0.0022302734851837158 |  4   |\n",
      "| 0.0020965301990509035 |  5   |\n",
      "| 0.0029639077186584474 |  1   |\n",
      "|  0.002444136142730713 |  2   |\n",
      "|  0.002421609163284302 |  3   |\n",
      "| 0.0022302734851837158 |  4   |\n",
      "| 0.0020965301990509035 |  5   |\n",
      "+-----------------------+------+\n",
      "[503190 rows x 4 columns]\n",
      "\n"
     ]
    }
   ],
   "source": [
    "final_model = tc.item_similarity_recommender.create(tc.SFrame(df_norm), \n",
    "                                            user_id=user_id, \n",
    "                                            item_id=item_id, \n",
    "                                            target='review_score', similarity_type='cosine')\n",
    "recom = final_model.recommend(users=users_to_recommend, k=n_rec)\n",
    "\n",
    "recom.print_rows(n_display)"
   ]
  },
  {
   "cell_type": "markdown",
   "metadata": {},
   "source": [
    "The frame produced through Turicreate is now transformed into a Pandas Dataframe, showing each cosine similarity score and the rank for each user"
   ]
  },
  {
   "cell_type": "code",
   "execution_count": 68,
   "metadata": {},
   "outputs": [
    {
     "name": "stdout",
     "output_type": "stream",
     "text": [
      "(503190, 4)\n"
     ]
    },
    {
     "data": {
      "text/html": [
       "<div>\n",
       "<style scoped>\n",
       "    .dataframe tbody tr th:only-of-type {\n",
       "        vertical-align: middle;\n",
       "    }\n",
       "\n",
       "    .dataframe tbody tr th {\n",
       "        vertical-align: top;\n",
       "    }\n",
       "\n",
       "    .dataframe thead th {\n",
       "        text-align: right;\n",
       "    }\n",
       "</style>\n",
       "<table border=\"1\" class=\"dataframe\">\n",
       "  <thead>\n",
       "    <tr style=\"text-align: right;\">\n",
       "      <th></th>\n",
       "      <th>customer_unique_id</th>\n",
       "      <th>product_id</th>\n",
       "      <th>score</th>\n",
       "      <th>rank</th>\n",
       "    </tr>\n",
       "  </thead>\n",
       "  <tbody>\n",
       "    <tr>\n",
       "      <th>0</th>\n",
       "      <td>4854e9b3feff728c13ee5fc7d1547e92</td>\n",
       "      <td>ce49d8be84e535ca2a5eb0e76c09c348</td>\n",
       "      <td>0.002964</td>\n",
       "      <td>1</td>\n",
       "    </tr>\n",
       "    <tr>\n",
       "      <th>1</th>\n",
       "      <td>4854e9b3feff728c13ee5fc7d1547e92</td>\n",
       "      <td>e4b0f340d2552f744b4c2d48dffbc0e2</td>\n",
       "      <td>0.002444</td>\n",
       "      <td>2</td>\n",
       "    </tr>\n",
       "    <tr>\n",
       "      <th>2</th>\n",
       "      <td>4854e9b3feff728c13ee5fc7d1547e92</td>\n",
       "      <td>efe572a7ee9cf0317bbcd4ec8b98a088</td>\n",
       "      <td>0.002422</td>\n",
       "      <td>3</td>\n",
       "    </tr>\n",
       "    <tr>\n",
       "      <th>3</th>\n",
       "      <td>4854e9b3feff728c13ee5fc7d1547e92</td>\n",
       "      <td>0b33e28a934b68a0475650499b9ae509</td>\n",
       "      <td>0.002230</td>\n",
       "      <td>4</td>\n",
       "    </tr>\n",
       "    <tr>\n",
       "      <th>4</th>\n",
       "      <td>4854e9b3feff728c13ee5fc7d1547e92</td>\n",
       "      <td>370c500401de58da2a25c8cab27527cc</td>\n",
       "      <td>0.002097</td>\n",
       "      <td>5</td>\n",
       "    </tr>\n",
       "  </tbody>\n",
       "</table>\n",
       "</div>"
      ],
      "text/plain": [
       "                 customer_unique_id                        product_id  \\\n",
       "0  4854e9b3feff728c13ee5fc7d1547e92  ce49d8be84e535ca2a5eb0e76c09c348   \n",
       "1  4854e9b3feff728c13ee5fc7d1547e92  e4b0f340d2552f744b4c2d48dffbc0e2   \n",
       "2  4854e9b3feff728c13ee5fc7d1547e92  efe572a7ee9cf0317bbcd4ec8b98a088   \n",
       "3  4854e9b3feff728c13ee5fc7d1547e92  0b33e28a934b68a0475650499b9ae509   \n",
       "4  4854e9b3feff728c13ee5fc7d1547e92  370c500401de58da2a25c8cab27527cc   \n",
       "\n",
       "      score  rank  \n",
       "0  0.002964     1  \n",
       "1  0.002444     2  \n",
       "2  0.002422     3  \n",
       "3  0.002230     4  \n",
       "4  0.002097     5  "
      ]
     },
     "execution_count": 68,
     "metadata": {},
     "output_type": "execute_result"
    }
   ],
   "source": [
    "df_rec = recom.to_dataframe()\n",
    "print(df_rec.shape)\n",
    "df_rec.head()"
   ]
  },
  {
   "cell_type": "code",
   "execution_count": null,
   "metadata": {},
   "outputs": [],
   "source": []
  },
  {
   "cell_type": "markdown",
   "metadata": {},
   "source": [
    "A function has been created to make the five recommendation in one row divided by the bar symbol (*|*) to have a clean dataset"
   ]
  },
  {
   "cell_type": "code",
   "execution_count": 84,
   "metadata": {},
   "outputs": [],
   "source": [
    "def create_output(model, users_to_recommend, n_rec, print_csv=True):\n",
    "    recomendation = model.recommend(users=users_to_recommend, k=n_rec)\n",
    "    df_rec = recomendation.to_dataframe()\n",
    "    df_rec['recommendedProducts'] = df_rec.groupby([user_id])[item_id] \\\n",
    "        .transform(lambda x: '|'.join(x.astype(str)))\n",
    "    df_output = df_rec[['customer_unique_id', 'recommendedProducts']].drop_duplicates() \\\n",
    "        .sort_values('customer_unique_id').set_index('customer_unique_id')\n",
    "    if print_csv:\n",
    "        df_output.to_csv('recommendation.csv')\n",
    "    return df_output"
   ]
  },
  {
   "cell_type": "code",
   "execution_count": 85,
   "metadata": {},
   "outputs": [
    {
     "data": {
      "text/html": [
       "<pre>recommendations finished on 1000/100638 queries. users per second: 12777.9</pre>"
      ],
      "text/plain": [
       "recommendations finished on 1000/100638 queries. users per second: 12777.9"
      ]
     },
     "metadata": {},
     "output_type": "display_data"
    },
    {
     "data": {
      "text/html": [
       "<pre>recommendations finished on 2000/100638 queries. users per second: 12433.6</pre>"
      ],
      "text/plain": [
       "recommendations finished on 2000/100638 queries. users per second: 12433.6"
      ]
     },
     "metadata": {},
     "output_type": "display_data"
    },
    {
     "data": {
      "text/html": [
       "<pre>recommendations finished on 3000/100638 queries. users per second: 12395.4</pre>"
      ],
      "text/plain": [
       "recommendations finished on 3000/100638 queries. users per second: 12395.4"
      ]
     },
     "metadata": {},
     "output_type": "display_data"
    },
    {
     "data": {
      "text/html": [
       "<pre>recommendations finished on 4000/100638 queries. users per second: 12362.9</pre>"
      ],
      "text/plain": [
       "recommendations finished on 4000/100638 queries. users per second: 12362.9"
      ]
     },
     "metadata": {},
     "output_type": "display_data"
    },
    {
     "data": {
      "text/html": [
       "<pre>recommendations finished on 5000/100638 queries. users per second: 12384.3</pre>"
      ],
      "text/plain": [
       "recommendations finished on 5000/100638 queries. users per second: 12384.3"
      ]
     },
     "metadata": {},
     "output_type": "display_data"
    },
    {
     "data": {
      "text/html": [
       "<pre>recommendations finished on 6000/100638 queries. users per second: 12447.7</pre>"
      ],
      "text/plain": [
       "recommendations finished on 6000/100638 queries. users per second: 12447.7"
      ]
     },
     "metadata": {},
     "output_type": "display_data"
    },
    {
     "data": {
      "text/html": [
       "<pre>recommendations finished on 7000/100638 queries. users per second: 12443.5</pre>"
      ],
      "text/plain": [
       "recommendations finished on 7000/100638 queries. users per second: 12443.5"
      ]
     },
     "metadata": {},
     "output_type": "display_data"
    },
    {
     "data": {
      "text/html": [
       "<pre>recommendations finished on 8000/100638 queries. users per second: 12471.9</pre>"
      ],
      "text/plain": [
       "recommendations finished on 8000/100638 queries. users per second: 12471.9"
      ]
     },
     "metadata": {},
     "output_type": "display_data"
    },
    {
     "data": {
      "text/html": [
       "<pre>recommendations finished on 9000/100638 queries. users per second: 12473.2</pre>"
      ],
      "text/plain": [
       "recommendations finished on 9000/100638 queries. users per second: 12473.2"
      ]
     },
     "metadata": {},
     "output_type": "display_data"
    },
    {
     "data": {
      "text/html": [
       "<pre>recommendations finished on 10000/100638 queries. users per second: 12485</pre>"
      ],
      "text/plain": [
       "recommendations finished on 10000/100638 queries. users per second: 12485"
      ]
     },
     "metadata": {},
     "output_type": "display_data"
    },
    {
     "data": {
      "text/html": [
       "<pre>recommendations finished on 11000/100638 queries. users per second: 12506.6</pre>"
      ],
      "text/plain": [
       "recommendations finished on 11000/100638 queries. users per second: 12506.6"
      ]
     },
     "metadata": {},
     "output_type": "display_data"
    },
    {
     "data": {
      "text/html": [
       "<pre>recommendations finished on 12000/100638 queries. users per second: 12511.8</pre>"
      ],
      "text/plain": [
       "recommendations finished on 12000/100638 queries. users per second: 12511.8"
      ]
     },
     "metadata": {},
     "output_type": "display_data"
    },
    {
     "data": {
      "text/html": [
       "<pre>recommendations finished on 13000/100638 queries. users per second: 12464.9</pre>"
      ],
      "text/plain": [
       "recommendations finished on 13000/100638 queries. users per second: 12464.9"
      ]
     },
     "metadata": {},
     "output_type": "display_data"
    },
    {
     "data": {
      "text/html": [
       "<pre>recommendations finished on 14000/100638 queries. users per second: 12418.7</pre>"
      ],
      "text/plain": [
       "recommendations finished on 14000/100638 queries. users per second: 12418.7"
      ]
     },
     "metadata": {},
     "output_type": "display_data"
    },
    {
     "data": {
      "text/html": [
       "<pre>recommendations finished on 15000/100638 queries. users per second: 12432.2</pre>"
      ],
      "text/plain": [
       "recommendations finished on 15000/100638 queries. users per second: 12432.2"
      ]
     },
     "metadata": {},
     "output_type": "display_data"
    },
    {
     "data": {
      "text/html": [
       "<pre>recommendations finished on 16000/100638 queries. users per second: 12442</pre>"
      ],
      "text/plain": [
       "recommendations finished on 16000/100638 queries. users per second: 12442"
      ]
     },
     "metadata": {},
     "output_type": "display_data"
    },
    {
     "data": {
      "text/html": [
       "<pre>recommendations finished on 17000/100638 queries. users per second: 12455.8</pre>"
      ],
      "text/plain": [
       "recommendations finished on 17000/100638 queries. users per second: 12455.8"
      ]
     },
     "metadata": {},
     "output_type": "display_data"
    },
    {
     "data": {
      "text/html": [
       "<pre>recommendations finished on 18000/100638 queries. users per second: 12476</pre>"
      ],
      "text/plain": [
       "recommendations finished on 18000/100638 queries. users per second: 12476"
      ]
     },
     "metadata": {},
     "output_type": "display_data"
    },
    {
     "data": {
      "text/html": [
       "<pre>recommendations finished on 19000/100638 queries. users per second: 12486.6</pre>"
      ],
      "text/plain": [
       "recommendations finished on 19000/100638 queries. users per second: 12486.6"
      ]
     },
     "metadata": {},
     "output_type": "display_data"
    },
    {
     "data": {
      "text/html": [
       "<pre>recommendations finished on 20000/100638 queries. users per second: 12490.5</pre>"
      ],
      "text/plain": [
       "recommendations finished on 20000/100638 queries. users per second: 12490.5"
      ]
     },
     "metadata": {},
     "output_type": "display_data"
    },
    {
     "data": {
      "text/html": [
       "<pre>recommendations finished on 21000/100638 queries. users per second: 12497.9</pre>"
      ],
      "text/plain": [
       "recommendations finished on 21000/100638 queries. users per second: 12497.9"
      ]
     },
     "metadata": {},
     "output_type": "display_data"
    },
    {
     "data": {
      "text/html": [
       "<pre>recommendations finished on 22000/100638 queries. users per second: 12514.6</pre>"
      ],
      "text/plain": [
       "recommendations finished on 22000/100638 queries. users per second: 12514.6"
      ]
     },
     "metadata": {},
     "output_type": "display_data"
    },
    {
     "data": {
      "text/html": [
       "<pre>recommendations finished on 23000/100638 queries. users per second: 12528.7</pre>"
      ],
      "text/plain": [
       "recommendations finished on 23000/100638 queries. users per second: 12528.7"
      ]
     },
     "metadata": {},
     "output_type": "display_data"
    },
    {
     "data": {
      "text/html": [
       "<pre>recommendations finished on 24000/100638 queries. users per second: 12532.1</pre>"
      ],
      "text/plain": [
       "recommendations finished on 24000/100638 queries. users per second: 12532.1"
      ]
     },
     "metadata": {},
     "output_type": "display_data"
    },
    {
     "data": {
      "text/html": [
       "<pre>recommendations finished on 25000/100638 queries. users per second: 12535.8</pre>"
      ],
      "text/plain": [
       "recommendations finished on 25000/100638 queries. users per second: 12535.8"
      ]
     },
     "metadata": {},
     "output_type": "display_data"
    },
    {
     "data": {
      "text/html": [
       "<pre>recommendations finished on 26000/100638 queries. users per second: 12541.4</pre>"
      ],
      "text/plain": [
       "recommendations finished on 26000/100638 queries. users per second: 12541.4"
      ]
     },
     "metadata": {},
     "output_type": "display_data"
    },
    {
     "data": {
      "text/html": [
       "<pre>recommendations finished on 27000/100638 queries. users per second: 12533.8</pre>"
      ],
      "text/plain": [
       "recommendations finished on 27000/100638 queries. users per second: 12533.8"
      ]
     },
     "metadata": {},
     "output_type": "display_data"
    },
    {
     "data": {
      "text/html": [
       "<pre>recommendations finished on 28000/100638 queries. users per second: 12534</pre>"
      ],
      "text/plain": [
       "recommendations finished on 28000/100638 queries. users per second: 12534"
      ]
     },
     "metadata": {},
     "output_type": "display_data"
    },
    {
     "data": {
      "text/html": [
       "<pre>recommendations finished on 29000/100638 queries. users per second: 12537.9</pre>"
      ],
      "text/plain": [
       "recommendations finished on 29000/100638 queries. users per second: 12537.9"
      ]
     },
     "metadata": {},
     "output_type": "display_data"
    },
    {
     "data": {
      "text/html": [
       "<pre>recommendations finished on 30000/100638 queries. users per second: 12531</pre>"
      ],
      "text/plain": [
       "recommendations finished on 30000/100638 queries. users per second: 12531"
      ]
     },
     "metadata": {},
     "output_type": "display_data"
    },
    {
     "data": {
      "text/html": [
       "<pre>recommendations finished on 31000/100638 queries. users per second: 12530.1</pre>"
      ],
      "text/plain": [
       "recommendations finished on 31000/100638 queries. users per second: 12530.1"
      ]
     },
     "metadata": {},
     "output_type": "display_data"
    },
    {
     "data": {
      "text/html": [
       "<pre>recommendations finished on 32000/100638 queries. users per second: 12528</pre>"
      ],
      "text/plain": [
       "recommendations finished on 32000/100638 queries. users per second: 12528"
      ]
     },
     "metadata": {},
     "output_type": "display_data"
    },
    {
     "data": {
      "text/html": [
       "<pre>recommendations finished on 33000/100638 queries. users per second: 12529.2</pre>"
      ],
      "text/plain": [
       "recommendations finished on 33000/100638 queries. users per second: 12529.2"
      ]
     },
     "metadata": {},
     "output_type": "display_data"
    },
    {
     "data": {
      "text/html": [
       "<pre>recommendations finished on 34000/100638 queries. users per second: 12506.2</pre>"
      ],
      "text/plain": [
       "recommendations finished on 34000/100638 queries. users per second: 12506.2"
      ]
     },
     "metadata": {},
     "output_type": "display_data"
    },
    {
     "data": {
      "text/html": [
       "<pre>recommendations finished on 35000/100638 queries. users per second: 12491.3</pre>"
      ],
      "text/plain": [
       "recommendations finished on 35000/100638 queries. users per second: 12491.3"
      ]
     },
     "metadata": {},
     "output_type": "display_data"
    },
    {
     "data": {
      "text/html": [
       "<pre>recommendations finished on 36000/100638 queries. users per second: 12471.1</pre>"
      ],
      "text/plain": [
       "recommendations finished on 36000/100638 queries. users per second: 12471.1"
      ]
     },
     "metadata": {},
     "output_type": "display_data"
    },
    {
     "data": {
      "text/html": [
       "<pre>recommendations finished on 37000/100638 queries. users per second: 12434.6</pre>"
      ],
      "text/plain": [
       "recommendations finished on 37000/100638 queries. users per second: 12434.6"
      ]
     },
     "metadata": {},
     "output_type": "display_data"
    },
    {
     "data": {
      "text/html": [
       "<pre>recommendations finished on 38000/100638 queries. users per second: 12376.3</pre>"
      ],
      "text/plain": [
       "recommendations finished on 38000/100638 queries. users per second: 12376.3"
      ]
     },
     "metadata": {},
     "output_type": "display_data"
    },
    {
     "data": {
      "text/html": [
       "<pre>recommendations finished on 39000/100638 queries. users per second: 12352.2</pre>"
      ],
      "text/plain": [
       "recommendations finished on 39000/100638 queries. users per second: 12352.2"
      ]
     },
     "metadata": {},
     "output_type": "display_data"
    },
    {
     "data": {
      "text/html": [
       "<pre>recommendations finished on 40000/100638 queries. users per second: 12343.9</pre>"
      ],
      "text/plain": [
       "recommendations finished on 40000/100638 queries. users per second: 12343.9"
      ]
     },
     "metadata": {},
     "output_type": "display_data"
    },
    {
     "data": {
      "text/html": [
       "<pre>recommendations finished on 41000/100638 queries. users per second: 12315</pre>"
      ],
      "text/plain": [
       "recommendations finished on 41000/100638 queries. users per second: 12315"
      ]
     },
     "metadata": {},
     "output_type": "display_data"
    },
    {
     "data": {
      "text/html": [
       "<pre>recommendations finished on 42000/100638 queries. users per second: 12325</pre>"
      ],
      "text/plain": [
       "recommendations finished on 42000/100638 queries. users per second: 12325"
      ]
     },
     "metadata": {},
     "output_type": "display_data"
    },
    {
     "data": {
      "text/html": [
       "<pre>recommendations finished on 43000/100638 queries. users per second: 12330.7</pre>"
      ],
      "text/plain": [
       "recommendations finished on 43000/100638 queries. users per second: 12330.7"
      ]
     },
     "metadata": {},
     "output_type": "display_data"
    },
    {
     "data": {
      "text/html": [
       "<pre>recommendations finished on 44000/100638 queries. users per second: 12337.5</pre>"
      ],
      "text/plain": [
       "recommendations finished on 44000/100638 queries. users per second: 12337.5"
      ]
     },
     "metadata": {},
     "output_type": "display_data"
    },
    {
     "data": {
      "text/html": [
       "<pre>recommendations finished on 45000/100638 queries. users per second: 12338.6</pre>"
      ],
      "text/plain": [
       "recommendations finished on 45000/100638 queries. users per second: 12338.6"
      ]
     },
     "metadata": {},
     "output_type": "display_data"
    },
    {
     "data": {
      "text/html": [
       "<pre>recommendations finished on 46000/100638 queries. users per second: 12305.3</pre>"
      ],
      "text/plain": [
       "recommendations finished on 46000/100638 queries. users per second: 12305.3"
      ]
     },
     "metadata": {},
     "output_type": "display_data"
    },
    {
     "data": {
      "text/html": [
       "<pre>recommendations finished on 47000/100638 queries. users per second: 12287.3</pre>"
      ],
      "text/plain": [
       "recommendations finished on 47000/100638 queries. users per second: 12287.3"
      ]
     },
     "metadata": {},
     "output_type": "display_data"
    },
    {
     "data": {
      "text/html": [
       "<pre>recommendations finished on 48000/100638 queries. users per second: 12262</pre>"
      ],
      "text/plain": [
       "recommendations finished on 48000/100638 queries. users per second: 12262"
      ]
     },
     "metadata": {},
     "output_type": "display_data"
    },
    {
     "data": {
      "text/html": [
       "<pre>recommendations finished on 49000/100638 queries. users per second: 12257.7</pre>"
      ],
      "text/plain": [
       "recommendations finished on 49000/100638 queries. users per second: 12257.7"
      ]
     },
     "metadata": {},
     "output_type": "display_data"
    },
    {
     "data": {
      "text/html": [
       "<pre>recommendations finished on 50000/100638 queries. users per second: 12243.5</pre>"
      ],
      "text/plain": [
       "recommendations finished on 50000/100638 queries. users per second: 12243.5"
      ]
     },
     "metadata": {},
     "output_type": "display_data"
    },
    {
     "data": {
      "text/html": [
       "<pre>recommendations finished on 51000/100638 queries. users per second: 12217.8</pre>"
      ],
      "text/plain": [
       "recommendations finished on 51000/100638 queries. users per second: 12217.8"
      ]
     },
     "metadata": {},
     "output_type": "display_data"
    },
    {
     "data": {
      "text/html": [
       "<pre>recommendations finished on 52000/100638 queries. users per second: 12201</pre>"
      ],
      "text/plain": [
       "recommendations finished on 52000/100638 queries. users per second: 12201"
      ]
     },
     "metadata": {},
     "output_type": "display_data"
    },
    {
     "data": {
      "text/html": [
       "<pre>recommendations finished on 53000/100638 queries. users per second: 12187.6</pre>"
      ],
      "text/plain": [
       "recommendations finished on 53000/100638 queries. users per second: 12187.6"
      ]
     },
     "metadata": {},
     "output_type": "display_data"
    },
    {
     "data": {
      "text/html": [
       "<pre>recommendations finished on 54000/100638 queries. users per second: 12166</pre>"
      ],
      "text/plain": [
       "recommendations finished on 54000/100638 queries. users per second: 12166"
      ]
     },
     "metadata": {},
     "output_type": "display_data"
    },
    {
     "data": {
      "text/html": [
       "<pre>recommendations finished on 55000/100638 queries. users per second: 12165.7</pre>"
      ],
      "text/plain": [
       "recommendations finished on 55000/100638 queries. users per second: 12165.7"
      ]
     },
     "metadata": {},
     "output_type": "display_data"
    },
    {
     "data": {
      "text/html": [
       "<pre>recommendations finished on 56000/100638 queries. users per second: 12149.9</pre>"
      ],
      "text/plain": [
       "recommendations finished on 56000/100638 queries. users per second: 12149.9"
      ]
     },
     "metadata": {},
     "output_type": "display_data"
    },
    {
     "data": {
      "text/html": [
       "<pre>recommendations finished on 57000/100638 queries. users per second: 12115.4</pre>"
      ],
      "text/plain": [
       "recommendations finished on 57000/100638 queries. users per second: 12115.4"
      ]
     },
     "metadata": {},
     "output_type": "display_data"
    },
    {
     "data": {
      "text/html": [
       "<pre>recommendations finished on 58000/100638 queries. users per second: 12131.2</pre>"
      ],
      "text/plain": [
       "recommendations finished on 58000/100638 queries. users per second: 12131.2"
      ]
     },
     "metadata": {},
     "output_type": "display_data"
    },
    {
     "data": {
      "text/html": [
       "<pre>recommendations finished on 59000/100638 queries. users per second: 12143.8</pre>"
      ],
      "text/plain": [
       "recommendations finished on 59000/100638 queries. users per second: 12143.8"
      ]
     },
     "metadata": {},
     "output_type": "display_data"
    },
    {
     "data": {
      "text/html": [
       "<pre>recommendations finished on 60000/100638 queries. users per second: 12142.5</pre>"
      ],
      "text/plain": [
       "recommendations finished on 60000/100638 queries. users per second: 12142.5"
      ]
     },
     "metadata": {},
     "output_type": "display_data"
    },
    {
     "data": {
      "text/html": [
       "<pre>recommendations finished on 61000/100638 queries. users per second: 12130.8</pre>"
      ],
      "text/plain": [
       "recommendations finished on 61000/100638 queries. users per second: 12130.8"
      ]
     },
     "metadata": {},
     "output_type": "display_data"
    },
    {
     "data": {
      "text/html": [
       "<pre>recommendations finished on 62000/100638 queries. users per second: 12115.7</pre>"
      ],
      "text/plain": [
       "recommendations finished on 62000/100638 queries. users per second: 12115.7"
      ]
     },
     "metadata": {},
     "output_type": "display_data"
    },
    {
     "data": {
      "text/html": [
       "<pre>recommendations finished on 63000/100638 queries. users per second: 12119.4</pre>"
      ],
      "text/plain": [
       "recommendations finished on 63000/100638 queries. users per second: 12119.4"
      ]
     },
     "metadata": {},
     "output_type": "display_data"
    },
    {
     "data": {
      "text/html": [
       "<pre>recommendations finished on 64000/100638 queries. users per second: 12117.8</pre>"
      ],
      "text/plain": [
       "recommendations finished on 64000/100638 queries. users per second: 12117.8"
      ]
     },
     "metadata": {},
     "output_type": "display_data"
    },
    {
     "data": {
      "text/html": [
       "<pre>recommendations finished on 65000/100638 queries. users per second: 12111.4</pre>"
      ],
      "text/plain": [
       "recommendations finished on 65000/100638 queries. users per second: 12111.4"
      ]
     },
     "metadata": {},
     "output_type": "display_data"
    },
    {
     "data": {
      "text/html": [
       "<pre>recommendations finished on 66000/100638 queries. users per second: 12103.6</pre>"
      ],
      "text/plain": [
       "recommendations finished on 66000/100638 queries. users per second: 12103.6"
      ]
     },
     "metadata": {},
     "output_type": "display_data"
    },
    {
     "data": {
      "text/html": [
       "<pre>recommendations finished on 67000/100638 queries. users per second: 12118.6</pre>"
      ],
      "text/plain": [
       "recommendations finished on 67000/100638 queries. users per second: 12118.6"
      ]
     },
     "metadata": {},
     "output_type": "display_data"
    },
    {
     "data": {
      "text/html": [
       "<pre>recommendations finished on 68000/100638 queries. users per second: 12134.2</pre>"
      ],
      "text/plain": [
       "recommendations finished on 68000/100638 queries. users per second: 12134.2"
      ]
     },
     "metadata": {},
     "output_type": "display_data"
    },
    {
     "data": {
      "text/html": [
       "<pre>recommendations finished on 69000/100638 queries. users per second: 12150.2</pre>"
      ],
      "text/plain": [
       "recommendations finished on 69000/100638 queries. users per second: 12150.2"
      ]
     },
     "metadata": {},
     "output_type": "display_data"
    },
    {
     "data": {
      "text/html": [
       "<pre>recommendations finished on 70000/100638 queries. users per second: 12165.6</pre>"
      ],
      "text/plain": [
       "recommendations finished on 70000/100638 queries. users per second: 12165.6"
      ]
     },
     "metadata": {},
     "output_type": "display_data"
    },
    {
     "data": {
      "text/html": [
       "<pre>recommendations finished on 71000/100638 queries. users per second: 12180.9</pre>"
      ],
      "text/plain": [
       "recommendations finished on 71000/100638 queries. users per second: 12180.9"
      ]
     },
     "metadata": {},
     "output_type": "display_data"
    },
    {
     "data": {
      "text/html": [
       "<pre>recommendations finished on 72000/100638 queries. users per second: 12193.5</pre>"
      ],
      "text/plain": [
       "recommendations finished on 72000/100638 queries. users per second: 12193.5"
      ]
     },
     "metadata": {},
     "output_type": "display_data"
    },
    {
     "data": {
      "text/html": [
       "<pre>recommendations finished on 73000/100638 queries. users per second: 12206.7</pre>"
      ],
      "text/plain": [
       "recommendations finished on 73000/100638 queries. users per second: 12206.7"
      ]
     },
     "metadata": {},
     "output_type": "display_data"
    },
    {
     "data": {
      "text/html": [
       "<pre>recommendations finished on 74000/100638 queries. users per second: 12221.7</pre>"
      ],
      "text/plain": [
       "recommendations finished on 74000/100638 queries. users per second: 12221.7"
      ]
     },
     "metadata": {},
     "output_type": "display_data"
    },
    {
     "data": {
      "text/html": [
       "<pre>recommendations finished on 75000/100638 queries. users per second: 12234.8</pre>"
      ],
      "text/plain": [
       "recommendations finished on 75000/100638 queries. users per second: 12234.8"
      ]
     },
     "metadata": {},
     "output_type": "display_data"
    },
    {
     "data": {
      "text/html": [
       "<pre>recommendations finished on 76000/100638 queries. users per second: 12247.9</pre>"
      ],
      "text/plain": [
       "recommendations finished on 76000/100638 queries. users per second: 12247.9"
      ]
     },
     "metadata": {},
     "output_type": "display_data"
    },
    {
     "data": {
      "text/html": [
       "<pre>recommendations finished on 77000/100638 queries. users per second: 12259.4</pre>"
      ],
      "text/plain": [
       "recommendations finished on 77000/100638 queries. users per second: 12259.4"
      ]
     },
     "metadata": {},
     "output_type": "display_data"
    },
    {
     "data": {
      "text/html": [
       "<pre>recommendations finished on 78000/100638 queries. users per second: 12271.2</pre>"
      ],
      "text/plain": [
       "recommendations finished on 78000/100638 queries. users per second: 12271.2"
      ]
     },
     "metadata": {},
     "output_type": "display_data"
    },
    {
     "data": {
      "text/html": [
       "<pre>recommendations finished on 79000/100638 queries. users per second: 12282.9</pre>"
      ],
      "text/plain": [
       "recommendations finished on 79000/100638 queries. users per second: 12282.9"
      ]
     },
     "metadata": {},
     "output_type": "display_data"
    },
    {
     "data": {
      "text/html": [
       "<pre>recommendations finished on 80000/100638 queries. users per second: 12294.8</pre>"
      ],
      "text/plain": [
       "recommendations finished on 80000/100638 queries. users per second: 12294.8"
      ]
     },
     "metadata": {},
     "output_type": "display_data"
    },
    {
     "data": {
      "text/html": [
       "<pre>recommendations finished on 81000/100638 queries. users per second: 12306.2</pre>"
      ],
      "text/plain": [
       "recommendations finished on 81000/100638 queries. users per second: 12306.2"
      ]
     },
     "metadata": {},
     "output_type": "display_data"
    },
    {
     "data": {
      "text/html": [
       "<pre>recommendations finished on 82000/100638 queries. users per second: 12318.6</pre>"
      ],
      "text/plain": [
       "recommendations finished on 82000/100638 queries. users per second: 12318.6"
      ]
     },
     "metadata": {},
     "output_type": "display_data"
    },
    {
     "data": {
      "text/html": [
       "<pre>recommendations finished on 83000/100638 queries. users per second: 12331.6</pre>"
      ],
      "text/plain": [
       "recommendations finished on 83000/100638 queries. users per second: 12331.6"
      ]
     },
     "metadata": {},
     "output_type": "display_data"
    },
    {
     "data": {
      "text/html": [
       "<pre>recommendations finished on 84000/100638 queries. users per second: 12340</pre>"
      ],
      "text/plain": [
       "recommendations finished on 84000/100638 queries. users per second: 12340"
      ]
     },
     "metadata": {},
     "output_type": "display_data"
    },
    {
     "data": {
      "text/html": [
       "<pre>recommendations finished on 85000/100638 queries. users per second: 12337</pre>"
      ],
      "text/plain": [
       "recommendations finished on 85000/100638 queries. users per second: 12337"
      ]
     },
     "metadata": {},
     "output_type": "display_data"
    },
    {
     "data": {
      "text/html": [
       "<pre>recommendations finished on 86000/100638 queries. users per second: 12347.3</pre>"
      ],
      "text/plain": [
       "recommendations finished on 86000/100638 queries. users per second: 12347.3"
      ]
     },
     "metadata": {},
     "output_type": "display_data"
    },
    {
     "data": {
      "text/html": [
       "<pre>recommendations finished on 87000/100638 queries. users per second: 12358</pre>"
      ],
      "text/plain": [
       "recommendations finished on 87000/100638 queries. users per second: 12358"
      ]
     },
     "metadata": {},
     "output_type": "display_data"
    },
    {
     "data": {
      "text/html": [
       "<pre>recommendations finished on 88000/100638 queries. users per second: 12367</pre>"
      ],
      "text/plain": [
       "recommendations finished on 88000/100638 queries. users per second: 12367"
      ]
     },
     "metadata": {},
     "output_type": "display_data"
    },
    {
     "data": {
      "text/html": [
       "<pre>recommendations finished on 89000/100638 queries. users per second: 12378.7</pre>"
      ],
      "text/plain": [
       "recommendations finished on 89000/100638 queries. users per second: 12378.7"
      ]
     },
     "metadata": {},
     "output_type": "display_data"
    },
    {
     "data": {
      "text/html": [
       "<pre>recommendations finished on 90000/100638 queries. users per second: 12382.4</pre>"
      ],
      "text/plain": [
       "recommendations finished on 90000/100638 queries. users per second: 12382.4"
      ]
     },
     "metadata": {},
     "output_type": "display_data"
    },
    {
     "data": {
      "text/html": [
       "<pre>recommendations finished on 91000/100638 queries. users per second: 12382.4</pre>"
      ],
      "text/plain": [
       "recommendations finished on 91000/100638 queries. users per second: 12382.4"
      ]
     },
     "metadata": {},
     "output_type": "display_data"
    },
    {
     "data": {
      "text/html": [
       "<pre>recommendations finished on 92000/100638 queries. users per second: 12381.3</pre>"
      ],
      "text/plain": [
       "recommendations finished on 92000/100638 queries. users per second: 12381.3"
      ]
     },
     "metadata": {},
     "output_type": "display_data"
    },
    {
     "data": {
      "text/html": [
       "<pre>recommendations finished on 93000/100638 queries. users per second: 12374.4</pre>"
      ],
      "text/plain": [
       "recommendations finished on 93000/100638 queries. users per second: 12374.4"
      ]
     },
     "metadata": {},
     "output_type": "display_data"
    },
    {
     "data": {
      "text/html": [
       "<pre>recommendations finished on 94000/100638 queries. users per second: 12369.4</pre>"
      ],
      "text/plain": [
       "recommendations finished on 94000/100638 queries. users per second: 12369.4"
      ]
     },
     "metadata": {},
     "output_type": "display_data"
    },
    {
     "data": {
      "text/html": [
       "<pre>recommendations finished on 95000/100638 queries. users per second: 12374.3</pre>"
      ],
      "text/plain": [
       "recommendations finished on 95000/100638 queries. users per second: 12374.3"
      ]
     },
     "metadata": {},
     "output_type": "display_data"
    },
    {
     "data": {
      "text/html": [
       "<pre>recommendations finished on 96000/100638 queries. users per second: 12369.6</pre>"
      ],
      "text/plain": [
       "recommendations finished on 96000/100638 queries. users per second: 12369.6"
      ]
     },
     "metadata": {},
     "output_type": "display_data"
    },
    {
     "data": {
      "text/html": [
       "<pre>recommendations finished on 97000/100638 queries. users per second: 12375.9</pre>"
      ],
      "text/plain": [
       "recommendations finished on 97000/100638 queries. users per second: 12375.9"
      ]
     },
     "metadata": {},
     "output_type": "display_data"
    },
    {
     "data": {
      "text/html": [
       "<pre>recommendations finished on 98000/100638 queries. users per second: 12380</pre>"
      ],
      "text/plain": [
       "recommendations finished on 98000/100638 queries. users per second: 12380"
      ]
     },
     "metadata": {},
     "output_type": "display_data"
    },
    {
     "data": {
      "text/html": [
       "<pre>recommendations finished on 99000/100638 queries. users per second: 12384.1</pre>"
      ],
      "text/plain": [
       "recommendations finished on 99000/100638 queries. users per second: 12384.1"
      ]
     },
     "metadata": {},
     "output_type": "display_data"
    },
    {
     "data": {
      "text/html": [
       "<pre>recommendations finished on 100000/100638 queries. users per second: 12366</pre>"
      ],
      "text/plain": [
       "recommendations finished on 100000/100638 queries. users per second: 12366"
      ]
     },
     "metadata": {},
     "output_type": "display_data"
    },
    {
     "name": "stdout",
     "output_type": "stream",
     "text": [
      "(94007, 1)\n"
     ]
    },
    {
     "data": {
      "text/html": [
       "<div>\n",
       "<style scoped>\n",
       "    .dataframe tbody tr th:only-of-type {\n",
       "        vertical-align: middle;\n",
       "    }\n",
       "\n",
       "    .dataframe tbody tr th {\n",
       "        vertical-align: top;\n",
       "    }\n",
       "\n",
       "    .dataframe thead th {\n",
       "        text-align: right;\n",
       "    }\n",
       "</style>\n",
       "<table border=\"1\" class=\"dataframe\">\n",
       "  <thead>\n",
       "    <tr style=\"text-align: right;\">\n",
       "      <th></th>\n",
       "      <th>recommendedProducts</th>\n",
       "    </tr>\n",
       "    <tr>\n",
       "      <th>customer_unique_id</th>\n",
       "      <th></th>\n",
       "    </tr>\n",
       "  </thead>\n",
       "  <tbody>\n",
       "    <tr>\n",
       "      <th>0000366f3b9a7992bf8c76cfdf3221e2</th>\n",
       "      <td>cfe6e9c01d0bbb5df9a75f0e3286baa9|aa3cf7c656b2a...</td>\n",
       "    </tr>\n",
       "    <tr>\n",
       "      <th>0000b849f77a49e4a4ce2b2a4ca5be3f</th>\n",
       "      <td>0b33e28a934b68a0475650499b9ae509|efe572a7ee9cf...</td>\n",
       "    </tr>\n",
       "    <tr>\n",
       "      <th>0000f46a3911fa3c0805444483337064</th>\n",
       "      <td>0b33e28a934b68a0475650499b9ae509|efe572a7ee9cf...</td>\n",
       "    </tr>\n",
       "    <tr>\n",
       "      <th>0000f6ccb0745a6a4b88665a16c9f078</th>\n",
       "      <td>0b33e28a934b68a0475650499b9ae509|efe572a7ee9cf...</td>\n",
       "    </tr>\n",
       "    <tr>\n",
       "      <th>0004aac84e0df4da2b147fca70cf8255</th>\n",
       "      <td>0b33e28a934b68a0475650499b9ae509|efe572a7ee9cf...</td>\n",
       "    </tr>\n",
       "  </tbody>\n",
       "</table>\n",
       "</div>"
      ],
      "text/plain": [
       "                                                                recommendedProducts\n",
       "customer_unique_id                                                                 \n",
       "0000366f3b9a7992bf8c76cfdf3221e2  cfe6e9c01d0bbb5df9a75f0e3286baa9|aa3cf7c656b2a...\n",
       "0000b849f77a49e4a4ce2b2a4ca5be3f  0b33e28a934b68a0475650499b9ae509|efe572a7ee9cf...\n",
       "0000f46a3911fa3c0805444483337064  0b33e28a934b68a0475650499b9ae509|efe572a7ee9cf...\n",
       "0000f6ccb0745a6a4b88665a16c9f078  0b33e28a934b68a0475650499b9ae509|efe572a7ee9cf...\n",
       "0004aac84e0df4da2b147fca70cf8255  0b33e28a934b68a0475650499b9ae509|efe572a7ee9cf..."
      ]
     },
     "execution_count": 85,
     "metadata": {},
     "output_type": "execute_result"
    }
   ],
   "source": [
    "df_output = create_output(cosine_norm, users_to_recommend, n_rec, print_csv=True)\n",
    "df_output.head()"
   ]
  },
  {
   "cell_type": "markdown",
   "metadata": {},
   "source": [
    "Next step was to create a function that on user input tells which products are recommended to a specific user and if the user is not present in the database it return **\"customer not found\"**"
   ]
  },
  {
   "cell_type": "code",
   "execution_count": 2,
   "metadata": {},
   "outputs": [],
   "source": [
    "def customer_recomendation():\n",
    "    if customer_id not in df_output.index:\n",
    "        print('Customer not found.')\n",
    "        return customer_id\n",
    "    return df_output.loc[customer_id]"
   ]
  },
  {
   "cell_type": "code",
   "execution_count": 87,
   "metadata": {},
   "outputs": [
    {
     "data": {
      "text/plain": [
       "recommendedProducts    cfe6e9c01d0bbb5df9a75f0e3286baa9|aa3cf7c656b2a...\n",
       "Name: 44b6bbfea26596437062a38c8e6bcec1, dtype: object"
      ]
     },
     "execution_count": 87,
     "metadata": {},
     "output_type": "execute_result"
    }
   ],
   "source": [
    "customer_recomendation(\"44b6bbfea26596437062a38c8e6bcec1\")"
   ]
  },
  {
   "cell_type": "code",
   "execution_count": 88,
   "metadata": {
    "pycharm": {
     "name": "#%%\n"
    }
   },
   "outputs": [
    {
     "name": "stdout",
     "output_type": "stream",
     "text": [
      "Customer not found.\n"
     ]
    },
    {
     "data": {
      "text/plain": [
       "'miro'"
      ]
     },
     "execution_count": 88,
     "metadata": {},
     "output_type": "execute_result"
    }
   ],
   "source": [
    "customer_recomendation(\"miro\")"
   ]
  }
 ],
 "metadata": {
  "accelerator": "TPU",
  "colab": {
   "name": "turicreate.ipynb",
   "provenance": []
  },
  "interpreter": {
   "hash": "7d723804476022a3a28877642fe5e9b9a442e47b12722b1b8e48fcdc2e107d84"
  },
  "kernelspec": {
   "display_name": "Python 3.8.12 ('datavis')",
   "language": "python",
   "name": "python3"
  },
  "language_info": {
   "codemirror_mode": {
    "name": "ipython",
    "version": 3
   },
   "file_extension": ".py",
   "mimetype": "text/x-python",
   "name": "python",
   "nbconvert_exporter": "python",
   "pygments_lexer": "ipython3",
   "version": "3.8.12"
  }
 },
 "nbformat": 4,
 "nbformat_minor": 1
}
