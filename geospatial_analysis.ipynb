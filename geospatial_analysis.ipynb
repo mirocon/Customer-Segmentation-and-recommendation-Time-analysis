{
 "cells": [
  {
   "cell_type": "markdown",
   "metadata": {},
   "source": [
    "## Library Import"
   ]
  },
  {
   "cell_type": "code",
   "execution_count": 1,
   "metadata": {},
   "outputs": [],
   "source": [
    "import pandas as pd\n",
    "import plotly.graph_objs as go\n",
    "import plotly.express as px\n",
    "import geopandas as gpd\n",
    "import folium\n",
    "import matplotlib.pyplot as plt\n",
    "import numpy as np\n",
    "import seaborn as sns\n"
   ]
  },
  {
   "cell_type": "markdown",
   "metadata": {},
   "source": [
    "## Data Import"
   ]
  },
  {
   "cell_type": "code",
   "execution_count": 2,
   "metadata": {},
   "outputs": [
    {
     "data": {
      "text/html": [
       "<div>\n",
       "<style scoped>\n",
       "    .dataframe tbody tr th:only-of-type {\n",
       "        vertical-align: middle;\n",
       "    }\n",
       "\n",
       "    .dataframe tbody tr th {\n",
       "        vertical-align: top;\n",
       "    }\n",
       "\n",
       "    .dataframe thead th {\n",
       "        text-align: right;\n",
       "    }\n",
       "</style>\n",
       "<table border=\"1\" class=\"dataframe\">\n",
       "  <thead>\n",
       "    <tr style=\"text-align: right;\">\n",
       "      <th></th>\n",
       "      <th>Unnamed: 0</th>\n",
       "      <th>customer_id</th>\n",
       "      <th>order_item_sequence_id</th>\n",
       "      <th>amount_prod_categories</th>\n",
       "      <th>price</th>\n",
       "      <th>transaction_value</th>\n",
       "      <th>shipping_cost</th>\n",
       "      <th>review_score</th>\n",
       "      <th>frequency</th>\n",
       "      <th>recency</th>\n",
       "      <th>...</th>\n",
       "      <th>Segment1</th>\n",
       "      <th>Cluster</th>\n",
       "      <th>type_of_client</th>\n",
       "      <th>customer_autonomous_community</th>\n",
       "      <th>customer_city</th>\n",
       "      <th>geo_latitude</th>\n",
       "      <th>geo_longitude</th>\n",
       "      <th>geo_admin1_code</th>\n",
       "      <th>geo_autonomous_community</th>\n",
       "      <th>cluster_value</th>\n",
       "    </tr>\n",
       "  </thead>\n",
       "  <tbody>\n",
       "    <tr>\n",
       "      <th>0</th>\n",
       "      <td>0</td>\n",
       "      <td>9a736b248f67d166d2fbb006bcb877c3</td>\n",
       "      <td>138</td>\n",
       "      <td>75</td>\n",
       "      <td>77580</td>\n",
       "      <td>12179.0</td>\n",
       "      <td>140598</td>\n",
       "      <td>5.000000</td>\n",
       "      <td>75</td>\n",
       "      <td>385</td>\n",
       "      <td>...</td>\n",
       "      <td>Old firends</td>\n",
       "      <td>3</td>\n",
       "      <td>True Friends</td>\n",
       "      <td>Comunidad de Madrid</td>\n",
       "      <td>Madrid</td>\n",
       "      <td>40.41650</td>\n",
       "      <td>-3.70256</td>\n",
       "      <td>29.0</td>\n",
       "      <td>Comunidad de Madrid</td>\n",
       "      <td>0.476523</td>\n",
       "    </tr>\n",
       "    <tr>\n",
       "      <th>1</th>\n",
       "      <td>1</td>\n",
       "      <td>9a736b248f67d166d2fbb006bcb877c3</td>\n",
       "      <td>138</td>\n",
       "      <td>75</td>\n",
       "      <td>77580</td>\n",
       "      <td>12179.0</td>\n",
       "      <td>140598</td>\n",
       "      <td>5.000000</td>\n",
       "      <td>75</td>\n",
       "      <td>385</td>\n",
       "      <td>...</td>\n",
       "      <td>Old firends</td>\n",
       "      <td>3</td>\n",
       "      <td>True Friends</td>\n",
       "      <td>Comunidad de Madrid</td>\n",
       "      <td>Madrid</td>\n",
       "      <td>40.41650</td>\n",
       "      <td>-3.70256</td>\n",
       "      <td>29.0</td>\n",
       "      <td>Comunidad de Madrid</td>\n",
       "      <td>0.476523</td>\n",
       "    </tr>\n",
       "    <tr>\n",
       "      <th>2</th>\n",
       "      <td>2</td>\n",
       "      <td>6fbc7cdadbb522125f4b27ae9dee4060</td>\n",
       "      <td>57</td>\n",
       "      <td>38</td>\n",
       "      <td>303962</td>\n",
       "      <td>38646.0</td>\n",
       "      <td>86944</td>\n",
       "      <td>5.000000</td>\n",
       "      <td>38</td>\n",
       "      <td>340</td>\n",
       "      <td>...</td>\n",
       "      <td>Old firends</td>\n",
       "      <td>3</td>\n",
       "      <td>True Friends</td>\n",
       "      <td>Cataluña</td>\n",
       "      <td>Barcelona</td>\n",
       "      <td>41.38879</td>\n",
       "      <td>2.15899</td>\n",
       "      <td>56.0</td>\n",
       "      <td>Cataluña</td>\n",
       "      <td>0.541163</td>\n",
       "    </tr>\n",
       "    <tr>\n",
       "      <th>3</th>\n",
       "      <td>3</td>\n",
       "      <td>f9ae226291893fda10af7965268fb7f6</td>\n",
       "      <td>47</td>\n",
       "      <td>35</td>\n",
       "      <td>54365</td>\n",
       "      <td>94647.0</td>\n",
       "      <td>22819</td>\n",
       "      <td>1.942857</td>\n",
       "      <td>35</td>\n",
       "      <td>535</td>\n",
       "      <td>...</td>\n",
       "      <td>Old firends</td>\n",
       "      <td>3</td>\n",
       "      <td>True Friends</td>\n",
       "      <td>Andalucía</td>\n",
       "      <td>Cádiz</td>\n",
       "      <td>NaN</td>\n",
       "      <td>NaN</td>\n",
       "      <td>NaN</td>\n",
       "      <td>NaN</td>\n",
       "      <td>0.507631</td>\n",
       "    </tr>\n",
       "    <tr>\n",
       "      <th>4</th>\n",
       "      <td>4</td>\n",
       "      <td>f9ae226291893fda10af7965268fb7f6</td>\n",
       "      <td>47</td>\n",
       "      <td>35</td>\n",
       "      <td>54365</td>\n",
       "      <td>94647.0</td>\n",
       "      <td>22819</td>\n",
       "      <td>1.942857</td>\n",
       "      <td>35</td>\n",
       "      <td>535</td>\n",
       "      <td>...</td>\n",
       "      <td>Old firends</td>\n",
       "      <td>3</td>\n",
       "      <td>True Friends</td>\n",
       "      <td>Andalucía</td>\n",
       "      <td>Cádiz</td>\n",
       "      <td>NaN</td>\n",
       "      <td>NaN</td>\n",
       "      <td>NaN</td>\n",
       "      <td>NaN</td>\n",
       "      <td>0.507631</td>\n",
       "    </tr>\n",
       "  </tbody>\n",
       "</table>\n",
       "<p>5 rows × 24 columns</p>\n",
       "</div>"
      ],
      "text/plain": [
       "   Unnamed: 0                       customer_id  order_item_sequence_id  \\\n",
       "0           0  9a736b248f67d166d2fbb006bcb877c3                     138   \n",
       "1           1  9a736b248f67d166d2fbb006bcb877c3                     138   \n",
       "2           2  6fbc7cdadbb522125f4b27ae9dee4060                      57   \n",
       "3           3  f9ae226291893fda10af7965268fb7f6                      47   \n",
       "4           4  f9ae226291893fda10af7965268fb7f6                      47   \n",
       "\n",
       "   amount_prod_categories   price  transaction_value  shipping_cost  \\\n",
       "0                      75   77580            12179.0         140598   \n",
       "1                      75   77580            12179.0         140598   \n",
       "2                      38  303962            38646.0          86944   \n",
       "3                      35   54365            94647.0          22819   \n",
       "4                      35   54365            94647.0          22819   \n",
       "\n",
       "   review_score  frequency  recency  ...     Segment1  Cluster  \\\n",
       "0      5.000000         75      385  ...  Old firends        3   \n",
       "1      5.000000         75      385  ...  Old firends        3   \n",
       "2      5.000000         38      340  ...  Old firends        3   \n",
       "3      1.942857         35      535  ...  Old firends        3   \n",
       "4      1.942857         35      535  ...  Old firends        3   \n",
       "\n",
       "   type_of_client  customer_autonomous_community customer_city  geo_latitude  \\\n",
       "0    True Friends            Comunidad de Madrid        Madrid      40.41650   \n",
       "1    True Friends            Comunidad de Madrid        Madrid      40.41650   \n",
       "2    True Friends                       Cataluña     Barcelona      41.38879   \n",
       "3    True Friends                      Andalucía         Cádiz           NaN   \n",
       "4    True Friends                      Andalucía         Cádiz           NaN   \n",
       "\n",
       "  geo_longitude geo_admin1_code geo_autonomous_community  cluster_value  \n",
       "0      -3.70256            29.0      Comunidad de Madrid       0.476523  \n",
       "1      -3.70256            29.0      Comunidad de Madrid       0.476523  \n",
       "2       2.15899            56.0                 Cataluña       0.541163  \n",
       "3           NaN             NaN                      NaN       0.507631  \n",
       "4           NaN             NaN                      NaN       0.507631  \n",
       "\n",
       "[5 rows x 24 columns]"
      ]
     },
     "execution_count": 2,
     "metadata": {},
     "output_type": "execute_result"
    }
   ],
   "source": [
    "data= pd.read_csv(\"data_for_geo.csv\")\n",
    "data.head()"
   ]
  },
  {
   "cell_type": "markdown",
   "metadata": {},
   "source": [
    "## Geographic Visualization with Plotly\n",
    "\n",
    "Thanks to Plotly some interactive maps are created, the first one represent the number of customer per city.\n",
    "First, data are grouped by their geographic information and the number of customer per city is found through a *count()*"
   ]
  },
  {
   "cell_type": "code",
   "execution_count": 3,
   "metadata": {},
   "outputs": [],
   "source": [
    "#count customer per latitude and longitude\n",
    "count_customer= data.groupby([\"geo_latitude\",\"geo_longitude\",\"customer_city\"]).customer_id.count().reset_index().sort_values(by=\"customer_id\", ascending=False)\n"
   ]
  },
  {
   "cell_type": "code",
   "execution_count": 6,
   "metadata": {},
   "outputs": [],
   "source": [
    "#convert count_customer to dataframe\n",
    "count_customer_df= pd.DataFrame(count_customer)"
   ]
  },
  {
   "cell_type": "markdown",
   "metadata": {},
   "source": [
    "Map showing the number of customer per city"
   ]
  },
  {
   "cell_type": "code",
   "execution_count": 5,
   "metadata": {},
   "outputs": [
    {
     "data": {
      "application/vnd.plotly.v1+json": {
       "config": {
        "plotlyServerURL": "https://plotly.com"
       },
       "data": [
        {
         "hovertemplate": "<b>%{hovertext}</b><br><br>customer_id=%{marker.color}<br>geo_latitude=%{lat}<br>geo_longitude=%{lon}<extra></extra>",
         "hovertext": [
          "Madrid",
          "Barcelona",
          "Granada",
          "Huelva",
          "Sevilla",
          "Valencia",
          "Coruna",
          "Murcia",
          "Bilbao",
          "Gerona",
          "Lleida",
          "Tarragona",
          "Alicante",
          "Fuenlabrada",
          "Ourense",
          "Zaragoza",
          "Vitoria",
          "Lugo",
          "Getafe",
          "Valladolid",
          "Parla",
          "Las Palmas de Gran Canaria",
          "Pontevedra",
          "Palma de Mallorca - Mallorca",
          "Albacete",
          "Alcobendas",
          "Toledo",
          "Badajoz",
          "Cuenca",
          "Pamplona",
          "Salamanca",
          "Santander",
          "Huesca",
          "Teruel",
          "Zamora",
          "Logrono",
          "Oviedo",
          "Santa Cruz de Tenerife",
          "Palencia",
          "Segovia",
          "Soria",
          "Burgos",
          "Arrecife - Lanzarote",
          "Torrelavega",
          "Almeria",
          "Tudela",
          "Puerto del Rosario - Fuerteventura",
          "Ibiza - Ibiza",
          "Calahorra",
          "Manacor - Mallorca",
          "Castellon",
          "Alcorcon",
          "Mostoles",
          "Avila",
          "Jaen",
          "San Sebastian",
          "Malaga",
          "Caceres",
          "Alcala de Henares",
          "Merida",
          "Torrejon de Ardoz",
          "Gijon",
          "Aviles",
          "Leon",
          "Leganes"
         ],
         "lat": [
          40.4165,
          41.38879,
          37.18817,
          37.26638,
          37.38283,
          39.46975,
          43.37135,
          37.98704,
          43.26271,
          41.98311,
          41.61674,
          41.11667,
          38.34517,
          40.28419,
          42.33669,
          41.65606,
          42.84998,
          43.00992,
          40.30571,
          41.65518,
          40.23604,
          28.09973,
          42.431,
          39.56939,
          38.99424,
          40.54746,
          39.8581,
          38.87789,
          40.06667,
          42.81687,
          40.96882,
          43.46472,
          42.13615,
          40.3456,
          41.50633,
          42.46667,
          43.36029,
          28.46824,
          42.00955,
          40.94808,
          41.76401,
          42.34106,
          28.96302,
          43.34943,
          36.83814,
          42.06166,
          28.50038,
          38.90883,
          42.30506,
          39.56964,
          39.98567,
          40.34582,
          40.32234,
          40.65724,
          37.76922,
          43.31283,
          36.72016,
          39.47649,
          40.48205,
          38.91611,
          40.45535,
          43.53573,
          43.55473,
          42.60003,
          40.32718
         ],
         "legendgroup": "",
         "lon": [
          -3.70256,
          2.15899,
          -3.60667,
          -6.94004,
          -5.97317,
          -0.37739,
          -8.396,
          -1.13004,
          -2.92528,
          2.82493,
          0.62218,
          1.25,
          -0.48149,
          -3.79415,
          -7.86407,
          -0.87734,
          -2.67268,
          -7.55602,
          -3.73295,
          -4.72372,
          -3.76752,
          -15.41343,
          -8.64435,
          2.65024,
          -1.85643,
          -3.64197,
          -4.02263,
          -6.97061,
          -2.13333,
          -1.64323,
          -5.66388,
          -3.80444,
          -0.4087,
          -1.10646,
          -5.74456,
          -2.45,
          -5.84476,
          -16.25462,
          -4.52406,
          -4.11839,
          -2.46883,
          -3.70184,
          -13.54769,
          -4.04785,
          -2.45974,
          -1.60452,
          -13.86272,
          1.43296,
          -1.96521,
          3.20955,
          -0.04935,
          -3.82487,
          -3.86496,
          -4.69951,
          -3.79028,
          -1.97499,
          -4.42034,
          -6.37224,
          -3.35996,
          -6.34366,
          -3.46973,
          -5.66152,
          -5.92483,
          -5.57032,
          -3.7635
         ],
         "marker": {
          "color": [
           18018,
           7604,
           3396,
           2791,
           2743,
           2544,
           2202,
           2032,
           2004,
           1960,
           1463,
           1419,
           1387,
           1105,
           1002,
           999,
           984,
           913,
           854,
           796,
           779,
           777,
           770,
           756,
           747,
           742,
           662,
           572,
           538,
           535,
           497,
           488,
           470,
           424,
           374,
           345,
           342,
           302,
           301,
           281,
           265,
           261,
           255,
           235,
           229,
           229,
           219,
           163,
           159,
           158,
           98,
           61,
           56,
           54,
           44,
           32,
           31,
           22,
           20,
           17,
           16,
           16,
           14,
           10,
           9
          ],
          "coloraxis": "coloraxis",
          "size": [
           18018,
           7604,
           3396,
           2791,
           2743,
           2544,
           2202,
           2032,
           2004,
           1960,
           1463,
           1419,
           1387,
           1105,
           1002,
           999,
           984,
           913,
           854,
           796,
           779,
           777,
           770,
           756,
           747,
           742,
           662,
           572,
           538,
           535,
           497,
           488,
           470,
           424,
           374,
           345,
           342,
           302,
           301,
           281,
           265,
           261,
           255,
           235,
           229,
           229,
           219,
           163,
           159,
           158,
           98,
           61,
           56,
           54,
           44,
           32,
           31,
           22,
           20,
           17,
           16,
           16,
           14,
           10,
           9
          ],
          "sizemode": "area",
          "sizeref": 45.045
         },
         "mode": "markers",
         "name": "",
         "showlegend": false,
         "subplot": "mapbox",
         "type": "scattermapbox"
        }
       ],
       "layout": {
        "coloraxis": {
         "colorbar": {
          "title": {
           "text": "customer_id"
          }
         },
         "colorscale": [
          [
           0,
           "rgb(214, 249, 207)"
          ],
          [
           0.09090909090909091,
           "rgb(186, 228, 174)"
          ],
          [
           0.18181818181818182,
           "rgb(156, 209, 143)"
          ],
          [
           0.2727272727272727,
           "rgb(124, 191, 115)"
          ],
          [
           0.36363636363636365,
           "rgb(85, 174, 91)"
          ],
          [
           0.45454545454545453,
           "rgb(37, 157, 81)"
          ],
          [
           0.5454545454545454,
           "rgb(7, 138, 78)"
          ],
          [
           0.6363636363636364,
           "rgb(13, 117, 71)"
          ],
          [
           0.7272727272727273,
           "rgb(23, 95, 61)"
          ],
          [
           0.8181818181818182,
           "rgb(25, 75, 49)"
          ],
          [
           0.9090909090909091,
           "rgb(23, 55, 35)"
          ],
          [
           1,
           "rgb(17, 36, 20)"
          ]
         ]
        },
        "legend": {
         "itemsizing": "constant",
         "tracegroupgap": 0
        },
        "mapbox": {
         "center": {
          "lat": 40.048107076923074,
          "lon": -3.928716153846154
         },
         "domain": {
          "x": [
           0,
           1
          ],
          "y": [
           0,
           1
          ]
         },
         "style": "carto-positron",
         "zoom": 4.5
        },
        "template": {
         "data": {
          "bar": [
           {
            "error_x": {
             "color": "#2a3f5f"
            },
            "error_y": {
             "color": "#2a3f5f"
            },
            "marker": {
             "line": {
              "color": "#E5ECF6",
              "width": 0.5
             },
             "pattern": {
              "fillmode": "overlay",
              "size": 10,
              "solidity": 0.2
             }
            },
            "type": "bar"
           }
          ],
          "barpolar": [
           {
            "marker": {
             "line": {
              "color": "#E5ECF6",
              "width": 0.5
             },
             "pattern": {
              "fillmode": "overlay",
              "size": 10,
              "solidity": 0.2
             }
            },
            "type": "barpolar"
           }
          ],
          "carpet": [
           {
            "aaxis": {
             "endlinecolor": "#2a3f5f",
             "gridcolor": "white",
             "linecolor": "white",
             "minorgridcolor": "white",
             "startlinecolor": "#2a3f5f"
            },
            "baxis": {
             "endlinecolor": "#2a3f5f",
             "gridcolor": "white",
             "linecolor": "white",
             "minorgridcolor": "white",
             "startlinecolor": "#2a3f5f"
            },
            "type": "carpet"
           }
          ],
          "choropleth": [
           {
            "colorbar": {
             "outlinewidth": 0,
             "ticks": ""
            },
            "type": "choropleth"
           }
          ],
          "contour": [
           {
            "colorbar": {
             "outlinewidth": 0,
             "ticks": ""
            },
            "colorscale": [
             [
              0,
              "#0d0887"
             ],
             [
              0.1111111111111111,
              "#46039f"
             ],
             [
              0.2222222222222222,
              "#7201a8"
             ],
             [
              0.3333333333333333,
              "#9c179e"
             ],
             [
              0.4444444444444444,
              "#bd3786"
             ],
             [
              0.5555555555555556,
              "#d8576b"
             ],
             [
              0.6666666666666666,
              "#ed7953"
             ],
             [
              0.7777777777777778,
              "#fb9f3a"
             ],
             [
              0.8888888888888888,
              "#fdca26"
             ],
             [
              1,
              "#f0f921"
             ]
            ],
            "type": "contour"
           }
          ],
          "contourcarpet": [
           {
            "colorbar": {
             "outlinewidth": 0,
             "ticks": ""
            },
            "type": "contourcarpet"
           }
          ],
          "heatmap": [
           {
            "colorbar": {
             "outlinewidth": 0,
             "ticks": ""
            },
            "colorscale": [
             [
              0,
              "#0d0887"
             ],
             [
              0.1111111111111111,
              "#46039f"
             ],
             [
              0.2222222222222222,
              "#7201a8"
             ],
             [
              0.3333333333333333,
              "#9c179e"
             ],
             [
              0.4444444444444444,
              "#bd3786"
             ],
             [
              0.5555555555555556,
              "#d8576b"
             ],
             [
              0.6666666666666666,
              "#ed7953"
             ],
             [
              0.7777777777777778,
              "#fb9f3a"
             ],
             [
              0.8888888888888888,
              "#fdca26"
             ],
             [
              1,
              "#f0f921"
             ]
            ],
            "type": "heatmap"
           }
          ],
          "heatmapgl": [
           {
            "colorbar": {
             "outlinewidth": 0,
             "ticks": ""
            },
            "colorscale": [
             [
              0,
              "#0d0887"
             ],
             [
              0.1111111111111111,
              "#46039f"
             ],
             [
              0.2222222222222222,
              "#7201a8"
             ],
             [
              0.3333333333333333,
              "#9c179e"
             ],
             [
              0.4444444444444444,
              "#bd3786"
             ],
             [
              0.5555555555555556,
              "#d8576b"
             ],
             [
              0.6666666666666666,
              "#ed7953"
             ],
             [
              0.7777777777777778,
              "#fb9f3a"
             ],
             [
              0.8888888888888888,
              "#fdca26"
             ],
             [
              1,
              "#f0f921"
             ]
            ],
            "type": "heatmapgl"
           }
          ],
          "histogram": [
           {
            "marker": {
             "pattern": {
              "fillmode": "overlay",
              "size": 10,
              "solidity": 0.2
             }
            },
            "type": "histogram"
           }
          ],
          "histogram2d": [
           {
            "colorbar": {
             "outlinewidth": 0,
             "ticks": ""
            },
            "colorscale": [
             [
              0,
              "#0d0887"
             ],
             [
              0.1111111111111111,
              "#46039f"
             ],
             [
              0.2222222222222222,
              "#7201a8"
             ],
             [
              0.3333333333333333,
              "#9c179e"
             ],
             [
              0.4444444444444444,
              "#bd3786"
             ],
             [
              0.5555555555555556,
              "#d8576b"
             ],
             [
              0.6666666666666666,
              "#ed7953"
             ],
             [
              0.7777777777777778,
              "#fb9f3a"
             ],
             [
              0.8888888888888888,
              "#fdca26"
             ],
             [
              1,
              "#f0f921"
             ]
            ],
            "type": "histogram2d"
           }
          ],
          "histogram2dcontour": [
           {
            "colorbar": {
             "outlinewidth": 0,
             "ticks": ""
            },
            "colorscale": [
             [
              0,
              "#0d0887"
             ],
             [
              0.1111111111111111,
              "#46039f"
             ],
             [
              0.2222222222222222,
              "#7201a8"
             ],
             [
              0.3333333333333333,
              "#9c179e"
             ],
             [
              0.4444444444444444,
              "#bd3786"
             ],
             [
              0.5555555555555556,
              "#d8576b"
             ],
             [
              0.6666666666666666,
              "#ed7953"
             ],
             [
              0.7777777777777778,
              "#fb9f3a"
             ],
             [
              0.8888888888888888,
              "#fdca26"
             ],
             [
              1,
              "#f0f921"
             ]
            ],
            "type": "histogram2dcontour"
           }
          ],
          "mesh3d": [
           {
            "colorbar": {
             "outlinewidth": 0,
             "ticks": ""
            },
            "type": "mesh3d"
           }
          ],
          "parcoords": [
           {
            "line": {
             "colorbar": {
              "outlinewidth": 0,
              "ticks": ""
             }
            },
            "type": "parcoords"
           }
          ],
          "pie": [
           {
            "automargin": true,
            "type": "pie"
           }
          ],
          "scatter": [
           {
            "fillpattern": {
             "fillmode": "overlay",
             "size": 10,
             "solidity": 0.2
            },
            "type": "scatter"
           }
          ],
          "scatter3d": [
           {
            "line": {
             "colorbar": {
              "outlinewidth": 0,
              "ticks": ""
             }
            },
            "marker": {
             "colorbar": {
              "outlinewidth": 0,
              "ticks": ""
             }
            },
            "type": "scatter3d"
           }
          ],
          "scattercarpet": [
           {
            "marker": {
             "colorbar": {
              "outlinewidth": 0,
              "ticks": ""
             }
            },
            "type": "scattercarpet"
           }
          ],
          "scattergeo": [
           {
            "marker": {
             "colorbar": {
              "outlinewidth": 0,
              "ticks": ""
             }
            },
            "type": "scattergeo"
           }
          ],
          "scattergl": [
           {
            "marker": {
             "colorbar": {
              "outlinewidth": 0,
              "ticks": ""
             }
            },
            "type": "scattergl"
           }
          ],
          "scattermapbox": [
           {
            "marker": {
             "colorbar": {
              "outlinewidth": 0,
              "ticks": ""
             }
            },
            "type": "scattermapbox"
           }
          ],
          "scatterpolar": [
           {
            "marker": {
             "colorbar": {
              "outlinewidth": 0,
              "ticks": ""
             }
            },
            "type": "scatterpolar"
           }
          ],
          "scatterpolargl": [
           {
            "marker": {
             "colorbar": {
              "outlinewidth": 0,
              "ticks": ""
             }
            },
            "type": "scatterpolargl"
           }
          ],
          "scatterternary": [
           {
            "marker": {
             "colorbar": {
              "outlinewidth": 0,
              "ticks": ""
             }
            },
            "type": "scatterternary"
           }
          ],
          "surface": [
           {
            "colorbar": {
             "outlinewidth": 0,
             "ticks": ""
            },
            "colorscale": [
             [
              0,
              "#0d0887"
             ],
             [
              0.1111111111111111,
              "#46039f"
             ],
             [
              0.2222222222222222,
              "#7201a8"
             ],
             [
              0.3333333333333333,
              "#9c179e"
             ],
             [
              0.4444444444444444,
              "#bd3786"
             ],
             [
              0.5555555555555556,
              "#d8576b"
             ],
             [
              0.6666666666666666,
              "#ed7953"
             ],
             [
              0.7777777777777778,
              "#fb9f3a"
             ],
             [
              0.8888888888888888,
              "#fdca26"
             ],
             [
              1,
              "#f0f921"
             ]
            ],
            "type": "surface"
           }
          ],
          "table": [
           {
            "cells": {
             "fill": {
              "color": "#EBF0F8"
             },
             "line": {
              "color": "white"
             }
            },
            "header": {
             "fill": {
              "color": "#C8D4E3"
             },
             "line": {
              "color": "white"
             }
            },
            "type": "table"
           }
          ]
         },
         "layout": {
          "annotationdefaults": {
           "arrowcolor": "#2a3f5f",
           "arrowhead": 0,
           "arrowwidth": 1
          },
          "autotypenumbers": "strict",
          "coloraxis": {
           "colorbar": {
            "outlinewidth": 0,
            "ticks": ""
           }
          },
          "colorscale": {
           "diverging": [
            [
             0,
             "#8e0152"
            ],
            [
             0.1,
             "#c51b7d"
            ],
            [
             0.2,
             "#de77ae"
            ],
            [
             0.3,
             "#f1b6da"
            ],
            [
             0.4,
             "#fde0ef"
            ],
            [
             0.5,
             "#f7f7f7"
            ],
            [
             0.6,
             "#e6f5d0"
            ],
            [
             0.7,
             "#b8e186"
            ],
            [
             0.8,
             "#7fbc41"
            ],
            [
             0.9,
             "#4d9221"
            ],
            [
             1,
             "#276419"
            ]
           ],
           "sequential": [
            [
             0,
             "#0d0887"
            ],
            [
             0.1111111111111111,
             "#46039f"
            ],
            [
             0.2222222222222222,
             "#7201a8"
            ],
            [
             0.3333333333333333,
             "#9c179e"
            ],
            [
             0.4444444444444444,
             "#bd3786"
            ],
            [
             0.5555555555555556,
             "#d8576b"
            ],
            [
             0.6666666666666666,
             "#ed7953"
            ],
            [
             0.7777777777777778,
             "#fb9f3a"
            ],
            [
             0.8888888888888888,
             "#fdca26"
            ],
            [
             1,
             "#f0f921"
            ]
           ],
           "sequentialminus": [
            [
             0,
             "#0d0887"
            ],
            [
             0.1111111111111111,
             "#46039f"
            ],
            [
             0.2222222222222222,
             "#7201a8"
            ],
            [
             0.3333333333333333,
             "#9c179e"
            ],
            [
             0.4444444444444444,
             "#bd3786"
            ],
            [
             0.5555555555555556,
             "#d8576b"
            ],
            [
             0.6666666666666666,
             "#ed7953"
            ],
            [
             0.7777777777777778,
             "#fb9f3a"
            ],
            [
             0.8888888888888888,
             "#fdca26"
            ],
            [
             1,
             "#f0f921"
            ]
           ]
          },
          "colorway": [
           "#636efa",
           "#EF553B",
           "#00cc96",
           "#ab63fa",
           "#FFA15A",
           "#19d3f3",
           "#FF6692",
           "#B6E880",
           "#FF97FF",
           "#FECB52"
          ],
          "font": {
           "color": "#2a3f5f"
          },
          "geo": {
           "bgcolor": "white",
           "lakecolor": "white",
           "landcolor": "#E5ECF6",
           "showlakes": true,
           "showland": true,
           "subunitcolor": "white"
          },
          "hoverlabel": {
           "align": "left"
          },
          "hovermode": "closest",
          "mapbox": {
           "style": "light"
          },
          "paper_bgcolor": "white",
          "plot_bgcolor": "#E5ECF6",
          "polar": {
           "angularaxis": {
            "gridcolor": "white",
            "linecolor": "white",
            "ticks": ""
           },
           "bgcolor": "#E5ECF6",
           "radialaxis": {
            "gridcolor": "white",
            "linecolor": "white",
            "ticks": ""
           }
          },
          "scene": {
           "xaxis": {
            "backgroundcolor": "#E5ECF6",
            "gridcolor": "white",
            "gridwidth": 2,
            "linecolor": "white",
            "showbackground": true,
            "ticks": "",
            "zerolinecolor": "white"
           },
           "yaxis": {
            "backgroundcolor": "#E5ECF6",
            "gridcolor": "white",
            "gridwidth": 2,
            "linecolor": "white",
            "showbackground": true,
            "ticks": "",
            "zerolinecolor": "white"
           },
           "zaxis": {
            "backgroundcolor": "#E5ECF6",
            "gridcolor": "white",
            "gridwidth": 2,
            "linecolor": "white",
            "showbackground": true,
            "ticks": "",
            "zerolinecolor": "white"
           }
          },
          "shapedefaults": {
           "line": {
            "color": "#2a3f5f"
           }
          },
          "ternary": {
           "aaxis": {
            "gridcolor": "white",
            "linecolor": "white",
            "ticks": ""
           },
           "baxis": {
            "gridcolor": "white",
            "linecolor": "white",
            "ticks": ""
           },
           "bgcolor": "#E5ECF6",
           "caxis": {
            "gridcolor": "white",
            "linecolor": "white",
            "ticks": ""
           }
          },
          "title": {
           "x": 0.05
          },
          "xaxis": {
           "automargin": true,
           "gridcolor": "white",
           "linecolor": "white",
           "ticks": "",
           "title": {
            "standoff": 15
           },
           "zerolinecolor": "white",
           "zerolinewidth": 2
          },
          "yaxis": {
           "automargin": true,
           "gridcolor": "white",
           "linecolor": "white",
           "ticks": "",
           "title": {
            "standoff": 15
           },
           "zerolinecolor": "white",
           "zerolinewidth": 2
          }
         }
        },
        "title": {
         "text": "Number of customer per City"
        }
       }
      }
     },
     "metadata": {},
     "output_type": "display_data"
    }
   ],
   "source": [
    "fig = px.scatter_mapbox(count_customer_df, lat=\"geo_latitude\", lon=\"geo_longitude\", zoom=4.5, size=\"customer_id\", color = \"customer_id\", title=\"Number of customer per City\",size_max=20, hover_name=\"customer_city\", mapbox_style=\"carto-positron\",\n",
    "color_continuous_scale=px.colors.sequential.algae)\n",
    "fig.show()\n",
    "import plotly.io as pio\n",
    "pio.write_html(fig, file=\"map_customer_city.html\", auto_open=True)"
   ]
  },
  {
   "cell_type": "markdown",
   "metadata": {},
   "source": [
    "For the second map the average order shipping cost per city has been drawn"
   ]
  },
  {
   "cell_type": "code",
   "execution_count": 7,
   "metadata": {},
   "outputs": [],
   "source": [
    "#count average shipping cost per city\n",
    "count_shipping_cost= data.groupby([\"geo_latitude\",\"geo_longitude\",\"customer_city\"]).shipping_cost.mean().reset_index().sort_values(by=\"shipping_cost\", ascending=False)"
   ]
  },
  {
   "cell_type": "code",
   "execution_count": 8,
   "metadata": {},
   "outputs": [],
   "source": [
    "count_shipping_cost=pd.DataFrame(count_shipping_cost)"
   ]
  },
  {
   "cell_type": "code",
   "execution_count": 9,
   "metadata": {},
   "outputs": [
    {
     "data": {
      "application/vnd.plotly.v1+json": {
       "config": {
        "plotlyServerURL": "https://plotly.com"
       },
       "data": [
        {
         "hovertemplate": "<b>%{hovertext}</b><br><br>shipping_cost=%{marker.color}<br>geo_latitude=%{lat}<br>geo_longitude=%{lon}<extra></extra>",
         "hovertext": [
          "San Sebastian",
          "Calahorra",
          "Tudela",
          "Logrono",
          "Puerto del Rosario - Fuerteventura",
          "Pamplona",
          "Manacor - Mallorca",
          "Caceres",
          "Oviedo",
          "Ibiza - Ibiza",
          "Las Palmas de Gran Canaria",
          "Badajoz",
          "Arrecife - Lanzarote",
          "Santa Cruz de Tenerife",
          "Merida",
          "Palma de Mallorca - Mallorca",
          "Vitoria",
          "Gijon",
          "Aviles",
          "Bilbao",
          "Santander",
          "Leganes",
          "Gerona",
          "Torrejon de Ardoz",
          "Castellon",
          "Avila",
          "Huesca",
          "Leon",
          "Teruel",
          "Soria",
          "Pontevedra",
          "Zaragoza",
          "Torrelavega",
          "Valladolid",
          "Toledo",
          "Lleida",
          "Valencia",
          "Getafe",
          "Alicante",
          "Alcobendas",
          "Palencia",
          "Burgos",
          "Barcelona",
          "Tarragona",
          "Albacete",
          "Parla",
          "Lugo",
          "Zamora",
          "Segovia",
          "Alcorcon",
          "Cuenca",
          "Coruna",
          "Murcia",
          "Ourense",
          "Salamanca",
          "Fuenlabrada",
          "Mostoles",
          "Jaen",
          "Sevilla",
          "Huelva",
          "Alcala de Henares",
          "Madrid",
          "Granada",
          "Almeria",
          "Malaga"
         ],
         "lat": [
          43.31283,
          42.30506,
          42.06166,
          42.46667,
          28.50038,
          42.81687,
          39.56964,
          39.47649,
          43.36029,
          38.90883,
          28.09973,
          38.87789,
          28.96302,
          28.46824,
          38.91611,
          39.56939,
          42.84998,
          43.53573,
          43.55473,
          43.26271,
          43.46472,
          40.32718,
          41.98311,
          40.45535,
          39.98567,
          40.65724,
          42.13615,
          42.60003,
          40.3456,
          41.76401,
          42.431,
          41.65606,
          43.34943,
          41.65518,
          39.8581,
          41.61674,
          39.46975,
          40.30571,
          38.34517,
          40.54746,
          42.00955,
          42.34106,
          41.38879,
          41.11667,
          38.99424,
          40.23604,
          43.00992,
          41.50633,
          40.94808,
          40.34582,
          40.06667,
          43.37135,
          37.98704,
          42.33669,
          40.96882,
          40.28419,
          40.32234,
          37.76922,
          37.38283,
          37.26638,
          40.48205,
          40.4165,
          37.18817,
          36.83814,
          36.72016
         ],
         "legendgroup": "",
         "lon": [
          -1.97499,
          -1.96521,
          -1.60452,
          -2.45,
          -13.86272,
          -1.64323,
          3.20955,
          -6.37224,
          -5.84476,
          1.43296,
          -15.41343,
          -6.97061,
          -13.54769,
          -16.25462,
          -6.34366,
          2.65024,
          -2.67268,
          -5.66152,
          -5.92483,
          -2.92528,
          -3.80444,
          -3.7635,
          2.82493,
          -3.46973,
          -0.04935,
          -4.69951,
          -0.4087,
          -5.57032,
          -1.10646,
          -2.46883,
          -8.64435,
          -0.87734,
          -4.04785,
          -4.72372,
          -4.02263,
          0.62218,
          -0.37739,
          -3.73295,
          -0.48149,
          -3.64197,
          -4.52406,
          -3.70184,
          2.15899,
          1.25,
          -1.85643,
          -3.76752,
          -7.55602,
          -5.74456,
          -4.11839,
          -3.82487,
          -2.13333,
          -8.396,
          -1.13004,
          -7.86407,
          -5.66388,
          -3.79415,
          -3.86496,
          -3.79028,
          -5.97317,
          -6.94004,
          -3.35996,
          -3.70256,
          -3.60667,
          -2.45974,
          -4.42034
         ],
         "marker": {
          "color": [
           6333.90625,
           6036.188679245283,
           4697.515283842795,
           4579.75652173913,
           4505.858447488585,
           4249.183177570094,
           4245.664556962025,
           4034.090909090909,
           3821.254385964912,
           3799.1104294478528,
           3769.4633204633205,
           3654.125874125874,
           3508.0235294117647,
           3488.53642384106,
           3331.470588235294,
           3235.613756613757,
           3198.234756097561,
           3148.5625,
           3022.0714285714284,
           2975.4715568862275,
           2844.0491803278687,
           2795.4444444444443,
           2734.6454081632655,
           2692.8125,
           2638.8673469387754,
           2638.259259259259,
           2596.7808510638297,
           2592.8,
           2590.816037735849,
           2521.796226415094,
           2499.450649350649,
           2481.292292292292,
           2471.2255319148935,
           2469.395728643216,
           2438.270392749245,
           2434.6172248803828,
           2424.235455974843,
           2420.480093676815,
           2412.0374909877432,
           2407.2830188679245,
           2393.2724252491694,
           2364.7816091954023,
           2348.961993687533,
           2341.7004933051444,
           2335.3239625167334,
           2329.919127086008,
           2301.014238773275,
           2283.5160427807486,
           2262.537366548043,
           2245.55737704918,
           2228.9665427509294,
           2217.6248864668482,
           2214.2426181102364,
           2190.631736526946,
           2185.8933601609656,
           2179.769230769231,
           2074.214285714286,
           1919.5454545454545,
           1863.9413051403574,
           1838.9974919383733,
           1828.05,
           1801.3366633366634,
           1798.86542991755,
           1743.183406113537,
           1688.6129032258063
          ],
          "coloraxis": "coloraxis",
          "size": [
           6333.90625,
           6036.188679245283,
           4697.515283842795,
           4579.75652173913,
           4505.858447488585,
           4249.183177570094,
           4245.664556962025,
           4034.090909090909,
           3821.254385964912,
           3799.1104294478528,
           3769.4633204633205,
           3654.125874125874,
           3508.0235294117647,
           3488.53642384106,
           3331.470588235294,
           3235.613756613757,
           3198.234756097561,
           3148.5625,
           3022.0714285714284,
           2975.4715568862275,
           2844.0491803278687,
           2795.4444444444443,
           2734.6454081632655,
           2692.8125,
           2638.8673469387754,
           2638.259259259259,
           2596.7808510638297,
           2592.8,
           2590.816037735849,
           2521.796226415094,
           2499.450649350649,
           2481.292292292292,
           2471.2255319148935,
           2469.395728643216,
           2438.270392749245,
           2434.6172248803828,
           2424.235455974843,
           2420.480093676815,
           2412.0374909877432,
           2407.2830188679245,
           2393.2724252491694,
           2364.7816091954023,
           2348.961993687533,
           2341.7004933051444,
           2335.3239625167334,
           2329.919127086008,
           2301.014238773275,
           2283.5160427807486,
           2262.537366548043,
           2245.55737704918,
           2228.9665427509294,
           2217.6248864668482,
           2214.2426181102364,
           2190.631736526946,
           2185.8933601609656,
           2179.769230769231,
           2074.214285714286,
           1919.5454545454545,
           1863.9413051403574,
           1838.9974919383733,
           1828.05,
           1801.3366633366634,
           1798.86542991755,
           1743.183406113537,
           1688.6129032258063
          ],
          "sizemode": "area",
          "sizeref": 63.3390625
         },
         "mode": "markers",
         "name": "",
         "showlegend": false,
         "subplot": "mapbox",
         "type": "scattermapbox"
        }
       ],
       "layout": {
        "coloraxis": {
         "colorbar": {
          "title": {
           "text": "shipping_cost"
          }
         },
         "colorscale": [
          [
           0,
           "rgb(214, 249, 207)"
          ],
          [
           0.09090909090909091,
           "rgb(186, 228, 174)"
          ],
          [
           0.18181818181818182,
           "rgb(156, 209, 143)"
          ],
          [
           0.2727272727272727,
           "rgb(124, 191, 115)"
          ],
          [
           0.36363636363636365,
           "rgb(85, 174, 91)"
          ],
          [
           0.45454545454545453,
           "rgb(37, 157, 81)"
          ],
          [
           0.5454545454545454,
           "rgb(7, 138, 78)"
          ],
          [
           0.6363636363636364,
           "rgb(13, 117, 71)"
          ],
          [
           0.7272727272727273,
           "rgb(23, 95, 61)"
          ],
          [
           0.8181818181818182,
           "rgb(25, 75, 49)"
          ],
          [
           0.9090909090909091,
           "rgb(23, 55, 35)"
          ],
          [
           1,
           "rgb(17, 36, 20)"
          ]
         ]
        },
        "legend": {
         "itemsizing": "constant",
         "tracegroupgap": 0
        },
        "mapbox": {
         "center": {
          "lat": 40.048107076923074,
          "lon": -3.928716153846155
         },
         "domain": {
          "x": [
           0,
           1
          ],
          "y": [
           0,
           1
          ]
         },
         "style": "carto-positron",
         "zoom": 4.5
        },
        "template": {
         "data": {
          "bar": [
           {
            "error_x": {
             "color": "#2a3f5f"
            },
            "error_y": {
             "color": "#2a3f5f"
            },
            "marker": {
             "line": {
              "color": "#E5ECF6",
              "width": 0.5
             },
             "pattern": {
              "fillmode": "overlay",
              "size": 10,
              "solidity": 0.2
             }
            },
            "type": "bar"
           }
          ],
          "barpolar": [
           {
            "marker": {
             "line": {
              "color": "#E5ECF6",
              "width": 0.5
             },
             "pattern": {
              "fillmode": "overlay",
              "size": 10,
              "solidity": 0.2
             }
            },
            "type": "barpolar"
           }
          ],
          "carpet": [
           {
            "aaxis": {
             "endlinecolor": "#2a3f5f",
             "gridcolor": "white",
             "linecolor": "white",
             "minorgridcolor": "white",
             "startlinecolor": "#2a3f5f"
            },
            "baxis": {
             "endlinecolor": "#2a3f5f",
             "gridcolor": "white",
             "linecolor": "white",
             "minorgridcolor": "white",
             "startlinecolor": "#2a3f5f"
            },
            "type": "carpet"
           }
          ],
          "choropleth": [
           {
            "colorbar": {
             "outlinewidth": 0,
             "ticks": ""
            },
            "type": "choropleth"
           }
          ],
          "contour": [
           {
            "colorbar": {
             "outlinewidth": 0,
             "ticks": ""
            },
            "colorscale": [
             [
              0,
              "#0d0887"
             ],
             [
              0.1111111111111111,
              "#46039f"
             ],
             [
              0.2222222222222222,
              "#7201a8"
             ],
             [
              0.3333333333333333,
              "#9c179e"
             ],
             [
              0.4444444444444444,
              "#bd3786"
             ],
             [
              0.5555555555555556,
              "#d8576b"
             ],
             [
              0.6666666666666666,
              "#ed7953"
             ],
             [
              0.7777777777777778,
              "#fb9f3a"
             ],
             [
              0.8888888888888888,
              "#fdca26"
             ],
             [
              1,
              "#f0f921"
             ]
            ],
            "type": "contour"
           }
          ],
          "contourcarpet": [
           {
            "colorbar": {
             "outlinewidth": 0,
             "ticks": ""
            },
            "type": "contourcarpet"
           }
          ],
          "heatmap": [
           {
            "colorbar": {
             "outlinewidth": 0,
             "ticks": ""
            },
            "colorscale": [
             [
              0,
              "#0d0887"
             ],
             [
              0.1111111111111111,
              "#46039f"
             ],
             [
              0.2222222222222222,
              "#7201a8"
             ],
             [
              0.3333333333333333,
              "#9c179e"
             ],
             [
              0.4444444444444444,
              "#bd3786"
             ],
             [
              0.5555555555555556,
              "#d8576b"
             ],
             [
              0.6666666666666666,
              "#ed7953"
             ],
             [
              0.7777777777777778,
              "#fb9f3a"
             ],
             [
              0.8888888888888888,
              "#fdca26"
             ],
             [
              1,
              "#f0f921"
             ]
            ],
            "type": "heatmap"
           }
          ],
          "heatmapgl": [
           {
            "colorbar": {
             "outlinewidth": 0,
             "ticks": ""
            },
            "colorscale": [
             [
              0,
              "#0d0887"
             ],
             [
              0.1111111111111111,
              "#46039f"
             ],
             [
              0.2222222222222222,
              "#7201a8"
             ],
             [
              0.3333333333333333,
              "#9c179e"
             ],
             [
              0.4444444444444444,
              "#bd3786"
             ],
             [
              0.5555555555555556,
              "#d8576b"
             ],
             [
              0.6666666666666666,
              "#ed7953"
             ],
             [
              0.7777777777777778,
              "#fb9f3a"
             ],
             [
              0.8888888888888888,
              "#fdca26"
             ],
             [
              1,
              "#f0f921"
             ]
            ],
            "type": "heatmapgl"
           }
          ],
          "histogram": [
           {
            "marker": {
             "pattern": {
              "fillmode": "overlay",
              "size": 10,
              "solidity": 0.2
             }
            },
            "type": "histogram"
           }
          ],
          "histogram2d": [
           {
            "colorbar": {
             "outlinewidth": 0,
             "ticks": ""
            },
            "colorscale": [
             [
              0,
              "#0d0887"
             ],
             [
              0.1111111111111111,
              "#46039f"
             ],
             [
              0.2222222222222222,
              "#7201a8"
             ],
             [
              0.3333333333333333,
              "#9c179e"
             ],
             [
              0.4444444444444444,
              "#bd3786"
             ],
             [
              0.5555555555555556,
              "#d8576b"
             ],
             [
              0.6666666666666666,
              "#ed7953"
             ],
             [
              0.7777777777777778,
              "#fb9f3a"
             ],
             [
              0.8888888888888888,
              "#fdca26"
             ],
             [
              1,
              "#f0f921"
             ]
            ],
            "type": "histogram2d"
           }
          ],
          "histogram2dcontour": [
           {
            "colorbar": {
             "outlinewidth": 0,
             "ticks": ""
            },
            "colorscale": [
             [
              0,
              "#0d0887"
             ],
             [
              0.1111111111111111,
              "#46039f"
             ],
             [
              0.2222222222222222,
              "#7201a8"
             ],
             [
              0.3333333333333333,
              "#9c179e"
             ],
             [
              0.4444444444444444,
              "#bd3786"
             ],
             [
              0.5555555555555556,
              "#d8576b"
             ],
             [
              0.6666666666666666,
              "#ed7953"
             ],
             [
              0.7777777777777778,
              "#fb9f3a"
             ],
             [
              0.8888888888888888,
              "#fdca26"
             ],
             [
              1,
              "#f0f921"
             ]
            ],
            "type": "histogram2dcontour"
           }
          ],
          "mesh3d": [
           {
            "colorbar": {
             "outlinewidth": 0,
             "ticks": ""
            },
            "type": "mesh3d"
           }
          ],
          "parcoords": [
           {
            "line": {
             "colorbar": {
              "outlinewidth": 0,
              "ticks": ""
             }
            },
            "type": "parcoords"
           }
          ],
          "pie": [
           {
            "automargin": true,
            "type": "pie"
           }
          ],
          "scatter": [
           {
            "fillpattern": {
             "fillmode": "overlay",
             "size": 10,
             "solidity": 0.2
            },
            "type": "scatter"
           }
          ],
          "scatter3d": [
           {
            "line": {
             "colorbar": {
              "outlinewidth": 0,
              "ticks": ""
             }
            },
            "marker": {
             "colorbar": {
              "outlinewidth": 0,
              "ticks": ""
             }
            },
            "type": "scatter3d"
           }
          ],
          "scattercarpet": [
           {
            "marker": {
             "colorbar": {
              "outlinewidth": 0,
              "ticks": ""
             }
            },
            "type": "scattercarpet"
           }
          ],
          "scattergeo": [
           {
            "marker": {
             "colorbar": {
              "outlinewidth": 0,
              "ticks": ""
             }
            },
            "type": "scattergeo"
           }
          ],
          "scattergl": [
           {
            "marker": {
             "colorbar": {
              "outlinewidth": 0,
              "ticks": ""
             }
            },
            "type": "scattergl"
           }
          ],
          "scattermapbox": [
           {
            "marker": {
             "colorbar": {
              "outlinewidth": 0,
              "ticks": ""
             }
            },
            "type": "scattermapbox"
           }
          ],
          "scatterpolar": [
           {
            "marker": {
             "colorbar": {
              "outlinewidth": 0,
              "ticks": ""
             }
            },
            "type": "scatterpolar"
           }
          ],
          "scatterpolargl": [
           {
            "marker": {
             "colorbar": {
              "outlinewidth": 0,
              "ticks": ""
             }
            },
            "type": "scatterpolargl"
           }
          ],
          "scatterternary": [
           {
            "marker": {
             "colorbar": {
              "outlinewidth": 0,
              "ticks": ""
             }
            },
            "type": "scatterternary"
           }
          ],
          "surface": [
           {
            "colorbar": {
             "outlinewidth": 0,
             "ticks": ""
            },
            "colorscale": [
             [
              0,
              "#0d0887"
             ],
             [
              0.1111111111111111,
              "#46039f"
             ],
             [
              0.2222222222222222,
              "#7201a8"
             ],
             [
              0.3333333333333333,
              "#9c179e"
             ],
             [
              0.4444444444444444,
              "#bd3786"
             ],
             [
              0.5555555555555556,
              "#d8576b"
             ],
             [
              0.6666666666666666,
              "#ed7953"
             ],
             [
              0.7777777777777778,
              "#fb9f3a"
             ],
             [
              0.8888888888888888,
              "#fdca26"
             ],
             [
              1,
              "#f0f921"
             ]
            ],
            "type": "surface"
           }
          ],
          "table": [
           {
            "cells": {
             "fill": {
              "color": "#EBF0F8"
             },
             "line": {
              "color": "white"
             }
            },
            "header": {
             "fill": {
              "color": "#C8D4E3"
             },
             "line": {
              "color": "white"
             }
            },
            "type": "table"
           }
          ]
         },
         "layout": {
          "annotationdefaults": {
           "arrowcolor": "#2a3f5f",
           "arrowhead": 0,
           "arrowwidth": 1
          },
          "autotypenumbers": "strict",
          "coloraxis": {
           "colorbar": {
            "outlinewidth": 0,
            "ticks": ""
           }
          },
          "colorscale": {
           "diverging": [
            [
             0,
             "#8e0152"
            ],
            [
             0.1,
             "#c51b7d"
            ],
            [
             0.2,
             "#de77ae"
            ],
            [
             0.3,
             "#f1b6da"
            ],
            [
             0.4,
             "#fde0ef"
            ],
            [
             0.5,
             "#f7f7f7"
            ],
            [
             0.6,
             "#e6f5d0"
            ],
            [
             0.7,
             "#b8e186"
            ],
            [
             0.8,
             "#7fbc41"
            ],
            [
             0.9,
             "#4d9221"
            ],
            [
             1,
             "#276419"
            ]
           ],
           "sequential": [
            [
             0,
             "#0d0887"
            ],
            [
             0.1111111111111111,
             "#46039f"
            ],
            [
             0.2222222222222222,
             "#7201a8"
            ],
            [
             0.3333333333333333,
             "#9c179e"
            ],
            [
             0.4444444444444444,
             "#bd3786"
            ],
            [
             0.5555555555555556,
             "#d8576b"
            ],
            [
             0.6666666666666666,
             "#ed7953"
            ],
            [
             0.7777777777777778,
             "#fb9f3a"
            ],
            [
             0.8888888888888888,
             "#fdca26"
            ],
            [
             1,
             "#f0f921"
            ]
           ],
           "sequentialminus": [
            [
             0,
             "#0d0887"
            ],
            [
             0.1111111111111111,
             "#46039f"
            ],
            [
             0.2222222222222222,
             "#7201a8"
            ],
            [
             0.3333333333333333,
             "#9c179e"
            ],
            [
             0.4444444444444444,
             "#bd3786"
            ],
            [
             0.5555555555555556,
             "#d8576b"
            ],
            [
             0.6666666666666666,
             "#ed7953"
            ],
            [
             0.7777777777777778,
             "#fb9f3a"
            ],
            [
             0.8888888888888888,
             "#fdca26"
            ],
            [
             1,
             "#f0f921"
            ]
           ]
          },
          "colorway": [
           "#636efa",
           "#EF553B",
           "#00cc96",
           "#ab63fa",
           "#FFA15A",
           "#19d3f3",
           "#FF6692",
           "#B6E880",
           "#FF97FF",
           "#FECB52"
          ],
          "font": {
           "color": "#2a3f5f"
          },
          "geo": {
           "bgcolor": "white",
           "lakecolor": "white",
           "landcolor": "#E5ECF6",
           "showlakes": true,
           "showland": true,
           "subunitcolor": "white"
          },
          "hoverlabel": {
           "align": "left"
          },
          "hovermode": "closest",
          "mapbox": {
           "style": "light"
          },
          "paper_bgcolor": "white",
          "plot_bgcolor": "#E5ECF6",
          "polar": {
           "angularaxis": {
            "gridcolor": "white",
            "linecolor": "white",
            "ticks": ""
           },
           "bgcolor": "#E5ECF6",
           "radialaxis": {
            "gridcolor": "white",
            "linecolor": "white",
            "ticks": ""
           }
          },
          "scene": {
           "xaxis": {
            "backgroundcolor": "#E5ECF6",
            "gridcolor": "white",
            "gridwidth": 2,
            "linecolor": "white",
            "showbackground": true,
            "ticks": "",
            "zerolinecolor": "white"
           },
           "yaxis": {
            "backgroundcolor": "#E5ECF6",
            "gridcolor": "white",
            "gridwidth": 2,
            "linecolor": "white",
            "showbackground": true,
            "ticks": "",
            "zerolinecolor": "white"
           },
           "zaxis": {
            "backgroundcolor": "#E5ECF6",
            "gridcolor": "white",
            "gridwidth": 2,
            "linecolor": "white",
            "showbackground": true,
            "ticks": "",
            "zerolinecolor": "white"
           }
          },
          "shapedefaults": {
           "line": {
            "color": "#2a3f5f"
           }
          },
          "ternary": {
           "aaxis": {
            "gridcolor": "white",
            "linecolor": "white",
            "ticks": ""
           },
           "baxis": {
            "gridcolor": "white",
            "linecolor": "white",
            "ticks": ""
           },
           "bgcolor": "#E5ECF6",
           "caxis": {
            "gridcolor": "white",
            "linecolor": "white",
            "ticks": ""
           }
          },
          "title": {
           "x": 0.05
          },
          "xaxis": {
           "automargin": true,
           "gridcolor": "white",
           "linecolor": "white",
           "ticks": "",
           "title": {
            "standoff": 15
           },
           "zerolinecolor": "white",
           "zerolinewidth": 2
          },
          "yaxis": {
           "automargin": true,
           "gridcolor": "white",
           "linecolor": "white",
           "ticks": "",
           "title": {
            "standoff": 15
           },
           "zerolinecolor": "white",
           "zerolinewidth": 2
          }
         }
        },
        "title": {
         "text": "Average shipping cost per city of origin"
        }
       }
      }
     },
     "metadata": {},
     "output_type": "display_data"
    }
   ],
   "source": [
    "fig = px.scatter_mapbox(count_shipping_cost, lat=\"geo_latitude\", lon=\"geo_longitude\", zoom=4.5, size=\"shipping_cost\", title=\"Average shipping cost per city of origin\",color = \"shipping_cost\", size_max=10, hover_name=\"customer_city\", mapbox_style=\"carto-positron\",color_continuous_scale=px.colors.sequential.algae)\n",
    "fig.show()\n",
    "import plotly.io as pio\n",
    "pio.write_html(fig, file=\"map_shipping_cost_origin.html\", auto_open=True)"
   ]
  },
  {
   "cell_type": "code",
   "execution_count": null,
   "metadata": {},
   "outputs": [],
   "source": []
  }
 ],
 "metadata": {
  "interpreter": {
   "hash": "7d723804476022a3a28877642fe5e9b9a442e47b12722b1b8e48fcdc2e107d84"
  },
  "kernelspec": {
   "display_name": "Python 3.8.12 ('datavis')",
   "language": "python",
   "name": "python3"
  },
  "language_info": {
   "codemirror_mode": {
    "name": "ipython",
    "version": 3
   },
   "file_extension": ".py",
   "mimetype": "text/x-python",
   "name": "python",
   "nbconvert_exporter": "python",
   "pygments_lexer": "ipython3",
   "version": "3.8.12"
  },
  "orig_nbformat": 4
 },
 "nbformat": 4,
 "nbformat_minor": 2
}
